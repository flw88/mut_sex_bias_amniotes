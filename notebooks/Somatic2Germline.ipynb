{
 "cells": [
  {
   "cell_type": "code",
   "execution_count": 1,
   "metadata": {},
   "outputs": [],
   "source": [
    "from ete3 import Tree\n",
    "import toytree\n",
    "import toyplot\n",
    "import toyplot.pdf\n",
    "import itertools\n",
    "import math\n",
    "from scipy import stats\n",
    "import pandas as pd\n",
    "import matplotlib.pyplot as plt\n",
    "import numpy as np\n",
    "import warnings\n",
    "import sys\n",
    "pd.options.mode.chained_assignment = None"
   ]
  },
  {
   "cell_type": "code",
   "execution_count": 39,
   "metadata": {},
   "outputs": [],
   "source": [
    "def nearest_node2leaf(phylo):\n",
    "    node2leaf = {}\n",
    "    for node in phylo.traverse(strategy=\"levelorder\"):\n",
    "        if not node.is_leaf():\n",
    "            for child in node.get_children():\n",
    "                if child.is_leaf():\n",
    "                    node2leaf[child.name] = node.name\n",
    "    return node2leaf\n",
    "\n",
    "def branch_specific_length(sp, node2leaf, phylo):\n",
    "    dist = phylo.get_distance(sp, node2leaf[sp])\n",
    "    return dist"
   ]
  },
  {
   "cell_type": "code",
   "execution_count": 48,
   "metadata": {},
   "outputs": [],
   "source": [
    "rate_phylo = Tree(\"./../trees/Mammals_phast.nh\", format=1)\n",
    "time_phylo = Tree(\"./../trees/mammals241.TimeTree.nwk\", format=1)"
   ]
  },
  {
   "cell_type": "markdown",
   "metadata": {},
   "source": [
    "Make sure all species in TimeTree are present in Zoonomia rate tree"
   ]
  },
  {
   "cell_type": "code",
   "execution_count": 49,
   "metadata": {},
   "outputs": [],
   "source": [
    "time_species = time_phylo.get_leaf_names()\n",
    "\n",
    "translate = {\"Monachus_schauinslandi\":None, \n",
    "             'Giraffa_camelopardalis':'Giraffa_tippelskirchi',\n",
    "             'Murina_aurata':'Murina_feae',\n",
    "             'Plecturocebus_donacophilus':None\n",
    "            }\n",
    "time_species = [translate[sp] if sp in translate else sp for sp in time_species]\n",
    "time_species = [sp for sp in time_species if sp!=None]\n",
    "rate_phylo.prune(time_species, preserve_branch_length=True)"
   ]
  },
  {
   "cell_type": "code",
   "execution_count": 50,
   "metadata": {},
   "outputs": [],
   "source": [
    "rate_node2leaf = nearest_node2leaf(rate_phylo)\n",
    "time_node2leaf = nearest_node2leaf(time_phylo)"
   ]
  },
  {
   "cell_type": "code",
   "execution_count": 65,
   "metadata": {},
   "outputs": [
    {
     "name": "stdout",
     "output_type": "stream",
     "text": [
      "8.970989662309115e-10 6.650905 0.00596652 Homo_sapiens\n",
      "3.017378453429751e-09 3.06548222 0.00924972 Mus_musculus\n",
      "4.1853762160179744e-09 20.8874174 0.0874217 Rattus_norvegicus\n",
      "4.3101838052690826e-10 7.80599657 0.0033645280000000003 Canis_lupus\n",
      "1.0187366010863221e-09 4.35333333 0.0044349 Felis_catus\n",
      "1.5817428571428572e-09 17.5 0.0276805 Mustela_putorius\n",
      "5.051642854034816e-10 7.41234111 0.00374445 Panthera_tigris\n",
      "2.860629463956677e-09 0.62642157 0.00179196 Bos_taurus\n",
      "4.4137065637065634e-10 2.59 0.00114315 Equus_caballus\n",
      "7.3442265625e-10 12.8 0.00940061 Colobus_angolensis\n"
     ]
    },
    {
     "ename": "KeyError",
     "evalue": "'Giraffa_tippelskirchi'",
     "output_type": "error",
     "traceback": [
      "\u001b[0;31m---------------------------------------------------------------------------\u001b[0m",
      "\u001b[0;31mKeyError\u001b[0m                                  Traceback (most recent call last)",
      "\u001b[0;32m<ipython-input-65-80062261c6a7>\u001b[0m in \u001b[0;36m<module>\u001b[0;34m\u001b[0m\n\u001b[1;32m      1\u001b[0m \u001b[0mspecies\u001b[0m \u001b[0;34m=\u001b[0m \u001b[0;34m[\u001b[0m\u001b[0;34m\"Homo_sapiens\"\u001b[0m\u001b[0;34m,\u001b[0m\u001b[0;34m\"Mus_musculus\"\u001b[0m\u001b[0;34m,\u001b[0m \u001b[0;34m\"Rattus_norvegicus\"\u001b[0m\u001b[0;34m,\u001b[0m\u001b[0;34m\"Canis_lupus\"\u001b[0m\u001b[0;34m,\u001b[0m\u001b[0;34m\"Felis_catus\"\u001b[0m\u001b[0;34m,\u001b[0m\u001b[0;34m'Mustela_putorius'\u001b[0m\u001b[0;34m,\u001b[0m\u001b[0;34m'Panthera_tigris'\u001b[0m\u001b[0;34m,\u001b[0m\u001b[0;34m'Bos_taurus'\u001b[0m\u001b[0;34m,\u001b[0m\u001b[0;34m'Equus_caballus'\u001b[0m\u001b[0;34m,\u001b[0m\u001b[0;34m'Colobus_angolensis'\u001b[0m\u001b[0;34m,\u001b[0m\u001b[0;34m'Giraffa_tippelskirchi'\u001b[0m\u001b[0;34m]\u001b[0m\u001b[0;34m\u001b[0m\u001b[0;34m\u001b[0m\u001b[0m\n\u001b[1;32m      2\u001b[0m \u001b[0;32mfor\u001b[0m \u001b[0msp\u001b[0m \u001b[0;32min\u001b[0m \u001b[0mspecies\u001b[0m\u001b[0;34m:\u001b[0m\u001b[0;34m\u001b[0m\u001b[0;34m\u001b[0m\u001b[0m\n\u001b[0;32m----> 3\u001b[0;31m     \u001b[0mtime_dist\u001b[0m \u001b[0;34m=\u001b[0m \u001b[0mbranch_specific_length\u001b[0m\u001b[0;34m(\u001b[0m\u001b[0msp\u001b[0m\u001b[0;34m,\u001b[0m \u001b[0mtime_node2leaf\u001b[0m\u001b[0;34m,\u001b[0m \u001b[0mtime_phylo\u001b[0m\u001b[0;34m)\u001b[0m\u001b[0;34m\u001b[0m\u001b[0;34m\u001b[0m\u001b[0m\n\u001b[0m\u001b[1;32m      4\u001b[0m     \u001b[0mrate_dist\u001b[0m \u001b[0;34m=\u001b[0m \u001b[0mbranch_specific_length\u001b[0m\u001b[0;34m(\u001b[0m\u001b[0msp\u001b[0m\u001b[0;34m,\u001b[0m \u001b[0mrate_node2leaf\u001b[0m\u001b[0;34m,\u001b[0m \u001b[0mrate_phylo\u001b[0m\u001b[0;34m)\u001b[0m\u001b[0;34m\u001b[0m\u001b[0;34m\u001b[0m\u001b[0m\n\u001b[1;32m      5\u001b[0m     \u001b[0mmut_per_year\u001b[0m \u001b[0;34m=\u001b[0m \u001b[0;34m(\u001b[0m\u001b[0mrate_dist\u001b[0m\u001b[0;34m/\u001b[0m\u001b[0mtime_dist\u001b[0m\u001b[0;34m)\u001b[0m\u001b[0;34m/\u001b[0m\u001b[0;36m1e6\u001b[0m\u001b[0;34m\u001b[0m\u001b[0;34m\u001b[0m\u001b[0m\n",
      "\u001b[0;32m<ipython-input-39-124fe6cf9bbb>\u001b[0m in \u001b[0;36mbranch_specific_length\u001b[0;34m(sp, node2leaf, phylo)\u001b[0m\n\u001b[1;32m      9\u001b[0m \u001b[0;34m\u001b[0m\u001b[0m\n\u001b[1;32m     10\u001b[0m \u001b[0;32mdef\u001b[0m \u001b[0mbranch_specific_length\u001b[0m\u001b[0;34m(\u001b[0m\u001b[0msp\u001b[0m\u001b[0;34m,\u001b[0m \u001b[0mnode2leaf\u001b[0m\u001b[0;34m,\u001b[0m \u001b[0mphylo\u001b[0m\u001b[0;34m)\u001b[0m\u001b[0;34m:\u001b[0m\u001b[0;34m\u001b[0m\u001b[0;34m\u001b[0m\u001b[0m\n\u001b[0;32m---> 11\u001b[0;31m     \u001b[0mdist\u001b[0m \u001b[0;34m=\u001b[0m \u001b[0mphylo\u001b[0m\u001b[0;34m.\u001b[0m\u001b[0mget_distance\u001b[0m\u001b[0;34m(\u001b[0m\u001b[0msp\u001b[0m\u001b[0;34m,\u001b[0m \u001b[0mnode2leaf\u001b[0m\u001b[0;34m[\u001b[0m\u001b[0msp\u001b[0m\u001b[0;34m]\u001b[0m\u001b[0;34m)\u001b[0m\u001b[0;34m\u001b[0m\u001b[0;34m\u001b[0m\u001b[0m\n\u001b[0m\u001b[1;32m     12\u001b[0m     \u001b[0;32mreturn\u001b[0m \u001b[0mdist\u001b[0m\u001b[0;34m\u001b[0m\u001b[0;34m\u001b[0m\u001b[0m\n",
      "\u001b[0;31mKeyError\u001b[0m: 'Giraffa_tippelskirchi'"
     ]
    }
   ],
   "source": [
    "species = [\"Homo_sapiens\",\"Mus_musculus\", \"Rattus_norvegicus\",\"Canis_lupus\",\"Felis_catus\",'Mustela_putorius','Panthera_tigris','Bos_taurus','Equus_caballus','Colobus_angolensis']\n",
    "for sp in species:\n",
    "    time_dist = branch_specific_length(sp, time_node2leaf, time_phylo)\n",
    "    rate_dist = branch_specific_length(sp, rate_node2leaf, rate_phylo)\n",
    "    mut_per_year = (rate_dist/time_dist)/1e6\n",
    "    print(mut_per_year, time_dist, rate_dist, sp)"
   ]
  }
 ],
 "metadata": {
  "kernelspec": {
   "display_name": "Python 3",
   "language": "python",
   "name": "python3"
  },
  "language_info": {
   "codemirror_mode": {
    "name": "ipython",
    "version": 3
   },
   "file_extension": ".py",
   "mimetype": "text/x-python",
   "name": "python",
   "nbconvert_exporter": "python",
   "pygments_lexer": "ipython3",
   "version": "3.8.5"
  }
 },
 "nbformat": 4,
 "nbformat_minor": 4
}
