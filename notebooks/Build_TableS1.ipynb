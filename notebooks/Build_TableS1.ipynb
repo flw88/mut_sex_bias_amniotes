{
 "cells": [
  {
   "cell_type": "code",
   "execution_count": 4,
   "metadata": {},
   "outputs": [],
   "source": [
    "import math\n",
    "import sys\n",
    "sys.path.append('../figures/scripts/')\n",
    "import funclib as flib"
   ]
  },
  {
   "cell_type": "markdown",
   "metadata": {},
   "source": [
    "Generate Table S1"
   ]
  },
  {
   "cell_type": "code",
   "execution_count": 6,
   "metadata": {},
   "outputs": [],
   "source": [
    "latin2common = pd.read_csv(\"../data/latin2common_shortened.txt\",sep=\"\\t\").set_index(\"Species\").to_dict()[\"Common_names\"]\n",
    "\n",
    "groups = [\"Mammals\",\"Birds\",\"Snakes\"]\n",
    "refs = [\"Homo_sapiens\",\"Gallus_gallus\",\"Thamnophis_elegans\"]\n",
    "lh_cols = [\"Maximum longevity (yrs)\", \"Gestation/Incubation (days)\", \"Birth weight (g)\", \"Adult weight (g)\" ]\n",
    "cols = [\"Species\",\"Common_name\",\"Group\",\"alpha\",\"alpha_lwr\",\"alpha_upr\",\"xz_a\", \"xz_a_lwr\", \"xz_a_upr\",\n",
    "        \"predicted_alpha\",\"predicted_alpha_dnms\", \"dnm_alpha\", \"Maternal\", \"Paternal\", \"trios\", \n",
    "        \"MutPerYearUCSC\",\"G\",\"AssemblyStatus\",\"ScaffoldN50\",\"ContigN50\",\"AssemblyAccession\",\"Sex\",\"Pi_het\",\"anage_Species\",\"TimeTree\"] + lh_cols\n",
    "\n",
    "# Only read once\n",
    "anage = pd.read_csv(\"../pgls_files/anage_data.txt\",sep=\"\\t\")\n",
    "anage.columns = [c.replace(\"Species\",\"Subspecies\") for c in anage.columns]\n",
    "anage[\"anage_Species\"] = anage[\"Genus\"] + \"_\" + anage[\"Subspecies\"]\n",
    "timetree = pd.read_csv(\"../trees/TimeTree.spname_map.tab\",sep=\"\\t\")\n",
    "timetree.columns = [\"Species\",\"TimeTree\"]\n",
    "timetree_dict = timetree.set_index(\"Species\")[\"TimeTree\"].to_dict()\n",
    "impute = pd.read_csv(\"../pgls_files/impute_species.txt\",sep=\"\\t\")\n",
    "gen_times = pd.read_csv(\"../data/generation_times.csv\")\n",
    "pred_evo_alphas = pd.read_csv(\"../data/XA_2exposure-model_alphas.csv\")\n",
    "pred_dnm_alphas = pd.read_csv(\"../data/DNM_2exposure-model_alphas.csv\")\n",
    "\n",
    "# Initialise data frame\n",
    "table_s1 = pd.DataFrame()\n",
    "\n",
    "# Iterate and read data for each taxon\n",
    "for i,g in enumerate(groups):\n",
    "    \n",
    "    # Read species list\n",
    "    with open(\"../data/{}.txt\".format(g)) as species_list:\n",
    "        species = [line.strip().split(\",\") for line in species_list][0]\n",
    "    \n",
    "    # Add assembly metadata\n",
    "    meta_data = pd.read_csv(\"../data/{}_assembly_metadata.csv\".format(g))\n",
    "    meta_data = meta_data[meta_data.Species.isin(species)].reset_index(drop=True)\n",
    "    meta_data[\"Common_name\"] = [latin2common[sp] for sp in meta_data.Species]\n",
    "                \n",
    "    # Add X(Z)/A alphas\n",
    "    xz_a_alphas = pd.read_csv(\"../scripts/alphas/{}.{}.LM.tsv\".format(g, refs[i]),sep=\"\\t\")\n",
    "    xz_a_alphas = xz_a_alphas[xz_a_alphas.mut_type==\"mod\"]\n",
    "    xz_a_alphas.columns = [c.replace(\"species\",\"Species\") for c in xz_a_alphas.columns]\n",
    "    meta_data = flib.add_columns_to_df(meta_data, xz_a_alphas, \"Species\", \n",
    "                                       [\"alpha\",\"alpha_lwr\",\"alpha_upr\",\"xz_a\", \"xz_a_lwr\", \"xz_a_upr\"])\n",
    "    \n",
    "    # Add generation times\n",
    "    gen_times.columns = [c.replace(\"species\",\"Species\") for c in gen_times.columns]\n",
    "    meta_data = flib.add_columns_to_df(meta_data, gen_times, \"Species\", \n",
    "                                       [\"G\"])\n",
    "    \n",
    "    # Add predicted alphas (evo)\n",
    "    pred_evo_alphas.columns = [c.replace(\"species\",\"Species\") for c in pred_evo_alphas.columns]\n",
    "    meta_data = flib.add_columns_to_df(meta_data, pred_evo_alphas, \"Species\", \n",
    "                                       [\"predicted_alpha\",\"MutPerYearUCSC\"]) #+ lh_cols)\n",
    "    \n",
    "    # Add predicted alphas (DNMs)\n",
    "    pred_dnm_alphas.columns = [c.replace(\"species\",\"Species\") for c in pred_dnm_alphas.columns]\n",
    "    meta_data = flib.add_columns_to_df(meta_data, pred_dnm_alphas, \"Species\", \n",
    "                                       [\"Age\",\"Paternal\",\"Maternal\",\"dnm_alpha\",\"predicted_alpha_dnms\",\"trios\"])\n",
    "    \n",
    "    # Add substitute species in TimeTree/AnAge\n",
    "    meta_data = flib.add_columns_to_df(meta_data, impute, \"Species\", [\"anage_Species\"])\n",
    "    meta_data = flib.add_columns_to_df(meta_data, timetree, \"Species\", [\"TimeTree\"])\n",
    "    if g!=\"Snakes\":\n",
    "        meta_data[\"TimeTree\"] = [r.Species if r.Species not in timetree_dict else timetree_dict[r.Species] for i,r in meta_data.iterrows()]\n",
    "    \n",
    "    # Add life history traits\n",
    "    meta_data = flib.add_columns_to_df(meta_data, anage, \"anage_Species\", lh_cols)\n",
    "    \n",
    "    # Column names and formatting \n",
    "    meta_data[\"Group\"] = g\n",
    "    meta_data = meta_data[cols]\n",
    "    #meta_data.columns = [c[0].capitalize()+c[1:] for c in meta_data.columns]\n",
    "    table_s1 = pd.concat([table_s1,meta_data])"
   ]
  },
  {
   "cell_type": "code",
   "execution_count": 7,
   "metadata": {},
   "outputs": [],
   "source": [
    "extra_pred_dnms = pred_dnm_alphas[~pred_dnm_alphas.Species.isin(table_s1.Species)]"
   ]
  },
  {
   "cell_type": "code",
   "execution_count": 8,
   "metadata": {},
   "outputs": [
    {
     "name": "stderr",
     "output_type": "stream",
     "text": [
      "<ipython-input-8-0fd490f15301>:3: SettingWithCopyWarning: \n",
      "A value is trying to be set on a copy of a slice from a DataFrame.\n",
      "Try using .loc[row_indexer,col_indexer] = value instead\n",
      "\n",
      "See the caveats in the documentation: https://pandas.pydata.org/pandas-docs/stable/user_guide/indexing.html#returning-a-view-versus-a-copy\n",
      "  extra_pred_dnms[c] = np.nan\n"
     ]
    }
   ],
   "source": [
    "for c in table_s1:\n",
    "    if c not in extra_pred_dnms.columns:\n",
    "        extra_pred_dnms[c] = np.nan"
   ]
  },
  {
   "cell_type": "code",
   "execution_count": 9,
   "metadata": {},
   "outputs": [],
   "source": [
    "table_s1 = pd.concat([table_s1, extra_pred_dnms[table_s1.columns]])"
   ]
  },
  {
   "cell_type": "code",
   "execution_count": 10,
   "metadata": {},
   "outputs": [],
   "source": [
    "replace_col_names = {\"Predicted_alpha\": \"Predicted_alpha_evo\",\n",
    "                     \"TimeTree\": \"TimeTree_Species\",\n",
    "                     \"Dnm_alpha\": \"Alpha_dnm\",\n",
    "                     \"Paternal\": \"Paternal_dnms\",\n",
    "                     \"Maternal\": \"Maternal_dnms\",\n",
    "                     \"Trios\": \"n_Trios\",\n",
    "                     \"G\": \"Generation_time_y\",\n",
    "                     \"Maximum longevity (yrs)\":\"Maximum_longevity\", \n",
    "                     \"Gestation/Incubation (days)\":\"Gestation\", \n",
    "                     \"Birth weight (g)\":\"Birth_weight\", \n",
    "                     \"Adult weight (g)\":\"Adult_weight\" \n",
    "                    }"
   ]
  },
  {
   "cell_type": "code",
   "execution_count": 11,
   "metadata": {},
   "outputs": [],
   "source": [
    "table_s1.columns = [c[0].capitalize()+c[1:] for c in table_s1.columns]\n",
    "table_s1.columns = [replace_col_names[c] if c in replace_col_names else c for c in table_s1.columns]"
   ]
  },
  {
   "cell_type": "code",
   "execution_count": 1,
   "metadata": {},
   "outputs": [
    {
     "ename": "NameError",
     "evalue": "name 'table_s1' is not defined",
     "output_type": "error",
     "traceback": [
      "\u001b[0;31m---------------------------------------------------------------------------\u001b[0m",
      "\u001b[0;31mNameError\u001b[0m                                 Traceback (most recent call last)",
      "\u001b[0;32m<ipython-input-1-6a55f48fc735>\u001b[0m in \u001b[0;36m<module>\u001b[0;34m\u001b[0m\n\u001b[0;32m----> 1\u001b[0;31m \u001b[0mtable_s1\u001b[0m\u001b[0;34m.\u001b[0m\u001b[0mto_csv\u001b[0m\u001b[0;34m(\u001b[0m\u001b[0;34m\"../data/Table_S1_ee5.csv\"\u001b[0m\u001b[0;34m,\u001b[0m\u001b[0mna_rep\u001b[0m\u001b[0;34m=\u001b[0m\u001b[0;34m'NaN'\u001b[0m\u001b[0;34m)\u001b[0m\u001b[0;34m\u001b[0m\u001b[0;34m\u001b[0m\u001b[0m\n\u001b[0m",
      "\u001b[0;31mNameError\u001b[0m: name 'table_s1' is not defined"
     ]
    }
   ],
   "source": [
    "table_s1.to_csv(\"../data/Table_S1_ee5.csv\",na_rep='NaN')"
   ]
  },
  {
   "cell_type": "code",
   "execution_count": 2,
   "metadata": {},
   "outputs": [],
   "source": [
    "t1 = pd.read_csv(\"../data/Table_S1_ee5.csv\")"
   ]
  },
  {
   "cell_type": "code",
   "execution_count": 5,
   "metadata": {},
   "outputs": [
    {
     "data": {
      "text/plain": [
       "<AxesSubplot:xlabel='Predicted_alpha_dnms', ylabel='Alpha_dnm'>"
      ]
     },
     "execution_count": 5,
     "metadata": {},
     "output_type": "execute_result"
    },
    {
     "data": {
      "image/png": "[encoded data removed]",
      "text/plain": [
       "<Figure size 432x288 with 1 Axes>"
      ]
     },
     "metadata": {
      "needs_background": "light"
     },
     "output_type": "display_data"
    }
   ],
   "source": [
    "subdnm = t1[(t1.n_Trios>1) & (t1.Species!=\"Microcebus_murinus\") & (t1.Species!=\"Ficedula_albicollis\")]\n",
    "sns.scatterplot(data=subdnm,x=\"Predicted_alpha_dnms\",y=\"Alpha_dnm\")\n",
    "sns.scatterplot(data=t1,y=\"Alpha\", x=\"Predicted_alpha_evo\")\n",
    "flib.identity_line()"
   ]
  },
  {
   "cell_type": "code",
   "execution_count": 15,
   "metadata": {},
   "outputs": [
    {
     "data": {
      "image/png": "[encoded data removed]",
      "text/plain": [
       "<Figure size 360x288 with 1 Axes>"
      ]
     },
     "metadata": {
      "needs_background": "light"
     },
     "output_type": "display_data"
    }
   ],
   "source": [
    "f,ax = plt.subplots(figsize=[5,4])\n",
    "ax.scatter(subd.Generation_time_y, subd.MutPerYearUCSC/1e6,alpha=0.8)\n",
    "sns.despine()\n",
    "ax.set_xlabel(\"Generation time (y)\")\n",
    "ax.set_ylabel(\"Substitution rate per year\")\n",
    "plt.tight_layout()\n",
    "#plt.savefig(\"pdfs/Subrate_year_vs_G.pdf\")"
   ]
  }
 ],
 "metadata": {
  "kernelspec": {
   "display_name": "Python 3",
   "language": "python",
   "name": "python3"
  },
  "language_info": {
   "codemirror_mode": {
    "name": "ipython",
    "version": 3
   },
   "file_extension": ".py",
   "mimetype": "text/x-python",
   "name": "python",
   "nbconvert_exporter": "python",
   "pygments_lexer": "ipython3",
   "version": "3.8.5"
  }
 },
 "nbformat": 4,
 "nbformat_minor": 4
}
