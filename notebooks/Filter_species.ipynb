{
 "cells": [
  {
   "cell_type": "markdown",
   "metadata": {},
   "source": [
    "Modules"
   ]
  },
  {
   "cell_type": "code",
   "execution_count": 1,
   "metadata": {},
   "outputs": [],
   "source": [
    "from ete3 import Tree\n",
    "import toytree\n",
    "import toyplot\n",
    "import toyplot.pdf\n",
    "import itertools\n",
    "import math\n",
    "from scipy import stats\n",
    "import pandas as pd\n",
    "import matplotlib.pyplot as plt\n",
    "import numpy as np\n",
    "import warnings\n",
    "import sys\n",
    "pd.options.mode.chained_assignment = None"
   ]
  },
  {
   "cell_type": "markdown",
   "metadata": {},
   "source": [
    "Functions"
   ]
  },
  {
   "cell_type": "code",
   "execution_count": 2,
   "metadata": {},
   "outputs": [],
   "source": [
    "def min_div_to_chrom_assembly(df, target_sp, clevel_sps, tree):\n",
    "    '''Returns the minimum distance between sp and a chromosome level assembly'''\n",
    "    if target_sp in clevel_sps:\n",
    "        return 0\n",
    "    distances = [tree.get_distance(target_sp, sp) for sp in chrom_level]\n",
    "    return min(distances)\n",
    "\n",
    "def get_worst_species(df, decision_tree):\n",
    "    '''Returns species ranking higher in decision tree'''\n",
    "    for param, criteria in decision_tree.items():\n",
    "        if criteria!=\"Max\" and criteria!=\"Min\":\n",
    "            subd = df[df[param]!=criteria]\n",
    "            if len(subd)==1:\n",
    "                return subd.Species.values[0]\n",
    "        else:\n",
    "            if len(df[param].unique())==1:\n",
    "                continue\n",
    "            sorted_d = df.sort_values(by=param, ascending=False if criteria!=\"Max\" else True)\n",
    "            sorted_d.index = range(len(sorted_d))\n",
    "            return sorted_d.Species.values[0]\n",
    "\n",
    "def conservative_prune_dataset_by_pi(df, times_pi, decision_tree, tree):\n",
    "    '''Thins dataset, ensuring species are at list times_pi*pi diverged and >2%\n",
    "    keeping species according to decision tree'''\n",
    "    \n",
    "    exclude_species = []\n",
    "    sp_universe = [phylo.get_leaf_names()]\n",
    "    for sp1,sp2 in itertools.combinations(df.Species, 2):\n",
    "        distance = tree.get_distance(sp1,sp2)\n",
    "        pi1 = float(df[df.Species==sp1][\"Pi_het\"])\n",
    "        pi2 = float(df[df.Species==sp2][\"Pi_het\"])\n",
    "        max_pi = np.nanmax([pi1,pi2])\n",
    "        min_distance = max_pi*times_pi\n",
    "        if min_distance>=distance or distance<=0.02:\n",
    "            worst_sp = get_worst_species(df[df.Species.isin([sp1,sp2])], decision_tree)\n",
    "            exclude_species.append(worst_sp)\n",
    "        \n",
    "    pruned_df = df[~df.Species.isin(exclude_species)]\n",
    "    return pruned_df\n",
    "    \n",
    "def prune_dataset_by_pi(df, times_pi, decision_tree, tree):\n",
    "    '''Thins dataset, ensuring species are at list times_pi*pi diverged\n",
    "    keeping species according to decision tree'''\n",
    "    \n",
    "    # All comparisons, record if pair is valid\n",
    "    total_species = df.Species\n",
    "    matrix = []\n",
    "    for sp1,sp2 in itertools.combinations(total_species, 2):\n",
    "        distance = tree.get_distance(sp1,sp2)\n",
    "        pi1 = float(df[df.Species==sp1][\"Pi_het\"])\n",
    "        pi2 = float(df[df.Species==sp2][\"Pi_het\"])\n",
    "        max_pi = np.nanmax([pi1,pi2]) if not all(math.isnan(p) for p in [pi1,pi2]) else 10\n",
    "        min_distance = max_pi*times_pi\n",
    "        matrix.append([sp1,sp2,0 if min_distance>distance else 1, distance])\n",
    "        \n",
    "    c_df = pd.DataFrame(matrix)\n",
    "    c_df.columns = [\"sp1\",\"sp2\",\"acceptance\",\"divergence\"]\n",
    "    return c_df\n",
    "    # Find valid combination with highest numerber of species\n",
    "    for n in range(len(total_species)+1)[::-1]:\n",
    "        sys.stderr.write(\"Trying combination of {} species...\\n\".format(n))\n",
    "        for sp_set in itertools.combinations(total_species, n):\n",
    "            set_df = c_df[(c_df.sp1.isin(sp_set)) & \n",
    "                          (c_df.sp2.isin(sp_set))]\n",
    "            validity = set_df.acceptance.sum()==len(set_df)\n",
    "            if validity:\n",
    "                sys.stderr.write(\"Found a valid set of {} species.\\n\".format(n))\n",
    "                return sp_set\n",
    "\n",
    "    sys.stderr.write(\"There's no safe dataset...!\")"
   ]
  },
  {
   "cell_type": "markdown",
   "metadata": {},
   "source": [
    "Read data"
   ]
  },
  {
   "cell_type": "code",
   "execution_count": 3,
   "metadata": {},
   "outputs": [],
   "source": [
    "group_name = \"Mammals\"\n",
    "meta = pd.read_csv(\"../data/{}_assembly_metadata.csv\".format(group_name),sep=\",\")\n",
    "phylo = Tree(\"./../trees/{}_phast.nh\".format(group_name), format=1)"
   ]
  },
  {
   "cell_type": "markdown",
   "metadata": {},
   "source": [
    "Minimum assembly stats and heterogametic sex filters"
   ]
  },
  {
   "cell_type": "code",
   "execution_count": 4,
   "metadata": {},
   "outputs": [
    {
     "name": "stdout",
     "output_type": "stream",
     "text": [
      "Filtered 50 scaffold assemblies based on heterogametic sex\n",
      "Filtered 9 with complex system of sex determination\n",
      "Filtered 120 with stats below thershold\n"
     ]
    }
   ],
   "source": [
    "scafN50 = 350e3 if group_name in [\"Birds\",\"Mammals\"] else 100e3\n",
    "contigN50 = 25e3 if group_name in [\"Birds\",\"Mammals\"] else 10e3\n",
    "chrom_level_dist = 0.35 if group_name==\"Birds\" else 0.15\n",
    "complex_system = \"Complex_XY\" if group_name==\"Mammals\" else \"Complex_ZW\"\n",
    "heterogametic_sex = \"male\" if group_name==\"Mammals\" else \"female\"\n",
    "heterogametic_sex = heterogametic_sex if group_name!=\"Snakes\" else None\n",
    "\n",
    "# Filtering scaffold assemblies for heterogametic sex\n",
    "n = len(meta)\n",
    "meta = meta[((meta.Sex!=heterogametic_sex) | (meta.AssemblyStatus==\"Chromosome\"))].reset_index(drop=True)\n",
    "print(\"Filtered {} scaffold assemblies based on heterogametic sex\".format(n-len(meta)))\n",
    "\n",
    "# Filtering species in genus with complex system of sex determination \n",
    "n = len(meta)\n",
    "meta = meta[(meta[complex_system]!=True)].reset_index(drop=True)\n",
    "print(\"Filtered {} with complex system of sex determination\".format(n-len(meta)))\n",
    "\n",
    "# Filtering by assembly stats \n",
    "n = len(meta)\n",
    "meta = meta[((meta.ScaffoldN50>scafN50) | (meta.AssemblyStatus==\"Chromosome\")) &\n",
    "            (meta.ContigN50>contigN50)].reset_index(drop=True)\n",
    "print(\"Filtered {} with stats below thershold\".format(n-len(meta)))"
   ]
  },
  {
   "cell_type": "markdown",
   "metadata": {},
   "source": [
    "Thin by divergence, unless Aves, in which we take 1 species per Neoaves order (and focus in phylogenetic relationships that are well resolved (https://doi.org/10.1093/sysbio/syx041))"
   ]
  },
  {
   "cell_type": "code",
   "execution_count": 5,
   "metadata": {},
   "outputs": [],
   "source": [
    "decision_tree = {\"dnm\":\"Max\",\n",
    "                 \"AssemblyStatus\":\"Chromosome\",\n",
    "                 \"ScaffoldN50\":\"Max\",\n",
    "                 \"Sex\":heterogametic_sex\n",
    "                }\n",
    "\n",
    "if group_name!=\"Birds\":\n",
    "    thinned_df = conservative_prune_dataset_by_pi(meta, 15, decision_tree, phylo)\n",
    "\n",
    "else:\n",
    "    g1 = [\"Columbiformes\",\"Pterocliformes\",\"Charadriiformes\"]\n",
    "    g2 = [\"Otidiformes\",\"Cuculiformes\",\"Pelecaniformes\"]\n",
    "    g3 = [\"Trogoniformes\",\"Bucerotiformes\",\"Coraciiformes\"]\n",
    "    g4 = [\"Falconiformes\",\"Passeriformes\"]\n",
    "    g5 = [\"Accipitriformes\",\"Gruiformes\"]\n",
    "    g6 = [\"Anseriformes\",\"Galliformes\"]\n",
    "    \n",
    "    total = sorted(sum([g1,g2,g3,g4,g5,g6], []))\n",
    "    order2group = {order:\"Group{}\".format(i+1) for i,g in enumerate([g1,g2,g3,g4,g5,g6]) for order in g}\n",
    "    meta = meta[meta.Order.isin(total)].reset_index(drop=True)\n",
    "    keep_species = []\n",
    "    \n",
    "    for order,df in meta.groupby(\"Order\"):\n",
    "        df.index = df.Species\n",
    "        if order==\"Passeriformes\":\n",
    "            keep_species.append([\"Ficedula albicollis\"])\n",
    "        elif order in [\"Anseriformes\", \"Galliformes\"]:\n",
    "            if order==\"Galliformes\":\n",
    "                keep_species.append(list(df[df.Family!=\"Phasianidae\"].index))\n",
    "                keep_species.append([\"Gallus_gallus\"])\n",
    "            else:\n",
    "                keep_species.append(list(df.index))\n",
    "        else:\n",
    "            keep_species.append([df[\"ScaffoldN50\"].idxmax()])\n",
    "    \n",
    "    keep_species = sum(keep_species,[])\n",
    "    keep_species = [\"_\".join(sp.split()) for sp in keep_species]\n",
    "    thinned_df = meta[meta.Species.isin(keep_species)]\n",
    "    thinned_df[\"Group\"] = [order2group[order] for order in thinned_df[\"Order\"]]\n",
    "    thinned_df = thinned_df.drop_duplicates(\"Species\")\n",
    "    thinned_df = conservative_prune_dataset_by_pi(thinned_df, 15, decision_tree, phylo)"
   ]
  },
  {
   "cell_type": "markdown",
   "metadata": {},
   "source": [
    "Thin by distance to chromosome assembly"
   ]
  },
  {
   "cell_type": "code",
   "execution_count": 6,
   "metadata": {},
   "outputs": [],
   "source": [
    "chrom_level = list(thinned_df[thinned_df.AssemblyStatus==\"Chromosome\"].Species)\n",
    "thinned_df[\"min_div_clevel\"] = [min_div_to_chrom_assembly(thinned_df, sp, chrom_level, phylo) if sp in phylo.get_leaf_names() else 1 for sp in thinned_df.Species]\n",
    "thinned_df = thinned_df[thinned_df.min_div_clevel<=chrom_level_dist].reset_index(drop=True)"
   ]
  },
  {
   "cell_type": "markdown",
   "metadata": {},
   "source": [
    "Output species list file and phylogeny"
   ]
  },
  {
   "cell_type": "code",
   "execution_count": 100,
   "metadata": {},
   "outputs": [],
   "source": [
    "with open(\"../data/{}.txt\".format(group_name),\"w\") as fh:\n",
    "    fh.write(\",\".join(list(thinned_df.Species)) + \"\\n\")\n",
    "phylo.prune(thinned_df.Species, preserve_branch_length=True)\n",
    "phylo.write(outfile=\"./../trees/{}.nwk\".format(group_name),format=5)\n",
    "\n",
    "if group_name==\"Birds\":\n",
    "    for group,df in thinned_df.groupby(\"Group\"):\n",
    "        species = list(df.Species)\n",
    "        # Neoaves\n",
    "        if \"Gallus_gallus\" not in species:\n",
    "            species.append(\"Gallus_gallus\")\n",
    "        # Outside branch\n",
    "        else:\n",
    "            pass\n",
    "        # Species list\n",
    "        fix_group = group.replace(\"Group\",\"g\")\n",
    "        with open(\"./../data/Birds_{}.txt\".format(fix_group), \"w\") as spf:\n",
    "            spf.write(\",\".join(species) + \"\\n\")\n",
    "        # Tree\n",
    "        phylo = Tree(\"./../trees/363-avian-2020-phast.nh\", format=1)\n",
    "        phylo.prune(species, preserve_branch_length=True)\n",
    "        phylo.write(outfile=\"./../trees/Birds_{}.nwk\".format(fix_group), format=5)"
   ]
  },
  {
   "cell_type": "markdown",
   "metadata": {},
   "source": [
    "Birds subgroups phylogeny"
   ]
  },
  {
   "cell_type": "code",
   "execution_count": 10,
   "metadata": {},
   "outputs": [
    {
     "data": {
      "text/html": [
       "<div class=\"toyplot\" id=\"tce7a839248f14b2387d24a486d44a780\" style=\"text-align:center\"><svg class=\"toyplot-canvas-Canvas\" xmlns:toyplot=\"http://www.sandia.gov/toyplot\" xmlns:xlink=\"http://www.w3.org/1999/xlink\" xmlns=\"http://www.w3.org/2000/svg\" width=\"455.0px\" height=\"500.0px\" viewBox=\"0 0 455.0 500.0\" preserveAspectRatio=\"xMidYMid meet\" style=\"background-color:transparent;border-color:#292724;border-style:none;border-width:1.0;fill:rgb(16.1%,15.3%,14.1%);fill-opacity:1.0;font-family:Helvetica;font-size:12px;opacity:1.0;stroke:rgb(16.1%,15.3%,14.1%);stroke-opacity:1.0;stroke-width:1.0\" id=\"t99089e419c46400d90e60b2d8d4a9f3d\"><g class=\"toyplot-coordinates-Cartesian\" id=\"tf8934fb372ee4ab2a63f1fc82ec39459\"><clipPath id=\"t33f156ab9897448e80d120b6bec5154f\"><rect x=\"30.0\" y=\"30.0\" width=\"395.0\" height=\"440.0\"></rect></clipPath><g clip-path=\"url(#t33f156ab9897448e80d120b6bec5154f)\"><g class=\"toytree-mark-Toytree\" id=\"t19ceb9703ebf42a68767d3cc35aec5bf\"><g class=\"toytree-Edges\" style=\"fill:none;stroke:rgb(14.9%,14.9%,14.9%);stroke-linecap:round;stroke-opacity:1;stroke-width:2\"><path d=\"M 51.1 153.4 L 51.1 95.8 L 89.5 95.8\" id=\"32,31\"></path><path d=\"M 51.1 153.4 L 51.1 211.0 L 82.7 211.0\" id=\"32,30\"></path><path d=\"M 89.5 95.8 L 89.5 72.1 L 105.5 72.1\" id=\"31,29\"></path><path d=\"M 89.5 95.8 L 89.5 119.5 L 118.3 119.5\" id=\"31,28\"></path><path d=\"M 82.7 211.0 L 82.7 167.0 L 86.1 167.0\" id=\"30,27\"></path><path d=\"M 82.7 211.0 L 82.7 255.0 L 85.2 255.0\" id=\"30,26\"></path><path d=\"M 85.2 255.0 L 85.2 214.4 L 91.2 214.4\" id=\"26,25\"></path><path d=\"M 85.2 255.0 L 85.2 295.6 L 85.9 295.6\" id=\"26,24\"></path><path d=\"M 85.9 295.6 L 85.9 261.9 L 87.7 261.9\" id=\"24,23\"></path><path d=\"M 85.9 295.6 L 85.9 329.3 L 86.6 329.3\" id=\"24,22\"></path><path d=\"M 86.6 329.3 L 86.6 361.2 L 90.7 361.2\" id=\"22,21\"></path><path d=\"M 90.7 361.2 L 90.7 333.0 L 93.0 333.0\" id=\"21,20\"></path><path d=\"M 90.7 361.2 L 90.7 389.4 L 91.5 389.4\" id=\"21,19\"></path><path d=\"M 91.5 389.4 L 91.5 410.1 L 95.8 410.1\" id=\"19,18\"></path><path d=\"M 95.8 410.1 L 95.8 427.9 L 97.9 427.9\" id=\"18,17\"></path><path d=\"M 105.5 72.1 L 105.5 60.2 L 144.8 60.2\" id=\"29,16\"></path><path d=\"M 105.5 72.1 L 105.5 84.0 L 185.4 84.0\" id=\"29,15\"></path><path d=\"M 118.3 119.5 L 118.3 107.7 L 192.6 107.7\" id=\"28,14\"></path><path d=\"M 118.3 119.5 L 118.3 131.4 L 227.1 131.4\" id=\"28,13\"></path><path d=\"M 86.1 167.0 L 86.1 155.1 L 172.6 155.1\" id=\"27,12\"></path><path d=\"M 86.1 167.0 L 86.1 178.8 L 185.0 178.8\" id=\"27,11\"></path><path d=\"M 91.2 214.4 L 91.2 202.6 L 170.4 202.6\" id=\"25,10\"></path><path d=\"M 91.2 214.4 L 91.2 226.3 L 205.9 226.3\" id=\"25,9\"></path><path d=\"M 87.7 261.9 L 87.7 250.0 L 168.2 250.0\" id=\"23,8\"></path><path d=\"M 87.7 261.9 L 87.7 273.7 L 170.9 273.7\" id=\"23,7\"></path><path d=\"M 86.6 329.3 L 86.6 297.4 L 156.3 297.4\" id=\"22,6\"></path><path d=\"M 93.0 333.0 L 93.0 321.2 L 250.5 321.2\" id=\"20,5\"></path><path d=\"M 93.0 333.0 L 93.0 344.9 L 172.1 344.9\" id=\"20,4\"></path><path d=\"M 91.5 389.4 L 91.5 368.6 L 142.1 368.6\" id=\"19,3\"></path><path d=\"M 95.8 410.1 L 95.8 392.3 L 192.0 392.3\" id=\"18,2\"></path><path d=\"M 97.9 427.9 L 97.9 416.0 L 175.1 416.0\" id=\"17,1\"></path><path d=\"M 97.9 427.9 L 97.9 439.8 L 196.9 439.8\" id=\"17,0\"></path></g><g class=\"toytree-AlignEdges\" style=\"stroke:rgb(66.3%,66.3%,66.3%);stroke-dasharray:2, 4;stroke-linecap:round;stroke-opacity:1.0;stroke-width:2\"><path d=\"M 250.5 439.8 L 196.9 439.8\"></path><path d=\"M 250.5 416.0 L 175.1 416.0\"></path><path d=\"M 250.5 392.3 L 192.0 392.3\"></path><path d=\"M 250.5 368.6 L 142.1 368.6\"></path><path d=\"M 250.5 344.9 L 172.1 344.9\"></path><path d=\"M 250.5 321.2 L 250.5 321.2\"></path><path d=\"M 250.5 297.4 L 156.3 297.4\"></path><path d=\"M 250.5 273.7 L 170.9 273.7\"></path><path d=\"M 250.5 250.0 L 168.2 250.0\"></path><path d=\"M 250.5 226.3 L 205.9 226.3\"></path><path d=\"M 250.5 202.6 L 170.4 202.6\"></path><path d=\"M 250.5 178.8 L 185.0 178.8\"></path><path d=\"M 250.5 155.1 L 172.6 155.1\"></path><path d=\"M 250.5 131.4 L 227.1 131.4\"></path><path d=\"M 250.5 107.7 L 192.6 107.7\"></path><path d=\"M 250.5 84.0 L 185.4 84.0\"></path><path d=\"M 250.5 60.2 L 144.8 60.2\"></path></g><g class=\"toytree-TipLabels\" style=\"fill:rgb(14.9%,14.9%,14.9%);fill-opacity:1.0;font-family:helvetica;font-size:8px;font-weight:normal;stroke:none;white-space:pre\"><g transform=\"translate(250.51,439.75)rotate(0)\"><text x=\"15.00\" y=\"2.04\" style=\"fill:rgb(90.6%,54.1%,76.5%);fill-opacity:1.0\">Coraciiformes,Woodland Kingfisher</text></g><g transform=\"translate(250.51,416.03)rotate(0)\"><text x=\"15.00\" y=\"2.04\" style=\"fill:rgb(90.6%,54.1%,76.5%);fill-opacity:1.0\">Bucerotiformes,Northern Ground Hornbill</text></g><g transform=\"translate(250.51,392.31)rotate(0)\"><text x=\"15.00\" y=\"2.04\" style=\"fill:rgb(90.6%,54.1%,76.5%);fill-opacity:1.0\">Trogoniformes,Black-tailed Trogon</text></g><g transform=\"translate(250.51,368.60)rotate(0)\"><text x=\"15.00\" y=\"2.04\" style=\"fill:rgb(100%,85.1%,18.4%);fill-opacity:1.0\">Accipitriformes,Bald Eagle</text></g><g transform=\"translate(250.51,344.88)rotate(0)\"><text x=\"15.00\" y=\"2.04\" style=\"fill:rgb(65.1%,84.7%,32.9%);fill-opacity:1.0\">Falconiformes,Saker Falcon</text></g><g transform=\"translate(250.51,321.16)rotate(0)\"><text x=\"15.00\" y=\"2.04\" style=\"fill:rgb(65.1%,84.7%,32.9%);fill-opacity:1.0\">Passeriformes,Collared Flycatcher</text></g><g transform=\"translate(250.51,297.44)rotate(0)\"><text x=\"15.00\" y=\"2.04\" style=\"fill:rgb(55.3%,62.7%,79.6%);fill-opacity:1.0\">Pelecaniformes,Little Egret</text></g><g transform=\"translate(250.51,273.72)rotate(0)\"><text x=\"15.00\" y=\"2.04\" style=\"fill:rgb(100%,85.1%,18.4%);fill-opacity:1.0\">Gruiformes,Grey-winged Trumpeter</text></g><g transform=\"translate(250.51,250.00)rotate(0)\"><text x=\"15.00\" y=\"2.04\" style=\"fill:rgb(98.8%,55.3%,38.4%);fill-opacity:1.0\">Charadriiformes,Ruff</text></g><g transform=\"translate(250.51,226.28)rotate(0)\"><text x=\"15.00\" y=\"2.04\" style=\"fill:rgb(55.3%,62.7%,79.6%);fill-opacity:1.0\">Cuculiformes,Common Cuckoo</text></g><g transform=\"translate(250.51,202.56)rotate(0)\"><text x=\"15.00\" y=\"2.04\" style=\"fill:rgb(55.3%,62.7%,79.6%);fill-opacity:1.0\">Otidiformes,Red-crested Bustard</text></g><g transform=\"translate(250.51,178.84)rotate(0)\"><text x=\"15.00\" y=\"2.04\" style=\"fill:rgb(98.8%,55.3%,38.4%);fill-opacity:1.0\">Columbiformes,Domestic Pigeon (Rock Dove)</text></g><g transform=\"translate(250.51,155.12)rotate(0)\"><text x=\"15.00\" y=\"2.04\" style=\"fill:rgb(98.8%,55.3%,38.4%);fill-opacity:1.0\">Pterocliformes,Burchell's Sandgrouse</text></g><g transform=\"translate(250.51,131.40)rotate(0)\"><text x=\"15.00\" y=\"2.04\" style=\"fill:rgb(89.8%,76.9%,58%);fill-opacity:1.0\">Galliformes,Chicken (Red Junglefowl)</text></g><g transform=\"translate(250.51,107.69)rotate(0)\"><text x=\"15.00\" y=\"2.04\" style=\"fill:rgb(89.8%,76.9%,58%);fill-opacity:1.0\">Galliformes,White-crested Guan</text></g><g transform=\"translate(250.51,83.97)rotate(0)\"><text x=\"15.00\" y=\"2.04\" style=\"fill:rgb(89.8%,76.9%,58%);fill-opacity:1.0\">Anseriformes,Muscovy Duck</text></g><g transform=\"translate(250.51,60.25)rotate(0)\"><text x=\"15.00\" y=\"2.04\" style=\"fill:rgb(89.8%,76.9%,58%);fill-opacity:1.0\">Anseriformes,Magpie Goose</text></g></g></g></g></g></svg><div class=\"toyplot-behavior\"><script>(function()\n",
       "{\n",
       "var modules={};\n",
       "})();</script></div></div>"
      ]
     },
     "metadata": {},
     "output_type": "display_data"
    }
   ],
   "source": [
    "phylo = Tree(\"./../trees/{}_phast.nh\".format(group_name), format=1)\n",
    "phylo.prune(thinned_df.Species.values, preserve_branch_length=True)\n",
    "\n",
    "sp2group = thinned_df[[\"Species\",\"Group\"]].set_index(\"Species\").to_dict()[\"Group\"]\n",
    "sp2order = thinned_df[[\"Species\",\"Order\"]].set_index(\"Species\").to_dict()[\"Order\"]\n",
    "sp2common = thinned_df[[\"Species\",\"Common name\"]].set_index(\"Species\").to_dict()[\"Common name\"]\n",
    "\n",
    "nwk = toytree.tree(phylo.write(), tree_format=1)\n",
    "colors_tips = [toyplot.color.brewer.palette(\"Set2\")[int(sp2group[sp][-1])] for sp in nwk.get_tip_labels()]\n",
    "tips = [\"{},{}\".format(sp2order[sp],sp2common[sp]) for sp in nwk.get_tip_labels()]\n",
    "\n",
    "canvas, axes, mark = nwk.draw(\n",
    "    tip_labels_align =True,\n",
    "    tip_labels = tips,\n",
    "    tip_labels_colors = colors_tips,\n",
    "    height = 500,\n",
    "    tip_labels_style={\n",
    "        \"font-size\": \"8px\",\n",
    "    }\n",
    ");\n",
    "\n",
    "#toyplot.pdf.render(canvas, \"pdfs/Bird_groupings.pdf\")"
   ]
  }
 ],
 "metadata": {
  "kernelspec": {
   "display_name": "Python 3",
   "language": "python",
   "name": "python3"
  },
  "language_info": {
   "codemirror_mode": {
    "name": "ipython",
    "version": 3
   },
   "file_extension": ".py",
   "mimetype": "text/x-python",
   "name": "python",
   "nbconvert_exporter": "python",
   "pygments_lexer": "ipython3",
   "version": "3.8.5"
  }
 },
 "nbformat": 4,
 "nbformat_minor": 4
}
