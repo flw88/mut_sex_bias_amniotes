{
 "cells": [
  {
   "cell_type": "markdown",
   "metadata": {},
   "source": [
    "Modules"
   ]
  },
  {
   "cell_type": "code",
   "execution_count": 3,
   "metadata": {},
   "outputs": [],
   "source": [
    "from ete3 import Tree\n",
    "import toytree\n",
    "import toyplot\n",
    "import toyplot.pdf\n",
    "import itertools\n",
    "import math\n",
    "from scipy import stats\n",
    "import pandas as pd\n",
    "import matplotlib.pyplot as plt\n",
    "import numpy as np\n",
    "import warnings\n",
    "import sys\n",
    "pd.options.mode.chained_assignment = None"
   ]
  },
  {
   "cell_type": "markdown",
   "metadata": {},
   "source": [
    "Functions"
   ]
  },
  {
   "cell_type": "code",
   "execution_count": 4,
   "metadata": {},
   "outputs": [],
   "source": [
    "def min_div_to_chrom_assembly(df, target_sp, clevel_sps, tree):\n",
    "    '''Returns the minimum distance between sp and a chromosome level assembly'''\n",
    "    if target_sp in clevel_sps:\n",
    "        return 0\n",
    "    distances = [tree.get_distance(target_sp, sp) for sp in chrom_level]\n",
    "    return min(distances)\n",
    "\n",
    "def get_worst_species(df, decision_tree):\n",
    "    '''Returns species ranking higher in decision tree'''\n",
    "    for param, criteria in decision_tree.items():\n",
    "        if criteria!=\"Max\" and criteria!=\"Min\":\n",
    "            subd = df[df[param]!=criteria]\n",
    "            if len(subd)==1:\n",
    "                return subd.Species.values[0]\n",
    "        else:\n",
    "            if len(df[param].unique())==1:\n",
    "                continue\n",
    "            sorted_d = df.sort_values(by=param, ascending=False if criteria!=\"Max\" else True)\n",
    "            sorted_d.index = range(len(sorted_d))\n",
    "            return sorted_d.Species.values[0]\n",
    "\n",
    "def conservative_prune_dataset_by_pi(df, times_pi, decision_tree, tree):\n",
    "    '''Thins dataset, ensuring species are at list times_pi*pi diverged and >2%\n",
    "    keeping species according to decision tree'''\n",
    "    \n",
    "    exclude_species = []\n",
    "    for sp1,sp2 in itertools.combinations(df.Species, 2):\n",
    "        distance = tree.get_distance(sp1,sp2)\n",
    "        pi1 = float(df[df.Species==sp1][\"Pi_het\"])\n",
    "        pi2 = float(df[df.Species==sp2][\"Pi_het\"])\n",
    "        max_pi = np.nanmax([pi1,pi2])\n",
    "        min_distance = max_pi*times_pi\n",
    "        if min_distance>=distance or distance<=0.02:\n",
    "            worst_sp = get_worst_species(df[df.Species.isin([sp1,sp2])], decision_tree)\n",
    "            exclude_species.append(worst_sp)\n",
    "        \n",
    "    pruned_df = df[~df.Species.isin(exclude_species)]\n",
    "    return pruned_df\n",
    "    \n",
    "def prune_dataset_by_pi(df, times_pi, decision_tree, tree):\n",
    "    '''Thins dataset, ensuring species are at list times_pi*pi diverged\n",
    "    keeping species according to decision tree'''\n",
    "    \n",
    "    # All comparisons, record if pair is valid\n",
    "    total_species = df.Species\n",
    "    matrix = []\n",
    "    for sp1,sp2 in itertools.combinations(total_species, 2):\n",
    "        distance = tree.get_distance(sp1,sp2)\n",
    "        pi1 = float(df[df.Species==sp1][\"Pi_het\"])\n",
    "        pi2 = float(df[df.Species==sp2][\"Pi_het\"])\n",
    "        max_pi = np.nanmax([pi1,pi2]) if not all(math.isnan(p) for p in [pi1,pi2]) else 10\n",
    "        min_distance = max_pi*times_pi\n",
    "        matrix.append([sp1,sp2,0 if min_distance>distance else 1, distance])\n",
    "        \n",
    "    c_df = pd.DataFrame(matrix)\n",
    "    c_df.columns = [\"sp1\",\"sp2\",\"acceptance\",\"divergence\"]\n",
    "    return c_df\n",
    "    # Find valid combination with highest numerber of species\n",
    "    for n in range(len(total_species)+1)[::-1]:\n",
    "        sys.stderr.write(\"Trying combination of {} species...\\n\".format(n))\n",
    "        for sp_set in itertools.combinations(total_species, n):\n",
    "            set_df = c_df[(c_df.sp1.isin(sp_set)) & \n",
    "                          (c_df.sp2.isin(sp_set))]\n",
    "            validity = set_df.acceptance.sum()==len(set_df)\n",
    "            if validity:\n",
    "                sys.stderr.write(\"Found a valid set of {} species.\\n\".format(n))\n",
    "                return sp_set\n",
    "\n",
    "    sys.stderr.write(\"There's no safe dataset...!\")"
   ]
  },
  {
   "cell_type": "markdown",
   "metadata": {},
   "source": [
    "Read data"
   ]
  },
  {
   "cell_type": "code",
   "execution_count": 23,
   "metadata": {},
   "outputs": [],
   "source": [
    "group_name = \"Snakes\"\n",
    "meta = pd.read_csv(\"../data/{}_assembly_metadata.csv\".format(group_name),sep=\",\")\n",
    "phylo = Tree(\"./../trees/{}_phast.nh\".format(group_name), format=1)"
   ]
  },
  {
   "cell_type": "markdown",
   "metadata": {},
   "source": [
    "Minimum assembly stats and heterogametic sex filters"
   ]
  },
  {
   "cell_type": "code",
   "execution_count": 24,
   "metadata": {},
   "outputs": [
    {
     "name": "stdout",
     "output_type": "stream",
     "text": [
      "Filtered 0 scaffold assemblies based on heterogametic sex\n",
      "Filtered 0 with complex system of sex determination\n",
      "Filtered 1 with stats below thershold\n"
     ]
    }
   ],
   "source": [
    "scafN50 = 350e3 if group_name in [\"Birds\",\"Mammals\"] else 100e3\n",
    "contigN50 = 25e3 if group_name in [\"Birds\",\"Mammals\"] else 10e3\n",
    "chrom_level_dist = 0.35 if group_name==\"Birds\" else 0.15\n",
    "complex_system = \"Complex_XY\" if group_name==\"Mammals\" else \"Complex_ZW\"\n",
    "heterogametic_sex = \"male\" if group_name==\"Mammals\" else \"female\"\n",
    "heterogametic_sex = heterogametic_sex if group_name!=\"Snakes\" else None\n",
    "\n",
    "# Filtering scaffold assemblies for heterogametic sex\n",
    "n = len(meta)\n",
    "meta = meta[((meta.Sex!=heterogametic_sex) | (meta.AssemblyStatus==\"Chromosome\"))].reset_index(drop=True)\n",
    "print(\"Filtered {} scaffold assemblies based on heterogametic sex\".format(n-len(meta)))\n",
    "\n",
    "# Filtering species in genus with complex system of sex determination \n",
    "n = len(meta)\n",
    "meta = meta[(meta[complex_system]!=True)].reset_index(drop=True)\n",
    "print(\"Filtered {} with complex system of sex determination\".format(n-len(meta)))\n",
    "\n",
    "# Filtering by assembly stats \n",
    "n = len(meta)\n",
    "meta = meta[((meta.ScaffoldN50>scafN50) | (meta.AssemblyStatus==\"Chromosome\")) &\n",
    "            (meta.ContigN50>contigN50)].reset_index(drop=True)\n",
    "print(\"Filtered {} with stats below thershold\".format(n-len(meta)))"
   ]
  },
  {
   "cell_type": "markdown",
   "metadata": {},
   "source": [
    "Thin by divergence, unless Aves, in which we take 1 species per Neoaves order (and focus in phylogenetic relationships that are well resolved (https://doi.org/10.1093/sysbio/syx041))"
   ]
  },
  {
   "cell_type": "code",
   "execution_count": 25,
   "metadata": {},
   "outputs": [],
   "source": [
    "decision_tree = {\"dnm\":\"Max\",\n",
    "                 \"AssemblyStatus\":\"Chromosome\",\n",
    "                 \"ScaffoldN50\":\"Max\",\n",
    "                 \"Sex\":heterogametic_sex\n",
    "                }\n",
    "if group_name!=\"Birds\":\n",
    "    thinned_df = conservative_prune_dataset_by_pi(meta, 15, decision_tree, phylo)\n",
    "else:\n",
    "    g1 = [\"Columbiformes\",\"Pterocliformes\",\"Charadriiformes\"]\n",
    "    g2 = [\"Otidiformes\",\"Cuculiformes\",\"Pelecaniformes\",\"Sphenisciformes\"]\n",
    "    g3 = [\"Trogoniformes\",\"Bucerotiformes\",\"Coraciiformes\"]\n",
    "    g4 = [\"Falconiformes\",\"Passeriformes\"]\n",
    "    g5 = [\"Accipitriformes\",\"Gruiformes\"]\n",
    "    g6 = [\"Anseriformes\",\"Galliformes\"]\n",
    "    total = sorted(sum([g1,g2,g3,g4,g5,g6], []))\n",
    "    order2group = {order:\"Group{}\".format(i+1) for i,g in enumerate([g1,g2,g3,g4,g5,g6]) for order in g}\n",
    "    meta = meta[meta.Order.isin(total)].reset_index(drop=True)\n",
    "    keep_species = []\n",
    "    for order,df in meta.groupby(\"Order\"):\n",
    "        df.index = df.Species\n",
    "        if order==\"Passeriformes\":\n",
    "            keep_species.append([\"Ficedula albicollis\"])\n",
    "        elif order in [\"Anseriformes\", \"Galliformes\"]:\n",
    "            if order==\"Galliformes\":\n",
    "                keep_species.append(list(df[df.Family!=\"Phasianidae\"].index))\n",
    "                keep_species.append([\"Gallus_gallus\"])\n",
    "            else:\n",
    "                keep_species.append(list(df.index))\n",
    "        else:\n",
    "            keep_species.append([df[\"ScaffoldN50\"].idxmax()])\n",
    "    keep_species = sum(keep_species,[])\n",
    "    keep_species = [\"_\".join(sp.split()) for sp in keep_species]\n",
    "    thinned_df = meta[meta.Species.isin(keep_species)]\n",
    "    thinned_df[\"Group\"] = [order2group[order] for order in thinned_df[\"Order\"]]\n",
    "    thinned_df = thinned_df.drop_duplicates(\"Species\")"
   ]
  },
  {
   "cell_type": "markdown",
   "metadata": {},
   "source": [
    "Thin by distance to chromosome assembly"
   ]
  },
  {
   "cell_type": "code",
   "execution_count": 26,
   "metadata": {},
   "outputs": [],
   "source": [
    "chrom_level = list(thinned_df[thinned_df.AssemblyStatus==\"Chromosome\"].Species)\n",
    "thinned_df[\"min_div_clevel\"] = [min_div_to_chrom_assembly(thinned_df, sp, chrom_level, phylo) if sp in phylo.get_leaf_names() else 1 for sp in thinned_df.Species]\n",
    "thinned_df = thinned_df[thinned_df.min_div_clevel<=chrom_level_dist].reset_index(drop=True)"
   ]
  },
  {
   "cell_type": "markdown",
   "metadata": {},
   "source": [
    "Output species list file and phylogeny"
   ]
  },
  {
   "cell_type": "code",
   "execution_count": 28,
   "metadata": {},
   "outputs": [],
   "source": [
    "with open(\"../data/{}.txt\".format(group_name),\"w\") as fh:\n",
    "    fh.write(\",\".join(list(thinned_df.Species)) + \"\\n\")\n",
    "phylo.prune(thinned_df.Species, preserve_branch_length=True)\n",
    "phylo.write(outfile=\"./../trees/{}.nwk\".format(group_name),format=5)\n",
    "\n",
    "if group_name==\"Birds\":\n",
    "    for group,df in thinned_df.groupby(\"Group\"):\n",
    "        species = list(df.Species)\n",
    "        # Neoaves\n",
    "        if \"Gallus_gallus\" not in species:\n",
    "            species.append(\"Gallus_gallus\")\n",
    "        # Outside branch\n",
    "        else:\n",
    "            pass\n",
    "        # Species list\n",
    "        fix_group = group.replace(\"Group\",\"g\")\n",
    "        with open(\"./../data/Birds_{}.txt\".format(fix_group), \"w\") as spf:\n",
    "            spf.write(\",\".join(species) + \"\\n\")\n",
    "        # Tree\n",
    "        phylo = Tree(\"./../trees/363-avian-2020-phast.nh\", format=1)\n",
    "        phylo.prune(species, preserve_branch_length=True)\n",
    "        phylo.write(outfile=\"./../trees/Birds_{}.nwk\".format(fix_group), format=5)"
   ]
  }
 ],
 "metadata": {
  "kernelspec": {
   "display_name": "Python 3",
   "language": "python",
   "name": "python3"
  },
  "language_info": {
   "codemirror_mode": {
    "name": "ipython",
    "version": 3
   },
   "file_extension": ".py",
   "mimetype": "text/x-python",
   "name": "python",
   "nbconvert_exporter": "python",
   "pygments_lexer": "ipython3",
   "version": "3.8.5"
  }
 },
 "nbformat": 4,
 "nbformat_minor": 4
}
