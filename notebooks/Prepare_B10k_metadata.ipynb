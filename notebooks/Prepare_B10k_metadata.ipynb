{
 "cells": [
  {
   "cell_type": "markdown",
   "metadata": {},
   "source": [
    "### Thin B10k dataset"
   ]
  },
  {
   "cell_type": "markdown",
   "metadata": {},
   "source": [
    "Import modules"
   ]
  },
  {
   "cell_type": "code",
   "execution_count": 1,
   "metadata": {},
   "outputs": [],
   "source": [
    "from ete3 import Tree\n",
    "import toytree\n",
    "import toyplot\n",
    "import toyplot.pdf\n",
    "import itertools\n",
    "import math\n",
    "import xml.etree.ElementTree as ET\n",
    "import random\n",
    "import pandas as pd\n",
    "import matplotlib.pyplot as plt\n",
    "import numpy as np\n",
    "import warnings\n",
    "pd.options.mode.chained_assignment = None"
   ]
  },
  {
   "cell_type": "markdown",
   "metadata": {},
   "source": [
    "Functions"
   ]
  },
  {
   "cell_type": "code",
   "execution_count": 10,
   "metadata": {},
   "outputs": [],
   "source": [
    "def distance_within_order(df, current_sp, nwkete):\n",
    "    '''Returns distance to other individuals in phylo'''\n",
    "    \n",
    "    distance_pi_het = pd.DataFrame([[r.Species, nwkete.get_distance(current_sp, r.Species), r.Pi] for i,r in df.iterrows() if r.Species!=current_sp])\n",
    "    distance_pi_het.columns = [\"Species\", \"distance\", \"Pi\"]\n",
    "    distance_pi_het = distance_pi_het.sort_values(by=\"distance\")\n",
    "    distance_pi_het.index = range(len(distance_pi_het))\n",
    "    return distance_pi_het\n",
    "\n",
    "def keep_best_species(d, tree):\n",
    "    '''Returns species ranking higher in decision tree'''\n",
    "    for param, criteria in tree.items():\n",
    "\n",
    "        if criteria!=\"Max\" and criteria!=\"Min\":\n",
    "            subd = d[d[param]!=criteria]\n",
    "            if len(subd)==1:\n",
    "                return subd.Species.values[0]\n",
    "        else:\n",
    "            if len(d[param].unique())==1:\n",
    "                continue\n",
    "            sorted_d = d.sort_values(by=param, ascending=False if criteria==\"Max\" else True)\n",
    "            sorted_d.index = range(len(sorted_d))\n",
    "            return sorted_d.Species.values[0]"
   ]
  },
  {
   "cell_type": "markdown",
   "metadata": {},
   "source": [
    "Read input metadata and phylogeny of B10k "
   ]
  },
  {
   "cell_type": "code",
   "execution_count": 11,
   "metadata": {},
   "outputs": [],
   "source": [
    "# B10k metadata\n",
    "meta = pd.read_excel(\"../data/metadata_b10k.xlsx\")\n",
    "\n",
    "# Read NCBI entrez \n",
    "with open(\"../data/b10k_NCBI_Entrez.xml\") as f:\n",
    "    xml = f.read()\n",
    "root = ET.fromstring(\"<root>\" + xml + \"</root>\")\n",
    "\n",
    "# Convert to data frame\n",
    "features_of_interest = [\"AssemblyAccession\", \"AssemblyName\", \"Organism\", \"AssemblyStatus\", \"Coverage\", \"ContigN50\", \"ScaffoldN50\", \"Sex\",\"SpeciesName\"]\n",
    "xml_l = []\n",
    "for b in list(root):\n",
    "    current_species = {f:\"nan\" for f in features_of_interest}\n",
    "    for b2 in list(b):\n",
    "        tag = b2.tag\n",
    "        value = b2.text\n",
    "        if tag in features_of_interest:\n",
    "            current_species[tag] = value\n",
    "        if tag==\"Biosource\":\n",
    "            for b3 in list(b2):\n",
    "                tag = b3.tag\n",
    "                value = b3.text\n",
    "                if tag==\"Sex\":\n",
    "                    current_species[tag] = value\n",
    "    xml_l.append(current_species)\n",
    "    \n",
    "ncbi_meta = pd.DataFrame(xml_l)\n",
    "\n",
    "# Read phylo\n",
    "b10k = Tree(\"./../trees/363-avian-2020-phast.nh\", format=1)\n",
    "\n",
    "# Merged both datasets\n",
    "merged_meta = meta.set_index(\"Latin name\").join(ncbi_meta.set_index(\"SpeciesName\"), lsuffix=\"b10k\")\n",
    "merged_meta[\"ScaffoldN50\"] = pd.to_numeric(merged_meta[\"ScaffoldN50\"])\n",
    "merged_meta[\"ContigN50\"] = pd.to_numeric(merged_meta[\"ContigN50\"])\n",
    "merged_meta[\"Species\"] = [\"_\".join(sp.split()) for sp in merged_meta.index]\n",
    "\n",
    "# Tree of sex\n",
    "treeofsex = pd.read_csv(\"./../data/tree_of_sex.csv\")\n",
    "column = 'Karyotype (ZO,ZW,XY,XO,WO,homomorphic,complex XY,complex ZW)'\n",
    "complex_ZW = treeofsex[(treeofsex[\"Higher taxonomic group\"]==\"Aves\") & (treeofsex[column]!=\"ZW\")]\n",
    "genus_complex_ZW = [sp.split()[0] for sp in complex_ZW[\"Species\"]]\n",
    "merged_meta[\"Complex_ZW\"] = [sp.split(\"_\")[0] in genus_complex_ZW for sp in merged_meta.Species]\n",
    "\n",
    "# Add max pi\n",
    "#merged_meta[\"Pi_het\"] = 9e-3\n",
    "\n",
    "# Add dnms for flycatchers\n",
    "merged_meta[\"dnm\"] = [0 if sp!=\"Ficedula_albicollis\" else 33 for sp in merged_meta.Species]\n",
    "\n",
    "# Creted ibis sex is not well annotated (https://doi.org/10.1186/s13059-014-0557-1)\n",
    "merged_meta[\"Sex\"] = [r.Sex if r.Species!=\"Nipponia_nippon\" else \"female\" for i,r in merged_meta.iterrows()]\n",
    "\n",
    "# Get rid of duplicated Numida line\n",
    "merged_meta = merged_meta.drop_duplicates(subset=[\"Species\"]).reset_index(drop=True)"
   ]
  },
  {
   "cell_type": "code",
   "execution_count": 12,
   "metadata": {},
   "outputs": [],
   "source": [
    "variation = pd.read_csv(\"../data/bruniche-olsen_variation.csv\")\n",
    "merged_meta = merged_meta.set_index(\"Species\").join(variation[[\"species\", \"Pi\"]].set_index(\"species\")).reset_index()\n",
    "#pi_per_genus = variation.groupby(\"genus\").apply(lambda x: np.nanmean(x[\"Pi\"])).to_dict()"
   ]
  },
  {
   "cell_type": "code",
   "execution_count": 13,
   "metadata": {},
   "outputs": [],
   "source": [
    "species_in_tree = b10k.get_leaf_names()\n",
    "merged_meta = merged_meta[merged_meta.Species.isin(species_in_tree)].reset_index(drop=True)"
   ]
  },
  {
   "cell_type": "code",
   "execution_count": 14,
   "metadata": {},
   "outputs": [],
   "source": [
    "#merged_meta[\"genus\"] = [sp.split(\"_\")[0] for sp in merged_meta.Species]"
   ]
  },
  {
   "cell_type": "code",
   "execution_count": 15,
   "metadata": {},
   "outputs": [],
   "source": [
    "# Mean of species genus\n",
    "#pi_per_genus = variation.groupby(\"genus\").apply(lambda x: np.nanmean(x[\"Pi\"])).to_dict()\n",
    "#fill_genus_pi = []\n",
    "#for i,r in merged_meta.iterrows():\n",
    "#    if math.isnan(r.Pi):\n",
    "#        if r.genus in pi_per_genus:\n",
    "#            fill_genus_pi.append(pi_per_genus[r.genus])\n",
    "#        else:\n",
    "#            fill_genus_pi.append(np.nan)\n",
    "#    else:\n",
    "#        fill_genus_pi.append(r.Pi)\n",
    "#merged_meta[\"Pi\"] = fill_genus_pi\n",
    "\n",
    "# Propagate pi if not available from any source\n",
    "close_pi = []\n",
    "source_pi = []\n",
    "for i,r in merged_meta.iterrows():\n",
    "    if math.isnan(r[\"Pi\"]):\n",
    "        subd = merged_meta\n",
    "        current_sp = r.Species\n",
    "        distance_df = distance_within_order(subd, current_sp, b10k)\n",
    "        nonna_df = distance_df[distance_df.Pi>0]\n",
    "        closest_pi = nonna_df.Pi.values[0]\n",
    "        close_pi.append(closest_pi)\n",
    "        source_pi.append(\"Propagated\")\n",
    "    else:\n",
    "        close_pi.append(r.Pi)\n",
    "        source_pi.append(\"Bruniche-olsen_pi\")\n",
    "\n",
    "merged_meta[\"Pi\"] = close_pi\n",
    "merged_meta[\"Pi_het\"] = merged_meta[\"Pi\"]\n",
    "merged_meta[\"Pi_het_source\"] = source_pi"
   ]
  },
  {
   "cell_type": "markdown",
   "metadata": {},
   "source": [
    "Output table"
   ]
  },
  {
   "cell_type": "code",
   "execution_count": 18,
   "metadata": {},
   "outputs": [],
   "source": [
    "merged_meta.to_csv(\"../data/Birds_assembly_metadata.csv\")"
   ]
  }
 ],
 "metadata": {
  "kernelspec": {
   "display_name": "Python 3",
   "language": "python",
   "name": "python3"
  },
  "language_info": {
   "codemirror_mode": {
    "name": "ipython",
    "version": 3
   },
   "file_extension": ".py",
   "mimetype": "text/x-python",
   "name": "python",
   "nbconvert_exporter": "python",
   "pygments_lexer": "ipython3",
   "version": "3.8.5"
  }
 },
 "nbformat": 4,
 "nbformat_minor": 4
}
