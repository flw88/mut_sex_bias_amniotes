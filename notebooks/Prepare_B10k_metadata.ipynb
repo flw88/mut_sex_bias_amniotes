{
 "cells": [
  {
   "cell_type": "markdown",
   "metadata": {},
   "source": [
    "### Thin B10k dataset"
   ]
  },
  {
   "cell_type": "markdown",
   "metadata": {},
   "source": [
    "Import modules"
   ]
  },
  {
   "cell_type": "code",
   "execution_count": 1,
   "metadata": {},
   "outputs": [],
   "source": [
    "from ete3 import Tree\n",
    "import toytree\n",
    "import toyplot\n",
    "import toyplot.pdf\n",
    "import itertools\n",
    "import math\n",
    "import xml.etree.ElementTree as ET\n",
    "import random\n",
    "import pandas as pd\n",
    "import matplotlib.pyplot as plt\n",
    "import numpy as np\n",
    "import warnings\n",
    "pd.options.mode.chained_assignment = None"
   ]
  },
  {
   "cell_type": "markdown",
   "metadata": {},
   "source": [
    "Functions"
   ]
  },
  {
   "cell_type": "code",
   "execution_count": 2,
   "metadata": {},
   "outputs": [],
   "source": [
    "def keep_best_species(d, tree):\n",
    "    '''Returns species ranking higher in decision tree'''\n",
    "    for param, criteria in tree.items():\n",
    "\n",
    "        if criteria!=\"Max\" and criteria!=\"Min\":\n",
    "            subd = d[d[param]!=criteria]\n",
    "            if len(subd)==1:\n",
    "                return subd.Species.values[0]\n",
    "        else:\n",
    "            if len(d[param].unique())==1:\n",
    "                continue\n",
    "            sorted_d = d.sort_values(by=param, ascending=False if criteria==\"Max\" else True)\n",
    "            sorted_d.index = range(len(sorted_d))\n",
    "            return sorted_d.Species.values[0]"
   ]
  },
  {
   "cell_type": "markdown",
   "metadata": {},
   "source": [
    "Read input metadata and phylogeny of B10k "
   ]
  },
  {
   "cell_type": "code",
   "execution_count": 4,
   "metadata": {},
   "outputs": [],
   "source": [
    "# B10k metadata\n",
    "meta = pd.read_excel(\"../data/metadata_b10k.xlsx\")\n",
    "\n",
    "# Read NCBI entrez \n",
    "with open(\"../data/b10k_NCBI_Entrez.xml\") as f:\n",
    "    xml = f.read()\n",
    "root = ET.fromstring(\"<root>\" + xml + \"</root>\")\n",
    "\n",
    "# Convert to data frame\n",
    "features_of_interest = [\"AssemblyAccession\", \"AssemblyName\", \"Organism\", \"AssemblyStatus\", \"Coverage\", \"ContigN50\", \"ScaffoldN50\", \"Sex\",\"SpeciesName\"]\n",
    "xml_l = []\n",
    "for b in list(root):\n",
    "    current_species = {f:\"nan\" for f in features_of_interest}\n",
    "    for b2 in list(b):\n",
    "        tag = b2.tag\n",
    "        value = b2.text\n",
    "        if tag in features_of_interest:\n",
    "            current_species[tag] = value\n",
    "        if tag==\"Biosource\":\n",
    "            for b3 in list(b2):\n",
    "                tag = b3.tag\n",
    "                value = b3.text\n",
    "                if tag==\"Sex\":\n",
    "                    current_species[tag] = value\n",
    "    xml_l.append(current_species)\n",
    "    \n",
    "ncbi_meta = pd.DataFrame(xml_l)\n",
    "\n",
    "# Read phylo\n",
    "b10k = Tree(\"./../trees/363-avian-2020-phast.nh\", format=1)\n",
    "\n",
    "# Merged both datasets\n",
    "merged_meta = meta.set_index(\"Latin name\").join(ncbi_meta.set_index(\"SpeciesName\"), lsuffix=\"b10k\")\n",
    "merged_meta[\"ScaffoldN50\"] = pd.to_numeric(merged_meta[\"ScaffoldN50\"])\n",
    "merged_meta[\"ContigN50\"] = pd.to_numeric(merged_meta[\"ContigN50\"])\n",
    "merged_meta[\"Species\"] = [\"_\".join(sp.split()) for sp in merged_meta.index]\n",
    "\n",
    "# Tree of sex\n",
    "treeofsex = pd.read_csv(\"./../data/tree_of_sex.csv\")\n",
    "column = 'Karyotype (ZO,ZW,XY,XO,WO,homomorphic,complex XY,complex ZW)'\n",
    "complex_ZW = treeofsex[(treeofsex[\"Higher taxonomic group\"]==\"Aves\") & (treeofsex[column]!=\"ZW\")]\n",
    "genus_complex_ZW = [sp.split()[0] for sp in complex_ZW[\"Species\"]]\n",
    "merged_meta[\"Complex_ZW\"] = [sp.split(\"_\")[0] in genus_complex_ZW for sp in merged_meta.Species]\n",
    "\n",
    "# Add dnms for flycatchers\n",
    "merged_meta[\"dnms\"] = [0 if sp!=\"Ficedula_albicollis\" else 33 for sp in merged_meta.Species]\n",
    "\n",
    "# Creted ibis sex is not well annotated (https://doi.org/10.1186/s13059-014-0557-1)\n",
    "merged_meta[\"Sex\"] = [r.Sex if r.Species!=\"Nipponia_nippon\" else \"female\" for i,r in merged_meta.iterrows()]\n",
    "\n",
    "# Get rid of duplicated Numida line\n",
    "merged_meta = merged_meta.drop_duplicates(subset=[\"Species\"]).reset_index(drop=True)"
   ]
  },
  {
   "cell_type": "markdown",
   "metadata": {},
   "source": [
    "Output table"
   ]
  },
  {
   "cell_type": "code",
   "execution_count": 5,
   "metadata": {},
   "outputs": [],
   "source": [
    "merged_meta.to_csv(\"../data/Birds_assembly_metadata.csv\")"
   ]
  },
  {
   "cell_type": "markdown",
   "metadata": {},
   "source": [
    "Minimum distance to a chromosome level assembly"
   ]
  },
  {
   "cell_type": "code",
   "execution_count": 9,
   "metadata": {},
   "outputs": [
    {
     "name": "stdout",
     "output_type": "stream",
     "text": [
      "Anser_cygnoides not in tree\n",
      "Aquila_chrysaetos_canadensis not in tree\n",
      "Corvus_cornix_cornix not in tree\n",
      "Eolophus_roseicapilla not in tree\n",
      "Nannopterum_auritus not in tree\n",
      "Nannopterum_brasilianus not in tree\n",
      "Nannopterum_harrisi not in tree\n",
      "Strix_occidentalis_caurina not in tree\n",
      "Urile_pelagicus not in tree\n",
      "Zosterops_lateralis_melanops not in tree\n"
     ]
    }
   ],
   "source": [
    "chrom_level = merged_meta[merged_meta.AssemblyStatus==\"Chromosome\"].Species.values\n",
    "distances_to_chrom_level = []\n",
    "sp_in_tree = [sp for sp in b10k.get_leaf_names()]\n",
    "for i,r in merged_meta.iterrows():\n",
    "    if r.Species not in sp_in_tree:\n",
    "        distances_to_chrom_level.append(np.nan)\n",
    "        print(\"{} not in tree\".format(r.Species))\n",
    "        continue\n",
    "    distances = [b10k.get_distance(r.Species, sp) if r.Species!=sp else 0 for sp in chrom_level]\n",
    "    distances_to_chrom_level.append(min(distances))\n",
    "merged_meta[\"min_distance_to_chrom\"] = distances_to_chrom_level"
   ]
  },
  {
   "cell_type": "markdown",
   "metadata": {},
   "source": [
    "Orders safe to compare, phylogeny is well resolved (https://doi.org/10.1093/sysbio/syx041)"
   ]
  },
  {
   "cell_type": "code",
   "execution_count": 10,
   "metadata": {},
   "outputs": [],
   "source": [
    "g1 = [\"Columbiformes\",\"Pterocliformes\",\"Charadriiformes\"]\n",
    "g2 = [\"Otidiformes\",\"Cuculiformes\",\"Pelecaniformes\",\"Sphenisciformes\"]\n",
    "g3 = [\"Trogoniformes\",\"Bucerotiformes\",\"Coraciiformes\"]\n",
    "g4 = [\"Falconiformes\",\"Passeriformes\"]\n",
    "g5 = [\"Accipitriformes\",\"Gruiformes\"]\n",
    "g6 = [\"Anseriformes\",\"Galliformes\"]\n",
    "total = sorted(sum([g1,g2,g3,g4,g5,g6], []))\n",
    "order2group = {order:\"Group{}\".format(i+1) for i,g in enumerate([g1,g2,g3,g4,g5,g6]) for order in g}"
   ]
  },
  {
   "cell_type": "markdown",
   "metadata": {},
   "source": [
    "Prune dataset according to thinning criteria"
   ]
  },
  {
   "cell_type": "code",
   "execution_count": 13,
   "metadata": {},
   "outputs": [],
   "source": [
    "subd = merged_meta[(merged_meta.min_distance_to_chrom<=chrom_level_dist) & \n",
    "                   (merged_meta.Sex!=heterogametic_sex) & \n",
    "                   (merged_meta.ContigN50>contigN50) & \n",
    "                   (merged_meta.ScaffoldN50>scafN50)]\n",
    "subd[\"dnm\"] = [1 if sp==\"Ficedula_albicollis\" else 0 for sp in subd.Species]"
   ]
  },
  {
   "cell_type": "markdown",
   "metadata": {},
   "source": [
    "Just one species per order (max scafN50), except outside neoaves (Anseriformes and Galliformes)\n",
    "Also, take albicollis in Passerines, the only bird species with DNM data"
   ]
  },
  {
   "cell_type": "code",
   "execution_count": 170,
   "metadata": {},
   "outputs": [],
   "source": [
    "decision_tree = {\"dnm\":\"Max\",\n",
    "                 \"AssemblyStatus\":\"Chromosome\",\n",
    "                 \"Sex\":\"female\",\n",
    "                 \"ScaffoldN50\":\"Max\",\n",
    "                 \"AnAge_ntraits\":\"Max\",\n",
    "                }"
   ]
  },
  {
   "cell_type": "code",
   "execution_count": 171,
   "metadata": {},
   "outputs": [],
   "source": [
    "keep_species = []\n",
    "for order,df in subd.groupby(\"Order\"):\n",
    "    if order==\"Passeriformes\":\n",
    "        keep_species.append([\"Ficedula albicollis\"])\n",
    "    elif order in [\"Anseriformes\", \"Galliformes\"]:\n",
    "        if order==\"Galliformes\":\n",
    "            keep_species.append(list(df[df.Family!=\"Phasianidae\"].index))\n",
    "            keep_species.append([\"Gallus_gallus\"])\n",
    "        else:\n",
    "            best_sp = keep_best_species(df, decision_tree)\n",
    "            keep_species.append([best_sp])\n",
    "    else:\n",
    "        keep_species.append([df[\"ScaffoldN50\"].idxmax()])\n",
    "keep_species = sum(keep_species,[])\n",
    "keep_species = [\"_\".join(sp.split()) for sp in keep_species]\n",
    "thinned_dataset = merged_meta[merged_meta.Species.isin(keep_species)]\n",
    "thinned_dataset[\"Group\"] = [order2group[order] for order in thinned_dataset[\"Order\"]]\n",
    "thinned_dataset = thinned_dataset.drop_duplicates(\"Species\")"
   ]
  },
  {
   "cell_type": "markdown",
   "metadata": {},
   "source": [
    "Check if any species has a complex system of sex determination"
   ]
  },
  {
   "cell_type": "code",
   "execution_count": 172,
   "metadata": {},
   "outputs": [],
   "source": [
    "treeofsex = pd.read_csv(\"./../data/tree_of_sex.csv\")\n",
    "column = 'Karyotype (ZO,ZW,XY,XO,WO,homomorphic,complex XY,complex ZW)'\n",
    "complex_zw = treeofsex[(treeofsex[\"Higher taxonomic group\"]==\"Aves\") & (treeofsex[column]!=\"ZW\")]\n",
    "thinned_families = list(thinned_dataset.Family.unique())\n",
    "for fam in complex_zw.Family.unique():\n",
    "    if fam in thinned_families:\n",
    "        print(\"{} has complex ZW\".format(fam))"
   ]
  },
  {
   "cell_type": "markdown",
   "metadata": {},
   "source": [
    "Check minimum divergence between selected species"
   ]
  },
  {
   "cell_type": "code",
   "execution_count": 173,
   "metadata": {},
   "outputs": [
    {
     "data": {
      "image/png": "[encoded data removed]",
      "text/plain": [
       "<Figure size 432x288 with 1 Axes>"
      ]
     },
     "metadata": {
      "needs_background": "light"
     },
     "output_type": "display_data"
    }
   ],
   "source": [
    "group_distances = {}\n",
    "\n",
    "for group, df in thinned_dataset.groupby(\"Group\"):\n",
    "    group_distances[group] = []\n",
    "    for c in itertools.combinations(df.Species.values, 2):\n",
    "        sp1, sp2 = c\n",
    "        if sp1==sp2:\n",
    "            continue\n",
    "        distance = b10k.get_distance(sp1, sp2)\n",
    "        group_distances[group].append(distance)\n",
    "        \n",
    "group_distances_df = pd.DataFrame(sum([[k]*len(v) for k,v in group_distances.items()],[]),             \n",
    "                                  sum([v for k,v in group_distances.items()],[])            \n",
    "                                 ).reset_index()\n",
    "group_distances_df.columns = [\"distance\", \"group\"]\n",
    "sns.swarmplot(data = group_distances_df, x = \"group\", y = \"distance\")\n",
    "sns.despine()\n",
    "plt.tight_layout()\n",
    "#plt.savefig(\"bird_intragroup_genetic_distance.pdf\")"
   ]
  },
  {
   "cell_type": "markdown",
   "metadata": {},
   "source": [
    "Phylogeny of selected species"
   ]
  },
  {
   "cell_type": "code",
   "execution_count": 174,
   "metadata": {},
   "outputs": [
    {
     "data": {
      "text/html": [
       "<div class=\"toyplot\" id=\"te220c036b8824abc81891858d0ad46e9\" style=\"text-align:center\"><svg class=\"toyplot-canvas-Canvas\" xmlns:toyplot=\"http://www.sandia.gov/toyplot\" xmlns:xlink=\"http://www.w3.org/1999/xlink\" xmlns=\"http://www.w3.org/2000/svg\" width=\"455.0px\" height=\"500.0px\" viewBox=\"0 0 455.0 500.0\" preserveAspectRatio=\"xMidYMid meet\" style=\"background-color:transparent;border-color:#292724;border-style:none;border-width:1.0;fill:rgb(16.1%,15.3%,14.1%);fill-opacity:1.0;font-family:Helvetica;font-size:12px;opacity:1.0;stroke:rgb(16.1%,15.3%,14.1%);stroke-opacity:1.0;stroke-width:1.0\" id=\"tb324cf37eb3b4d6197a1b95f8f569954\"><g class=\"toyplot-coordinates-Cartesian\" id=\"t86a74e9f9c9c45bf98fecb69104767d3\"><clipPath id=\"tcaf69bd90ca74d51a31a6d5535b89e55\"><rect x=\"30.0\" y=\"30.0\" width=\"395.0\" height=\"440.0\"></rect></clipPath><g clip-path=\"url(#tcaf69bd90ca74d51a31a6d5535b89e55)\"><g class=\"toytree-mark-Toytree\" id=\"t78a281f429c64653b6e73ee7b6eb6cdf\"><g class=\"toytree-Edges\" style=\"fill:none;stroke:rgb(14.9%,14.9%,14.9%);stroke-linecap:round;stroke-opacity:1;stroke-width:2\"><path d=\"M 51.1 142.0 L 51.1 79.8 L 89.5 79.8\" id=\"34,33\"></path><path d=\"M 51.1 142.0 L 51.1 204.2 L 82.7 204.2\" id=\"34,32\"></path><path d=\"M 89.5 79.8 L 89.5 99.3 L 118.3 99.3\" id=\"33,31\"></path><path d=\"M 82.7 204.2 L 82.7 160.7 L 86.1 160.7\" id=\"32,30\"></path><path d=\"M 82.7 204.2 L 82.7 247.7 L 85.2 247.7\" id=\"32,29\"></path><path d=\"M 118.3 99.3 L 118.3 116.1 L 163.5 116.1\" id=\"31,28\"></path><path d=\"M 85.2 247.7 L 85.2 205.4 L 91.2 205.4\" id=\"29,27\"></path><path d=\"M 85.2 247.7 L 85.2 290.1 L 85.9 290.1\" id=\"29,26\"></path><path d=\"M 85.9 290.1 L 85.9 250.0 L 87.7 250.0\" id=\"26,25\"></path><path d=\"M 85.9 290.1 L 85.9 330.2 L 86.6 330.2\" id=\"26,24\"></path><path d=\"M 86.6 330.2 L 86.6 294.6 L 91.2 294.6\" id=\"24,23\"></path><path d=\"M 86.6 330.2 L 86.6 365.8 L 90.7 365.8\" id=\"24,22\"></path><path d=\"M 90.7 365.8 L 90.7 339.3 L 93.0 339.3\" id=\"22,21\"></path><path d=\"M 90.7 365.8 L 90.7 392.3 L 91.5 392.3\" id=\"22,20\"></path><path d=\"M 91.5 392.3 L 91.5 411.8 L 95.8 411.8\" id=\"20,19\"></path><path d=\"M 95.8 411.8 L 95.8 428.6 L 97.9 428.6\" id=\"19,18\"></path><path d=\"M 89.5 79.8 L 89.5 60.2 L 144.8 60.2\" id=\"33,17\"></path><path d=\"M 118.3 99.3 L 118.3 82.6 L 192.6 82.6\" id=\"31,16\"></path><path d=\"M 163.5 116.1 L 163.5 104.9 L 205.9 104.9\" id=\"28,15\"></path><path d=\"M 163.5 116.1 L 163.5 127.2 L 227.1 127.2\" id=\"28,14\"></path><path d=\"M 86.1 160.7 L 86.1 149.5 L 172.6 149.5\" id=\"30,13\"></path><path d=\"M 86.1 160.7 L 86.1 171.9 L 185.0 171.9\" id=\"30,12\"></path><path d=\"M 91.2 205.4 L 91.2 194.2 L 170.4 194.2\" id=\"27,11\"></path><path d=\"M 91.2 205.4 L 91.2 216.5 L 205.9 216.5\" id=\"27,10\"></path><path d=\"M 87.7 250.0 L 87.7 238.8 L 168.2 238.8\" id=\"25,9\"></path><path d=\"M 87.7 250.0 L 87.7 261.2 L 170.9 261.2\" id=\"25,8\"></path><path d=\"M 91.2 294.6 L 91.2 283.5 L 139.7 283.5\" id=\"23,7\"></path><path d=\"M 91.2 294.6 L 91.2 305.8 L 122.1 305.8\" id=\"23,6\"></path><path d=\"M 93.0 339.3 L 93.0 328.1 L 250.5 328.1\" id=\"21,5\"></path><path d=\"M 93.0 339.3 L 93.0 350.5 L 172.1 350.5\" id=\"21,4\"></path><path d=\"M 91.5 392.3 L 91.5 372.8 L 142.1 372.8\" id=\"20,3\"></path><path d=\"M 95.8 411.8 L 95.8 395.1 L 192.0 395.1\" id=\"19,2\"></path><path d=\"M 97.9 428.6 L 97.9 417.4 L 175.1 417.4\" id=\"18,1\"></path><path d=\"M 97.9 428.6 L 97.9 439.8 L 196.9 439.8\" id=\"18,0\"></path></g><g class=\"toytree-AlignEdges\" style=\"stroke:rgb(66.3%,66.3%,66.3%);stroke-dasharray:2, 4;stroke-linecap:round;stroke-opacity:1.0;stroke-width:2\"><path d=\"M 250.5 439.8 L 196.9 439.8\"></path><path d=\"M 250.5 417.4 L 175.1 417.4\"></path><path d=\"M 250.5 395.1 L 192.0 395.1\"></path><path d=\"M 250.5 372.8 L 142.1 372.8\"></path><path d=\"M 250.5 350.5 L 172.1 350.5\"></path><path d=\"M 250.5 328.1 L 250.5 328.1\"></path><path d=\"M 250.5 305.8 L 122.1 305.8\"></path><path d=\"M 250.5 283.5 L 139.7 283.5\"></path><path d=\"M 250.5 261.2 L 170.9 261.2\"></path><path d=\"M 250.5 238.8 L 168.2 238.8\"></path><path d=\"M 250.5 216.5 L 205.9 216.5\"></path><path d=\"M 250.5 194.2 L 170.4 194.2\"></path><path d=\"M 250.5 171.9 L 185.0 171.9\"></path><path d=\"M 250.5 149.5 L 172.6 149.5\"></path><path d=\"M 250.5 127.2 L 227.1 127.2\"></path><path d=\"M 250.5 104.9 L 205.9 104.9\"></path><path d=\"M 250.5 82.6 L 192.6 82.6\"></path><path d=\"M 250.5 60.2 L 144.8 60.2\"></path></g><g class=\"toytree-TipLabels\" style=\"fill:rgb(14.9%,14.9%,14.9%);fill-opacity:1.0;font-family:helvetica;font-size:8px;font-weight:normal;stroke:none;white-space:pre\"><g transform=\"translate(250.51,439.75)rotate(0)\"><text x=\"15.00\" y=\"2.04\" style=\"fill:rgb(90.6%,54.1%,76.5%);fill-opacity:1.0\">Coraciiformes,Woodland Kingfisher</text></g><g transform=\"translate(250.51,417.43)rotate(0)\"><text x=\"15.00\" y=\"2.04\" style=\"fill:rgb(90.6%,54.1%,76.5%);fill-opacity:1.0\">Bucerotiformes,Northern Ground Hornbill</text></g><g transform=\"translate(250.51,395.11)rotate(0)\"><text x=\"15.00\" y=\"2.04\" style=\"fill:rgb(90.6%,54.1%,76.5%);fill-opacity:1.0\">Trogoniformes,Black-tailed Trogon</text></g><g transform=\"translate(250.51,372.78)rotate(0)\"><text x=\"15.00\" y=\"2.04\" style=\"fill:rgb(100%,85.1%,18.4%);fill-opacity:1.0\">Accipitriformes,Bald Eagle</text></g><g transform=\"translate(250.51,350.46)rotate(0)\"><text x=\"15.00\" y=\"2.04\" style=\"fill:rgb(65.1%,84.7%,32.9%);fill-opacity:1.0\">Falconiformes,Saker Falcon</text></g><g transform=\"translate(250.51,328.13)rotate(0)\"><text x=\"15.00\" y=\"2.04\" style=\"fill:rgb(65.1%,84.7%,32.9%);fill-opacity:1.0\">Passeriformes,Collared Flycatcher</text></g><g transform=\"translate(250.51,305.81)rotate(0)\"><text x=\"15.00\" y=\"2.04\" style=\"fill:rgb(55.3%,62.7%,79.6%);fill-opacity:1.0\">Sphenisciformes,Emperor Penguin</text></g><g transform=\"translate(250.51,283.49)rotate(0)\"><text x=\"15.00\" y=\"2.04\" style=\"fill:rgb(55.3%,62.7%,79.6%);fill-opacity:1.0\">Pelecaniformes,Imperial Crested Ibis</text></g><g transform=\"translate(250.51,261.16)rotate(0)\"><text x=\"15.00\" y=\"2.04\" style=\"fill:rgb(100%,85.1%,18.4%);fill-opacity:1.0\">Gruiformes,Grey-winged Trumpeter</text></g><g transform=\"translate(250.51,238.84)rotate(0)\"><text x=\"15.00\" y=\"2.04\" style=\"fill:rgb(98.8%,55.3%,38.4%);fill-opacity:1.0\">Charadriiformes,Ruff</text></g><g transform=\"translate(250.51,216.51)rotate(0)\"><text x=\"15.00\" y=\"2.04\" style=\"fill:rgb(55.3%,62.7%,79.6%);fill-opacity:1.0\">Cuculiformes,Common Cuckoo</text></g><g transform=\"translate(250.51,194.19)rotate(0)\"><text x=\"15.00\" y=\"2.04\" style=\"fill:rgb(55.3%,62.7%,79.6%);fill-opacity:1.0\">Otidiformes,Red-crested Bustard</text></g><g transform=\"translate(250.51,171.87)rotate(0)\"><text x=\"15.00\" y=\"2.04\" style=\"fill:rgb(98.8%,55.3%,38.4%);fill-opacity:1.0\">Columbiformes,Domestic Pigeon (Rock Dove)</text></g><g transform=\"translate(250.51,149.54)rotate(0)\"><text x=\"15.00\" y=\"2.04\" style=\"fill:rgb(98.8%,55.3%,38.4%);fill-opacity:1.0\">Pterocliformes,Burchell's Sandgrouse</text></g><g transform=\"translate(250.51,127.22)rotate(0)\"><text x=\"15.00\" y=\"2.04\" style=\"fill:rgb(89.8%,76.9%,58%);fill-opacity:1.0\">Galliformes,Chicken (Red Junglefowl)</text></g><g transform=\"translate(250.51,104.89)rotate(0)\"><text x=\"15.00\" y=\"2.04\" style=\"fill:rgb(89.8%,76.9%,58%);fill-opacity:1.0\">Galliformes,Helmeted Guineafowl</text></g><g transform=\"translate(250.51,82.57)rotate(0)\"><text x=\"15.00\" y=\"2.04\" style=\"fill:rgb(89.8%,76.9%,58%);fill-opacity:1.0\">Galliformes,White-crested Guan</text></g><g transform=\"translate(250.51,60.25)rotate(0)\"><text x=\"15.00\" y=\"2.04\" style=\"fill:rgb(89.8%,76.9%,58%);fill-opacity:1.0\">Anseriformes,Magpie Goose</text></g></g></g></g></g></svg><div class=\"toyplot-behavior\"><script>(function()\n",
       "{\n",
       "var modules={};\n",
       "})();</script></div></div>"
      ]
     },
     "metadata": {},
     "output_type": "display_data"
    }
   ],
   "source": [
    "b10k.prune(thinned_dataset.Species.values, preserve_branch_length=True)\n",
    "\n",
    "sp2group = thinned_dataset[[\"Species\",\"Group\"]].set_index(\"Species\").to_dict()[\"Group\"]\n",
    "sp2order = thinned_dataset[[\"Species\",\"Order\"]].set_index(\"Species\").to_dict()[\"Order\"]\n",
    "sp2common = thinned_dataset[[\"Species\",\"Common name\"]].set_index(\"Species\").to_dict()[\"Common name\"]\n",
    "\n",
    "nwk = toytree.tree(b10k.write(), tree_format=1)\n",
    "colors_tips = [toyplot.color.brewer.palette(\"Set2\")[int(sp2group[sp][-1])] for sp in nwk.get_tip_labels()]\n",
    "tips = [\"{},{}\".format(sp2order[sp],sp2common[sp]) for sp in nwk.get_tip_labels()]\n",
    "\n",
    "canvas, axes, mark = nwk.draw(\n",
    "    tip_labels_align =True,\n",
    "    tip_labels = tips,\n",
    "    tip_labels_colors = colors_tips,\n",
    "    height = 500,\n",
    "    tip_labels_style={\n",
    "        \"font-size\": \"8px\",\n",
    "    }\n",
    ");\n",
    "#toyplot.pdf.render(canvas, \"../scripts/pdfs/neoaves_groupings.pdf\")"
   ]
  },
  {
   "cell_type": "code",
   "execution_count": 175,
   "metadata": {},
   "outputs": [],
   "source": [
    "# Write all species to file\n",
    "with open(\"./../data/Aves.txt\", \"w\") as spf:\n",
    "    spf.write(\",\".join(thinned_dataset.Species.values) + \"\\n\")"
   ]
  },
  {
   "cell_type": "code",
   "execution_count": 176,
   "metadata": {},
   "outputs": [
    {
     "name": "stdout",
     "output_type": "stream",
     "text": [
      "g1 ['Calidris_pugnax', 'Columba_livia', 'Pterocles_burchelli', 'Gallus_gallus']\n",
      "g2 ['Aptenodytes_forsteri', 'Cuculus_canorus', 'Lophotis_ruficrista', 'Nipponia_nippon', 'Gallus_gallus']\n",
      "g3 ['Bucorvus_abyssinicus', 'Halcyon_senegalensis', 'Trogon_melanurus', 'Gallus_gallus']\n",
      "g4 ['Falco_cherrug', 'Ficedula_albicollis', 'Gallus_gallus']\n",
      "g5 ['Haliaeetus_leucocephalus', 'Psophia_crepitans', 'Gallus_gallus']\n",
      "g6 ['Anseranas_semipalmata', 'Gallus_gallus', 'Numida_meleagris', 'Penelope_pileata']\n"
     ]
    }
   ],
   "source": [
    "# Write group-specific files\n",
    "for group,df in thinned_dataset.groupby(\"Group\"):\n",
    "    \n",
    "    species = list(df.Species)\n",
    "    \n",
    "    # Neoaves\n",
    "    if \"Gallus_gallus\" not in species:\n",
    "        species.append(\"Gallus_gallus\")\n",
    "\n",
    "    # Outside branch\n",
    "    else:\n",
    "        pass\n",
    "        #species.append(\"Ficedula_albicollis\")\n",
    "    \n",
    "    # Species list\n",
    "    fix_group = group.replace(\"Group\",\"g\")\n",
    "    with open(\"./../data/Aves_{}.txt\".format(fix_group), \"w\") as spf:\n",
    "        spf.write(\",\".join(species) + \"\\n\")\n",
    "    \n",
    "    print(fix_group, species)\n",
    "    # Tree\n",
    "    b10k = Tree(\"./../trees/363-avian-2020-phast.nh\", format=1)\n",
    "    b10k.prune(species, preserve_branch_length=True)\n",
    "    b10k.write(outfile=\"./../trees/Aves_{}.nwk\".format(fix_group), format=5)"
   ]
  },
  {
   "cell_type": "code",
   "execution_count": 30,
   "metadata": {},
   "outputs": [],
   "source": [
    "thinned_dataset[[\"Species\",\"Common name\"]].to_csv(\"../data/latin2common_aves.txt\",sep=\"\\t\", index=False)"
   ]
  },
  {
   "cell_type": "code",
   "execution_count": 15,
   "metadata": {},
   "outputs": [],
   "source": [
    "b10k = Tree(\"./../trees/363-avian-2020-phast.nh\", format=1)\n",
    "b10k.prune(list(thinned_dataset.Species), preserve_branch_length=True)\n",
    "nwk = toytree.tree(b10k.write(), tree_format=1)\n",
    "colors_tips = [\"black\" if sp in list(thinned_dataset.Species) else \"#F4F4F4\" for sp in nwk.get_tip_labels()]\n",
    "style = {\"edge_style\":{\"stroke-width\": 1}, \"tip_labels_style\":{\"font-size\": \"10px\", \"-toyplot-anchor-shift\": \"3px\"}}\n",
    "canvas, axes, mark = nwk.draw(\n",
    "    tip_labels_align=False,\n",
    "    tip_labels_colors=colors_tips,\n",
    "    tip_labels=[sp2common[sp] for sp in nwk.get_tip_labels()],\n",
    "    height=500,\n",
    "    **style\n",
    ");\n",
    "#toyplot.pdf.render(canvas, \"pdfs/birds.pdf\")"
   ]
  },
  {
   "cell_type": "markdown",
   "metadata": {},
   "source": [
    "GRAVEYARD"
   ]
  },
  {
   "cell_type": "code",
   "execution_count": null,
   "metadata": {},
   "outputs": [],
   "source": [
    "keep_species = []\n",
    "\n",
    "safe_families = [\"Anseranatidae\", \"Anatidae\", \"Haematopodidae\",\"Chionidae\",\"Rostratulidae\",\"Scolopacidae\",\"Cracidae\",\"Phasianidae\",\"Numididae\",\"Paridae\",\"Estrildidae\",\"Muscicapidae\",\"Ardeidae\"]\n",
    "\n",
    "for order,df in subd.groupby(\"Order\"):\n",
    "    if len(df)>1:\n",
    "        if len(df.Family.unique())>1:\n",
    "            for family, fam_df in df.groupby(\"Family\"):\n",
    "                if family in safe_families:\n",
    "                    if family!=\"Phasianidae\":\n",
    "                        keep_species.append(fam_df[\"ScaffoldN50\"].idxmax())\n",
    "                    else:\n",
    "                        keep_species.append(\"Gallus_gallus\")\n",
    "        else:\n",
    "            keep_species.append(df[\"ScaffoldN50\"].idxmax())\n",
    "    else:\n",
    "        keep_species.append(df[\"ScaffoldN50\"].idxmax())\n",
    "keep_species = [\"_\".join(sp.split()) for sp in keep_species]\n",
    "thinned_dataset = merged_meta[merged_meta.Species.isin(keep_species)]#.reset_index(drop=True)\n",
    "thinned_dataset[\"Group\"] = [order2group[order] for order in thinned_dataset.Order]\n",
    "thinned_dataset = thinned_dataset.drop_duplicates(\"Species\")"
   ]
  }
 ],
 "metadata": {
  "kernelspec": {
   "display_name": "Python 3",
   "language": "python",
   "name": "python3"
  },
  "language_info": {
   "codemirror_mode": {
    "name": "ipython",
    "version": 3
   },
   "file_extension": ".py",
   "mimetype": "text/x-python",
   "name": "python",
   "nbconvert_exporter": "python",
   "pygments_lexer": "ipython3",
   "version": "3.8.5"
  }
 },
 "nbformat": 4,
 "nbformat_minor": 4
}
