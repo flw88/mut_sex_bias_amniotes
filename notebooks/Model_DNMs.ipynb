{
 "cells": [
  {
   "cell_type": "code",
   "execution_count": 243,
   "metadata": {},
   "outputs": [],
   "source": [
    "import matplotlib as mplt\n",
    "from scipy import stats\n",
    "import pandas as pd\n",
    "import matplotlib.pyplot as plt\n",
    "import matplotlib.colors as colors_mplt\n",
    "import numpy as np\n",
    "import warnings\n",
    "from adjustText import adjust_text\n",
    "import statsmodels.stats.proportion as ssp\n",
    "pd.options.mode.chained_assignment = None"
   ]
  },
  {
   "cell_type": "code",
   "execution_count": 239,
   "metadata": {},
   "outputs": [],
   "source": [
    "def truncate_colormap(cmap, minval=0.0, maxval=1.0, n=100):\n",
    "    '''Truncates cmap for given range'''\n",
    "    new_cmap = colors_mplt.LinearSegmentedColormap.from_list(\n",
    "        'trunc({n},{a:.2f},{b:.2f})'.format(n=cmap.name, a=minval, b=maxval),\n",
    "        cmap(np.linspace(minval, maxval, n)))\n",
    "    return new_cmap\n",
    "\n",
    "def get_parental_age_effects(mu_g, G_f, G_m, n_e, alpha_p):\n",
    "    '''Returns parental age effects given:\n",
    "    (I)   Per generation rate (mu_g)\n",
    "    (II)  Sex-specific generation times (G_*)\n",
    "    (III) Ratio of paternal age effects in (alpha_p)\n",
    "    (IV)  Early embryonic mutations (n_e)'''\n",
    "    \n",
    "    n = 2*mu_g - 2*n_e\n",
    "    d = G_f + alpha_p*G_m\n",
    "    mu_f = n/d\n",
    "    mu_m = alpha_p*mu_f\n",
    "    return mu_f, mu_m\n",
    "\n",
    "def predict_alpha(mu_f, mu_m, G_f, G_m, n_e):\n",
    "    '''Predicts alpha given:\n",
    "    (I)   Parental age effects (mu_f, mu_m)\n",
    "    (II)  Sex-specific generation times (G_*)\n",
    "    (III) Early embryonic mutations (n_e)'''\n",
    "    \n",
    "    maternal = G_f*mu_f + n_e\n",
    "    paternal = G_m*mu_m + n_e\n",
    "    return paternal/maternal\n",
    "\n",
    "def identity_line(ax=None, ls='--', *args, **kwargs):\n",
    "    ax = ax or plt.gca()\n",
    "    identity, = ax.plot([], [], ls=ls, *args, **kwargs)\n",
    "    def callback(axes):\n",
    "        low_x, high_x = ax.get_xlim()\n",
    "        low_y, high_y = ax.get_ylim()\n",
    "        low = min(low_x, low_y)\n",
    "        high = max(high_x, high_y)\n",
    "        identity.set_data([low, high], [low, high])\n",
    "    callback(ax)\n",
    "    ax.callbacks.connect('xlim_changed', callback)\n",
    "    ax.callbacks.connect('ylim_changed', callback)\n",
    "    return ax\n",
    "\n",
    "def nearest_node2leaf(phylo):\n",
    "    node2leaf = {}\n",
    "    for node in phylo.traverse(strategy=\"levelorder\"):\n",
    "        if not node.is_leaf():\n",
    "            for child in node.get_children():\n",
    "                if child.is_leaf():\n",
    "                    node2leaf[child.name] = node.name\n",
    "    return node2leaf\n",
    "\n",
    "def branch_specific_length(sp, node2leaf, phylo):\n",
    "    dist = phylo.get_distance(sp, node2leaf[sp])\n",
    "    return dist\n",
    "\n",
    "def add_binomial_CIs(df):\n",
    "    '''Adds binomial CIs to counts of Paternal vs. Maternal DNMs'''\n",
    "\n",
    "    ci_df = pd.DataFrame()\n",
    "    \n",
    "    for i,r in df.iterrows():\n",
    "        paternal, maternal = r.Paternal, r.Maternal\n",
    "        ci = ssp.proportion_confint(paternal, paternal+maternal)\n",
    "        estimates = [ci[0]/(1-ci[0]),paternal/maternal,ci[1]/(1-ci[1])]\n",
    "        ci_df = pd.concat([ci_df, pd.DataFrame(estimates).transpose()])\n",
    "\n",
    "    ci_df.columns = [\"low\",\"point\",\"high\"]\n",
    "    ci_df = ci_df.reset_index(drop=True)\n",
    "    return pd.concat([df, ci_df],axis=1)"
   ]
  },
  {
   "cell_type": "code",
   "execution_count": 439,
   "metadata": {},
   "outputs": [
    {
     "data": {
      "text/plain": [
       "(0.23526644283795511, 0.3801181725466603)"
      ]
     },
     "execution_count": 439,
     "metadata": {},
     "output_type": "execute_result"
    }
   ],
   "source": [
    "ssp.proportion_confint(48, 156)"
   ]
  },
  {
   "cell_type": "markdown",
   "metadata": {},
   "source": [
    "Read subsitution rates and split times in TimeTree"
   ]
  },
  {
   "cell_type": "code",
   "execution_count": 83,
   "metadata": {},
   "outputs": [],
   "source": [
    "rate_phylo = Tree(\"./../trees/Mammals_phast.nh\", format=1)\n",
    "time_phylo = Tree(\"./../trees/mammals241.TimeTree.nwk\", format=1)"
   ]
  },
  {
   "cell_type": "markdown",
   "metadata": {},
   "source": [
    "Read DNM data"
   ]
  },
  {
   "cell_type": "code",
   "execution_count": 84,
   "metadata": {},
   "outputs": [],
   "source": [
    "dnms = pd.read_csv(\"../data/dnm_est_mutrate.tsv\",sep=\"\\t\")"
   ]
  },
  {
   "cell_type": "code",
   "execution_count": 402,
   "metadata": {},
   "outputs": [],
   "source": [
    "n_e = 3/3e9\n",
    "\n",
    "data = pd.DataFrame()\n",
    "for cn,df in dnms.groupby(\"Common Name\"):\n",
    "    \n",
    "    # Collapse DNMs from same species\n",
    "    p = df[\"Pat DNMs\"].sum()\n",
    "    m = df[\"Mat DNMs\"].sum()\n",
    "    p_age = np.average(df[\"Mean Paternal Age at Conception (y)\"].values, weights=df[\"Num Trios\"])\n",
    "    m_age = np.average(df[\"Mean Maternal Age at Conception (y)\"].values, weights=df[\"Num Trios\"])\n",
    "    alpha = p/m\n",
    "    sp = \"_\".join(df[\"Species\"].values[0].split()[:2])\n",
    "    gen_rate = df[\"Mutation rate per generation\"].mean()\n",
    "    trios = df[\"Num Trios\"].sum()\n",
    "    \n",
    "    if sp==\"Ficedula_albicollis\":\n",
    "        continue\n",
    "\n",
    "    # Predict alpha\n",
    "    mu_f, mu_m = get_parental_age_effects(gen_rate, m_age, p_age, n_e, 4)\n",
    "    pred_alpha = predict_alpha(mu_f, mu_m, m_age, p_age, n_e)\n",
    "    \n",
    "    # Build dataframe\n",
    "    c_df = pd.DataFrame([sp, cn, age , p, m, alpha, mu_f, mu_m, pred_alpha, p+m, trios]).transpose()\n",
    "    c_df.columns = [\"Species\", \"Common_name\", \"Age\", \"Paternal\", \"Maternal\", \"dnm_alpha\", \"maternal_slope\", \"paternal_slope\", \"pred_alpha\", \"total_muts\", \"trios\"]\n",
    "    data = pd.concat([data,c_df])"
   ]
  },
  {
   "cell_type": "markdown",
   "metadata": {},
   "source": [
    "Add binomial CIs"
   ]
  },
  {
   "cell_type": "code",
   "execution_count": 403,
   "metadata": {},
   "outputs": [],
   "source": [
    "data = data.reset_index(drop=True)\n",
    "data = add_binomial_CIs(data)"
   ]
  },
  {
   "cell_type": "code",
   "execution_count": 437,
   "metadata": {},
   "outputs": [
    {
     "data": {
      "image/png": "[encoded data removed]",
      "text/plain": [
       "<Figure size 324x324 with 1 Axes>"
      ]
     },
     "metadata": {
      "needs_background": "light"
     },
     "output_type": "display_data"
    }
   ],
   "source": [
    "f,ax = plt.subplots(figsize=[4.5,4.5])\n",
    "subd = data[~data.Species.isin([\"Microcebus_murinus\"])]\n",
    "max_size = 20\n",
    "subd[\"Number of trios\"] = [max_size if t>max_size else t for t in subd.trios]\n",
    "subd = data[(data.trios>=5)]\n",
    "\n",
    "sns.scatterplot(data=subd, x=\"pred_alpha\", y=\"dnm_alpha\",ax=ax, alpha=0.8,\n",
    "                size=\"Number of trios\",\n",
    "                sizes = (10,120),\n",
    "                legend=\"full\")#hue_norm=(0.1, max_size), \n",
    "identity_line(color=\"gray\")\n",
    "\n",
    "texts = [ax.text(r.pred_alpha, r.dnm_alpha,r[\"Common_name\"], size=9) for i,r in subd.iterrows()]\n",
    "adjust_text(texts,arrowprops=dict(arrowstyle='-', color='lightgray', linewidth=1),expand_text=[1.4,1.5]) #\n",
    "\n",
    "ax.vlines(ymin=subd.low, ymax=subd.high, x=subd.pred_alpha, linewidth=1.2, alpha=0.3, color=\"gray\",zorder=0)\n",
    "\n",
    "handles, labels = ax.get_legend_handles_labels()\n",
    "ileg = [i for i,(h,l) in enumerate(zip(handles, labels)) if l in [\"1\", \"6\", \"12\", \"20\"]]\n",
    "#ileg = [i for i,(h,l) in enumerate(zip(handles, labels)) if l in [\"8\", \"12\", \"20\"]]\n",
    "ax.legend([handles[i] for i in ileg], [labels[i] if labels[i]!=str(max_size) else \">{}\".format(labels[i]) for i in ileg], \n",
    "          loc=\"upper right\",title=\"Number of trios\")\n",
    "#ax.legend(loc=\"lower right\",title=\"Number of trios\")\n",
    "\n",
    "r1,pval = stats.pearsonr(subd.pred_alpha, subd.dnm_alpha)\n",
    "r2 = r1**2\n",
    "ax.text(s = r\"$p={:.3f}$\".format(pval) + \"\\n\" + r\"$r^2={:.2f}$\".format(r2),\n",
    "        x=0.02, y=0.98, va=\"top\",ha=\"left\", transform=ax.transAxes,color=\"black\")\n",
    "\n",
    "ax.set_xlabel(r\"Predicted $\\alpha$\")\n",
    "ax.set_ylabel(r\"Observed $\\alpha$ in DNMs\")\n",
    "sns.despine()\n",
    "\n",
    "ax.set_xlim([1.6,6.8])\n",
    "ax.set_ylim([1.6,6.8])\n",
    "plt.tight_layout()\n",
    "#f.savefig(\"pdfs/Model_vs_DNMs_size_noMouseLemur.pdf\")"
   ]
  },
  {
   "cell_type": "code",
   "execution_count": 12,
   "metadata": {},
   "outputs": [],
   "source": [
    "rate_node2leaf = nearest_node2leaf(rate_phylo)\n",
    "time_node2leaf = nearest_node2leaf(time_phylo)"
   ]
  },
  {
   "cell_type": "code",
   "execution_count": 13,
   "metadata": {},
   "outputs": [
    {
     "name": "stdout",
     "output_type": "stream",
     "text": [
      "8.970989662309115e-10 6.650905 0.00596652 Homo_sapiens\n",
      "3.017378453429751e-09 3.06548222 0.00924972 Mus_musculus\n",
      "4.1853762160179744e-09 20.8874174 0.0874217 Rattus_norvegicus\n",
      "1.0953732714745479e-10 7.80599657 0.000855048 Canis_lupus\n",
      "1.0187366010863221e-09 4.35333333 0.0044349 Felis_catus\n",
      "1.5817428571428572e-09 17.5 0.0276805 Mustela_putorius\n",
      "5.051642854034816e-10 7.41234111 0.00374445 Panthera_tigris\n",
      "2.860629463956677e-09 0.62642157 0.00179196 Bos_taurus\n",
      "4.4137065637065634e-10 2.59 0.00114315 Equus_caballus\n",
      "7.3442265625e-10 12.8 0.00940061 Colobus_angolensis\n"
     ]
    }
   ],
   "source": [
    "species = [\"Homo_sapiens\",\"Mus_musculus\", \"Rattus_norvegicus\",\"Canis_lupus\",\"Felis_catus\",'Mustela_putorius','Panthera_tigris','Bos_taurus','Equus_caballus','Colobus_angolensis']\n",
    "for sp in species:\n",
    "    time_dist = branch_specific_length(sp, time_node2leaf, time_phylo)\n",
    "    rate_dist = branch_specific_length(sp, rate_node2leaf, rate_phylo)\n",
    "    mut_per_year = (rate_dist/time_dist)/1e6\n",
    "    print(mut_per_year, time_dist, rate_dist, sp)"
   ]
  }
 ],
 "metadata": {
  "kernelspec": {
   "display_name": "Python 3",
   "language": "python",
   "name": "python3"
  },
  "language_info": {
   "codemirror_mode": {
    "name": "ipython",
    "version": 3
   },
   "file_extension": ".py",
   "mimetype": "text/x-python",
   "name": "python",
   "nbconvert_exporter": "python",
   "pygments_lexer": "ipython3",
   "version": "3.8.5"
  }
 },
 "nbformat": 4,
 "nbformat_minor": 4
}
