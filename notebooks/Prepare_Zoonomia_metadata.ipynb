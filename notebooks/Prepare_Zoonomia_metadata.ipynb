{
 "cells": [
  {
   "cell_type": "markdown",
   "metadata": {},
   "source": [
    "### Thin Zoonomia dataset"
   ]
  },
  {
   "cell_type": "markdown",
   "metadata": {},
   "source": [
    "Import modules"
   ]
  },
  {
   "cell_type": "code",
   "execution_count": 1,
   "metadata": {},
   "outputs": [],
   "source": [
    "from ete3 import Tree\n",
    "import math\n",
    "import pandas as pd\n",
    "import numpy as np\n",
    "import warnings"
   ]
  },
  {
   "cell_type": "markdown",
   "metadata": {},
   "source": [
    "Functions"
   ]
  },
  {
   "cell_type": "code",
   "execution_count": 2,
   "metadata": {},
   "outputs": [],
   "source": [
    "def distance_within_order(df, current_sp, nwkete):\n",
    "    '''Returns distance to other individuals in super order'''\n",
    "    distance_pi_het = pd.DataFrame([[r.Species, nwkete.get_distance(current_sp, r.Species), r.Heterozygosity, r.Pi] for i,r in df.iterrows() if r.Species!=current_sp])\n",
    "    distance_pi_het.columns = [\"Species\", \"distance\", \"Heterozygosity\", \"Pi\"]\n",
    "    distance_pi_het = distance_pi_het.sort_values(by=\"distance\")\n",
    "    distance_pi_het.index = range(len(distance_pi_het))\n",
    "    return distance_pi_het\n",
    "\n",
    "def choose_pi_over_het(df):\n",
    "    ''' Chooses the \"best\" pi/het value for species lacking them. \n",
    "    Pi (Buffalo) is taken over Heterzygosity (Zoonomia)'''\n",
    "    pi = np.nan\n",
    "    for i,r in df.iterrows():\n",
    "        if not math.isnan(r.Pi):\n",
    "            pi = r.Pi\n",
    "            return pi\n",
    "        if not math.isnan(r.Heterozygosity):\n",
    "            pi = r.Heterozygosity\n",
    "            return pi\n",
    "    return pi"
   ]
  },
  {
   "cell_type": "markdown",
   "metadata": {},
   "source": [
    "Read data"
   ]
  },
  {
   "cell_type": "code",
   "execution_count": 6,
   "metadata": {},
   "outputs": [
    {
     "name": "stdout",
     "output_type": "stream",
     "text": [
      "Propagated: 109\n",
      "One source: 127\n",
      "Mean of both: 5\n"
     ]
    }
   ],
   "source": [
    "# Read metadata \n",
    "meta = pd.read_csv(\"./../data/zoonomia_assembly_metadata.csv\")\n",
    "\n",
    "# Read DNM counts\n",
    "dnms = pd.read_csv(\"./../data/dnm_est.tsv\",sep=\"\\t\")[[\"Species\", \"Mat DNMs\", \"Pat DNMs\"]]\n",
    "dnms[\"Species\"] = [sp.split(\"(\")[0].rstrip().replace(\" \",\"_\") for sp in dnms.Species]\n",
    "dnms[\"Total_dnms\"] = dnms[\"Mat DNMs\"] + dnms[\"Pat DNMs\"]\n",
    "dnm_counts = {k:v for k,v in zip(dnms[\"Species\"], dnms[\"Total_dnms\"])}\n",
    "\n",
    "# Add DNM counts \n",
    "meta[\"dnm\"] = [dnm_counts[sp] if sp in dnm_counts else 0 for sp in meta.Species]\n",
    "meta[\"Anage_ntraits\"] = [0 if math.isnan(n_traits) else n_traits for n_traits in meta.AnAge_ntraits]\n",
    "males = list(meta[meta.Sex==\"male\"].Species.values)\n",
    "\n",
    "# Pi from Vince Buffalo's paper\n",
    "buffalo = pd.read_csv(\"./../data/buffalo_variation.tsv\",sep=\"\\t\")\n",
    "buffalo[\"FullSpecies\"] = [\"_\".join(sp.split()) for sp in buffalo[\"species\"]]\n",
    "buffalo[\"Pi\"] = [10**d for d in buffalo[\"log10_diversity\"]]\n",
    "\n",
    "# Add Buffalo's Pi\n",
    "meta = meta.set_index(\"Species\").join(buffalo[[\"FullSpecies\", \"Pi\"]].set_index(\"FullSpecies\")).reset_index()\n",
    "\n",
    "# Propagate pi if not available from any source\n",
    "nwkete = Tree(\"./../trees/241-mammalian-2020v2.phast-242.nh\", format=1)\n",
    "close_pi = []\n",
    "source_pi = []\n",
    "propagated, one_pihet, both_pihet = 0, 0, 0\n",
    "for i,r in meta.iterrows():\n",
    "    if math.isnan(r[\"Pi\"]) and math.isnan(r[\"Heterozygosity\"]):\n",
    "        subd = meta[meta.SuperOrder==r.SuperOrder]\n",
    "        current_sp = r.Species\n",
    "        distance_df = distance_within_order(subd, current_sp, nwkete)\n",
    "        best_pi = choose_pi_over_het(distance_df)\n",
    "        close_pi.append(best_pi)\n",
    "        propagated += 1\n",
    "        source_pi.append(\"Propagated\")\n",
    "    elif math.isnan(r[\"Pi\"]) or math.isnan(r[\"Heterozygosity\"]):\n",
    "        close_pi.append(np.nanmean([r.Pi, r.Heterozygosity]))\n",
    "        one_pihet += 1\n",
    "        source_pi.append(\"Zoonomia_heterozygosity\" if math.isnan(r[\"Pi\"]) else \"Buffalo_pi\")\n",
    "    else:\n",
    "        source_pi.append(\"Zoonomia_heterozygosity|Buffalo_pi\")\n",
    "        close_pi.append(np.nanmean([r.Pi, r.Heterozygosity]))\n",
    "        both_pihet += 1\n",
    "        \n",
    "print(\"Propagated: {}\".format(propagated))\n",
    "print(\"One source: {}\".format(one_pihet))\n",
    "print(\"Mean of both: {}\".format(both_pihet))\n",
    "\n",
    "meta[\"Pi_het\"] = close_pi\n",
    "meta[\"Pi_het_source\"] = source_pi"
   ]
  },
  {
   "cell_type": "markdown",
   "metadata": {},
   "source": [
    "Output table"
   ]
  },
  {
   "cell_type": "code",
   "execution_count": 9,
   "metadata": {},
   "outputs": [],
   "source": [
    "meta.to_csv(\"../data/Mammals_assembly_metadata.csv\")"
   ]
  }
 ],
 "metadata": {
  "kernelspec": {
   "display_name": "Python 3",
   "language": "python",
   "name": "python3"
  },
  "language_info": {
   "codemirror_mode": {
    "name": "ipython",
    "version": 3
   },
   "file_extension": ".py",
   "mimetype": "text/x-python",
   "name": "python",
   "nbconvert_exporter": "python",
   "pygments_lexer": "ipython3",
   "version": "3.8.5"
  }
 },
 "nbformat": 4,
 "nbformat_minor": 4
}
