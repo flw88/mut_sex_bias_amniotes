{
 "cells": [
  {
   "cell_type": "markdown",
   "metadata": {},
   "source": [
    "### Thin Zoonomia dataset"
   ]
  },
  {
   "cell_type": "markdown",
   "metadata": {},
   "source": [
    "Import modules"
   ]
  },
  {
   "cell_type": "code",
   "execution_count": 1,
   "metadata": {},
   "outputs": [],
   "source": [
    "from ete3 import Tree\n",
    "import toytree\n",
    "import toyplot\n",
    "import toyplot.pdf\n",
    "import itertools\n",
    "import math\n",
    "from scipy import stats\n",
    "import pandas as pd\n",
    "import matplotlib.pyplot as plt\n",
    "import numpy as np\n",
    "import warnings"
   ]
  },
  {
   "cell_type": "markdown",
   "metadata": {},
   "source": [
    "Functions"
   ]
  },
  {
   "cell_type": "code",
   "execution_count": 2,
   "metadata": {},
   "outputs": [],
   "source": [
    "def distance_within_order(df, current_sp, nwkete):\n",
    "    '''Returns distance to other individuals in super order'''\n",
    "    distance_pi_het = pd.DataFrame([[r.Species, nwkete.get_distance(current_sp, r.Species), r.Heterozygosity, r.Pi] for i,r in df.iterrows() if r.Species!=current_sp])\n",
    "    distance_pi_het.columns = [\"Species\", \"distance\", \"Heterozygosity\", \"Pi\"]\n",
    "    distance_pi_het = distance_pi_het.sort_values(by=\"distance\")\n",
    "    distance_pi_het.index = range(len(distance_pi_het))\n",
    "    return distance_pi_het\n",
    "\n",
    "def choose_pi_over_het(df):\n",
    "    ''' Chooses the \"best\" pi/het value for species lacking them. \n",
    "    Pi (Buffalo) is taken over Heterzygosity (Zoonomia)'''\n",
    "    pi = np.nan\n",
    "    for i,r in df.iterrows():\n",
    "        if not math.isnan(r.Pi):\n",
    "            pi = r.Pi\n",
    "            return pi\n",
    "        if not math.isnan(r.Heterozygosity):\n",
    "            pi = r.Heterozygosity\n",
    "            return pi\n",
    "    return pi\n",
    "\n",
    "def prune_species(d, tree):\n",
    "    '''Returns species ranking higher in decision tree'''\n",
    "    for param, criteria in tree.items():\n",
    "        if criteria!=\"Max\" and criteria!=\"Min\":\n",
    "            subd = d[d[param]!=criteria]\n",
    "            if len(subd)==1:\n",
    "                return subd.Species.values[0]\n",
    "        else:\n",
    "            if len(d[param].unique())==1:\n",
    "                continue\n",
    "            sorted_d = d.sort_values(by=param, ascending=False if criteria!=\"Max\" else True)\n",
    "            sorted_d.index = range(len(sorted_d))\n",
    "            return sorted_d.Species.values[0]"
   ]
  },
  {
   "cell_type": "markdown",
   "metadata": {},
   "source": [
    "Read data"
   ]
  },
  {
   "cell_type": "code",
   "execution_count": 14,
   "metadata": {},
   "outputs": [
    {
     "data": {
      "text/plain": [
       "283    Leffler et al.\n",
       "Name: diversity_data_source, dtype: object"
      ]
     },
     "execution_count": 14,
     "metadata": {},
     "output_type": "execute_result"
    }
   ],
   "source": [
    "buffalo[buffalo.FullSpecies.str.contains(\"Taeniopyg\")].diversity_data_source"
   ]
  },
  {
   "cell_type": "code",
   "execution_count": 3,
   "metadata": {},
   "outputs": [],
   "source": [
    "# Read metadata \n",
    "meta = pd.read_csv(\"./../data/zoonomia_assembly_metadata.csv\")\n",
    "\n",
    "# Read phylogenies\n",
    "nwkete = Tree(\"./../trees/241-mammalian-2020v2.phast-242.nh\", format=1)\n",
    "order_trees = pd.read_csv(\"../trees/orders_phylofit_nwk.txt\", sep=\"\\t\", header=None)\n",
    "order_trees.columns = [\"order\", \"tree\"]\n",
    "\n",
    "# Read DNM counts\n",
    "dnms = pd.read_csv(\"./../data/dnm_est.tsv\",sep=\"\\t\")[[\"Species\", \"Mat DNMs\", \"Pat DNMs\"]]\n",
    "dnms[\"Species\"] = [sp.split(\"(\")[0].rstrip().replace(\" \",\"_\") for sp in dnms.Species]\n",
    "dnms[\"Total_dnms\"] = dnms[\"Mat DNMs\"] + dnms[\"Pat DNMs\"]\n",
    "dnm_counts = {k:v for k,v in zip(dnms[\"Species\"], dnms[\"Total_dnms\"])}\n",
    "\n",
    "# Tree of sex\n",
    "treeofsex = pd.read_csv(\"./../data/tree_of_sex.csv\")\n",
    "column = 'Karyotype (ZO,ZW,XY,XO,WO,homomorphic,complex XY,complex ZW)'\n",
    "complex_XY = treeofsex[(treeofsex[\"Higher taxonomic group\"]==\"Mammalia\") & (treeofsex[column]!=\"XY\")]\n",
    "genus_complex_XY = [sp.split()[0] for sp in complex_XY[\"Species\"] if \"Mus\" not in sp]\n",
    "complex_XY_sp = list(meta[meta.Genus.isin(genus_complex_XY)].Species.values)\n",
    "species_complex_XY = list(meta[meta.Genus.isin(genus_complex_XY)][\"Species\"].values)\n",
    "\n",
    "# Pi from Vince Buffalo's paper\n",
    "buffalo = pd.read_csv(\"./../data/buffalo_variation.tsv\",sep=\"\\t\")\n",
    "buffalo[\"FullSpecies\"] = [\"_\".join(sp.split()) for sp in buffalo[\"species\"]]\n",
    "buffalo[\"Pi\"] = [10**d for d in buffalo[\"log10_diversity\"]]\n",
    "\n",
    "# Add DNM counts to metadata\n",
    "meta[\"dnm\"] = [dnm_counts[sp] if sp in dnm_counts else 0 for sp in meta.Species]\n",
    "meta[\"Anage_ntraits\"] = [0 if math.isnan(n_traits) else n_traits for n_traits in meta.AnAge_ntraits]\n",
    "males = list(meta[meta.Sex==\"male\"].Species.values)\n",
    "\n",
    "# Add Buffalo's Pi to metadata\n",
    "warnings.filterwarnings(action='ignore', message='Mean of empty slice')\n",
    "meta = meta.set_index(\"Species\").join(buffalo[[\"FullSpecies\", \"Pi\"]].set_index(\"FullSpecies\")).reset_index()\n",
    "pi_per_genus = buffalo.groupby(\"genus\").apply(lambda x: np.nanmean(x[\"Pi\"])).to_dict()\n",
    "fill_genus_pi = []\n",
    "for i,r in meta.iterrows():\n",
    "    if math.isnan(r.Pi):\n",
    "        if r.Genus in pi_per_genus:\n",
    "            fill_genus_pi.append(pi_per_genus[r.Genus])\n",
    "        else:\n",
    "            fill_genus_pi.append(np.nan)\n",
    "    else:\n",
    "        fill_genus_pi.append(r.Pi)\n",
    "\n",
    "# Propagate pi if not available from any source\n",
    "close_pi = []\n",
    "for i,r in meta.iterrows():\n",
    "    if math.isnan(r[\"Pi\"]) and math.isnan(r[\"Heterozygosity\"]):\n",
    "        subd = meta[meta.SuperOrder==r.SuperOrder]\n",
    "        current_sp = r.Species\n",
    "        distance_df = distance_within_order(subd, current_sp, nwkete)\n",
    "        best_pi = choose_pi_over_het(distance_df)\n",
    "        close_pi.append(best_pi)\n",
    "    else:\n",
    "        close_pi.append(np.nanmean([r.Pi, r.Heterozygosity]))\n",
    "meta[\"Pi_het\"] = close_pi"
   ]
  },
  {
   "cell_type": "markdown",
   "metadata": {},
   "source": [
    "Output table"
   ]
  },
  {
   "cell_type": "code",
   "execution_count": 13,
   "metadata": {},
   "outputs": [],
   "source": [
    "meta.to_csv(\"../data/Mammals_assembly_metadata.csv\")"
   ]
  },
  {
   "cell_type": "markdown",
   "metadata": {},
   "source": [
    "Decision tree to keep species if sequence divergence is below limit (15pi or 2% sequence divergence)"
   ]
  },
  {
   "cell_type": "code",
   "execution_count": 11,
   "metadata": {},
   "outputs": [],
   "source": [
    "decision_tree = {\"dnm\":\"Max\",\n",
    "                 \"AssemblyStatus\":\"Chromosome\",\n",
    "                 \"Sex\":\"female\",\n",
    "                 \"ScaffoldN50\":\"Max\",\n",
    "                 \"AnAge_ntraits\":\"Max\",\n",
    "                }"
   ]
  },
  {
   "cell_type": "markdown",
   "metadata": {},
   "source": [
    "Prune species"
   ]
  },
  {
   "cell_type": "code",
   "execution_count": 12,
   "metadata": {},
   "outputs": [],
   "source": [
    "pi_modifier = 15\n",
    "pi_data = {r[\"Species\"]:r[\"Pi_het\"] for i,r in meta.iterrows()}\n",
    "species_out = []\n",
    "\n",
    "# Iterate over all superorders\n",
    "for superorder,df in meta.groupby(\"SuperOrder\"):\n",
    "    \n",
    "    # Read best tree of order\n",
    "    #nwkete = Tree(order_trees[order_trees.order==superorder][\"tree\"].values[0])\n",
    "    nwkete = Tree(\"./../trees/241-mammalian-2020v2.phast-242.nh\", format=1)\n",
    "    \n",
    "    # Automatically exclude male-based assemblies\n",
    "    species_out = species_out + list(df[df.Sex==\"male\"].Species.values)\n",
    "    subd = df[df.Sex!=\"male\"]\n",
    "    \n",
    "    # Iterate over pairwise species comparisons\n",
    "    for c in itertools.combinations(subd.Species, r=2):\n",
    "        sp1, sp2 = c\n",
    "        seqdiv = nwkete.get_distance(sp1, sp2)\n",
    "        limit = np.max([pi_data[sp1], pi_data[sp2]])*pi_modifier\n",
    "        limit = 0.02 if limit<=0.02 else limit # LIMIT OF 2%!\n",
    "        \n",
    "        # If sequence divergence is not enough\n",
    "        if seqdiv <= limit:\n",
    "            pair_df = subd[subd.Species.isin(c)]\n",
    "            worst_species = prune_species(pair_df, decision_tree)\n",
    "            #print(sp1,sp2,np.max([pi_data[sp1], pi_data[sp2]]),limit,seqdiv, worst_species)\n",
    "            if worst_species not in species_out:\n",
    "                species_out.append(worst_species)\n",
    "\n",
    "meta = meta[~meta.Species.isin(species_out)].reset_index(drop=True)"
   ]
  },
  {
   "cell_type": "markdown",
   "metadata": {},
   "source": [
    "Plot with final selection of species"
   ]
  },
  {
   "cell_type": "code",
   "execution_count": 15,
   "metadata": {},
   "outputs": [
    {
     "data": {
      "text/html": [
       "<div class=\"toyplot\" id=\"tcb957023a29441398a068d8b5276f17a\" style=\"text-align:center\"><svg class=\"toyplot-canvas-Canvas\" xmlns:toyplot=\"http://www.sandia.gov/toyplot\" xmlns:xlink=\"http://www.w3.org/1999/xlink\" xmlns=\"http://www.w3.org/2000/svg\" width=\"390.0px\" height=\"500.0px\" viewBox=\"0 0 390.0 500.0\" preserveAspectRatio=\"xMidYMid meet\" style=\"background-color:transparent;border-color:#292724;border-style:none;border-width:1.0;fill:rgb(16.1%,15.3%,14.1%);fill-opacity:1.0;font-family:Helvetica;font-size:12px;opacity:1.0;stroke:rgb(16.1%,15.3%,14.1%);stroke-opacity:1.0;stroke-width:1.0\" id=\"t9ca9e609ab6a4da0924eaea3f5f87db7\"><g class=\"toyplot-coordinates-Cartesian\" id=\"t40f85c10ffd44147ad8d6552389a7c49\"><clipPath id=\"tdbc70a3be09040a19d4c9444e43594cd\"><rect x=\"30.0\" y=\"30.0\" width=\"330.0\" height=\"440.0\"></rect></clipPath><g clip-path=\"url(#tdbc70a3be09040a19d4c9444e43594cd)\"><g class=\"toytree-mark-Toytree\" id=\"tde826132c1e6448b975a449a9d4e1b27\"><g class=\"toytree-Edges\" style=\"fill:none;stroke:rgb(14.9%,14.9%,14.9%);stroke-linecap:round;stroke-opacity:1;stroke-width:1\"><path d=\"M 50.6 202.1 L 50.6 114.7 L 67.1 114.7\" id=\"38,37\"></path><path d=\"M 50.6 202.1 L 50.6 289.4 L 62.3 289.4\" id=\"38,36\"></path><path d=\"M 67.1 114.7 L 67.1 76.2 L 86.8 76.2\" id=\"37,35\"></path><path d=\"M 67.1 114.7 L 67.1 153.2 L 69.1 153.2\" id=\"37,34\"></path><path d=\"M 62.3 289.4 L 62.3 237.6 L 66.9 237.6\" id=\"36,33\"></path><path d=\"M 62.3 289.4 L 62.3 341.2 L 72.6 341.2\" id=\"36,32\"></path><path d=\"M 86.8 76.2 L 86.8 91.1 L 130.3 91.1\" id=\"35,31\"></path><path d=\"M 69.1 153.2 L 69.1 130.8 L 93.8 130.8\" id=\"34,30\"></path><path d=\"M 69.1 153.2 L 69.1 175.5 L 81.1 175.5\" id=\"34,29\"></path><path d=\"M 66.9 237.6 L 66.9 255.0 L 201.7 255.0\" id=\"33,28\"></path><path d=\"M 72.6 341.2 L 72.6 309.6 L 90.9 309.6\" id=\"32,27\"></path><path d=\"M 72.6 341.2 L 72.6 372.9 L 102.1 372.9\" id=\"32,26\"></path><path d=\"M 81.1 175.5 L 81.1 190.4 L 98.3 190.4\" id=\"29,25\"></path><path d=\"M 201.7 255.0 L 201.7 269.9 L 217.2 269.9\" id=\"28,24\"></path><path d=\"M 102.1 372.9 L 102.1 349.3 L 118.0 349.3\" id=\"26,23\"></path><path d=\"M 102.1 372.9 L 102.1 396.5 L 108.3 396.5\" id=\"26,22\"></path><path d=\"M 108.3 396.5 L 108.3 413.9 L 111.9 413.9\" id=\"22,21\"></path><path d=\"M 111.9 413.9 L 111.9 428.7 L 112.9 428.7\" id=\"21,20\"></path><path d=\"M 86.8 76.2 L 86.8 61.3 L 137.4 61.3\" id=\"35,19\"></path><path d=\"M 130.3 91.1 L 130.3 81.2 L 141.4 81.2\" id=\"31,18\"></path><path d=\"M 130.3 91.1 L 130.3 101.0 L 143.0 101.0\" id=\"31,17\"></path><path d=\"M 93.8 130.8 L 93.8 120.9 L 131.8 120.9\" id=\"30,16\"></path><path d=\"M 93.8 130.8 L 93.8 140.8 L 135.5 140.8\" id=\"30,15\"></path><path d=\"M 81.1 175.5 L 81.1 160.6 L 111.2 160.6\" id=\"29,14\"></path><path d=\"M 98.3 190.4 L 98.3 180.5 L 104.4 180.5\" id=\"25,13\"></path><path d=\"M 98.3 190.4 L 98.3 200.3 L 104.0 200.3\" id=\"25,12\"></path><path d=\"M 66.9 237.6 L 66.9 220.2 L 160.7 220.2\" id=\"33,11\"></path><path d=\"M 201.7 255.0 L 201.7 240.1 L 234.8 240.1\" id=\"28,10\"></path><path d=\"M 217.2 269.9 L 217.2 259.9 L 232.9 259.9\" id=\"24,9\"></path><path d=\"M 217.2 269.9 L 217.2 279.8 L 232.2 279.8\" id=\"24,8\"></path><path d=\"M 90.9 309.6 L 90.9 299.7 L 109.4 299.7\" id=\"27,7\"></path><path d=\"M 90.9 309.6 L 90.9 319.5 L 123.6 319.5\" id=\"27,6\"></path><path d=\"M 118.0 349.3 L 118.0 339.4 L 130.3 339.4\" id=\"23,5\"></path><path d=\"M 118.0 349.3 L 118.0 359.2 L 130.3 359.2\" id=\"23,4\"></path><path d=\"M 108.3 396.5 L 108.3 379.1 L 122.4 379.1\" id=\"22,3\"></path><path d=\"M 111.9 413.9 L 111.9 399.0 L 119.4 399.0\" id=\"21,2\"></path><path d=\"M 112.9 428.7 L 112.9 418.8 L 119.0 418.8\" id=\"20,1\"></path><path d=\"M 112.9 428.7 L 112.9 438.7 L 118.9 438.7\" id=\"20,0\"></path></g><g class=\"toytree-AlignEdges\" style=\"stroke:rgb(66.3%,66.3%,66.3%);stroke-dasharray:2, 4;stroke-linecap:round;stroke-opacity:1.0;stroke-width:2\"><path d=\"M 234.8 438.7 L 118.9 438.7\"></path><path d=\"M 234.8 418.8 L 119.0 418.8\"></path><path d=\"M 234.8 399.0 L 119.4 399.0\"></path><path d=\"M 234.8 379.1 L 122.4 379.1\"></path><path d=\"M 234.8 359.2 L 130.3 359.2\"></path><path d=\"M 234.8 339.4 L 130.3 339.4\"></path><path d=\"M 234.8 319.5 L 123.6 319.5\"></path><path d=\"M 234.8 299.7 L 109.4 299.7\"></path><path d=\"M 234.8 279.8 L 232.2 279.8\"></path><path d=\"M 234.8 259.9 L 232.9 259.9\"></path><path d=\"M 234.8 240.1 L 234.8 240.1\"></path><path d=\"M 234.8 220.2 L 160.7 220.2\"></path><path d=\"M 234.8 200.3 L 104.0 200.3\"></path><path d=\"M 234.8 180.5 L 104.4 180.5\"></path><path d=\"M 234.8 160.6 L 111.2 160.6\"></path><path d=\"M 234.8 140.8 L 135.5 140.8\"></path><path d=\"M 234.8 120.9 L 131.8 120.9\"></path><path d=\"M 234.8 101.0 L 143.0 101.0\"></path><path d=\"M 234.8 81.2 L 141.4 81.2\"></path><path d=\"M 234.8 61.3 L 137.4 61.3\"></path></g><g class=\"toytree-TipLabels\" style=\"fill:rgb(14.9%,14.9%,14.9%);fill-opacity:1.0;font-family:helvetica;font-size:10px;font-weight:normal;stroke:none;white-space:pre\"><g transform=\"translate(234.81,438.68)rotate(0)\"><text x=\"3.00\" y=\"2.55\" style=\"\">Homo_sapiens</text></g><g transform=\"translate(234.81,418.82)rotate(0)\"><text x=\"3.00\" y=\"2.55\" style=\"\">Pongo_abelii</text></g><g transform=\"translate(234.81,398.96)rotate(0)\"><text x=\"3.00\" y=\"2.55\" style=\"\">Nomascus_leucogenys</text></g><g transform=\"translate(234.81,379.10)rotate(0)\"><text x=\"3.00\" y=\"2.55\" style=\"\">Macaca_mulatta</text></g><g transform=\"translate(234.81,359.24)rotate(0)\"><text x=\"3.00\" y=\"2.55\" style=\"\">Saimiri_boliviensis</text></g><g transform=\"translate(234.81,339.37)rotate(0)\"><text x=\"3.00\" y=\"2.55\" style=\"\">Callithrix_jacchus</text></g><g transform=\"translate(234.81,319.51)rotate(0)\"><text x=\"3.00\" y=\"2.55\" style=\"\">Microcebus_murinus</text></g><g transform=\"translate(234.81,299.65)rotate(0)\"><text x=\"3.00\" y=\"2.55\" style=\"\">Daubentonia_madagascariensis</text></g><g transform=\"translate(234.81,279.79)rotate(0)\"><text x=\"3.00\" y=\"2.55\" style=\"\">Mus_musculus</text></g><g transform=\"translate(234.81,259.93)rotate(0)\"><text x=\"3.00\" y=\"2.55\" style=\"\">Mus_pahari</text></g><g transform=\"translate(234.81,240.07)rotate(0)\"><text x=\"3.00\" y=\"2.55\" style=\"\">Rattus_norvegicus</text></g><g transform=\"translate(234.81,220.21)rotate(0)\"><text x=\"3.00\" y=\"2.55\" style=\"\">Oryctolagus_cuniculus</text></g><g transform=\"translate(234.81,200.35)rotate(0)\"><text x=\"3.00\" y=\"2.55\" style=\"\">Ceratotherium_simum_cottoni</text></g><g transform=\"translate(234.81,180.49)rotate(0)\"><text x=\"3.00\" y=\"2.55\" style=\"\">Dicerorhinus_sumatrensis</text></g><g transform=\"translate(234.81,160.63)rotate(0)\"><text x=\"3.00\" y=\"2.55\" style=\"\">Equus_caballus</text></g><g transform=\"translate(234.81,140.76)rotate(0)\"><text x=\"3.00\" y=\"2.55\" style=\"\">Canis_lupus_familiaris</text></g><g transform=\"translate(234.81,120.90)rotate(0)\"><text x=\"3.00\" y=\"2.55\" style=\"\">Felis_catus</text></g><g transform=\"translate(234.81,101.04)rotate(0)\"><text x=\"3.00\" y=\"2.55\" style=\"\">Ovis_aries</text></g><g transform=\"translate(234.81,81.18)rotate(0)\"><text x=\"3.00\" y=\"2.55\" style=\"\">Bos_taurus</text></g><g transform=\"translate(234.81,61.32)rotate(0)\"><text x=\"3.00\" y=\"2.55\" style=\"\">Sus_scrofa</text></g></g></g></g></g></svg><div class=\"toyplot-behavior\"><script>(function()\n",
       "{\n",
       "var modules={};\n",
       "})();</script></div></div>"
      ]
     },
     "metadata": {},
     "output_type": "display_data"
    }
   ],
   "source": [
    "mammals = toytree.tree(\"./../trees/Mammals.nwk\", tree_format=1)\n",
    "\n",
    "style = {\"edge_style\":{\"stroke-width\": 1}, \"tip_labels_style\":{\"font-size\": \"10px\", \"-toyplot-anchor-shift\": \"3px\"}}\n",
    "canvas, axes, mark = mammals.draw(\n",
    "    tip_labels_align=True,\n",
    "    tip_labels = [sp for sp in mammals.get_tip_labels()],\n",
    "    height=500,\n",
    "    **style\n",
    ");\n",
    "#toyplot.pdf.render(canvas, \"pdfs/mammals.pdf\")"
   ]
  },
  {
   "cell_type": "markdown",
   "metadata": {},
   "source": [
    "Selection criteria plots"
   ]
  },
  {
   "cell_type": "code",
   "execution_count": 135,
   "metadata": {},
   "outputs": [],
   "source": [
    "nwk = toytree.tree(\"./../trees/241-mammalian-2020v2.phast-242.nh\", tree_format=1)\n",
    "\n",
    "outs = sum([males,species_complex_XY,sp_far_chrom,sp_failed_thersh,species_out], [])\n",
    "colors_tips = [\"#F4F4F4\" if sp in outs else \"black\" for sp in nwk.get_tip_labels()]\n",
    "style = {\"edge_style\":{\"stroke-width\": 1}, \"tip_labels_style\":{\"font-size\": \"4px\", \"-toyplot-anchor-shift\": \"3px\"}}\n",
    "canvas, axes, mark = nwk.draw(\n",
    "    tip_labels_align=False,\n",
    "    tip_labels_colors=colors_tips,\n",
    "    height=800,\n",
    "    **style\n",
    ");\n",
    "toyplot.pdf.render(canvas, \"pdfs/males_complexXY_farfromchrom_qual_ancpoly.pdf\")"
   ]
  },
  {
   "cell_type": "markdown",
   "metadata": {},
   "source": [
    "New column showing if included in thinned set or not"
   ]
  },
  {
   "cell_type": "markdown",
   "metadata": {},
   "source": [
    "For the controlled-thinned set, remove species that are far away from a chromosome-level assembly"
   ]
  },
  {
   "cell_type": "code",
   "execution_count": 22,
   "metadata": {},
   "outputs": [],
   "source": [
    "nwkete = Tree(\"./../trees/241-mammalian-2020v2.phast-242.nh\", format=1)\n",
    "keep_species = []\n",
    "subd = meta[(meta.Included==1) & (meta.ScaffoldN50>350e3) & (meta.ContigN50>25e3)]# | (meta.AssemblyStatus==\"Chromosome\"))]\n",
    "div_limit = 0.15\n",
    "\n",
    "for i,r in subd.iterrows():\n",
    "    if r.AssemblyStatus==\"Chromosome\":\n",
    "        keep_species.append(r.Species)\n",
    "    else:\n",
    "        distances = subd[(subd.Species!=r.Species) & (subd.AssemblyStatus==\"Chromosome\")].apply(lambda r2: nwkete.get_distance(r.Species, r2.Species), axis=1)\n",
    "        if min(distances)<=div_limit:\n",
    "            keep_species.append(r.Species)\n",
    "\n",
    "## Remove bubalis\n",
    "keep_species = [sp for sp in keep_species if \"Bubalus\" not in sp]\n",
    "\n",
    "#tree = Tree(\"./../trees/241-mammalian-2020v2.phast-242.nh\", format=1)\n",
    "#tree.prune(keep_species, preserve_branch_length=True)\n",
    "#with open(\"./../data/Mammals2.txt\",\"w\") as of:\n",
    "#    of.write(\",\".join(keep_species) + \"\\n\")\n",
    "#tree.write(outfile=\"./../trees/Mammals2.nwk\",format=5)"
   ]
  }
 ],
 "metadata": {
  "kernelspec": {
   "display_name": "Python 3",
   "language": "python",
   "name": "python3"
  },
  "language_info": {
   "codemirror_mode": {
    "name": "ipython",
    "version": 3
   },
   "file_extension": ".py",
   "mimetype": "text/x-python",
   "name": "python",
   "nbconvert_exporter": "python",
   "pygments_lexer": "ipython3",
   "version": "3.8.5"
  }
 },
 "nbformat": 4,
 "nbformat_minor": 4
}
