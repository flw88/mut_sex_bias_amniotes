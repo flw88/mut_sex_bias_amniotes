{
 "cells": [
  {
   "cell_type": "code",
   "execution_count": 1,
   "metadata": {},
   "outputs": [],
   "source": [
    "from ete3 import Tree"
   ]
  },
  {
   "cell_type": "markdown",
   "metadata": {},
   "source": [
    "Functions"
   ]
  },
  {
   "cell_type": "code",
   "execution_count": 2,
   "metadata": {},
   "outputs": [],
   "source": [
    "def distance_to_closest_node(tree, leaf):\n",
    "    '''Return the distance to between closest node and leaf'''\n",
    "    n_node_descendants = {}\n",
    "    for node in tree.traverse():\n",
    "        leaves = node.get_leaf_names()\n",
    "        if leaf in leaves and leaves[0]!=leaf:\n",
    "            n_node_descendants[node.name] = len(leaves)\n",
    "    closest_node = min(n_node_descendants, key=n_node_descendants.get)\n",
    "    return tree.get_distance(closest_node, leaf)\n",
    "\n",
    "def get_parental_age_effects(mu_g, G_f, G_m, n_e, alpha_p):\n",
    "    '''Returns parental age effects given:\n",
    "    (I)   Per generation rate (mu_g)\n",
    "    (II)  Sex-specific generation times (G_*)\n",
    "    (III) Ratio of paternal age effects in (alpha_p)\n",
    "    (IV)  Early embryonic mutations (n_e)'''\n",
    "    \n",
    "    n = 2*mu_g - 2*n_e\n",
    "    d = G_f + alpha_p*G_m\n",
    "    mu_f = n/d\n",
    "    mu_m = alpha_p*mu_f\n",
    "    return mu_f, mu_m"
   ]
  },
  {
   "cell_type": "markdown",
   "metadata": {},
   "source": [
    "Read trees"
   ]
  },
  {
   "cell_type": "code",
   "execution_count": 3,
   "metadata": {},
   "outputs": [],
   "source": [
    "sub_rates = Tree(\"../trees/241-mammalian-2020v2.phast-242.nh\", format=1)\n",
    "sub_rates.delete(\"Canis_lupus_familiaris\",preserve_branch_length=True)\n",
    "split_times = Tree(\"../trees/mammals241.TimeTree.nwk\", format=1)"
   ]
  },
  {
   "cell_type": "code",
   "execution_count": 4,
   "metadata": {},
   "outputs": [],
   "source": [
    "time_tree_sp = split_times.get_leaf_names()\n",
    "sub_tree_sp = sub_rates.get_leaf_names()\n",
    "common_sp = [sp for sp in time_tree_sp if sp in sub_tree_sp]\n",
    "sub_rates.prune(common_sp, preserve_branch_length=True)"
   ]
  },
  {
   "cell_type": "markdown",
   "metadata": {},
   "source": [
    "Read crypt rates"
   ]
  },
  {
   "cell_type": "code",
   "execution_count": 5,
   "metadata": {},
   "outputs": [],
   "source": [
    "pedigree_rates = pd.read_csv(\"../data/dnm_est_mutrate.tsv\",sep=\"\\t\")\n",
    "pedigree_rates = pedigree_rates[pedigree_rates[\"Common Name\"]!=\"Mouse lemur\"].reset_index(drop=True)\n",
    "crypt_muts = pd.read_csv(\"../data/crypt_rates.tsv\",sep=\",\")\n",
    "crypt_muts[\"genome_size\"] = 3\n",
    "crypt_muts[\"rate\"] = crypt_muts.muts_per_year/(crypt_muts.genome_size*1e9)\n",
    "crypt_rates = crypt_muts.set_index(\"species\")[\"rate\"].to_dict()"
   ]
  },
  {
   "cell_type": "markdown",
   "metadata": {},
   "source": [
    "Calculate sperm rate per unit of time from substitution rates"
   ]
  },
  {
   "cell_type": "code",
   "execution_count": 7,
   "metadata": {},
   "outputs": [],
   "source": [
    "n_e = 5/3e9\n",
    "gen_times = pd.read_csv(\"../data/generation_times.csv\").set_index(\"Species\")[\"G\"].to_dict()\n",
    "\n",
    "evol_sperm_rates = {}\n",
    "\n",
    "for sp,v in crypt_rates.items():\n",
    "    if sp not in common_sp or sp not in gen_times:\n",
    "        continue\n",
    "    yearly_subrate = distance_to_closest_node(sub_rates, sp)/distance_to_closest_node(split_times, sp)\n",
    "    G = gen_times[sp]\n",
    "    rate_per_generation = yearly_subrate*G\n",
    "    mu_f, mu_m = get_parental_age_effects(rate_per_generation, G, G, n_e, 4)\n",
    "    evol_sperm_rates[sp] = mu_m/1e6"
   ]
  },
  {
   "cell_type": "markdown",
   "metadata": {},
   "source": [
    "Calculate sperm rate per unit of time from pedigree"
   ]
  },
  {
   "cell_type": "code",
   "execution_count": 8,
   "metadata": {},
   "outputs": [],
   "source": [
    "pedigree_sperm_rates = {}\n",
    "\n",
    "pred_crypt_rates = {}\n",
    "lifespan = pd.read_csv(\"../data/lifespan.txt\").set_index(\"species\")[\"lifespan\"].to_dict()\n",
    "\n",
    "for cn,df in pedigree_rates.groupby(\"Common Name\"):\n",
    "    \n",
    "    # Collapse DNMs from same species\n",
    "    p = df[\"Pat DNMs\"].sum()\n",
    "    m = df[\"Mat DNMs\"].sum()\n",
    "    p_age = np.average(df[\"Mean Paternal Age at Conception (y)\"].values, weights=df[\"Num Trios\"])\n",
    "    m_age = np.average(df[\"Mean Maternal Age at Conception (y)\"].values, weights=df[\"Num Trios\"])\n",
    "    alpha = p/m\n",
    "    sp = \"_\".join(df[\"Species\"].values[0].split()[:2])\n",
    "    gen_rate = np.average(df[\"Mutation rate per generation\"].values, weights=df[\"Num Trios\"]) #df[\"Mutation rate per generation\"].mean()\n",
    "    trios = df[\"Num Trios\"].sum()\n",
    "\n",
    "    # Predict age effects\n",
    "    mu_f, mu_m = get_parental_age_effects(gen_rate, m_age, p_age, n_e, 4)\n",
    "    pedigree_sperm_rates[sp] = mu_m\n",
    "    \n",
    "    # Predict crypt rate\n",
    "    if sp in lifespan:\n",
    "        pred_crypt_rates[sp] = 3206.4/lifespan[sp]/3e9\n",
    "\n",
    "#mu_f,mu_m = get_parental_age_effects(4.5e-9, 2, 3, n_e, 4)\n",
    "#print(mu_m)\n",
    "#pedigree_sperm_rates[\"Canis_lupus\"] = mu_m"
   ]
  },
  {
   "cell_type": "code",
   "execution_count": 9,
   "metadata": {},
   "outputs": [],
   "source": [
    "results_l = []\n",
    "for sp,c_rate in crypt_rates.items():\n",
    "    if sp in evol_sperm_rates:\n",
    "        results_l.append([sp, c_rate/evol_sperm_rates[sp],\"evo\",\"crypt\"])\n",
    "    if sp in pedigree_sperm_rates:\n",
    "        results_l.append([sp, c_rate/pedigree_sperm_rates[sp],\"pedigree\",\"crypt\"])\n",
    "\n",
    "for sp,c_rate in pred_crypt_rates.items():\n",
    "    results_l.append([sp, c_rate/pedigree_sperm_rates[sp],\"pedigree\",\"lifespan\"])\n",
    "\n",
    "rates = pd.DataFrame(results_l)\n",
    "rates.columns = [\"species\",\"ratio\",\"sperm_rate\",\"crypt_rate\"]"
   ]
  },
  {
   "cell_type": "code",
   "execution_count": 13,
   "metadata": {},
   "outputs": [
    {
     "data": {
      "text/html": [
       "<div>\n",
       "<style scoped>\n",
       "    .dataframe tbody tr th:only-of-type {\n",
       "        vertical-align: middle;\n",
       "    }\n",
       "\n",
       "    .dataframe tbody tr th {\n",
       "        vertical-align: top;\n",
       "    }\n",
       "\n",
       "    .dataframe thead th {\n",
       "        text-align: right;\n",
       "    }\n",
       "</style>\n",
       "<table border=\"1\" class=\"dataframe\">\n",
       "  <thead>\n",
       "    <tr style=\"text-align: right;\">\n",
       "      <th></th>\n",
       "      <th>species</th>\n",
       "      <th>ratio</th>\n",
       "      <th>sperm_rate</th>\n",
       "      <th>crypt_rate</th>\n",
       "    </tr>\n",
       "  </thead>\n",
       "  <tbody>\n",
       "    <tr>\n",
       "      <th>1</th>\n",
       "      <td>Mus_musculus</td>\n",
       "      <td>32.340638</td>\n",
       "      <td>pedigree</td>\n",
       "      <td>crypt</td>\n",
       "    </tr>\n",
       "    <tr>\n",
       "      <th>5</th>\n",
       "      <td>Felis_catus</td>\n",
       "      <td>34.010503</td>\n",
       "      <td>pedigree</td>\n",
       "      <td>crypt</td>\n",
       "    </tr>\n",
       "    <tr>\n",
       "      <th>7</th>\n",
       "      <td>Bos_taurus</td>\n",
       "      <td>29.074432</td>\n",
       "      <td>pedigree</td>\n",
       "      <td>crypt</td>\n",
       "    </tr>\n",
       "    <tr>\n",
       "      <th>10</th>\n",
       "      <td>Homo_sapiens</td>\n",
       "      <td>27.878733</td>\n",
       "      <td>pedigree</td>\n",
       "      <td>crypt</td>\n",
       "    </tr>\n",
       "  </tbody>\n",
       "</table>\n",
       "</div>"
      ],
      "text/plain": [
       "         species      ratio sperm_rate crypt_rate\n",
       "1   Mus_musculus  32.340638   pedigree      crypt\n",
       "5    Felis_catus  34.010503   pedigree      crypt\n",
       "7     Bos_taurus  29.074432   pedigree      crypt\n",
       "10  Homo_sapiens  27.878733   pedigree      crypt"
      ]
     },
     "execution_count": 13,
     "metadata": {},
     "output_type": "execute_result"
    }
   ],
   "source": []
  },
  {
   "cell_type": "code",
   "execution_count": 20,
   "metadata": {},
   "outputs": [
    {
     "data": {
      "image/png": "[encoded data removed]",
      "text/plain": [
       "<Figure size 360x144 with 1 Axes>"
      ]
     },
     "metadata": {
      "needs_background": "light"
     },
     "output_type": "display_data"
    }
   ],
   "source": [
    "f,ax = plt.subplots(figsize=[5,2])\n",
    "sns.scatterplot(data=rates[(rates.sperm_rate==\"pedigree\") & (rates.crypt_rate==\"crypt\")], x=\"ratio\",y=\"species\",hue=\"sperm_rate\",style=\"crypt_rate\",ax=ax,legend=False)\n",
    "ax.set_xlim([0,40])\n",
    "ax.set_xlabel(\"Crypt-to-sperm yearly mutation rate ratio\")\n",
    "ax.set_ylabel(\"\")\n",
    "sns.despine()\n",
    "plt.tight_layout()\n",
    "plt.savefig(\"pdfs/Crypt-to-sperm_ratio.pdf\")"
   ]
  },
  {
   "cell_type": "code",
   "execution_count": 128,
   "metadata": {},
   "outputs": [
    {
     "data": {
      "image/png": "[encoded data removed]",
      "text/plain": [
       "<Figure size 252x432 with 2 Axes>"
      ]
     },
     "metadata": {
      "needs_background": "light"
     },
     "output_type": "display_data"
    }
   ],
   "source": [
    "def n_cd(k,G):\n",
    "    '''Number of cell divisions for a given k and G'''\n",
    "    return k*(1-1/G)\n",
    "\n",
    "Gs = np.linspace(2,50,1000)\n",
    "mu_cd = 1e-9\n",
    "k_example = 1e3\n",
    "\n",
    "f,ax = plt.subplots(2,1, figsize=[3.5,6], sharex=True)\n",
    "\n",
    "ax[0].plot(Gs, [n_cd(k_example, G) for G in Gs])\n",
    "ax[0].set_ylabel(\"Number of cell divisions\")\n",
    "\n",
    "ax[1].plot(Gs, [n_cd(k_example, G)*mu_cd/G for G in Gs])\n",
    "ax[1].set_xlabel(\"Generation time\")\n",
    "ax[1].set_ylabel(\"Mutation rate per unit of time\")\n",
    "\n",
    "plt.tight_layout()\n",
    "sns.despine()\n",
    "\n",
    "plt.savefig(\"pdfs/Toy_model_constant_mu_cd.pdf\")"
   ]
  },
  {
   "cell_type": "code",
   "execution_count": 177,
   "metadata": {},
   "outputs": [
    {
     "data": {
      "image/png": "[encoded data removed]",
      "text/plain": [
       "<Figure size 252x432 with 2 Axes>"
      ]
     },
     "metadata": {
      "needs_background": "light"
     },
     "output_type": "display_data"
    }
   ],
   "source": [
    "def n_cd(k,G):\n",
    "    '''Number of cell divisions for a given k and G'''\n",
    "    return k*(1-1/G)\n",
    "\n",
    "def mut_burden(k, G, mu_cd):\n",
    "    '''Total number of mutations'''\n",
    "    return n_cd(k, G)*mu_cd\n",
    "\n",
    "Gs = np.linspace(2,50,1000)\n",
    "mu_cd = 1e-11\n",
    "k_sperm, k_oocyte, k_crypt = 80, 20, 2000\n",
    "mu_ee = 1.5/3e10\n",
    "\n",
    "f,ax = plt.subplots(2, 1, figsize=[3.5,6], sharex=True)\n",
    "\n",
    "ax[0].plot(Gs, [(mu_ee+mut_burden(k_sperm, G, mu_cd))/(mu_ee+mut_burden(k_oocyte, G, mu_cd)) for G in Gs])\n",
    "ax[0].set_ylabel(r\"$\\alpha$\")\n",
    "\n",
    "ax[1].plot(Gs, [np.average([mu_ee+mut_burden(k_sperm, G, mu_cd),mu_ee+mut_burden(k_oocyte, G, mu_cd)])/G for G in Gs])\n",
    "ax[1].set_ylabel(\"Mutation rate per unit of time\")\n",
    "ax[1].set_xlabel(\"Generation time\")\n",
    "\n",
    "plt.tight_layout()\n",
    "sns.despine()\n",
    "\n",
    "#plt.savefig(\"pdfs/Toy_model_constant_mu_cd_alpha_gentimeeffect.pdf\")"
   ]
  },
  {
   "cell_type": "code",
   "execution_count": 148,
   "metadata": {},
   "outputs": [
    {
     "data": {
      "text/plain": [
       "Text(17.200000000000003, 0.5, '$\\\\alpha$')"
      ]
     },
     "execution_count": 148,
     "metadata": {},
     "output_type": "execute_result"
    }
   ],
   "source": []
  },
  {
   "cell_type": "code",
   "execution_count": null,
   "metadata": {},
   "outputs": [],
   "source": [
    "()"
   ]
  }
 ],
 "metadata": {
  "kernelspec": {
   "display_name": "Python 3",
   "language": "python",
   "name": "python3"
  },
  "language_info": {
   "codemirror_mode": {
    "name": "ipython",
    "version": 3
   },
   "file_extension": ".py",
   "mimetype": "text/x-python",
   "name": "python",
   "nbconvert_exporter": "python",
   "pygments_lexer": "ipython3",
   "version": "3.8.5"
  }
 },
 "nbformat": 4,
 "nbformat_minor": 4
}
