{
 "cells": [
  {
   "cell_type": "code",
   "execution_count": 1,
   "metadata": {},
   "outputs": [],
   "source": [
    "from scipy import stats\n",
    "import pandas as pd\n",
    "from adjustText import adjust_text\n",
    "import statsmodels.stats.proportion as ssp\n",
    "import statsmodels.api as sm\n",
    "import sys\n",
    "sys.path.append('../figures/scripts/')\n",
    "import funclib as flib"
   ]
  },
  {
   "cell_type": "markdown",
   "metadata": {},
   "source": [
    "### A model to predict alpha based on exposure to developmental stages"
   ]
  },
  {
   "cell_type": "markdown",
   "metadata": {},
   "source": [
    "Load data"
   ]
  },
  {
   "cell_type": "code",
   "execution_count": 2,
   "metadata": {},
   "outputs": [],
   "source": [
    "directory = \"../\"\n",
    "\n",
    "complete_data = pd.read_csv(\"{}/data/Table_S3.csv\".format(directory))\n",
    "\n",
    "species2common = flib.df2dict(complete_data, \"Species\", \"Common_name\")"
   ]
  },
  {
   "cell_type": "markdown",
   "metadata": {},
   "source": [
    "The model using parameters from evolutionary data"
   ]
  },
  {
   "cell_type": "code",
   "execution_count": 15,
   "metadata": {},
   "outputs": [],
   "source": [
    "E = 7/3e9\n",
    "\n",
    "predicted_alphas_l = []\n",
    "\n",
    "for i,r in complete_data[complete_data.Group==\"Mammals\"].iterrows():\n",
    "    \n",
    "    # Parameters\n",
    "    p_age, m_age = r.Generation_time_y, r.Generation_time_y\n",
    "    y_rate = r.MutPerYearUCSC/1e6\n",
    "    gen_rate = p_age*y_rate\n",
    "    \n",
    "    # Predict alpha\n",
    "    pred_alphas = []\n",
    "    mu_f, mu_m = flib.get_parental_age_effects(gen_rate, m_age, p_age, E, 4)\n",
    "    pred_alpha = flib.predict_alpha(mu_f, mu_m, m_age, p_age, E)\n",
    "    \n",
    "    # With different p-to-m generation time ratio\n",
    "    average_age = p_age\n",
    "    pred_alpha_ratios = {}\n",
    "    \n",
    "    for name,ratio in zip([\"min\", \"max\"],[0.7, 1.3]):\n",
    "        \n",
    "        m_age, p_age = flib.ratioG(average_age, ratio)\n",
    "        mu_f, mu_m = flib.get_parental_age_effects_yrate(y_rate, m_age, p_age, E, 4)\n",
    "        pred_alpha_ratios[name] = flib.predict_alpha(mu_f, mu_m, m_age, p_age, E)\n",
    "        \n",
    "    # Keep data for dataframe\n",
    "    predicted_alphas_l.append([r.Species, pred_alpha, pred_alpha_ratios[\"min\"], pred_alpha_ratios[\"max\"]])\n",
    "\n",
    "# Build dataframe\n",
    "predicted_alphas = pd.DataFrame(predicted_alphas_l)\n",
    "predicted_alphas.columns = [\"species\",\"predicted_alpha\", \"predicted_alpha_lwr\", \"predicted_alpha_upr\"]\n",
    "\n",
    "predicted_alphas[\"alpha\"] = complete_data.Alpha\n",
    "predicted_alphas[\"max_alpha\"] = complete_data.Alpha_upr\n",
    "predicted_alphas[\"min_alpha\"] = complete_data.Alpha_lwr"
   ]
  },
  {
   "cell_type": "markdown",
   "metadata": {},
   "source": [
    "The model using parameters from pedigree data"
   ]
  },
  {
   "cell_type": "code",
   "execution_count": 17,
   "metadata": {},
   "outputs": [],
   "source": [
    "predicted_alphas_dnms = pd.DataFrame()\n",
    "cols = [\"Species\", \"Common_name\", \"Age\", \"Paternal\", \"Maternal\", \"dnm_alpha\", \"maternal_slope\", \"paternal_slope\", \"predicted_alpha_dnms\", \"total_muts\", \"trios\",\"maternal_age\",\"paternal_age\"]\n",
    "\n",
    "for i,r in complete_data[complete_data.MutRatePerGenDNMs>0].iterrows():\n",
    "    \n",
    "    sp = r.Species\n",
    "    \n",
    "    # Skip flycatcher\n",
    "    if sp==\"Ficedula_albicollis\":\n",
    "        continue\n",
    "        \n",
    "    # Useful info\n",
    "    cn = species2common[sp]\n",
    "    m,p = r.Maternal_dnms, r.Paternal_dnms\n",
    "    alpha = p/m\n",
    "    trios = r.n_Trios\n",
    "    \n",
    "    # Parameters\n",
    "    p_age, m_age = r.Paternal_age_y, r.Maternal_age_y\n",
    "    gen_rate = r.MutRatePerGenDNMs\n",
    "    \n",
    "    # Predict alpha\n",
    "    mu_f, mu_m = flib.get_parental_age_effects(gen_rate, m_age, p_age, E, 4)\n",
    "    pred_alpha = flib.predict_alpha(mu_f, mu_m, m_age, p_age, E)\n",
    "    \n",
    "    # Build dataframe\n",
    "    c_df = pd.DataFrame([sp, cn, np.mean([p_age,m_age]), p, m, alpha, mu_f, mu_m, pred_alpha, p+m, trios, m_age, p_age]).transpose()\n",
    "    c_df.columns = cols\n",
    "    predicted_alphas_dnms = pd.concat([predicted_alphas_dnms,c_df])"
   ]
  },
  {
   "cell_type": "markdown",
   "metadata": {},
   "source": [
    "Save results"
   ]
  },
  {
   "cell_type": "code",
   "execution_count": 19,
   "metadata": {},
   "outputs": [],
   "source": [
    "evo_dict = flib.df2dict(predicted_alphas, \"species\", \"predicted_alpha\")\n",
    "dnm_dict = flib.df2dict(predicted_alphas_dnms, \"Species\", \"predicted_alpha_dnms\")\n",
    "\n",
    "Me = int(np.round(E*3e9))\n",
    "complete_data[\"Predicted_alpha_evo_Me{}\".format(Me)] = [evo_dict[sp] if sp in evo_dict else np.nan for sp in complete_data.Species]\n",
    "complete_data[\"Predicted_alpha_dnm_Me{}\".format(Me)] = [dnm_dict[sp] if sp in dnm_dict else np.nan for sp in complete_data.Species]"
   ]
  },
  {
   "cell_type": "code",
   "execution_count": 36,
   "metadata": {},
   "outputs": [],
   "source": [
    "complete_data[[c for c in complete_data.columns if c not in [\"Predicted_alpha_dnms\",\"Predicted_alpha_evo\"]]].to_csv(\"../data/Table_S1.csv\")"
   ]
  }
 ],
 "metadata": {
  "kernelspec": {
   "display_name": "Python 3",
   "language": "python",
   "name": "python3"
  },
  "language_info": {
   "codemirror_mode": {
    "name": "ipython",
    "version": 3
   },
   "file_extension": ".py",
   "mimetype": "text/x-python",
   "name": "python",
   "nbconvert_exporter": "python",
   "pygments_lexer": "ipython3",
   "version": "3.8.5"
  }
 },
 "nbformat": 4,
 "nbformat_minor": 4
}
