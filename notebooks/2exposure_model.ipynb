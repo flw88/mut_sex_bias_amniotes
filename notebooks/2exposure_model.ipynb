{
 "cells": [
  {
   "cell_type": "code",
   "execution_count": 2,
   "metadata": {},
   "outputs": [],
   "source": [
    "from scipy import stats\n",
    "import pandas as pd\n",
    "from adjustText import adjust_text\n",
    "import statsmodels.stats.proportion as ssp\n",
    "import statsmodels.api as sm\n",
    "import sys\n",
    "sys.path.append('../figures/scripts/')\n",
    "import funclib as flib"
   ]
  },
  {
   "cell_type": "markdown",
   "metadata": {},
   "source": [
    "### A model to predict alpha based on exposure to developmental stages"
   ]
  },
  {
   "cell_type": "markdown",
   "metadata": {},
   "source": [
    "Load data"
   ]
  },
  {
   "cell_type": "code",
   "execution_count": 60,
   "metadata": {},
   "outputs": [],
   "source": [
    "directory = \"../\"\n",
    "\n",
    "complete_data = pd.read_csv(\"{}/data/Table_S2.csv\".format(directory))\n",
    "complete_data[\"Total_phased_dnms\"] = complete_data[\"Maternal_dnms\"] + complete_data[\"Paternal_dnms\"]\n",
    "\n",
    "species2common = flib.df2dict(complete_data, \"Species\", \"Common_name\")"
   ]
  },
  {
   "cell_type": "markdown",
   "metadata": {},
   "source": [
    "The model using parameters from evolutionary data"
   ]
  },
  {
   "cell_type": "code",
   "execution_count": 15,
   "metadata": {},
   "outputs": [],
   "source": [
    "E = 5/3e9\n",
    "\n",
    "predicted_alphas_l = []\n",
    "\n",
    "for i,r in complete_data[complete_data.Group==\"Mammals\"].iterrows():\n",
    "    \n",
    "    # Parameters\n",
    "    p_age, m_age = r.Generation_time_y, r.Generation_time_y\n",
    "    y_rate = r.MutPerYearUCSC/1e6\n",
    "    gen_rate = p_age*y_rate\n",
    "    \n",
    "    # Predict alpha\n",
    "    pred_alphas = []\n",
    "    mu_f, mu_m = flib.get_parental_age_effects(gen_rate, m_age, p_age, E, 4)\n",
    "    pred_alpha = flib.predict_alpha(mu_f, mu_m, m_age, p_age, E)\n",
    "    \n",
    "    # With different p-to-m generation time ratio\n",
    "    average_age = p_age\n",
    "    pred_alpha_ratios = {}\n",
    "    \n",
    "    for name,ratio in zip([\"min\", \"max\"],[0.7, 1.3]):\n",
    "        \n",
    "        m_age, p_age = flib.ratioG(average_age, ratio)\n",
    "        mu_f, mu_m = flib.get_parental_age_effects_yrate(y_rate, m_age, p_age, E, 4)\n",
    "        pred_alpha_ratios[name] = flib.predict_alpha(mu_f, mu_m, m_age, p_age, E)\n",
    "        \n",
    "    # Keep data for dataframe\n",
    "    predicted_alphas_l.append([r.Species, pred_alpha, pred_alpha_ratios[\"min\"], pred_alpha_ratios[\"max\"]])\n",
    "\n",
    "# Build dataframe\n",
    "predicted_alphas = pd.DataFrame(predicted_alphas_l)\n",
    "predicted_alphas.columns = [\"species\",\"predicted_alpha\", \"predicted_alpha_lwr\", \"predicted_alpha_upr\"]\n",
    "\n",
    "predicted_alphas[\"alpha\"] = complete_data.Alpha\n",
    "predicted_alphas[\"max_alpha\"] = complete_data.Alpha_upr\n",
    "predicted_alphas[\"min_alpha\"] = complete_data.Alpha_lwr"
   ]
  },
  {
   "cell_type": "markdown",
   "metadata": {},
   "source": [
    "The model using parameters from pedigree data"
   ]
  },
  {
   "cell_type": "code",
   "execution_count": 16,
   "metadata": {},
   "outputs": [],
   "source": [
    "predicted_alphas_dnms = pd.DataFrame()\n",
    "cols = [\"Species\", \"Common_name\", \"Age\", \"Paternal\", \"Maternal\", \"dnm_alpha\", \"maternal_slope\", \"paternal_slope\", \"predicted_alpha_dnms\", \"total_muts\", \"trios\",\"maternal_age\",\"paternal_age\"]\n",
    "\n",
    "for i,r in complete_data[complete_data.MutRatePerGenDNMs>0].iterrows():\n",
    "    \n",
    "    sp = r.Species\n",
    "    \n",
    "    # Skip flycatcher\n",
    "    if sp==\"Ficedula_albicollis\":\n",
    "        continue\n",
    "        \n",
    "    # Useful info\n",
    "    cn = species2common[sp]\n",
    "    m,p = r.Maternal_dnms, r.Paternal_dnms\n",
    "    alpha = p/m\n",
    "    trios = r.n_Trios\n",
    "    \n",
    "    # Parameters\n",
    "    p_age, m_age = r.Paternal_age_y, r.Maternal_age_y\n",
    "    gen_rate = r.MutRatePerGenDNMs\n",
    "    \n",
    "    # Predict alpha\n",
    "    mu_f, mu_m = flib.get_parental_age_effects(gen_rate, m_age, p_age, E, 4)\n",
    "    pred_alpha = flib.predict_alpha(mu_f, mu_m, m_age, p_age, E)\n",
    "    \n",
    "    # Build dataframe\n",
    "    c_df = pd.DataFrame([sp, cn, np.mean([p_age,m_age]), p, m, alpha, mu_f, mu_m, pred_alpha, p+m, trios, m_age, p_age]).transpose()\n",
    "    c_df.columns = cols\n",
    "    predicted_alphas_dnms = pd.concat([predicted_alphas_dnms,c_df])"
   ]
  },
  {
   "cell_type": "markdown",
   "metadata": {},
   "source": [
    "Save results"
   ]
  },
  {
   "cell_type": "code",
   "execution_count": 17,
   "metadata": {},
   "outputs": [],
   "source": [
    "evo_dict = flib.df2dict(predicted_alphas, \"species\", \"predicted_alpha\")\n",
    "dnm_dict = flib.df2dict(predicted_alphas_dnms, \"Species\", \"predicted_alpha_dnms\")\n",
    "\n",
    "Me = int(np.round(E*3e9))\n",
    "complete_data[\"Predicted_alpha_evo_Me{}\".format(Me)] = [evo_dict[sp] if sp in evo_dict else np.nan for sp in complete_data.Species]\n",
    "complete_data[\"Predicted_alpha_dnm_Me{}\".format(Me)] = [dnm_dict[sp] if sp in dnm_dict else np.nan for sp in complete_data.Species]"
   ]
  },
  {
   "cell_type": "code",
   "execution_count": 26,
   "metadata": {},
   "outputs": [
    {
     "data": {
      "text/plain": [
       "Index(['Unnamed: 0', 'Unnamed: 0.1', 'Species', 'Common_name', 'Group',\n",
       "       'Alpha', 'Alpha_lwr', 'Alpha_upr', 'Xz_a', 'Xz_a_lwr', 'Xz_a_upr',\n",
       "       'Alpha_dnm', 'Maternal_dnms', 'Paternal_dnms', 'n_Trios',\n",
       "       'MutRatePerGenDNMs', 'Maternal_age_y', 'Paternal_age_y',\n",
       "       'MutRatePerGenDNMs_ref', 'MutPerYearUCSC', 'Generation_time_y',\n",
       "       'Generation_time_refs', 'AssemblyStatus', 'ScaffoldN50', 'ContigN50',\n",
       "       'AssemblyAccession', 'Sex', 'Pi_het', 'Anage_Species',\n",
       "       'TimeTree_Species', 'Maximum_longevity', 'Gestation_d',\n",
       "       'Birth_weight_g', 'Adult_weight_g', 'Predicted_alpha_evo_Me5',\n",
       "       'Predicted_alpha_dnm_Me5', 'Predicted_alpha_evo_Me3',\n",
       "       'Predicted_alpha_dnm_Me3', 'Predicted_alpha_evo_Me7',\n",
       "       'Predicted_alpha_dnm_Me7', 'Total_phased_dnms'],\n",
       "      dtype='object')"
      ]
     },
     "execution_count": 26,
     "metadata": {},
     "output_type": "execute_result"
    }
   ],
   "source": [
    "subd.columns"
   ]
  },
  {
   "cell_type": "code",
   "execution_count": 27,
   "metadata": {},
   "outputs": [
    {
     "data": {
      "text/html": [
       "<div>\n",
       "<style scoped>\n",
       "    .dataframe tbody tr th:only-of-type {\n",
       "        vertical-align: middle;\n",
       "    }\n",
       "\n",
       "    .dataframe tbody tr th {\n",
       "        vertical-align: top;\n",
       "    }\n",
       "\n",
       "    .dataframe thead th {\n",
       "        text-align: right;\n",
       "    }\n",
       "</style>\n",
       "<table border=\"1\" class=\"dataframe\">\n",
       "  <thead>\n",
       "    <tr style=\"text-align: right;\">\n",
       "      <th></th>\n",
       "      <th>Species</th>\n",
       "      <th>Paternal_age_y</th>\n",
       "      <th>Maternal_age_y</th>\n",
       "      <th>MutRatePerGenDNMs</th>\n",
       "    </tr>\n",
       "  </thead>\n",
       "  <tbody>\n",
       "    <tr>\n",
       "      <th>0</th>\n",
       "      <td>Bos_taurus</td>\n",
       "      <td>5.00</td>\n",
       "      <td>5.00</td>\n",
       "      <td>9.000000e-09</td>\n",
       "    </tr>\n",
       "    <tr>\n",
       "      <th>8</th>\n",
       "      <td>Homo_sapiens</td>\n",
       "      <td>31.63</td>\n",
       "      <td>27.60</td>\n",
       "      <td>1.290000e-08</td>\n",
       "    </tr>\n",
       "    <tr>\n",
       "      <th>10</th>\n",
       "      <td>Macaca_mulatta</td>\n",
       "      <td>10.53</td>\n",
       "      <td>7.88</td>\n",
       "      <td>6.750000e-09</td>\n",
       "    </tr>\n",
       "    <tr>\n",
       "      <th>11</th>\n",
       "      <td>Felis_catus</td>\n",
       "      <td>3.97</td>\n",
       "      <td>3.13</td>\n",
       "      <td>8.600000e-09</td>\n",
       "    </tr>\n",
       "    <tr>\n",
       "      <th>15</th>\n",
       "      <td>Mus_musculus</td>\n",
       "      <td>0.44</td>\n",
       "      <td>0.44</td>\n",
       "      <td>3.900000e-09</td>\n",
       "    </tr>\n",
       "    <tr>\n",
       "      <th>42</th>\n",
       "      <td>Papio_anubis</td>\n",
       "      <td>10.27</td>\n",
       "      <td>9.24</td>\n",
       "      <td>5.700000e-09</td>\n",
       "    </tr>\n",
       "    <tr>\n",
       "      <th>43</th>\n",
       "      <td>Pan_troglodytes</td>\n",
       "      <td>19.86</td>\n",
       "      <td>17.08</td>\n",
       "      <td>1.370000e-08</td>\n",
       "    </tr>\n",
       "    <tr>\n",
       "      <th>44</th>\n",
       "      <td>Gorilla_gorilla</td>\n",
       "      <td>13.50</td>\n",
       "      <td>19.50</td>\n",
       "      <td>1.120000e-08</td>\n",
       "    </tr>\n",
       "    <tr>\n",
       "      <th>45</th>\n",
       "      <td>Aotus_nancymaae</td>\n",
       "      <td>5.55</td>\n",
       "      <td>5.48</td>\n",
       "      <td>8.140000e-09</td>\n",
       "    </tr>\n",
       "  </tbody>\n",
       "</table>\n",
       "</div>"
      ],
      "text/plain": [
       "            Species  Paternal_age_y  Maternal_age_y  MutRatePerGenDNMs\n",
       "0        Bos_taurus            5.00            5.00       9.000000e-09\n",
       "8      Homo_sapiens           31.63           27.60       1.290000e-08\n",
       "10   Macaca_mulatta           10.53            7.88       6.750000e-09\n",
       "11      Felis_catus            3.97            3.13       8.600000e-09\n",
       "15     Mus_musculus            0.44            0.44       3.900000e-09\n",
       "42     Papio_anubis           10.27            9.24       5.700000e-09\n",
       "43  Pan_troglodytes           19.86           17.08       1.370000e-08\n",
       "44  Gorilla_gorilla           13.50           19.50       1.120000e-08\n",
       "45  Aotus_nancymaae            5.55            5.48       8.140000e-09"
      ]
     },
     "execution_count": 27,
     "metadata": {},
     "output_type": "execute_result"
    }
   ],
   "source": [
    "subd[[\"Species\",\"Paternal_age_y\", \"Maternal_age_y\",\"MutRatePerGenDNMs\"]]"
   ]
  },
  {
   "cell_type": "code",
   "execution_count": 25,
   "metadata": {},
   "outputs": [
    {
     "name": "stdout",
     "output_type": "stream",
     "text": [
      "(0.7046243488578509, 0.03404735461185315)\n"
     ]
    },
    {
     "data": {
      "text/plain": [
       "<AxesSubplot:xlabel='Predicted_alpha_dnm_Me5', ylabel='Alpha_dnm'>"
      ]
     },
     "execution_count": 25,
     "metadata": {},
     "output_type": "execute_result"
    },
    {
     "data": {
      "image/png": "[encoded data removed]",
      "text/plain": [
       "<Figure size 432x288 with 1 Axes>"
      ]
     },
     "metadata": {
      "needs_background": "light"
     },
     "output_type": "display_data"
    }
   ],
   "source": [
    "subd = complete_data[(complete_data.n_Trios>1) & (complete_data.Group!=\"Birds\") & (complete_data.Species!=\"Microcebus_murinus\") & (complete_data.Total_phased_dnms>30)]\n",
    "\n",
    "print(stats.pearsonr(subd.Predicted_alpha_dnm_Me5, subd.Alpha_dnm))\n",
    "\n",
    "sns.scatterplot(data=subd, x='Predicted_alpha_dnm_Me5', y=\"Alpha_dnm\")"
   ]
  },
  {
   "cell_type": "code",
   "execution_count": 7,
   "metadata": {},
   "outputs": [],
   "source": [
    "complete_data[[c for c in complete_data.columns if c not in [\"Predicted_alpha_dnms\",\"Predicted_alpha_evo\"]]].to_csv(\"../data/Table_S2.csv\")"
   ]
  }
 ],
 "metadata": {
  "kernelspec": {
   "display_name": "Python 3",
   "language": "python",
   "name": "python3"
  },
  "language_info": {
   "codemirror_mode": {
    "name": "ipython",
    "version": 3
   },
   "file_extension": ".py",
   "mimetype": "text/x-python",
   "name": "python",
   "nbconvert_exporter": "python",
   "pygments_lexer": "ipython3",
   "version": "3.8.5"
  }
 },
 "nbformat": 4,
 "nbformat_minor": 4
}
