{
 "cells": [
  {
   "cell_type": "code",
   "execution_count": 1,
   "metadata": {},
   "outputs": [],
   "source": [
    "import statsmodels.stats.proportion as ssp\n",
    "import itertools\n",
    "import math\n",
    "from scipy import stats\n",
    "import pandas as pd\n",
    "import matplotlib.pyplot as plt\n",
    "import numpy as np\n",
    "import warnings\n",
    "import matplotlib as mplt\n",
    "from adjustText import adjust_text\n",
    "import statsmodels.stats.proportion\n",
    "pd.options.mode.chained_assignment = None\n",
    "import matplotlib.colors as colors_mplt"
   ]
  },
  {
   "cell_type": "code",
   "execution_count": 4,
   "metadata": {},
   "outputs": [],
   "source": [
    "def read_model_xy(g):\n",
    "    '''Return dictionary with model params and xy coordinates for given group'''\n",
    "    model_params = pd.read_csv(\"../scripts/pgls_res/{}.model_params.tsv\".format(g),sep=\"\\t\")\n",
    "    xy_data = pd.read_csv(\"../scripts/pgls_res/{}.xy_data.tsv\".format(g),sep=\"\\t\")\n",
    "    return model_params, xy_data\n",
    "\n",
    "def identity_line(ax=None, ls='--', *args, **kwargs):\n",
    "    '''Draws identity line'''\n",
    "    ax = ax or plt.gca()\n",
    "    identity, = ax.plot([], [], ls=ls, *args, **kwargs)\n",
    "    def callback(axes):\n",
    "        low_x, high_x = ax.get_xlim()\n",
    "        low_y, high_y = ax.get_ylim()\n",
    "        low = min(low_x, low_y)\n",
    "        high = max(high_x, high_y)\n",
    "        identity.set_data([low, high], [low, high])\n",
    "    callback(ax)\n",
    "    ax.callbacks.connect('xlim_changed', callback)\n",
    "    ax.callbacks.connect('ylim_changed', callback)\n",
    "    return ax\n",
    "\n",
    "def plot_pgls(data, g, experiment, pgls, ax, color, scatter, alpha, line, label_legend):\n",
    "    '''Plots experiment vs. X(Z)/A alpha in group g to ax,\n",
    "    also returns dict with lambda, r2 and pval'''\n",
    "\n",
    "    # Get params into dict, then get pertinent stats\n",
    "    param_df = data[g][\"params\"]\n",
    "    params = list(param_df[param_df.experiment==experiment].transpose().to_dict().values())[0]\n",
    "    slope = params[\"{}_slope\".format(pgls)]\n",
    "    intercept = params[\"{}_intercept\".format(pgls)]\n",
    "    lambda_val = params[\"ml_lambda\"]\n",
    "    r2 = params[\"{}_rsq\".format(pgls)]\n",
    "    p = params[\"{}_pval\".format(pgls)]\n",
    "    \n",
    "    # Get xy data\n",
    "    xy_df = data[g][\"xy\"]\n",
    "    xy = xy_df[xy_df.experiment==experiment].reset_index(drop=True)\n",
    "    \n",
    "    # Plot scatter and line\n",
    "    label = \"\"\n",
    "    if label_legend:\n",
    "        label = \"{}:\\n\".format(g.replace(\"Aves\", \"Birds\")) + r\"$\\lambda={:.2f}, p={:.3f}, r^2={:.2f}$\".format(lambda_val, p, r2)\n",
    "    if scatter:\n",
    "        ax.scatter(xy[\"xvar\"], xy[\"yvar\"], label=label, c=color, alpha=alpha, zorder=10)\n",
    "    min_x = xy[\"xvar\"].min()\n",
    "    max_x = xy[\"xvar\"].max()\n",
    "    min_y = min_x*slope + intercept\n",
    "    max_y = max_x*slope + intercept\n",
    "    if line:\n",
    "        ax.plot([min_x, max_x], [min_y, max_y], c=color)\n",
    "\n",
    "    return {\"lambda\":lambda_val, \"r2\":r2, \"pval\":p}\n",
    "    \n",
    "def plot_sp_text(data, g, experiment, sp2common, selected_species, ax, colors):\n",
    "    '''Annotates species names to ax'''\n",
    "\n",
    "    # Get xy data\n",
    "    xy_df = data[g][\"xy\"]\n",
    "    xy = xy_df[xy_df.experiment==experiment].reset_index(drop=True)\n",
    "    xy = xy[xy.Species.isin(selected_species)]\n",
    "    texts = [ax.text(r.xvar, r.yvar, sp2common[r.Species], size=9, c=colors[i]) for i,r in xy.iterrows()]\n",
    "    adjust_text(texts,arrowprops=dict(arrowstyle='-', color='salmon'))"
   ]
  },
  {
   "cell_type": "code",
   "execution_count": 5,
   "metadata": {},
   "outputs": [],
   "source": [
    "data = {}\n",
    "for group in [\"Mammals\", \"Aves\"]:\n",
    "    model_params, xy_data = read_model_xy(group)\n",
    "    data[group] = {\"params\":model_params,\n",
    "                   \"xy\":xy_data}\n",
    "    \n",
    "# Palette\n",
    "palette = pd.read_csv(\"./../data/plot_colors.tsv\",sep=\"\\t\").set_index(\"Order\").to_dict()[\"Color\"]\n",
    "\n",
    "# Species to common\n",
    "sp2common = pd.read_csv(\"../data/latin2common_shortened.txt\",sep=\"\\t\").set_index(\"Species\").to_dict()[\"Common_names\"]"
   ]
  },
  {
   "cell_type": "code",
   "execution_count": 6,
   "metadata": {},
   "outputs": [
    {
     "data": {
      "image/png": "[encoded data removed]",
      "text/plain": [
       "<Figure size 360x360 with 1 Axes>"
      ]
     },
     "metadata": {
      "needs_background": "light"
     },
     "output_type": "display_data"
    }
   ],
   "source": [
    "### G vs. X/A alpha ###\n",
    "f,ax = plt.subplots(figsize=[5,5])\n",
    "\n",
    "### Common styling ###\n",
    "alpha_y_range = [0.8, 4.3]\n",
    "g_x_range = [np.log10(0.5), np.log10(35)]\n",
    "original_Gs = list(np.linspace(0.6,1,5)) + list(range(1,11)) + [20,30]\n",
    "xlabels = [\"\" if g not in [1,5,10,20,30] else g for g in original_Gs]\n",
    "log10_Gs = np.log10(original_Gs)\n",
    "\n",
    "# Plot pgls and scatter\n",
    "for group in [\"Mammals\", \"Aves\"]:\n",
    "    plot_pgls(data, group, \"GenerationLength_d\", \"pgls_ml\", ax, palette[group], True, 0.8, True, True)\n",
    "    \n",
    "# X axis\n",
    "ax.set_xlim(g_x_range)\n",
    "ax.set_xticks(log10_Gs)\n",
    "ax.set_xticklabels(xlabels)\n",
    "ax.set_xlabel(r\"Generation time (years)\")\n",
    "\n",
    "# Y axis\n",
    "ax.set_ylim(alpha_y_range)\n",
    "ax.set_ylabel(r\"$\\hat{\\alpha}$\")\n",
    "ax.legend()\n",
    "\n",
    "sns.despine()\n",
    "plt.tight_layout()\n",
    "f.savefig(\"pdfs/Figure_3.pdf\")"
   ]
  }
 ],
 "metadata": {
  "kernelspec": {
   "display_name": "Python 3",
   "language": "python",
   "name": "python3"
  },
  "language_info": {
   "codemirror_mode": {
    "name": "ipython",
    "version": 3
   },
   "file_extension": ".py",
   "mimetype": "text/x-python",
   "name": "python",
   "nbconvert_exporter": "python",
   "pygments_lexer": "ipython3",
   "version": "3.8.5"
  }
 },
 "nbformat": 4,
 "nbformat_minor": 4
}
