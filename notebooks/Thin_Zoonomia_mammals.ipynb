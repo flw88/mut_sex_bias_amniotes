{
 "cells": [
  {
   "cell_type": "markdown",
   "metadata": {},
   "source": [
    "### Thin Zoonomia dataset"
   ]
  },
  {
   "cell_type": "markdown",
   "metadata": {},
   "source": [
    "Import modules"
   ]
  },
  {
   "cell_type": "code",
   "execution_count": 32,
   "metadata": {},
   "outputs": [],
   "source": [
    "from ete3 import Tree\n",
    "import toytree\n",
    "import toyplot\n",
    "import toyplot.pdf\n",
    "import itertools\n",
    "import math\n",
    "from scipy import stats\n",
    "import pandas as pd\n",
    "import matplotlib.pyplot as plt\n",
    "import numpy as np\n",
    "import warnings"
   ]
  },
  {
   "cell_type": "markdown",
   "metadata": {},
   "source": [
    "Functions"
   ]
  },
  {
   "cell_type": "code",
   "execution_count": 30,
   "metadata": {},
   "outputs": [],
   "source": [
    "def distance_within_order(df, current_sp, nwkete):\n",
    "    '''Returns distance to other individuals in super order'''\n",
    "    distance_pi_het = pd.DataFrame([[r.Species, nwkete.get_distance(current_sp, r.Species), r.Heterozygosity, r.Pi] for i,r in df.iterrows() if r.Species!=current_sp])\n",
    "    distance_pi_het.columns = [\"Species\", \"distance\", \"Heterozygosity\", \"Pi\"]\n",
    "    distance_pi_het = distance_pi_het.sort_values(by=\"distance\")\n",
    "    distance_pi_het.index = range(len(distance_pi_het))\n",
    "    return distance_pi_het\n",
    "\n",
    "def choose_pi_over_het(df):\n",
    "    ''' Chooses the \"best\" pi/het value for species lacking them. \n",
    "    Pi (Buffalo) is taken over Heterzygosity (Zoonomia)'''\n",
    "    pi = np.nan\n",
    "    for i,r in df.iterrows():\n",
    "        if not math.isnan(r.Pi):\n",
    "            pi = r.Pi\n",
    "            return pi\n",
    "        if not math.isnan(r.Heterozygosity):\n",
    "            pi = r.Heterozygosity\n",
    "            return pi\n",
    "    return pi\n",
    "\n",
    "def prune_species(d, tree):\n",
    "    '''Returns species ranking higher in decision tree'''\n",
    "    for param, criteria in tree.items():\n",
    "        if criteria!=\"Max\" and criteria!=\"Min\":\n",
    "            subd = d[d[param]!=criteria]\n",
    "            if len(subd)==1:\n",
    "                return subd.Species.values[0]\n",
    "        else:\n",
    "            if len(d[param].unique())==1:\n",
    "                continue\n",
    "            sorted_d = d.sort_values(by=param, ascending=False if criteria!=\"Max\" else True)\n",
    "            sorted_d.index = range(len(sorted_d))\n",
    "            return sorted_d.Species.values[0]"
   ]
  },
  {
   "cell_type": "markdown",
   "metadata": {},
   "source": [
    "Read data"
   ]
  },
  {
   "cell_type": "code",
   "execution_count": 33,
   "metadata": {},
   "outputs": [],
   "source": [
    "# Read metadata \n",
    "meta = pd.read_csv(\"./../data/zoonomia_assembly_metadata.csv\")\n",
    "\n",
    "# Read phylogenies\n",
    "nwkete = Tree(\"./../trees/241-mammalian-2020v2.phast-242.nh\", format=1)\n",
    "\n",
    "# Read DNM counts\n",
    "dnms = pd.read_csv(\"./../data/dnm_est.tsv\",sep=\"\\t\")[[\"Species\", \"Mat DNMs\", \"Pat DNMs\"]]\n",
    "dnms[\"Species\"] = [sp.split(\"(\")[0].rstrip().replace(\" \",\"_\") for sp in dnms.Species]\n",
    "dnms[\"Total_dnms\"] = dnms[\"Mat DNMs\"] + dnms[\"Pat DNMs\"]\n",
    "dnm_counts = {k:v for k,v in zip(dnms[\"Species\"], dnms[\"Total_dnms\"])}\n",
    "\n",
    "# Tree of sex\n",
    "treeofsex = pd.read_csv(\"./../data/tree_of_sex.csv\")\n",
    "column = 'Karyotype (ZO,ZW,XY,XO,WO,homomorphic,complex XY,complex ZW)'\n",
    "complex_XY = treeofsex[(treeofsex[\"Higher taxonomic group\"]==\"Mammalia\") & (treeofsex[column]!=\"XY\")]\n",
    "genus_complex_XY = [sp.split()[0] for sp in complex_XY[\"Species\"] if \"Mus\" not in sp]\n",
    "species_complex_XY = meta[meta.Genus.isin(genus_complex_XY)][\"Species\"].values\n",
    "meta = meta[~meta.Genus.isin(genus_complex_XY)].reset_index()\n",
    "\n",
    "# Pi from Vince Buffalo's paper\n",
    "buffalo = pd.read_csv(\"./../data/buffalo_variation.tsv\",sep=\"\\t\")\n",
    "buffalo[\"FullSpecies\"] = [\"_\".join(sp.split()) for sp in buffalo[\"species\"]]\n",
    "buffalo[\"Pi\"] = [10**d for d in buffalo[\"log10_diversity\"]]\n",
    "\n",
    "# Add DNM counts to metadata\n",
    "meta[\"dnm\"] = [dnm_counts[sp] if sp in dnm_counts else 0 for sp in meta.Species]\n",
    "meta[\"Anage_ntraits\"] = [0 if math.isnan(n_traits) else n_traits for n_traits in meta.AnAge_ntraits]\n",
    "males = list(meta[meta.Sex==\"male\"].Species.values)\n",
    "\n",
    "# Add Buffalo's Pi to metadata\n",
    "warnings.filterwarnings(action='ignore', message='Mean of empty slice')\n",
    "meta = meta.set_index(\"Species\").join(buffalo[[\"FullSpecies\", \"Pi\"]].set_index(\"FullSpecies\")).reset_index()\n",
    "pi_per_genus = buffalo.groupby(\"genus\").apply(lambda x: np.nanmean(x[\"Pi\"])).to_dict()\n",
    "fill_genus_pi = []\n",
    "for i,r in meta.iterrows():\n",
    "    if math.isnan(r.Pi):\n",
    "        if r.Genus in pi_per_genus:\n",
    "            fill_genus_pi.append(pi_per_genus[r.Genus])\n",
    "        else:\n",
    "            fill_genus_pi.append(np.nan)\n",
    "    else:\n",
    "        fill_genus_pi.append(r.Pi)\n",
    "\n",
    "# Propagate pi if not available from any source\n",
    "close_pi = []\n",
    "for i,r in meta.iterrows():\n",
    "    if math.isnan(r[\"Pi\"]) and math.isnan(r[\"Heterozygosity\"]):\n",
    "        subd = meta[meta.SuperOrder==r.SuperOrder]\n",
    "        current_sp = r.Species\n",
    "        distance_df = distance_within_order(subd, current_sp, nwkete)\n",
    "        best_pi = choose_pi_over_het(distance_df)\n",
    "        close_pi.append(best_pi)\n",
    "    else:\n",
    "        close_pi.append(np.nanmean([r.Pi, r.Heterozygosity]))\n",
    "meta[\"Pi_het\"] = close_pi  "
   ]
  },
  {
   "cell_type": "markdown",
   "metadata": {},
   "source": [
    "Decision tree to keep species if sequence divergence is below limit (15pi or 2% sequence divergence)"
   ]
  },
  {
   "cell_type": "code",
   "execution_count": 34,
   "metadata": {},
   "outputs": [],
   "source": [
    "decision_tree = {\"dnm\":\"Max\",\n",
    "                 \"AssemblyStatus\":\"Chromosome\",\n",
    "                 \"Sex\":\"female\",\n",
    "                 \"ScaffoldN50\":\"Max\",\n",
    "                 \"AnAge_ntraits\":\"Max\",\n",
    "                }"
   ]
  },
  {
   "cell_type": "code",
   "execution_count": 21,
   "metadata": {},
   "outputs": [],
   "source": [
    "#nwkete = Tree(\"./../trees/241-mammalian-2020v2.phast-242.nh\", format=1)"
   ]
  },
  {
   "cell_type": "markdown",
   "metadata": {},
   "source": [
    "Prune species"
   ]
  },
  {
   "cell_type": "code",
   "execution_count": 22,
   "metadata": {},
   "outputs": [],
   "source": [
    "pi_modifier = 15\n",
    "pi_data = {r[\"Species\"]:r[\"Pi_het\"] for i,r in meta.iterrows()}\n",
    "species_out = []\n",
    "\n",
    "# Iterate over all superorders\n",
    "for superorder,df in meta.groupby(\"SuperOrder\"):\n",
    "    \n",
    "    # Read best tree of order\n",
    "    nwkete = Tree(order_trees[order_trees.order==superorder][\"tree\"].values[0])\n",
    "    \n",
    "    # Automatically exclude male-based assemblies\n",
    "    species_out = species_out + list(df[df.Sex==\"male\"].Species.values)\n",
    "    subd = df[df.Sex!=\"male\"]\n",
    "    \n",
    "    #And dolphin out\n",
    "    if superorder==\"Artiodactyla\":\n",
    "        species_out.append(\"Tursiops_truncatus\")\n",
    "        subd = subd[subd.Species!=\"Tursiops_truncatus\"]\n",
    "    \n",
    "    # Iterate over pairwise species comparisons\n",
    "    for c in itertools.combinations(subd.Species, r=2):\n",
    "        sp1, sp2 = c\n",
    "        seqdiv = nwkete.get_distance(sp1, sp2)\n",
    "        limit = np.max([pi_data[sp1], pi_data[sp2]])*pi_modifier\n",
    "        limit = 0.02 if limit<=0.02 else limit # LIMIT OF 2%!\n",
    "        \n",
    "        # If sequence divergence is not enough\n",
    "        if seqdiv <= limit:\n",
    "            pair_df = subd[subd.Species.isin(c)]\n",
    "            worst_species = prune_species(pair_df, decision_tree)\n",
    "            if worst_species not in species_out:\n",
    "                species_out.append(worst_species)"
   ]
  },
  {
   "cell_type": "code",
   "execution_count": 23,
   "metadata": {},
   "outputs": [
    {
     "data": {
      "text/html": [
       "<div class=\"toyplot\" id=\"t7a037bf64217448491e88e892c1cf2bb\" style=\"text-align:center\"><svg class=\"toyplot-canvas-Canvas\" xmlns:toyplot=\"http://www.sandia.gov/toyplot\" xmlns:xlink=\"http://www.w3.org/1999/xlink\" xmlns=\"http://www.w3.org/2000/svg\" width=\"390.0px\" height=\"1500.0px\" viewBox=\"0 0 390.0 1500.0\" preserveAspectRatio=\"xMidYMid meet\" style=\"background-color:transparent;border-color:#292724;border-style:none;border-width:1.0;fill:rgb(16.1%,15.3%,14.1%);fill-opacity:1.0;font-family:Helvetica;font-size:12px;opacity:1.0;stroke:rgb(16.1%,15.3%,14.1%);stroke-opacity:1.0;stroke-width:1.0\" id=\"t35621fddb82741ba98c751950ca740ba\"><g class=\"toyplot-coordinates-Cartesian\" id=\"tdea3a7dcd870466fb55f80f66e64a040\"><clipPath id=\"td3fa5bb9ba9045e5ae5615dfbfff851f\"><rect x=\"30.0\" y=\"30.0\" width=\"330.0\" height=\"1440.0\"></rect></clipPath><g clip-path=\"url(#td3fa5bb9ba9045e5ae5615dfbfff851f)\"><g class=\"toytree-mark-Toytree\" id=\"t8ddafebcc91348a19d0ef8c968777536\"><g class=\"toytree-Edges\" style=\"fill:none;stroke:rgb(14.9%,14.9%,14.9%);stroke-linecap:round;stroke-opacity:1;stroke-width:2\"><path d=\"M 51.2 344.2 L 51.2 96.6 L 57.9 96.6\" id=\"480,479\"></path><path d=\"M 51.2 344.2 L 51.2 591.7 L 57.9 591.7\" id=\"480,478\"></path><path d=\"M 57.9 96.6 L 57.9 75.7 L 84.1 75.7\" id=\"479,477\"></path><path d=\"M 57.9 96.6 L 57.9 117.5 L 81.5 117.5\" id=\"479,476\"></path><path d=\"M 57.9 591.7 L 57.9 322.7 L 68.9 322.7\" id=\"478,475\"></path><path d=\"M 57.9 591.7 L 57.9 860.8 L 68.5 860.8\" id=\"478,474\"></path><path d=\"M 84.1 75.7 L 84.1 64.9 L 101.1 64.9\" id=\"477,473\"></path><path d=\"M 84.1 75.7 L 84.1 86.5 L 91.3 86.5\" id=\"477,472\"></path><path d=\"M 81.5 117.5 L 81.5 105.9 L 91.1 105.9\" id=\"476,471\"></path><path d=\"M 81.5 117.5 L 81.5 129.2 L 85.8 129.2\" id=\"476,470\"></path><path d=\"M 68.9 322.7 L 68.9 177.4 L 70.4 177.4\" id=\"475,469\"></path><path d=\"M 68.9 322.7 L 68.9 468.0 L 73.2 468.0\" id=\"475,468\"></path><path d=\"M 68.5 860.8 L 68.5 747.8 L 80.8 747.8\" id=\"474,467\"></path><path d=\"M 68.5 860.8 L 68.5 973.7 L 72.0 973.7\" id=\"474,466\"></path><path d=\"M 101.1 64.9 L 101.1 69.3 L 107.5 69.3\" id=\"473,465\"></path><path d=\"M 91.3 86.5 L 91.3 80.7 L 124.5 80.7\" id=\"472,464\"></path><path d=\"M 91.3 86.5 L 91.3 92.2 L 118.4 92.2\" id=\"472,463\"></path><path d=\"M 91.1 105.9 L 91.1 110.9 L 92.2 110.9\" id=\"471,462\"></path><path d=\"M 85.8 129.2 L 85.8 134.6 L 87.3 134.6\" id=\"470,461\"></path><path d=\"M 70.4 177.4 L 70.4 155.4 L 138.7 155.4\" id=\"469,460\"></path><path d=\"M 70.4 177.4 L 70.4 199.4 L 72.2 199.4\" id=\"469,459\"></path><path d=\"M 73.2 468.0 L 73.2 421.1 L 120.7 421.1\" id=\"468,458\"></path><path d=\"M 73.2 468.0 L 73.2 514.9 L 86.3 514.9\" id=\"468,457\"></path><path d=\"M 80.8 747.8 L 80.8 757.2 L 83.0 757.2\" id=\"467,456\"></path><path d=\"M 72.0 973.7 L 72.0 835.8 L 83.0 835.8\" id=\"466,455\"></path><path d=\"M 72.0 973.7 L 72.0 1111.6 L 73.4 1111.6\" id=\"466,454\"></path><path d=\"M 92.2 110.9 L 92.2 115.2 L 145.1 115.2\" id=\"462,453\"></path><path d=\"M 87.3 134.6 L 87.3 139.6 L 93.5 139.6\" id=\"461,452\"></path><path d=\"M 72.2 199.4 L 72.2 234.7 L 78.6 234.7\" id=\"459,451\"></path><path d=\"M 120.7 421.1 L 120.7 425.4 L 153.1 425.4\" id=\"458,450\"></path><path d=\"M 86.3 514.9 L 86.3 445.6 L 101.0 445.6\" id=\"457,449\"></path><path d=\"M 86.3 514.9 L 86.3 584.2 L 87.4 584.2\" id=\"457,448\"></path><path d=\"M 83.0 757.2 L 83.0 748.6 L 94.9 748.6\" id=\"456,447\"></path><path d=\"M 83.0 757.2 L 83.0 765.8 L 117.7 765.8\" id=\"456,446\"></path><path d=\"M 83.0 835.8 L 83.0 800.4 L 87.7 800.4\" id=\"455,445\"></path><path d=\"M 83.0 835.8 L 83.0 871.1 L 93.3 871.1\" id=\"455,444\"></path><path d=\"M 73.4 1111.6 L 73.4 1003.9 L 75.3 1003.9\" id=\"454,443\"></path><path d=\"M 73.4 1111.6 L 73.4 1219.3 L 88.7 1219.3\" id=\"454,442\"></path><path d=\"M 93.5 139.6 L 93.5 143.9 L 151.6 143.9\" id=\"452,441\"></path><path d=\"M 78.6 234.7 L 78.6 182.3 L 93.5 182.3\" id=\"451,440\"></path><path d=\"M 78.6 234.7 L 78.6 287.1 L 106.4 287.1\" id=\"451,439\"></path><path d=\"M 101.0 445.6 L 101.0 457.1 L 127.8 457.1\" id=\"449,438\"></path><path d=\"M 87.4 584.2 L 87.4 556.7 L 95.8 556.7\" id=\"448,437\"></path><path d=\"M 87.4 584.2 L 87.4 611.8 L 94.1 611.8\" id=\"448,436\"></path><path d=\"M 94.9 748.6 L 94.9 752.9 L 149.5 752.9\" id=\"447,435\"></path><path d=\"M 117.7 765.8 L 117.7 770.1 L 131.1 770.1\" id=\"446,434\"></path><path d=\"M 87.7 800.4 L 87.7 788.1 L 92.8 788.1\" id=\"445,433\"></path><path d=\"M 87.7 800.4 L 87.7 812.8 L 113.7 812.8\" id=\"445,432\"></path><path d=\"M 93.3 871.1 L 93.3 844.5 L 103.7 844.5\" id=\"444,431\"></path><path d=\"M 93.3 871.1 L 93.3 897.7 L 97.6 897.7\" id=\"444,430\"></path><path d=\"M 75.3 1003.9 L 75.3 966.7 L 86.6 966.7\" id=\"443,429\"></path><path d=\"M 75.3 1003.9 L 75.3 1041.0 L 79.2 1041.0\" id=\"443,428\"></path><path d=\"M 88.7 1219.3 L 88.7 1191.6 L 123.9 1191.6\" id=\"442,427\"></path><path d=\"M 88.7 1219.3 L 88.7 1247.0 L 92.0 1247.0\" id=\"442,426\"></path><path d=\"M 93.5 182.3 L 93.5 172.7 L 126.0 172.7\" id=\"440,425\"></path><path d=\"M 93.5 182.3 L 93.5 191.9 L 95.8 191.9\" id=\"440,424\"></path><path d=\"M 106.4 287.1 L 106.4 247.0 L 118.8 247.0\" id=\"439,423\"></path><path d=\"M 106.4 287.1 L 106.4 327.3 L 112.3 327.3\" id=\"439,422\"></path><path d=\"M 127.8 457.1 L 127.8 474.5 L 132.9 474.5\" id=\"438,421\"></path><path d=\"M 95.8 556.7 L 95.8 547.5 L 124.5 547.5\" id=\"437,420\"></path><path d=\"M 95.8 556.7 L 95.8 565.8 L 115.9 565.8\" id=\"437,419\"></path><path d=\"M 94.1 611.8 L 94.1 594.2 L 106.5 594.2\" id=\"436,418\"></path><path d=\"M 94.1 611.8 L 94.1 629.5 L 115.4 629.5\" id=\"436,417\"></path><path d=\"M 92.8 788.1 L 92.8 781.6 L 98.6 781.6\" id=\"433,416\"></path><path d=\"M 92.8 788.1 L 92.8 794.5 L 101.7 794.5\" id=\"433,415\"></path><path d=\"M 113.7 812.8 L 113.7 818.2 L 114.3 818.2\" id=\"432,414\"></path><path d=\"M 103.7 844.5 L 103.7 852.9 L 107.0 852.9\" id=\"431,413\"></path><path d=\"M 97.6 897.7 L 97.6 907.5 L 99.5 907.5\" id=\"430,412\"></path><path d=\"M 86.6 966.7 L 86.6 955.4 L 112.7 955.4\" id=\"429,411\"></path><path d=\"M 86.6 966.7 L 86.6 978.0 L 89.3 978.0\" id=\"429,410\"></path><path d=\"M 79.2 1041.0 L 79.2 1005.6 L 124.3 1005.6\" id=\"428,409\"></path><path d=\"M 79.2 1041.0 L 79.2 1076.4 L 98.6 1076.4\" id=\"428,408\"></path><path d=\"M 123.9 1191.6 L 123.9 1196.7 L 127.6 1196.7\" id=\"427,407\"></path><path d=\"M 92.0 1247.0 L 92.0 1212.4 L 120.2 1212.4\" id=\"426,406\"></path><path d=\"M 92.0 1247.0 L 92.0 1281.6 L 98.0 1281.6\" id=\"426,405\"></path><path d=\"M 95.8 191.9 L 95.8 202.5 L 105.2 202.5\" id=\"424,404\"></path><path d=\"M 118.8 247.0 L 118.8 235.8 L 121.0 235.8\" id=\"423,403\"></path><path d=\"M 118.8 247.0 L 118.8 258.1 L 119.5 258.1\" id=\"423,402\"></path><path d=\"M 112.3 327.3 L 112.3 296.0 L 115.6 296.0\" id=\"422,401\"></path><path d=\"M 112.3 327.3 L 112.3 358.6 L 119.6 358.6\" id=\"422,400\"></path><path d=\"M 132.9 474.5 L 132.9 454.1 L 140.0 454.1\" id=\"421,399\"></path><path d=\"M 132.9 474.5 L 132.9 494.8 L 141.3 494.8\" id=\"421,398\"></path><path d=\"M 124.5 547.5 L 124.5 551.8 L 125.4 551.8\" id=\"420,397\"></path><path d=\"M 115.9 565.8 L 115.9 571.2 L 130.6 571.2\" id=\"419,396\"></path><path d=\"M 106.5 594.2 L 106.5 599.2 L 163.1 599.2\" id=\"418,395\"></path><path d=\"M 115.4 629.5 L 115.4 616.4 L 156.6 616.4\" id=\"417,394\"></path><path d=\"M 115.4 629.5 L 115.4 642.5 L 136.1 642.5\" id=\"417,393\"></path><path d=\"M 101.7 794.5 L 101.7 798.8 L 116.4 798.8\" id=\"415,392\"></path><path d=\"M 114.3 818.2 L 114.3 823.2 L 114.7 823.2\" id=\"414,391\"></path><path d=\"M 107.0 852.9 L 107.0 844.8 L 109.2 844.8\" id=\"413,390\"></path><path d=\"M 107.0 852.9 L 107.0 860.9 L 118.5 860.9\" id=\"413,389\"></path><path d=\"M 99.5 907.5 L 99.5 896.5 L 127.3 896.5\" id=\"412,388\"></path><path d=\"M 99.5 907.5 L 99.5 918.6 L 118.9 918.6\" id=\"412,387\"></path><path d=\"M 112.7 955.4 L 112.7 959.7 L 114.6 959.7\" id=\"411,386\"></path><path d=\"M 89.3 978.0 L 89.3 971.2 L 104.9 971.2\" id=\"410,385\"></path><path d=\"M 89.3 978.0 L 89.3 984.8 L 102.8 984.8\" id=\"410,384\"></path><path d=\"M 98.6 1076.4 L 98.6 1040.9 L 113.6 1040.9\" id=\"408,383\"></path><path d=\"M 98.6 1076.4 L 98.6 1112.0 L 106.0 1112.0\" id=\"408,382\"></path><path d=\"M 127.6 1196.7 L 127.6 1201.0 L 128.2 1201.0\" id=\"407,381\"></path><path d=\"M 98.0 1281.6 L 98.0 1233.8 L 101.2 1233.8\" id=\"405,380\"></path><path d=\"M 98.0 1281.6 L 98.0 1329.5 L 112.1 1329.5\" id=\"405,379\"></path><path d=\"M 105.2 202.5 L 105.2 191.3 L 111.8 191.3\" id=\"404,378\"></path><path d=\"M 105.2 202.5 L 105.2 213.6 L 106.2 213.6\" id=\"404,377\"></path><path d=\"M 119.5 258.1 L 119.5 247.3 L 122.6 247.3\" id=\"402,376\"></path><path d=\"M 119.5 258.1 L 119.5 268.9 L 121.4 268.9\" id=\"402,375\"></path><path d=\"M 115.6 296.0 L 115.6 301.6 L 116.6 301.6\" id=\"401,374\"></path><path d=\"M 119.6 358.6 L 119.6 334.8 L 121.7 334.8\" id=\"400,373\"></path><path d=\"M 119.6 358.6 L 119.6 382.3 L 121.4 382.3\" id=\"400,372\"></path><path d=\"M 140.0 454.1 L 140.0 448.4 L 162.4 448.4\" id=\"399,371\"></path><path d=\"M 140.0 454.1 L 140.0 459.9 L 146.3 459.9\" id=\"399,370\"></path><path d=\"M 141.3 494.8 L 141.3 480.0 L 145.0 480.0\" id=\"398,369\"></path><path d=\"M 141.3 494.8 L 141.3 509.6 L 151.0 509.6\" id=\"398,368\"></path><path d=\"M 130.6 571.2 L 130.6 576.2 L 154.2 576.2\" id=\"396,367\"></path><path d=\"M 163.1 599.2 L 163.1 603.5 L 189.4 603.5\" id=\"395,366\"></path><path d=\"M 156.6 616.4 L 156.6 620.7 L 174.5 620.7\" id=\"394,365\"></path><path d=\"M 136.1 642.5 L 136.1 655.7 L 168.7 655.7\" id=\"393,364\"></path><path d=\"M 114.7 823.2 L 114.7 827.6 L 123.1 827.6\" id=\"391,363\"></path><path d=\"M 118.5 860.9 L 118.5 868.5 L 120.9 868.5\" id=\"389,362\"></path><path d=\"M 118.9 918.6 L 118.9 909.4 L 123.2 909.4\" id=\"387,361\"></path><path d=\"M 118.9 918.6 L 118.9 927.7 L 122.1 927.7\" id=\"387,360\"></path><path d=\"M 102.8 984.8 L 102.8 989.8 L 105.9 989.8\" id=\"384,359\"></path><path d=\"M 113.6 1040.9 L 113.6 1019.8 L 115.2 1019.8\" id=\"383,358\"></path><path d=\"M 113.6 1040.9 L 113.6 1062.0 L 129.3 1062.0\" id=\"383,357\"></path><path d=\"M 106.0 1112.0 L 106.0 1094.0 L 134.1 1094.0\" id=\"382,356\"></path><path d=\"M 106.0 1112.0 L 106.0 1130.0 L 111.2 1130.0\" id=\"382,355\"></path><path d=\"M 101.2 1233.8 L 101.2 1246.6 L 111.8 1246.6\" id=\"380,354\"></path><path d=\"M 112.1 1329.5 L 112.1 1340.2 L 128.4 1340.2\" id=\"379,353\"></path><path d=\"M 111.8 191.3 L 111.8 195.6 L 118.1 195.6\" id=\"378,352\"></path><path d=\"M 106.2 213.6 L 106.2 207.1 L 112.6 207.1\" id=\"377,351\"></path><path d=\"M 106.2 213.6 L 106.2 220.1 L 111.2 220.1\" id=\"377,350\"></path><path d=\"M 121.4 268.9 L 121.4 260.3 L 121.7 260.3\" id=\"375,349\"></path><path d=\"M 121.4 268.9 L 121.4 277.5 L 122.6 277.5\" id=\"375,348\"></path><path d=\"M 116.6 301.6 L 116.6 306.9 L 119.5 306.9\" id=\"374,347\"></path><path d=\"M 121.7 334.8 L 121.7 327.8 L 122.7 327.8\" id=\"373,346\"></path><path d=\"M 121.7 334.8 L 121.7 341.8 L 123.2 341.8\" id=\"373,345\"></path><path d=\"M 121.4 382.3 L 121.4 369.4 L 122.6 369.4\" id=\"372,344\"></path><path d=\"M 121.4 382.3 L 121.4 395.3 L 122.8 395.3\" id=\"372,343\"></path><path d=\"M 145.0 480.0 L 145.0 471.4 L 154.8 471.4\" id=\"369,342\"></path><path d=\"M 145.0 480.0 L 145.0 488.6 L 169.1 488.6\" id=\"369,341\"></path><path d=\"M 151.0 509.6 L 151.0 516.3 L 152.7 516.3\" id=\"368,340\"></path><path d=\"M 154.2 576.2 L 154.2 580.5 L 154.5 580.5\" id=\"367,339\"></path><path d=\"M 168.7 655.7 L 168.7 676.3 L 172.5 676.3\" id=\"364,338\"></path><path d=\"M 120.9 868.5 L 120.9 862.0 L 121.3 862.0\" id=\"362,337\"></path><path d=\"M 120.9 868.5 L 120.9 874.9 L 122.9 874.9\" id=\"362,336\"></path><path d=\"M 123.2 909.4 L 123.2 913.7 L 124.7 913.7\" id=\"361,335\"></path><path d=\"M 122.1 927.7 L 122.1 933.1 L 126.9 933.1\" id=\"360,334\"></path><path d=\"M 105.9 989.8 L 105.9 994.1 L 108.0 994.1\" id=\"359,333\"></path><path d=\"M 115.2 1019.8 L 115.2 1025.4 L 119.7 1025.4\" id=\"358,332\"></path><path d=\"M 129.3 1062.0 L 129.3 1053.0 L 131.8 1053.0\" id=\"357,331\"></path><path d=\"M 129.3 1062.0 L 129.3 1071.0 L 130.7 1071.0\" id=\"357,330\"></path><path d=\"M 134.1 1094.0 L 134.1 1099.0 L 136.8 1099.0\" id=\"356,329\"></path><path d=\"M 111.2 1130.0 L 111.2 1114.8 L 125.6 1114.8\" id=\"355,328\"></path><path d=\"M 111.2 1130.0 L 111.2 1145.2 L 112.5 1145.2\" id=\"355,327\"></path><path d=\"M 111.8 1246.6 L 111.8 1231.8 L 113.6 1231.8\" id=\"354,326\"></path><path d=\"M 111.8 1246.6 L 111.8 1261.3 L 112.6 1261.3\" id=\"354,325\"></path><path d=\"M 128.4 1340.2 L 128.4 1328.8 L 135.4 1328.8\" id=\"353,324\"></path><path d=\"M 128.4 1340.2 L 128.4 1351.7 L 128.7 1351.7\" id=\"353,323\"></path><path d=\"M 111.2 220.1 L 111.2 224.4 L 118.5 224.4\" id=\"350,322\"></path><path d=\"M 121.7 260.3 L 121.7 264.6 L 125.3 264.6\" id=\"349,321\"></path><path d=\"M 122.6 277.5 L 122.6 281.8 L 130.8 281.8\" id=\"348,320\"></path><path d=\"M 119.5 306.9 L 119.5 312.0 L 120.1 312.0\" id=\"347,319\"></path><path d=\"M 123.2 341.8 L 123.2 347.2 L 123.6 347.2\" id=\"345,318\"></path><path d=\"M 122.6 369.4 L 122.6 373.7 L 123.9 373.7\" id=\"344,317\"></path><path d=\"M 122.8 395.3 L 122.8 386.6 L 123.4 386.6\" id=\"343,316\"></path><path d=\"M 122.8 395.3 L 122.8 403.9 L 124.4 403.9\" id=\"343,315\"></path><path d=\"M 169.1 488.6 L 169.1 482.9 L 175.1 482.9\" id=\"341,314\"></path><path d=\"M 169.1 488.6 L 169.1 494.4 L 181.8 494.4\" id=\"341,313\"></path><path d=\"M 152.7 516.3 L 152.7 523.8 L 164.4 523.8\" id=\"340,312\"></path><path d=\"M 172.5 676.3 L 172.5 654.3 L 180.0 654.3\" id=\"338,311\"></path><path d=\"M 172.5 676.3 L 172.5 698.3 L 183.4 698.3\" id=\"338,310\"></path><path d=\"M 122.9 874.9 L 122.9 879.3 L 125.8 879.3\" id=\"336,309\"></path><path d=\"M 126.9 933.1 L 126.9 938.1 L 127.1 938.1\" id=\"334,308\"></path><path d=\"M 119.7 1025.4 L 119.7 1030.8 L 124.0 1030.8\" id=\"332,307\"></path><path d=\"M 131.8 1053.0 L 131.8 1057.3 L 132.2 1057.3\" id=\"331,306\"></path><path d=\"M 130.7 1071.0 L 130.7 1076.0 L 130.8 1076.0\" id=\"330,305\"></path><path d=\"M 136.8 1099.0 L 136.8 1103.3 L 137.7 1103.3\" id=\"329,304\"></path><path d=\"M 112.5 1145.2 L 112.5 1132.7 L 120.9 1132.7\" id=\"327,303\"></path><path d=\"M 112.5 1145.2 L 112.5 1157.7 L 117.8 1157.7\" id=\"327,302\"></path><path d=\"M 113.6 1231.8 L 113.6 1236.9 L 115.0 1236.9\" id=\"326,301\"></path><path d=\"M 112.6 1261.3 L 112.6 1272.8 L 113.1 1272.8\" id=\"325,300\"></path><path d=\"M 135.4 1328.8 L 135.4 1333.1 L 139.2 1333.1\" id=\"324,299\"></path><path d=\"M 128.7 1351.7 L 128.7 1361.7 L 128.9 1361.7\" id=\"323,298\"></path><path d=\"M 120.1 312.0 L 120.1 316.3 L 121.6 316.3\" id=\"319,297\"></path><path d=\"M 123.6 347.2 L 123.6 352.2 L 123.9 352.2\" id=\"318,296\"></path><path d=\"M 123.4 386.6 L 123.4 391.0 L 123.7 391.0\" id=\"316,295\"></path><path d=\"M 124.4 403.9 L 124.4 408.2 L 124.7 408.2\" id=\"315,294\"></path><path d=\"M 164.4 523.8 L 164.4 517.3 L 166.2 517.3\" id=\"312,293\"></path><path d=\"M 164.4 523.8 L 164.4 530.3 L 185.6 530.3\" id=\"312,292\"></path><path d=\"M 180.0 654.3 L 180.0 645.2 L 186.2 645.2\" id=\"311,291\"></path><path d=\"M 180.0 654.3 L 180.0 663.5 L 200.4 663.5\" id=\"311,290\"></path><path d=\"M 183.4 698.3 L 183.4 689.7 L 198.5 689.7\" id=\"310,289\"></path><path d=\"M 183.4 698.3 L 183.4 706.9 L 183.7 706.9\" id=\"310,288\"></path><path d=\"M 127.1 938.1 L 127.1 942.4 L 128.9 942.4\" id=\"308,287\"></path><path d=\"M 124.0 1030.8 L 124.0 1035.8 L 136.4 1035.8\" id=\"307,286\"></path><path d=\"M 130.8 1076.0 L 130.8 1080.3 L 132.8 1080.3\" id=\"305,285\"></path><path d=\"M 120.9 1132.7 L 120.9 1126.3 L 125.0 1126.3\" id=\"303,284\"></path><path d=\"M 120.9 1132.7 L 120.9 1139.2 L 125.6 1139.2\" id=\"303,283\"></path><path d=\"M 117.8 1157.7 L 117.8 1163.3 L 119.5 1163.3\" id=\"302,282\"></path><path d=\"M 115.0 1236.9 L 115.0 1241.2 L 116.6 1241.2\" id=\"301,281\"></path><path d=\"M 113.1 1272.8 L 113.1 1259.8 L 113.3 1259.8\" id=\"300,280\"></path><path d=\"M 113.1 1272.8 L 113.1 1285.7 L 114.8 1285.7\" id=\"300,279\"></path><path d=\"M 128.9 1361.7 L 128.9 1350.3 L 135.4 1350.3\" id=\"298,278\"></path><path d=\"M 128.9 1361.7 L 128.9 1373.1 L 130.9 1373.1\" id=\"298,277\"></path><path d=\"M 123.9 352.2 L 123.9 356.5 L 125.2 356.5\" id=\"296,276\"></path><path d=\"M 185.6 530.3 L 185.6 534.6 L 187.6 534.6\" id=\"292,275\"></path><path d=\"M 186.2 645.2 L 186.2 649.5 L 217.1 649.5\" id=\"291,274\"></path><path d=\"M 200.4 663.5 L 200.4 668.9 L 214.9 668.9\" id=\"290,273\"></path><path d=\"M 183.7 706.9 L 183.7 715.5 L 185.1 715.5\" id=\"288,272\"></path><path d=\"M 136.4 1035.8 L 136.4 1040.1 L 136.9 1040.1\" id=\"286,271\"></path><path d=\"M 125.6 1139.2 L 125.6 1143.5 L 126.0 1143.5\" id=\"283,270\"></path><path d=\"M 119.5 1163.3 L 119.5 1168.6 L 132.5 1168.6\" id=\"282,269\"></path><path d=\"M 113.3 1259.8 L 113.3 1264.2 L 117.2 1264.2\" id=\"280,268\"></path><path d=\"M 114.8 1285.7 L 114.8 1275.6 L 115.3 1275.6\" id=\"279,267\"></path><path d=\"M 114.8 1285.7 L 114.8 1295.7 L 116.5 1295.7\" id=\"279,266\"></path><path d=\"M 130.9 1373.1 L 130.9 1387.3 L 133.0 1387.3\" id=\"277,265\"></path><path d=\"M 214.9 668.9 L 214.9 673.9 L 221.9 673.9\" id=\"273,264\"></path><path d=\"M 185.1 715.5 L 185.1 706.9 L 199.6 706.9\" id=\"272,263\"></path><path d=\"M 185.1 715.5 L 185.1 724.1 L 210.5 724.1\" id=\"272,262\"></path><path d=\"M 132.5 1168.6 L 132.5 1173.7 L 135.2 1173.7\" id=\"269,261\"></path><path d=\"M 116.5 1295.7 L 116.5 1287.1 L 118.4 1287.1\" id=\"266,260\"></path><path d=\"M 116.5 1295.7 L 116.5 1304.4 L 117.8 1304.4\" id=\"266,259\"></path><path d=\"M 133.0 1387.3 L 133.0 1370.1 L 137.2 1370.1\" id=\"265,258\"></path><path d=\"M 133.0 1387.3 L 133.0 1404.4 L 137.6 1404.4\" id=\"265,257\"></path><path d=\"M 221.9 673.9 L 221.9 678.2 L 225.8 678.2\" id=\"264,256\"></path><path d=\"M 210.5 724.1 L 210.5 718.4 L 211.0 718.4\" id=\"262,255\"></path><path d=\"M 210.5 724.1 L 210.5 729.9 L 216.1 729.9\" id=\"262,254\"></path><path d=\"M 135.2 1173.7 L 135.2 1178.0 L 137.0 1178.0\" id=\"261,253\"></path><path d=\"M 117.8 1304.4 L 117.8 1298.6 L 120.0 1298.6\" id=\"259,252\"></path><path d=\"M 117.8 1304.4 L 117.8 1310.1 L 119.1 1310.1\" id=\"259,251\"></path><path d=\"M 137.2 1370.1 L 137.2 1375.5 L 141.3 1375.5\" id=\"258,250\"></path><path d=\"M 137.6 1404.4 L 137.6 1396.3 L 137.7 1396.3\" id=\"257,249\"></path><path d=\"M 137.6 1404.4 L 137.6 1412.6 L 137.8 1412.6\" id=\"257,248\"></path><path d=\"M 141.3 1375.5 L 141.3 1380.5 L 141.6 1380.5\" id=\"250,247\"></path><path d=\"M 137.8 1412.6 L 137.8 1420.3 L 141.3 1420.3\" id=\"248,246\"></path><path d=\"M 141.6 1380.5 L 141.6 1384.8 L 142.8 1384.8\" id=\"247,245\"></path><path d=\"M 141.3 1420.3 L 141.3 1413.5 L 143.5 1413.5\" id=\"246,244\"></path><path d=\"M 141.3 1420.3 L 141.3 1427.2 L 141.4 1427.2\" id=\"246,243\"></path><path d=\"M 141.4 1427.2 L 141.4 1432.2 L 141.6 1432.2\" id=\"243,242\"></path><path d=\"M 141.6 1432.2 L 141.6 1436.5 L 145.3 1436.5\" id=\"242,241\"></path><path d=\"M 101.1 64.9 L 101.1 60.6 L 128.1 60.6\" id=\"473,240\"></path><path d=\"M 107.5 69.3 L 107.5 66.4 L 120.6 66.4\" id=\"465,239\"></path><path d=\"M 107.5 69.3 L 107.5 72.1 L 121.9 72.1\" id=\"465,238\"></path><path d=\"M 124.5 80.7 L 124.5 77.9 L 133.0 77.9\" id=\"464,237\"></path><path d=\"M 124.5 80.7 L 124.5 83.6 L 131.7 83.6\" id=\"464,236\"></path><path d=\"M 118.4 92.2 L 118.4 89.4 L 120.1 89.4\" id=\"463,235\"></path><path d=\"M 118.4 92.2 L 118.4 95.1 L 120.3 95.1\" id=\"463,234\"></path><path d=\"M 91.1 105.9 L 91.1 100.8 L 116.9 100.8\" id=\"471,233\"></path><path d=\"M 92.2 110.9 L 92.2 106.6 L 112.8 106.6\" id=\"462,232\"></path><path d=\"M 145.1 115.2 L 145.1 112.3 L 148.5 112.3\" id=\"453,231\"></path><path d=\"M 145.1 115.2 L 145.1 118.1 L 148.6 118.1\" id=\"453,230\"></path><path d=\"M 85.8 129.2 L 85.8 123.8 L 127.8 123.8\" id=\"470,229\"></path><path d=\"M 87.3 134.6 L 87.3 129.6 L 176.4 129.6\" id=\"461,228\"></path><path d=\"M 93.5 139.6 L 93.5 135.3 L 150.4 135.3\" id=\"452,227\"></path><path d=\"M 151.6 143.9 L 151.6 141.1 L 191.0 141.1\" id=\"441,226\"></path><path d=\"M 151.6 143.9 L 151.6 146.8 L 175.3 146.8\" id=\"441,225\"></path><path d=\"M 138.7 155.4 L 138.7 152.6 L 146.7 152.6\" id=\"460,224\"></path><path d=\"M 138.7 155.4 L 138.7 158.3 L 147.3 158.3\" id=\"460,223\"></path><path d=\"M 72.2 199.4 L 72.2 164.0 L 114.5 164.0\" id=\"459,222\"></path><path d=\"M 126.0 172.7 L 126.0 169.8 L 141.8 169.8\" id=\"425,221\"></path><path d=\"M 126.0 172.7 L 126.0 175.5 L 143.0 175.5\" id=\"425,220\"></path><path d=\"M 95.8 191.9 L 95.8 181.3 L 113.3 181.3\" id=\"424,219\"></path><path d=\"M 111.8 191.3 L 111.8 187.0 L 120.5 187.0\" id=\"378,218\"></path><path d=\"M 118.1 195.6 L 118.1 192.8 L 120.6 192.8\" id=\"352,217\"></path><path d=\"M 118.1 195.6 L 118.1 198.5 L 120.7 198.5\" id=\"352,216\"></path><path d=\"M 112.6 207.1 L 112.6 204.3 L 120.8 204.3\" id=\"351,215\"></path><path d=\"M 112.6 207.1 L 112.6 210.0 L 121.4 210.0\" id=\"351,214\"></path><path d=\"M 111.2 220.1 L 111.2 215.7 L 121.8 215.7\" id=\"350,213\"></path><path d=\"M 118.5 224.4 L 118.5 221.5 L 126.7 221.5\" id=\"322,212\"></path><path d=\"M 118.5 224.4 L 118.5 227.2 L 126.1 227.2\" id=\"322,211\"></path><path d=\"M 121.0 235.8 L 121.0 233.0 L 128.7 233.0\" id=\"403,210\"></path><path d=\"M 121.0 235.8 L 121.0 238.7 L 129.9 238.7\" id=\"403,209\"></path><path d=\"M 122.6 247.3 L 122.6 244.5 L 130.4 244.5\" id=\"376,208\"></path><path d=\"M 122.6 247.3 L 122.6 250.2 L 128.8 250.2\" id=\"376,207\"></path><path d=\"M 121.7 260.3 L 121.7 256.0 L 129.5 256.0\" id=\"349,206\"></path><path d=\"M 125.3 264.6 L 125.3 261.7 L 132.6 261.7\" id=\"321,205\"></path><path d=\"M 125.3 264.6 L 125.3 267.4 L 133.0 267.4\" id=\"321,204\"></path><path d=\"M 122.6 277.5 L 122.6 273.2 L 133.0 273.2\" id=\"348,203\"></path><path d=\"M 130.8 281.8 L 130.8 278.9 L 131.3 278.9\" id=\"320,202\"></path><path d=\"M 130.8 281.8 L 130.8 284.7 L 131.3 284.7\" id=\"320,201\"></path><path d=\"M 115.6 296.0 L 115.6 290.4 L 122.7 290.4\" id=\"401,200\"></path><path d=\"M 116.6 301.6 L 116.6 296.2 L 122.4 296.2\" id=\"374,199\"></path><path d=\"M 119.5 306.9 L 119.5 301.9 L 122.3 301.9\" id=\"347,198\"></path><path d=\"M 120.1 312.0 L 120.1 307.7 L 122.3 307.7\" id=\"319,197\"></path><path d=\"M 121.6 316.3 L 121.6 313.4 L 122.3 313.4\" id=\"297,196\"></path><path d=\"M 121.6 316.3 L 121.6 319.1 L 122.3 319.1\" id=\"297,195\"></path><path d=\"M 122.7 327.8 L 122.7 324.9 L 126.1 324.9\" id=\"346,194\"></path><path d=\"M 122.7 327.8 L 122.7 330.6 L 126.0 330.6\" id=\"346,193\"></path><path d=\"M 123.2 341.8 L 123.2 336.4 L 125.8 336.4\" id=\"345,192\"></path><path d=\"M 123.6 347.2 L 123.6 342.1 L 125.7 342.1\" id=\"318,191\"></path><path d=\"M 123.9 352.2 L 123.9 347.9 L 125.9 347.9\" id=\"296,190\"></path><path d=\"M 125.2 356.5 L 125.2 353.6 L 125.8 353.6\" id=\"276,189\"></path><path d=\"M 125.2 356.5 L 125.2 359.4 L 125.9 359.4\" id=\"276,188\"></path><path d=\"M 122.6 369.4 L 122.6 365.1 L 125.7 365.1\" id=\"344,187\"></path><path d=\"M 123.9 373.7 L 123.9 370.8 L 125.7 370.8\" id=\"317,186\"></path><path d=\"M 123.9 373.7 L 123.9 376.6 L 125.8 376.6\" id=\"317,185\"></path><path d=\"M 123.4 386.6 L 123.4 382.3 L 125.6 382.3\" id=\"316,184\"></path><path d=\"M 123.7 391.0 L 123.7 388.1 L 125.7 388.1\" id=\"295,183\"></path><path d=\"M 123.7 391.0 L 123.7 393.8 L 126.1 393.8\" id=\"295,182\"></path><path d=\"M 124.4 403.9 L 124.4 399.6 L 125.6 399.6\" id=\"315,181\"></path><path d=\"M 124.7 408.2 L 124.7 405.3 L 125.5 405.3\" id=\"294,180\"></path><path d=\"M 124.7 408.2 L 124.7 411.1 L 125.2 411.1\" id=\"294,179\"></path><path d=\"M 120.7 421.1 L 120.7 416.8 L 194.7 416.8\" id=\"458,178\"></path><path d=\"M 153.1 425.4 L 153.1 422.6 L 161.7 422.6\" id=\"450,177\"></path><path d=\"M 153.1 425.4 L 153.1 428.3 L 162.7 428.3\" id=\"450,176\"></path><path d=\"M 101.0 445.6 L 101.0 434.0 L 180.6 434.0\" id=\"449,175\"></path><path d=\"M 127.8 457.1 L 127.8 439.8 L 165.5 439.8\" id=\"438,174\"></path><path d=\"M 162.4 448.4 L 162.4 445.5 L 197.9 445.5\" id=\"371,173\"></path><path d=\"M 162.4 448.4 L 162.4 451.3 L 195.4 451.3\" id=\"371,172\"></path><path d=\"M 146.3 459.9 L 146.3 457.0 L 165.8 457.0\" id=\"370,171\"></path><path d=\"M 146.3 459.9 L 146.3 462.8 L 177.7 462.8\" id=\"370,170\"></path><path d=\"M 154.8 471.4 L 154.8 468.5 L 174.8 468.5\" id=\"342,169\"></path><path d=\"M 154.8 471.4 L 154.8 474.3 L 181.7 474.3\" id=\"342,168\"></path><path d=\"M 175.1 482.9 L 175.1 480.0 L 195.7 480.0\" id=\"314,167\"></path><path d=\"M 175.1 482.9 L 175.1 485.7 L 201.3 485.7\" id=\"314,166\"></path><path d=\"M 181.8 494.4 L 181.8 491.5 L 206.2 491.5\" id=\"313,165\"></path><path d=\"M 181.8 494.4 L 181.8 497.2 L 201.8 497.2\" id=\"313,164\"></path><path d=\"M 151.0 509.6 L 151.0 503.0 L 173.1 503.0\" id=\"368,163\"></path><path d=\"M 152.7 516.3 L 152.7 508.7 L 176.0 508.7\" id=\"340,162\"></path><path d=\"M 166.2 517.3 L 166.2 514.5 L 184.0 514.5\" id=\"293,161\"></path><path d=\"M 166.2 517.3 L 166.2 520.2 L 184.5 520.2\" id=\"293,160\"></path><path d=\"M 185.6 530.3 L 185.6 526.0 L 187.8 526.0\" id=\"292,159\"></path><path d=\"M 187.6 534.6 L 187.6 531.7 L 187.8 531.7\" id=\"275,158\"></path><path d=\"M 187.6 534.6 L 187.6 537.4 L 187.8 537.4\" id=\"275,157\"></path><path d=\"M 124.5 547.5 L 124.5 543.2 L 165.8 543.2\" id=\"420,156\"></path><path d=\"M 125.4 551.8 L 125.4 548.9 L 144.5 548.9\" id=\"397,155\"></path><path d=\"M 125.4 551.8 L 125.4 554.7 L 153.5 554.7\" id=\"397,154\"></path><path d=\"M 115.9 565.8 L 115.9 560.4 L 161.3 560.4\" id=\"419,153\"></path><path d=\"M 130.6 571.2 L 130.6 566.2 L 153.6 566.2\" id=\"396,152\"></path><path d=\"M 154.2 576.2 L 154.2 571.9 L 158.6 571.9\" id=\"367,151\"></path><path d=\"M 154.5 580.5 L 154.5 577.7 L 159.9 577.7\" id=\"339,150\"></path><path d=\"M 154.5 580.5 L 154.5 583.4 L 162.8 583.4\" id=\"339,149\"></path><path d=\"M 106.5 594.2 L 106.5 589.1 L 158.7 589.1\" id=\"418,148\"></path><path d=\"M 163.1 599.2 L 163.1 594.9 L 198.0 594.9\" id=\"395,147\"></path><path d=\"M 189.4 603.5 L 189.4 600.6 L 193.2 600.6\" id=\"366,146\"></path><path d=\"M 189.4 603.5 L 189.4 606.4 L 193.1 606.4\" id=\"366,145\"></path><path d=\"M 156.6 616.4 L 156.6 612.1 L 199.0 612.1\" id=\"394,144\"></path><path d=\"M 174.5 620.7 L 174.5 617.9 L 201.1 617.9\" id=\"365,143\"></path><path d=\"M 174.5 620.7 L 174.5 623.6 L 196.7 623.6\" id=\"365,142\"></path><path d=\"M 136.1 642.5 L 136.1 629.4 L 195.2 629.4\" id=\"393,141\"></path><path d=\"M 168.7 655.7 L 168.7 635.1 L 209.9 635.1\" id=\"364,140\"></path><path d=\"M 186.2 645.2 L 186.2 640.9 L 226.3 640.9\" id=\"291,139\"></path><path d=\"M 217.1 649.5 L 217.1 646.6 L 224.9 646.6\" id=\"274,138\"></path><path d=\"M 217.1 649.5 L 217.1 652.3 L 224.4 652.3\" id=\"274,137\"></path><path d=\"M 200.4 663.5 L 200.4 658.1 L 231.5 658.1\" id=\"290,136\"></path><path d=\"M 214.9 668.9 L 214.9 663.8 L 229.7 663.8\" id=\"273,135\"></path><path d=\"M 221.9 673.9 L 221.9 669.6 L 229.1 669.6\" id=\"264,134\"></path><path d=\"M 225.8 678.2 L 225.8 675.3 L 229.1 675.3\" id=\"256,133\"></path><path d=\"M 225.8 678.2 L 225.8 681.1 L 229.4 681.1\" id=\"256,132\"></path><path d=\"M 198.5 689.7 L 198.5 686.8 L 212.1 686.8\" id=\"289,131\"></path><path d=\"M 198.5 689.7 L 198.5 692.6 L 214.2 692.6\" id=\"289,130\"></path><path d=\"M 183.7 706.9 L 183.7 698.3 L 226.5 698.3\" id=\"288,129\"></path><path d=\"M 199.6 706.9 L 199.6 704.0 L 223.0 704.0\" id=\"263,128\"></path><path d=\"M 199.6 706.9 L 199.6 709.8 L 218.4 709.8\" id=\"263,127\"></path><path d=\"M 211.0 718.4 L 211.0 715.5 L 225.9 715.5\" id=\"255,126\"></path><path d=\"M 211.0 718.4 L 211.0 721.3 L 226.2 721.3\" id=\"255,125\"></path><path d=\"M 216.1 729.9 L 216.1 727.0 L 222.3 727.0\" id=\"254,124\"></path><path d=\"M 216.1 729.9 L 216.1 732.8 L 224.4 732.8\" id=\"254,123\"></path><path d=\"M 80.8 747.8 L 80.8 738.5 L 148.1 738.5\" id=\"467,122\"></path><path d=\"M 94.9 748.6 L 94.9 744.3 L 192.3 744.3\" id=\"447,121\"></path><path d=\"M 149.5 752.9 L 149.5 750.0 L 206.4 750.0\" id=\"435,120\"></path><path d=\"M 149.5 752.9 L 149.5 755.7 L 203.1 755.7\" id=\"435,119\"></path><path d=\"M 117.7 765.8 L 117.7 761.5 L 168.5 761.5\" id=\"446,118\"></path><path d=\"M 131.1 770.1 L 131.1 767.2 L 171.5 767.2\" id=\"434,117\"></path><path d=\"M 131.1 770.1 L 131.1 773.0 L 156.8 773.0\" id=\"434,116\"></path><path d=\"M 98.6 781.6 L 98.6 778.7 L 136.3 778.7\" id=\"416,115\"></path><path d=\"M 98.6 781.6 L 98.6 784.5 L 137.3 784.5\" id=\"416,114\"></path><path d=\"M 101.7 794.5 L 101.7 790.2 L 123.9 790.2\" id=\"415,113\"></path><path d=\"M 116.4 798.8 L 116.4 796.0 L 123.6 796.0\" id=\"392,112\"></path><path d=\"M 116.4 798.8 L 116.4 801.7 L 127.3 801.7\" id=\"392,111\"></path><path d=\"M 113.7 812.8 L 113.7 807.4 L 131.0 807.4\" id=\"432,110\"></path><path d=\"M 114.3 818.2 L 114.3 813.2 L 127.4 813.2\" id=\"414,109\"></path><path d=\"M 114.7 823.2 L 114.7 818.9 L 131.1 818.9\" id=\"391,108\"></path><path d=\"M 123.1 827.6 L 123.1 824.7 L 125.8 824.7\" id=\"363,107\"></path><path d=\"M 123.1 827.6 L 123.1 830.4 L 125.8 830.4\" id=\"363,106\"></path><path d=\"M 103.7 844.5 L 103.7 836.2 L 143.8 836.2\" id=\"431,105\"></path><path d=\"M 109.2 844.8 L 109.2 841.9 L 136.4 841.9\" id=\"390,104\"></path><path d=\"M 109.2 844.8 L 109.2 847.7 L 136.2 847.7\" id=\"390,103\"></path><path d=\"M 118.5 860.9 L 118.5 853.4 L 136.7 853.4\" id=\"389,102\"></path><path d=\"M 121.3 862.0 L 121.3 859.1 L 141.1 859.1\" id=\"337,101\"></path><path d=\"M 121.3 862.0 L 121.3 864.9 L 143.4 864.9\" id=\"337,100\"></path><path d=\"M 122.9 874.9 L 122.9 870.6 L 139.7 870.6\" id=\"336,99\"></path><path d=\"M 125.8 879.3 L 125.8 876.4 L 142.3 876.4\" id=\"309,98\"></path><path d=\"M 125.8 879.3 L 125.8 882.1 L 144.8 882.1\" id=\"309,97\"></path><path d=\"M 97.6 897.7 L 97.6 887.9 L 127.0 887.9\" id=\"430,96\"></path><path d=\"M 127.3 896.5 L 127.3 893.6 L 129.4 893.6\" id=\"388,95\"></path><path d=\"M 127.3 896.5 L 127.3 899.4 L 128.9 899.4\" id=\"388,94\"></path><path d=\"M 123.2 909.4 L 123.2 905.1 L 144.8 905.1\" id=\"361,93\"></path><path d=\"M 124.7 913.7 L 124.7 910.9 L 142.7 910.9\" id=\"335,92\"></path><path d=\"M 124.7 913.7 L 124.7 916.6 L 132.5 916.6\" id=\"335,91\"></path><path d=\"M 122.1 927.7 L 122.1 922.3 L 140.1 922.3\" id=\"360,90\"></path><path d=\"M 126.9 933.1 L 126.9 928.1 L 135.0 928.1\" id=\"334,89\"></path><path d=\"M 127.1 938.1 L 127.1 933.8 L 133.8 933.8\" id=\"308,88\"></path><path d=\"M 128.9 942.4 L 128.9 939.6 L 132.6 939.6\" id=\"287,87\"></path><path d=\"M 128.9 942.4 L 128.9 945.3 L 132.9 945.3\" id=\"287,86\"></path><path d=\"M 112.7 955.4 L 112.7 951.1 L 114.8 951.1\" id=\"411,85\"></path><path d=\"M 114.6 959.7 L 114.6 956.8 L 115.0 956.8\" id=\"386,84\"></path><path d=\"M 114.6 959.7 L 114.6 962.6 L 115.0 962.6\" id=\"386,83\"></path><path d=\"M 104.9 971.2 L 104.9 968.3 L 109.2 968.3\" id=\"385,82\"></path><path d=\"M 104.9 971.2 L 104.9 974.0 L 109.3 974.0\" id=\"385,81\"></path><path d=\"M 102.8 984.8 L 102.8 979.8 L 108.6 979.8\" id=\"384,80\"></path><path d=\"M 105.9 989.8 L 105.9 985.5 L 108.4 985.5\" id=\"359,79\"></path><path d=\"M 108.0 994.1 L 108.0 991.3 L 108.3 991.3\" id=\"333,78\"></path><path d=\"M 108.0 994.1 L 108.0 997.0 L 108.2 997.0\" id=\"333,77\"></path><path d=\"M 124.3 1005.6 L 124.3 1002.8 L 131.0 1002.8\" id=\"409,76\"></path><path d=\"M 124.3 1005.6 L 124.3 1008.5 L 130.2 1008.5\" id=\"409,75\"></path><path d=\"M 115.2 1019.8 L 115.2 1014.3 L 139.7 1014.3\" id=\"358,74\"></path><path d=\"M 119.7 1025.4 L 119.7 1020.0 L 139.2 1020.0\" id=\"332,73\"></path><path d=\"M 124.0 1030.8 L 124.0 1025.7 L 134.3 1025.7\" id=\"307,72\"></path><path d=\"M 136.4 1035.8 L 136.4 1031.5 L 142.3 1031.5\" id=\"286,71\"></path><path d=\"M 136.9 1040.1 L 136.9 1037.2 L 142.8 1037.2\" id=\"271,70\"></path><path d=\"M 136.9 1040.1 L 136.9 1043.0 L 144.4 1043.0\" id=\"271,69\"></path><path d=\"M 131.8 1053.0 L 131.8 1048.7 L 133.1 1048.7\" id=\"331,68\"></path><path d=\"M 132.2 1057.3 L 132.2 1054.5 L 133.3 1054.5\" id=\"306,67\"></path><path d=\"M 132.2 1057.3 L 132.2 1060.2 L 133.2 1060.2\" id=\"306,66\"></path><path d=\"M 130.7 1071.0 L 130.7 1066.0 L 133.4 1066.0\" id=\"330,65\"></path><path d=\"M 130.8 1076.0 L 130.8 1071.7 L 133.5 1071.7\" id=\"305,64\"></path><path d=\"M 132.8 1080.3 L 132.8 1077.4 L 134.4 1077.4\" id=\"285,63\"></path><path d=\"M 132.8 1080.3 L 132.8 1083.2 L 134.3 1083.2\" id=\"285,62\"></path><path d=\"M 134.1 1094.0 L 134.1 1088.9 L 138.2 1088.9\" id=\"356,61\"></path><path d=\"M 136.8 1099.0 L 136.8 1094.7 L 137.9 1094.7\" id=\"329,60\"></path><path d=\"M 137.7 1103.3 L 137.7 1100.4 L 138.0 1100.4\" id=\"304,59\"></path><path d=\"M 137.7 1103.3 L 137.7 1106.2 L 137.9 1106.2\" id=\"304,58\"></path><path d=\"M 125.6 1114.8 L 125.6 1111.9 L 131.9 1111.9\" id=\"328,57\"></path><path d=\"M 125.6 1114.8 L 125.6 1117.7 L 131.4 1117.7\" id=\"328,56\"></path><path d=\"M 125.0 1126.3 L 125.0 1123.4 L 129.3 1123.4\" id=\"284,55\"></path><path d=\"M 125.0 1126.3 L 125.0 1129.2 L 128.5 1129.2\" id=\"284,54\"></path><path d=\"M 125.6 1139.2 L 125.6 1134.9 L 127.7 1134.9\" id=\"283,53\"></path><path d=\"M 126.0 1143.5 L 126.0 1140.6 L 127.8 1140.6\" id=\"270,52\"></path><path d=\"M 126.0 1143.5 L 126.0 1146.4 L 128.4 1146.4\" id=\"270,51\"></path><path d=\"M 117.8 1157.7 L 117.8 1152.1 L 144.1 1152.1\" id=\"302,50\"></path><path d=\"M 119.5 1163.3 L 119.5 1157.9 L 137.8 1157.9\" id=\"282,49\"></path><path d=\"M 132.5 1168.6 L 132.5 1163.6 L 141.4 1163.6\" id=\"269,48\"></path><path d=\"M 135.2 1173.7 L 135.2 1169.4 L 145.0 1169.4\" id=\"261,47\"></path><path d=\"M 137.0 1178.0 L 137.0 1175.1 L 142.3 1175.1\" id=\"253,46\"></path><path d=\"M 137.0 1178.0 L 137.0 1180.9 L 141.7 1180.9\" id=\"253,45\"></path><path d=\"M 123.9 1191.6 L 123.9 1186.6 L 129.6 1186.6\" id=\"427,44\"></path><path d=\"M 127.6 1196.7 L 127.6 1192.3 L 128.4 1192.3\" id=\"407,43\"></path><path d=\"M 128.2 1201.0 L 128.2 1198.1 L 128.5 1198.1\" id=\"381,42\"></path><path d=\"M 128.2 1201.0 L 128.2 1203.8 L 128.5 1203.8\" id=\"381,41\"></path><path d=\"M 120.2 1212.4 L 120.2 1209.6 L 141.3 1209.6\" id=\"406,40\"></path><path d=\"M 120.2 1212.4 L 120.2 1215.3 L 139.7 1215.3\" id=\"406,39\"></path><path d=\"M 101.2 1233.8 L 101.2 1221.1 L 124.7 1221.1\" id=\"380,38\"></path><path d=\"M 113.6 1231.8 L 113.6 1226.8 L 116.8 1226.8\" id=\"326,37\"></path><path d=\"M 115.0 1236.9 L 115.0 1232.6 L 117.7 1232.6\" id=\"301,36\"></path><path d=\"M 116.6 1241.2 L 116.6 1238.3 L 117.8 1238.3\" id=\"281,35\"></path><path d=\"M 116.6 1241.2 L 116.6 1244.0 L 118.0 1244.0\" id=\"281,34\"></path><path d=\"M 112.6 1261.3 L 112.6 1249.8 L 121.8 1249.8\" id=\"325,33\"></path><path d=\"M 113.3 1259.8 L 113.3 1255.5 L 121.2 1255.5\" id=\"280,32\"></path><path d=\"M 117.2 1264.2 L 117.2 1261.3 L 120.2 1261.3\" id=\"268,31\"></path><path d=\"M 117.2 1264.2 L 117.2 1267.0 L 119.8 1267.0\" id=\"268,30\"></path><path d=\"M 115.3 1275.6 L 115.3 1272.8 L 121.6 1272.8\" id=\"267,29\"></path><path d=\"M 115.3 1275.6 L 115.3 1278.5 L 120.6 1278.5\" id=\"267,28\"></path><path d=\"M 118.4 1287.1 L 118.4 1284.3 L 120.6 1284.3\" id=\"260,27\"></path><path d=\"M 118.4 1287.1 L 118.4 1290.0 L 120.4 1290.0\" id=\"260,26\"></path><path d=\"M 120.0 1298.6 L 120.0 1295.7 L 120.9 1295.7\" id=\"252,25\"></path><path d=\"M 120.0 1298.6 L 120.0 1301.5 L 121.0 1301.5\" id=\"252,24\"></path><path d=\"M 119.1 1310.1 L 119.1 1307.2 L 120.1 1307.2\" id=\"251,23\"></path><path d=\"M 119.1 1310.1 L 119.1 1313.0 L 120.1 1313.0\" id=\"251,22\"></path><path d=\"M 112.1 1329.5 L 112.1 1318.7 L 152.1 1318.7\" id=\"379,21\"></path><path d=\"M 135.4 1328.8 L 135.4 1324.5 L 141.0 1324.5\" id=\"324,20\"></path><path d=\"M 139.2 1333.1 L 139.2 1330.2 L 142.5 1330.2\" id=\"299,19\"></path><path d=\"M 139.2 1333.1 L 139.2 1336.0 L 142.2 1336.0\" id=\"299,18\"></path><path d=\"M 128.7 1351.7 L 128.7 1341.7 L 145.0 1341.7\" id=\"323,17\"></path><path d=\"M 135.4 1350.3 L 135.4 1347.4 L 140.9 1347.4\" id=\"278,16\"></path><path d=\"M 135.4 1350.3 L 135.4 1353.2 L 140.3 1353.2\" id=\"278,15\"></path><path d=\"M 130.9 1373.1 L 130.9 1358.9 L 143.6 1358.9\" id=\"277,14\"></path><path d=\"M 137.2 1370.1 L 137.2 1364.7 L 142.2 1364.7\" id=\"258,13\"></path><path d=\"M 141.3 1375.5 L 141.3 1370.4 L 142.6 1370.4\" id=\"250,12\"></path><path d=\"M 141.6 1380.5 L 141.6 1376.2 L 142.9 1376.2\" id=\"247,11\"></path><path d=\"M 142.8 1384.8 L 142.8 1381.9 L 143.5 1381.9\" id=\"245,10\"></path><path d=\"M 142.8 1384.8 L 142.8 1387.7 L 143.2 1387.7\" id=\"245,9\"></path><path d=\"M 137.7 1396.3 L 137.7 1393.4 L 144.4 1393.4\" id=\"249,8\"></path><path d=\"M 137.7 1396.3 L 137.7 1399.2 L 150.2 1399.2\" id=\"249,7\"></path><path d=\"M 137.8 1412.6 L 137.8 1404.9 L 144.7 1404.9\" id=\"248,6\"></path><path d=\"M 143.5 1413.5 L 143.5 1410.6 L 145.0 1410.6\" id=\"244,5\"></path><path d=\"M 143.5 1413.5 L 143.5 1416.4 L 144.8 1416.4\" id=\"244,4\"></path><path d=\"M 141.4 1427.2 L 141.4 1422.1 L 145.5 1422.1\" id=\"243,3\"></path><path d=\"M 141.6 1432.2 L 141.6 1427.9 L 145.1 1427.9\" id=\"242,2\"></path><path d=\"M 145.3 1436.5 L 145.3 1433.6 L 145.8 1433.6\" id=\"241,1\"></path><path d=\"M 145.3 1436.5 L 145.3 1439.4 L 145.8 1439.4\" id=\"241,0\"></path></g><g class=\"toytree-AlignEdges\" style=\"stroke:rgb(66.3%,66.3%,66.3%);stroke-dasharray:2, 4;stroke-linecap:round;stroke-opacity:1.0;stroke-width:2\"><path d=\"M 231.5 1439.4 L 145.8 1439.4\"></path><path d=\"M 231.5 1433.6 L 145.8 1433.6\"></path><path d=\"M 231.5 1427.9 L 145.1 1427.9\"></path><path d=\"M 231.5 1422.1 L 145.5 1422.1\"></path><path d=\"M 231.5 1416.4 L 144.8 1416.4\"></path><path d=\"M 231.5 1410.6 L 145.0 1410.6\"></path><path d=\"M 231.5 1404.9 L 144.7 1404.9\"></path><path d=\"M 231.5 1399.2 L 150.2 1399.2\"></path><path d=\"M 231.5 1393.4 L 144.4 1393.4\"></path><path d=\"M 231.5 1387.7 L 143.2 1387.7\"></path><path d=\"M 231.5 1381.9 L 143.5 1381.9\"></path><path d=\"M 231.5 1376.2 L 142.9 1376.2\"></path><path d=\"M 231.5 1370.4 L 142.6 1370.4\"></path><path d=\"M 231.5 1364.7 L 142.2 1364.7\"></path><path d=\"M 231.5 1358.9 L 143.6 1358.9\"></path><path d=\"M 231.5 1353.2 L 140.3 1353.2\"></path><path d=\"M 231.5 1347.4 L 140.9 1347.4\"></path><path d=\"M 231.5 1341.7 L 145.0 1341.7\"></path><path d=\"M 231.5 1336.0 L 142.2 1336.0\"></path><path d=\"M 231.5 1330.2 L 142.5 1330.2\"></path><path d=\"M 231.5 1324.5 L 141.0 1324.5\"></path><path d=\"M 231.5 1318.7 L 152.1 1318.7\"></path><path d=\"M 231.5 1313.0 L 120.1 1313.0\"></path><path d=\"M 231.5 1307.2 L 120.1 1307.2\"></path><path d=\"M 231.5 1301.5 L 121.0 1301.5\"></path><path d=\"M 231.5 1295.7 L 120.9 1295.7\"></path><path d=\"M 231.5 1290.0 L 120.4 1290.0\"></path><path d=\"M 231.5 1284.3 L 120.6 1284.3\"></path><path d=\"M 231.5 1278.5 L 120.6 1278.5\"></path><path d=\"M 231.5 1272.8 L 121.6 1272.8\"></path><path d=\"M 231.5 1267.0 L 119.8 1267.0\"></path><path d=\"M 231.5 1261.3 L 120.2 1261.3\"></path><path d=\"M 231.5 1255.5 L 121.2 1255.5\"></path><path d=\"M 231.5 1249.8 L 121.8 1249.8\"></path><path d=\"M 231.5 1244.0 L 118.0 1244.0\"></path><path d=\"M 231.5 1238.3 L 117.8 1238.3\"></path><path d=\"M 231.5 1232.6 L 117.7 1232.6\"></path><path d=\"M 231.5 1226.8 L 116.8 1226.8\"></path><path d=\"M 231.5 1221.1 L 124.7 1221.1\"></path><path d=\"M 231.5 1215.3 L 139.7 1215.3\"></path><path d=\"M 231.5 1209.6 L 141.3 1209.6\"></path><path d=\"M 231.5 1203.8 L 128.5 1203.8\"></path><path d=\"M 231.5 1198.1 L 128.5 1198.1\"></path><path d=\"M 231.5 1192.3 L 128.4 1192.3\"></path><path d=\"M 231.5 1186.6 L 129.6 1186.6\"></path><path d=\"M 231.5 1180.9 L 141.7 1180.9\"></path><path d=\"M 231.5 1175.1 L 142.3 1175.1\"></path><path d=\"M 231.5 1169.4 L 145.0 1169.4\"></path><path d=\"M 231.5 1163.6 L 141.4 1163.6\"></path><path d=\"M 231.5 1157.9 L 137.8 1157.9\"></path><path d=\"M 231.5 1152.1 L 144.1 1152.1\"></path><path d=\"M 231.5 1146.4 L 128.4 1146.4\"></path><path d=\"M 231.5 1140.6 L 127.8 1140.6\"></path><path d=\"M 231.5 1134.9 L 127.7 1134.9\"></path><path d=\"M 231.5 1129.2 L 128.5 1129.2\"></path><path d=\"M 231.5 1123.4 L 129.3 1123.4\"></path><path d=\"M 231.5 1117.7 L 131.4 1117.7\"></path><path d=\"M 231.5 1111.9 L 131.9 1111.9\"></path><path d=\"M 231.5 1106.2 L 137.9 1106.2\"></path><path d=\"M 231.5 1100.4 L 138.0 1100.4\"></path><path d=\"M 231.5 1094.7 L 137.9 1094.7\"></path><path d=\"M 231.5 1088.9 L 138.2 1088.9\"></path><path d=\"M 231.5 1083.2 L 134.3 1083.2\"></path><path d=\"M 231.5 1077.4 L 134.4 1077.4\"></path><path d=\"M 231.5 1071.7 L 133.5 1071.7\"></path><path d=\"M 231.5 1066.0 L 133.4 1066.0\"></path><path d=\"M 231.5 1060.2 L 133.2 1060.2\"></path><path d=\"M 231.5 1054.5 L 133.3 1054.5\"></path><path d=\"M 231.5 1048.7 L 133.1 1048.7\"></path><path d=\"M 231.5 1043.0 L 144.4 1043.0\"></path><path d=\"M 231.5 1037.2 L 142.8 1037.2\"></path><path d=\"M 231.5 1031.5 L 142.3 1031.5\"></path><path d=\"M 231.5 1025.7 L 134.3 1025.7\"></path><path d=\"M 231.5 1020.0 L 139.2 1020.0\"></path><path d=\"M 231.5 1014.3 L 139.7 1014.3\"></path><path d=\"M 231.5 1008.5 L 130.2 1008.5\"></path><path d=\"M 231.5 1002.8 L 131.0 1002.8\"></path><path d=\"M 231.5 997.0 L 108.2 997.0\"></path><path d=\"M 231.5 991.3 L 108.3 991.3\"></path><path d=\"M 231.5 985.5 L 108.4 985.5\"></path><path d=\"M 231.5 979.8 L 108.6 979.8\"></path><path d=\"M 231.5 974.0 L 109.3 974.0\"></path><path d=\"M 231.5 968.3 L 109.2 968.3\"></path><path d=\"M 231.5 962.6 L 115.0 962.6\"></path><path d=\"M 231.5 956.8 L 115.0 956.8\"></path><path d=\"M 231.5 951.1 L 114.8 951.1\"></path><path d=\"M 231.5 945.3 L 132.9 945.3\"></path><path d=\"M 231.5 939.6 L 132.6 939.6\"></path><path d=\"M 231.5 933.8 L 133.8 933.8\"></path><path d=\"M 231.5 928.1 L 135.0 928.1\"></path><path d=\"M 231.5 922.3 L 140.1 922.3\"></path><path d=\"M 231.5 916.6 L 132.5 916.6\"></path><path d=\"M 231.5 910.9 L 142.7 910.9\"></path><path d=\"M 231.5 905.1 L 144.8 905.1\"></path><path d=\"M 231.5 899.4 L 128.9 899.4\"></path><path d=\"M 231.5 893.6 L 129.4 893.6\"></path><path d=\"M 231.5 887.9 L 127.0 887.9\"></path><path d=\"M 231.5 882.1 L 144.8 882.1\"></path><path d=\"M 231.5 876.4 L 142.3 876.4\"></path><path d=\"M 231.5 870.6 L 139.7 870.6\"></path><path d=\"M 231.5 864.9 L 143.4 864.9\"></path><path d=\"M 231.5 859.1 L 141.1 859.1\"></path><path d=\"M 231.5 853.4 L 136.7 853.4\"></path><path d=\"M 231.5 847.7 L 136.2 847.7\"></path><path d=\"M 231.5 841.9 L 136.4 841.9\"></path><path d=\"M 231.5 836.2 L 143.8 836.2\"></path><path d=\"M 231.5 830.4 L 125.8 830.4\"></path><path d=\"M 231.5 824.7 L 125.8 824.7\"></path><path d=\"M 231.5 818.9 L 131.1 818.9\"></path><path d=\"M 231.5 813.2 L 127.4 813.2\"></path><path d=\"M 231.5 807.4 L 131.0 807.4\"></path><path d=\"M 231.5 801.7 L 127.3 801.7\"></path><path d=\"M 231.5 796.0 L 123.6 796.0\"></path><path d=\"M 231.5 790.2 L 123.9 790.2\"></path><path d=\"M 231.5 784.5 L 137.3 784.5\"></path><path d=\"M 231.5 778.7 L 136.3 778.7\"></path><path d=\"M 231.5 773.0 L 156.8 773.0\"></path><path d=\"M 231.5 767.2 L 171.5 767.2\"></path><path d=\"M 231.5 761.5 L 168.5 761.5\"></path><path d=\"M 231.5 755.7 L 203.1 755.7\"></path><path d=\"M 231.5 750.0 L 206.4 750.0\"></path><path d=\"M 231.5 744.3 L 192.3 744.3\"></path><path d=\"M 231.5 738.5 L 148.1 738.5\"></path><path d=\"M 231.5 732.8 L 224.4 732.8\"></path><path d=\"M 231.5 727.0 L 222.3 727.0\"></path><path d=\"M 231.5 721.3 L 226.2 721.3\"></path><path d=\"M 231.5 715.5 L 225.9 715.5\"></path><path d=\"M 231.5 709.8 L 218.4 709.8\"></path><path d=\"M 231.5 704.0 L 223.0 704.0\"></path><path d=\"M 231.5 698.3 L 226.5 698.3\"></path><path d=\"M 231.5 692.6 L 214.2 692.6\"></path><path d=\"M 231.5 686.8 L 212.1 686.8\"></path><path d=\"M 231.5 681.1 L 229.4 681.1\"></path><path d=\"M 231.5 675.3 L 229.1 675.3\"></path><path d=\"M 231.5 669.6 L 229.1 669.6\"></path><path d=\"M 231.5 663.8 L 229.7 663.8\"></path><path d=\"M 231.5 658.1 L 231.5 658.1\"></path><path d=\"M 231.5 652.3 L 224.4 652.3\"></path><path d=\"M 231.5 646.6 L 224.9 646.6\"></path><path d=\"M 231.5 640.9 L 226.3 640.9\"></path><path d=\"M 231.5 635.1 L 209.9 635.1\"></path><path d=\"M 231.5 629.4 L 195.2 629.4\"></path><path d=\"M 231.5 623.6 L 196.7 623.6\"></path><path d=\"M 231.5 617.9 L 201.1 617.9\"></path><path d=\"M 231.5 612.1 L 199.0 612.1\"></path><path d=\"M 231.5 606.4 L 193.1 606.4\"></path><path d=\"M 231.5 600.6 L 193.2 600.6\"></path><path d=\"M 231.5 594.9 L 198.0 594.9\"></path><path d=\"M 231.5 589.1 L 158.7 589.1\"></path><path d=\"M 231.5 583.4 L 162.8 583.4\"></path><path d=\"M 231.5 577.7 L 159.9 577.7\"></path><path d=\"M 231.5 571.9 L 158.6 571.9\"></path><path d=\"M 231.5 566.2 L 153.6 566.2\"></path><path d=\"M 231.5 560.4 L 161.3 560.4\"></path><path d=\"M 231.5 554.7 L 153.5 554.7\"></path><path d=\"M 231.5 548.9 L 144.5 548.9\"></path><path d=\"M 231.5 543.2 L 165.8 543.2\"></path><path d=\"M 231.5 537.4 L 187.8 537.4\"></path><path d=\"M 231.5 531.7 L 187.8 531.7\"></path><path d=\"M 231.5 526.0 L 187.8 526.0\"></path><path d=\"M 231.5 520.2 L 184.5 520.2\"></path><path d=\"M 231.5 514.5 L 184.0 514.5\"></path><path d=\"M 231.5 508.7 L 176.0 508.7\"></path><path d=\"M 231.5 503.0 L 173.1 503.0\"></path><path d=\"M 231.5 497.2 L 201.8 497.2\"></path><path d=\"M 231.5 491.5 L 206.2 491.5\"></path><path d=\"M 231.5 485.7 L 201.3 485.7\"></path><path d=\"M 231.5 480.0 L 195.7 480.0\"></path><path d=\"M 231.5 474.3 L 181.7 474.3\"></path><path d=\"M 231.5 468.5 L 174.8 468.5\"></path><path d=\"M 231.5 462.8 L 177.7 462.8\"></path><path d=\"M 231.5 457.0 L 165.8 457.0\"></path><path d=\"M 231.5 451.3 L 195.4 451.3\"></path><path d=\"M 231.5 445.5 L 197.9 445.5\"></path><path d=\"M 231.5 439.8 L 165.5 439.8\"></path><path d=\"M 231.5 434.0 L 180.6 434.0\"></path><path d=\"M 231.5 428.3 L 162.7 428.3\"></path><path d=\"M 231.5 422.6 L 161.7 422.6\"></path><path d=\"M 231.5 416.8 L 194.7 416.8\"></path><path d=\"M 231.5 411.1 L 125.2 411.1\"></path><path d=\"M 231.5 405.3 L 125.5 405.3\"></path><path d=\"M 231.5 399.6 L 125.6 399.6\"></path><path d=\"M 231.5 393.8 L 126.1 393.8\"></path><path d=\"M 231.5 388.1 L 125.7 388.1\"></path><path d=\"M 231.5 382.3 L 125.6 382.3\"></path><path d=\"M 231.5 376.6 L 125.8 376.6\"></path><path d=\"M 231.5 370.8 L 125.7 370.8\"></path><path d=\"M 231.5 365.1 L 125.7 365.1\"></path><path d=\"M 231.5 359.4 L 125.9 359.4\"></path><path d=\"M 231.5 353.6 L 125.8 353.6\"></path><path d=\"M 231.5 347.9 L 125.9 347.9\"></path><path d=\"M 231.5 342.1 L 125.7 342.1\"></path><path d=\"M 231.5 336.4 L 125.8 336.4\"></path><path d=\"M 231.5 330.6 L 126.0 330.6\"></path><path d=\"M 231.5 324.9 L 126.1 324.9\"></path><path d=\"M 231.5 319.1 L 122.3 319.1\"></path><path d=\"M 231.5 313.4 L 122.3 313.4\"></path><path d=\"M 231.5 307.7 L 122.3 307.7\"></path><path d=\"M 231.5 301.9 L 122.3 301.9\"></path><path d=\"M 231.5 296.2 L 122.4 296.2\"></path><path d=\"M 231.5 290.4 L 122.7 290.4\"></path><path d=\"M 231.5 284.7 L 131.3 284.7\"></path><path d=\"M 231.5 278.9 L 131.3 278.9\"></path><path d=\"M 231.5 273.2 L 133.0 273.2\"></path><path d=\"M 231.5 267.4 L 133.0 267.4\"></path><path d=\"M 231.5 261.7 L 132.6 261.7\"></path><path d=\"M 231.5 256.0 L 129.5 256.0\"></path><path d=\"M 231.5 250.2 L 128.8 250.2\"></path><path d=\"M 231.5 244.5 L 130.4 244.5\"></path><path d=\"M 231.5 238.7 L 129.9 238.7\"></path><path d=\"M 231.5 233.0 L 128.7 233.0\"></path><path d=\"M 231.5 227.2 L 126.1 227.2\"></path><path d=\"M 231.5 221.5 L 126.7 221.5\"></path><path d=\"M 231.5 215.7 L 121.8 215.7\"></path><path d=\"M 231.5 210.0 L 121.4 210.0\"></path><path d=\"M 231.5 204.3 L 120.8 204.3\"></path><path d=\"M 231.5 198.5 L 120.7 198.5\"></path><path d=\"M 231.5 192.8 L 120.6 192.8\"></path><path d=\"M 231.5 187.0 L 120.5 187.0\"></path><path d=\"M 231.5 181.3 L 113.3 181.3\"></path><path d=\"M 231.5 175.5 L 143.0 175.5\"></path><path d=\"M 231.5 169.8 L 141.8 169.8\"></path><path d=\"M 231.5 164.0 L 114.5 164.0\"></path><path d=\"M 231.5 158.3 L 147.3 158.3\"></path><path d=\"M 231.5 152.6 L 146.7 152.6\"></path><path d=\"M 231.5 146.8 L 175.3 146.8\"></path><path d=\"M 231.5 141.1 L 191.0 141.1\"></path><path d=\"M 231.5 135.3 L 150.4 135.3\"></path><path d=\"M 231.5 129.6 L 176.4 129.6\"></path><path d=\"M 231.5 123.8 L 127.8 123.8\"></path><path d=\"M 231.5 118.1 L 148.6 118.1\"></path><path d=\"M 231.5 112.3 L 148.5 112.3\"></path><path d=\"M 231.5 106.6 L 112.8 106.6\"></path><path d=\"M 231.5 100.8 L 116.9 100.8\"></path><path d=\"M 231.5 95.1 L 120.3 95.1\"></path><path d=\"M 231.5 89.4 L 120.1 89.4\"></path><path d=\"M 231.5 83.6 L 131.7 83.6\"></path><path d=\"M 231.5 77.9 L 133.0 77.9\"></path><path d=\"M 231.5 72.1 L 121.9 72.1\"></path><path d=\"M 231.5 66.4 L 120.6 66.4\"></path><path d=\"M 231.5 60.6 L 128.1 60.6\"></path></g><g class=\"toytree-TipLabels\" style=\"fill:rgb(14.9%,14.9%,14.9%);fill-opacity:1.0;font-family:helvetica;font-size:8px;font-weight:normal;stroke:none;white-space:pre\"><g transform=\"translate(231.54,1439.36)rotate(0)\"><text x=\"15.00\" y=\"2.04\" style=\"fill:rgb(82.7%,82.7%,82.7%);fill-opacity:1.0\">Capra_aegagrus</text></g><g transform=\"translate(231.54,1433.62)rotate(0)\"><text x=\"15.00\" y=\"2.04\" style=\"fill:rgb(100%,49.8%,31.4%);fill-opacity:1.0\">Capra_hircus</text></g><g transform=\"translate(231.54,1427.87)rotate(0)\"><text x=\"15.00\" y=\"2.04\" style=\"fill:rgb(82.7%,82.7%,82.7%);fill-opacity:1.0\">Hemitragus_hylocrius</text></g><g transform=\"translate(231.54,1422.13)rotate(0)\"><text x=\"15.00\" y=\"2.04\" style=\"fill:rgb(100%,49.8%,31.4%);fill-opacity:1.0\">Ammotragus_lervia</text></g><g transform=\"translate(231.54,1416.39)rotate(0)\"><text x=\"15.00\" y=\"2.04\" style=\"fill:rgb(100%,49.8%,31.4%);fill-opacity:1.0\">Ovis_canadensis</text></g><g transform=\"translate(231.54,1410.64)rotate(0)\"><text x=\"15.00\" y=\"2.04\" style=\"fill:rgb(0%,0%,0%);fill-opacity:1.0\">Ovis_aries</text></g><g transform=\"translate(231.54,1404.90)rotate(0)\"><text x=\"15.00\" y=\"2.04\" style=\"fill:rgb(0%,0%,0%);fill-opacity:1.0\">Beatragus_hunteri</text></g><g transform=\"translate(231.54,1399.15)rotate(0)\"><text x=\"15.00\" y=\"2.04\" style=\"fill:rgb(100%,49.8%,31.4%);fill-opacity:1.0\">Saiga_tatarica</text></g><g transform=\"translate(231.54,1393.41)rotate(0)\"><text x=\"15.00\" y=\"2.04\" style=\"fill:rgb(100%,49.8%,31.4%);fill-opacity:1.0\">Pantholops_hodgsonii</text></g><g transform=\"translate(231.54,1387.66)rotate(0)\"><text x=\"15.00\" y=\"2.04\" style=\"fill:rgb(100%,49.8%,31.4%);fill-opacity:1.0\">Bos_indicus</text></g><g transform=\"translate(231.54,1381.92)rotate(0)\"><text x=\"15.00\" y=\"2.04\" style=\"fill:rgb(0%,0%,0%);fill-opacity:1.0\">Bos_taurus</text></g><g transform=\"translate(231.54,1376.17)rotate(0)\"><text x=\"15.00\" y=\"2.04\" style=\"fill:rgb(82.7%,82.7%,82.7%);fill-opacity:1.0\">Bos_mutus</text></g><g transform=\"translate(231.54,1370.43)rotate(0)\"><text x=\"15.00\" y=\"2.04\" style=\"fill:rgb(100%,49.8%,31.4%);fill-opacity:1.0\">Bison_bison</text></g><g transform=\"translate(231.54,1364.68)rotate(0)\"><text x=\"15.00\" y=\"2.04\" style=\"fill:rgb(0%,0%,0%);fill-opacity:1.0\">Bubalus_bubalis</text></g><g transform=\"translate(231.54,1358.94)rotate(0)\"><text x=\"15.00\" y=\"2.04\" style=\"fill:rgb(0%,0%,0%);fill-opacity:1.0\">Moschus_moschiferus</text></g><g transform=\"translate(231.54,1353.19)rotate(0)\"><text x=\"15.00\" y=\"2.04\" style=\"fill:rgb(0%,0%,0%);fill-opacity:1.0\">Giraffa_tippelskirchi</text></g><g transform=\"translate(231.54,1347.45)rotate(0)\"><text x=\"15.00\" y=\"2.04\" style=\"fill:rgb(100%,49.8%,31.4%);fill-opacity:1.0\">Okapia_johnstoni</text></g><g transform=\"translate(231.54,1341.70)rotate(0)\"><text x=\"15.00\" y=\"2.04\" style=\"fill:rgb(0%,0%,0%);fill-opacity:1.0\">Antilocapra_americana</text></g><g transform=\"translate(231.54,1335.96)rotate(0)\"><text x=\"15.00\" y=\"2.04\" style=\"fill:rgb(0%,0%,0%);fill-opacity:1.0\">Rangifer_tarandus</text></g><g transform=\"translate(231.54,1330.21)rotate(0)\"><text x=\"15.00\" y=\"2.04\" style=\"fill:rgb(100%,49.8%,31.4%);fill-opacity:1.0\">Odocoileus_virginianus</text></g><g transform=\"translate(231.54,1324.47)rotate(0)\"><text x=\"15.00\" y=\"2.04\" style=\"fill:rgb(100%,49.8%,31.4%);fill-opacity:1.0\">Elaphurus_davidianus</text></g><g transform=\"translate(231.54,1318.73)rotate(0)\"><text x=\"15.00\" y=\"2.04\" style=\"fill:rgb(100%,49.8%,31.4%);fill-opacity:1.0\">Tragulus_javanicus</text></g><g transform=\"translate(231.54,1312.98)rotate(0)\"><text x=\"15.00\" y=\"2.04\" style=\"fill:rgb(100%,49.8%,31.4%);fill-opacity:1.0\">Monodon_monoceros</text></g><g transform=\"translate(231.54,1307.24)rotate(0)\"><text x=\"15.00\" y=\"2.04\" style=\"fill:rgb(0%,0%,0%);fill-opacity:1.0\">Delphinapterus_leucas</text></g><g transform=\"translate(231.54,1301.49)rotate(0)\"><text x=\"15.00\" y=\"2.04\" style=\"fill:rgb(82.7%,82.7%,82.7%);fill-opacity:1.0\">Phocoena_phocoena</text></g><g transform=\"translate(231.54,1295.75)rotate(0)\"><text x=\"15.00\" y=\"2.04\" style=\"fill:rgb(100%,49.8%,31.4%);fill-opacity:1.0\">Neophocaena_asiaeorientalis</text></g><g transform=\"translate(231.54,1290.00)rotate(0)\"><text x=\"15.00\" y=\"2.04\" style=\"fill:rgb(82.7%,82.7%,82.7%);fill-opacity:1.0\">Orcinus_orca</text></g><g transform=\"translate(231.54,1284.26)rotate(0)\"><text x=\"15.00\" y=\"2.04\" style=\"fill:rgb(82.7%,82.7%,82.7%);fill-opacity:1.0\">Tursiops_truncatus</text></g><g transform=\"translate(231.54,1278.51)rotate(0)\"><text x=\"15.00\" y=\"2.04\" style=\"fill:rgb(82.7%,82.7%,82.7%);fill-opacity:1.0\">Lipotes_vexillifer</text></g><g transform=\"translate(231.54,1272.77)rotate(0)\"><text x=\"15.00\" y=\"2.04\" style=\"fill:rgb(100%,49.8%,31.4%);fill-opacity:1.0\">Inia_geoffrensis</text></g><g transform=\"translate(231.54,1267.02)rotate(0)\"><text x=\"15.00\" y=\"2.04\" style=\"fill:rgb(82.7%,82.7%,82.7%);fill-opacity:1.0\">Ziphius_cavirostris</text></g><g transform=\"translate(231.54,1261.28)rotate(0)\"><text x=\"15.00\" y=\"2.04\" style=\"fill:rgb(82.7%,82.7%,82.7%);fill-opacity:1.0\">Mesoplodon_bidens</text></g><g transform=\"translate(231.54,1255.53)rotate(0)\"><text x=\"15.00\" y=\"2.04\" style=\"fill:rgb(0%,0%,0%);fill-opacity:1.0\">Platanista_gangetica</text></g><g transform=\"translate(231.54,1249.79)rotate(0)\"><text x=\"15.00\" y=\"2.04\" style=\"fill:rgb(82.7%,82.7%,82.7%);fill-opacity:1.0\">Kogia_breviceps</text></g><g transform=\"translate(231.54,1244.04)rotate(0)\"><text x=\"15.00\" y=\"2.04\" style=\"fill:rgb(100%,49.8%,31.4%);fill-opacity:1.0\">Balaenoptera_acutorostrata</text></g><g transform=\"translate(231.54,1238.30)rotate(0)\"><text x=\"15.00\" y=\"2.04\" style=\"fill:rgb(82.7%,82.7%,82.7%);fill-opacity:1.0\">Balaenoptera_bonaerensis</text></g><g transform=\"translate(231.54,1232.55)rotate(0)\"><text x=\"15.00\" y=\"2.04\" style=\"fill:rgb(100%,49.8%,31.4%);fill-opacity:1.0\">Eschrichtius_robustus</text></g><g transform=\"translate(231.54,1226.81)rotate(0)\"><text x=\"15.00\" y=\"2.04\" style=\"fill:rgb(100%,49.8%,31.4%);fill-opacity:1.0\">Eubalaena_japonica</text></g><g transform=\"translate(231.54,1221.07)rotate(0)\"><text x=\"15.00\" y=\"2.04\" style=\"fill:rgb(0%,0%,0%);fill-opacity:1.0\">Hippopotamus_amphibius</text></g><g transform=\"translate(231.54,1215.32)rotate(0)\"><text x=\"15.00\" y=\"2.04\" style=\"fill:rgb(0%,0%,0%);fill-opacity:1.0\">Sus_scrofa</text></g><g transform=\"translate(231.54,1209.58)rotate(0)\"><text x=\"15.00\" y=\"2.04\" style=\"fill:rgb(0%,0%,0%);fill-opacity:1.0\">Catagonus_wagneri</text></g><g transform=\"translate(231.54,1203.83)rotate(0)\"><text x=\"15.00\" y=\"2.04\" style=\"fill:rgb(0%,0%,0%);fill-opacity:1.0\">Camelus_bactrianus</text></g><g transform=\"translate(231.54,1198.09)rotate(0)\"><text x=\"15.00\" y=\"2.04\" style=\"fill:rgb(100%,49.8%,31.4%);fill-opacity:1.0\">Camelus_ferus</text></g><g transform=\"translate(231.54,1192.34)rotate(0)\"><text x=\"15.00\" y=\"2.04\" style=\"fill:rgb(100%,49.8%,31.4%);fill-opacity:1.0\">Camelus_dromedarius</text></g><g transform=\"translate(231.54,1186.60)rotate(0)\"><text x=\"15.00\" y=\"2.04\" style=\"fill:rgb(82.7%,82.7%,82.7%);fill-opacity:1.0\">Vicugna_pacos</text></g><g transform=\"translate(231.54,1180.85)rotate(0)\"><text x=\"15.00\" y=\"2.04\" style=\"fill:rgb(100%,49.8%,31.4%);fill-opacity:1.0\">Enhydra_lutris</text></g><g transform=\"translate(231.54,1175.11)rotate(0)\"><text x=\"15.00\" y=\"2.04\" style=\"fill:rgb(82.7%,82.7%,82.7%);fill-opacity:1.0\">Pteronura_brasiliensis</text></g><g transform=\"translate(231.54,1169.36)rotate(0)\"><text x=\"15.00\" y=\"2.04\" style=\"fill:rgb(100%,49.8%,31.4%);fill-opacity:1.0\">Mustela_putorius</text></g><g transform=\"translate(231.54,1163.62)rotate(0)\"><text x=\"15.00\" y=\"2.04\" style=\"fill:rgb(0%,0%,0%);fill-opacity:1.0\">Mellivora_capensis</text></g><g transform=\"translate(231.54,1157.87)rotate(0)\"><text x=\"15.00\" y=\"2.04\" style=\"fill:rgb(100%,49.8%,31.4%);fill-opacity:1.0\">Ailurus_fulgens</text></g><g transform=\"translate(231.54,1152.13)rotate(0)\"><text x=\"15.00\" y=\"2.04\" style=\"fill:rgb(0%,0%,0%);fill-opacity:1.0\">Spilogale_gracilis</text></g><g transform=\"translate(231.54,1146.38)rotate(0)\"><text x=\"15.00\" y=\"2.04\" style=\"fill:rgb(82.7%,82.7%,82.7%);fill-opacity:1.0\">Mirounga_angustirostris</text></g><g transform=\"translate(231.54,1140.64)rotate(0)\"><text x=\"15.00\" y=\"2.04\" style=\"fill:rgb(0%,0%,0%);fill-opacity:1.0\">Leptonychotes_weddellii</text></g><g transform=\"translate(231.54,1134.89)rotate(0)\"><text x=\"15.00\" y=\"2.04\" style=\"fill:rgb(100%,49.8%,31.4%);fill-opacity:1.0\">Neomonachus_schauinslandi</text></g><g transform=\"translate(231.54,1129.15)rotate(0)\"><text x=\"15.00\" y=\"2.04\" style=\"fill:rgb(100%,49.8%,31.4%);fill-opacity:1.0\">Odobenus_rosmarus</text></g><g transform=\"translate(231.54,1123.41)rotate(0)\"><text x=\"15.00\" y=\"2.04\" style=\"fill:rgb(0%,0%,0%);fill-opacity:1.0\">Zalophus_californianus</text></g><g transform=\"translate(231.54,1117.66)rotate(0)\"><text x=\"15.00\" y=\"2.04\" style=\"fill:rgb(100%,49.8%,31.4%);fill-opacity:1.0\">Ursus_maritimus</text></g><g transform=\"translate(231.54,1111.92)rotate(0)\"><text x=\"15.00\" y=\"2.04\" style=\"fill:rgb(0%,0%,0%);fill-opacity:1.0\">Ailuropoda_melanoleuca</text></g><g transform=\"translate(231.54,1106.17)rotate(0)\"><text x=\"15.00\" y=\"2.04\" style=\"fill:rgb(0%,0%,0%);fill-opacity:1.0\">Canis_lupus_familiaris</text></g><g transform=\"translate(231.54,1100.43)rotate(0)\"><text x=\"15.00\" y=\"2.04\" style=\"fill:rgb(82.7%,82.7%,82.7%);fill-opacity:1.0\">Canis_lupus</text></g><g transform=\"translate(231.54,1094.68)rotate(0)\"><text x=\"15.00\" y=\"2.04\" style=\"fill:rgb(100%,49.8%,31.4%);fill-opacity:1.0\">Lycaon_pictus</text></g><g transform=\"translate(231.54,1088.94)rotate(0)\"><text x=\"15.00\" y=\"2.04\" style=\"fill:rgb(82.7%,82.7%,82.7%);fill-opacity:1.0\">Vulpes_lagopus</text></g><g transform=\"translate(231.54,1083.19)rotate(0)\"><text x=\"15.00\" y=\"2.04\" style=\"fill:rgb(100%,49.8%,31.4%);fill-opacity:1.0\">Felis_nigripes</text></g><g transform=\"translate(231.54,1077.45)rotate(0)\"><text x=\"15.00\" y=\"2.04\" style=\"fill:rgb(0%,0%,0%);fill-opacity:1.0\">Felis_catus</text></g><g transform=\"translate(231.54,1071.70)rotate(0)\"><text x=\"15.00\" y=\"2.04\" style=\"fill:rgb(100%,49.8%,31.4%);fill-opacity:1.0\">Puma_concolor</text></g><g transform=\"translate(231.54,1065.96)rotate(0)\"><text x=\"15.00\" y=\"2.04\" style=\"fill:rgb(100%,49.8%,31.4%);fill-opacity:1.0\">Acinonyx_jubatus</text></g><g transform=\"translate(231.54,1060.21)rotate(0)\"><text x=\"15.00\" y=\"2.04\" style=\"fill:rgb(100%,49.8%,31.4%);fill-opacity:1.0\">Panthera_onca</text></g><g transform=\"translate(231.54,1054.47)rotate(0)\"><text x=\"15.00\" y=\"2.04\" style=\"fill:rgb(82.7%,82.7%,82.7%);fill-opacity:1.0\">Panthera_pardus</text></g><g transform=\"translate(231.54,1048.72)rotate(0)\"><text x=\"15.00\" y=\"2.04\" style=\"fill:rgb(100%,49.8%,31.4%);fill-opacity:1.0\">Panthera_tigris</text></g><g transform=\"translate(231.54,1042.98)rotate(0)\"><text x=\"15.00\" y=\"2.04\" style=\"fill:rgb(82.7%,82.7%,82.7%);fill-opacity:1.0\">Suricata_suricatta</text></g><g transform=\"translate(231.54,1037.24)rotate(0)\"><text x=\"15.00\" y=\"2.04\" style=\"fill:rgb(0%,0%,0%);fill-opacity:1.0\">Mungos_mungo</text></g><g transform=\"translate(231.54,1031.49)rotate(0)\"><text x=\"15.00\" y=\"2.04\" style=\"fill:rgb(82.7%,82.7%,82.7%);fill-opacity:1.0\">Helogale_parvula</text></g><g transform=\"translate(231.54,1025.75)rotate(0)\"><text x=\"15.00\" y=\"2.04\" style=\"fill:rgb(0%,0%,0%);fill-opacity:1.0\">Cryptoprocta_ferox</text></g><g transform=\"translate(231.54,1020.00)rotate(0)\"><text x=\"15.00\" y=\"2.04\" style=\"fill:rgb(0%,0%,0%);fill-opacity:1.0\">Hyaena_hyaena</text></g><g transform=\"translate(231.54,1014.26)rotate(0)\"><text x=\"15.00\" y=\"2.04\" style=\"fill:rgb(0%,0%,0%);fill-opacity:1.0\">Paradoxurus_hermaphroditus</text></g><g transform=\"translate(231.54,1008.51)rotate(0)\"><text x=\"15.00\" y=\"2.04\" style=\"fill:rgb(0%,0%,0%);fill-opacity:1.0\">Manis_pentadactyla</text></g><g transform=\"translate(231.54,1002.77)rotate(0)\"><text x=\"15.00\" y=\"2.04\" style=\"fill:rgb(0%,0%,0%);fill-opacity:1.0\">Manis_javanica</text></g><g transform=\"translate(231.54,997.02)rotate(0)\"><text x=\"15.00\" y=\"2.04\" style=\"fill:rgb(0%,0%,0%);fill-opacity:1.0\">Ceratotherium_simum_cottoni</text></g><g transform=\"translate(231.54,991.28)rotate(0)\"><text x=\"15.00\" y=\"2.04\" style=\"fill:rgb(82.7%,82.7%,82.7%);fill-opacity:1.0\">Ceratotherium_simum</text></g><g transform=\"translate(231.54,985.53)rotate(0)\"><text x=\"15.00\" y=\"2.04\" style=\"fill:rgb(82.7%,82.7%,82.7%);fill-opacity:1.0\">Diceros_bicornis</text></g><g transform=\"translate(231.54,979.79)rotate(0)\"><text x=\"15.00\" y=\"2.04\" style=\"fill:rgb(0%,0%,0%);fill-opacity:1.0\">Dicerorhinus_sumatrensis</text></g><g transform=\"translate(231.54,974.04)rotate(0)\"><text x=\"15.00\" y=\"2.04\" style=\"fill:rgb(82.7%,82.7%,82.7%);fill-opacity:1.0\">Tapirus_terrestris</text></g><g transform=\"translate(231.54,968.30)rotate(0)\"><text x=\"15.00\" y=\"2.04\" style=\"fill:rgb(0%,0%,0%);fill-opacity:1.0\">Tapirus_indicus</text></g><g transform=\"translate(231.54,962.55)rotate(0)\"><text x=\"15.00\" y=\"2.04\" style=\"fill:rgb(100%,49.8%,31.4%);fill-opacity:1.0\">Equus_przewalskii</text></g><g transform=\"translate(231.54,956.81)rotate(0)\"><text x=\"15.00\" y=\"2.04\" style=\"fill:rgb(0%,0%,0%);fill-opacity:1.0\">Equus_caballus</text></g><g transform=\"translate(231.54,951.06)rotate(0)\"><text x=\"15.00\" y=\"2.04\" style=\"fill:rgb(100%,49.8%,31.4%);fill-opacity:1.0\">Equus_asinus</text></g><g transform=\"translate(231.54,945.32)rotate(0)\"><text x=\"15.00\" y=\"2.04\" style=\"fill:rgb(0%,0%,0%);fill-opacity:1.0\">Myotis_lucifugus</text></g><g transform=\"translate(231.54,939.58)rotate(0)\"><text x=\"15.00\" y=\"2.04\" style=\"fill:rgb(100%,49.8%,31.4%);fill-opacity:1.0\">Myotis_brandtii</text></g><g transform=\"translate(231.54,933.83)rotate(0)\"><text x=\"15.00\" y=\"2.04\" style=\"fill:rgb(82.7%,82.7%,82.7%);fill-opacity:1.0\">Myotis_myotis</text></g><g transform=\"translate(231.54,928.09)rotate(0)\"><text x=\"15.00\" y=\"2.04\" style=\"fill:rgb(100%,49.8%,31.4%);fill-opacity:1.0\">Myotis_davidii</text></g><g transform=\"translate(231.54,922.34)rotate(0)\"><text x=\"15.00\" y=\"2.04\" style=\"fill:rgb(0%,0%,0%);fill-opacity:1.0\">Murina_feae</text></g><g transform=\"translate(231.54,916.60)rotate(0)\"><text x=\"15.00\" y=\"2.04\" style=\"fill:rgb(0%,0%,0%);fill-opacity:1.0\">Eptesicus_fuscus</text></g><g transform=\"translate(231.54,910.85)rotate(0)\"><text x=\"15.00\" y=\"2.04\" style=\"fill:rgb(100%,49.8%,31.4%);fill-opacity:1.0\">Pipistrellus_pipistrellus</text></g><g transform=\"translate(231.54,905.11)rotate(0)\"><text x=\"15.00\" y=\"2.04\" style=\"fill:rgb(82.7%,82.7%,82.7%);fill-opacity:1.0\">Lasiurus_borealis</text></g><g transform=\"translate(231.54,899.36)rotate(0)\"><text x=\"15.00\" y=\"2.04\" style=\"fill:rgb(0%,0%,0%);fill-opacity:1.0\">Miniopterus_schreibersii</text></g><g transform=\"translate(231.54,893.62)rotate(0)\"><text x=\"15.00\" y=\"2.04\" style=\"fill:rgb(100%,49.8%,31.4%);fill-opacity:1.0\">Miniopterus_natalensis</text></g><g transform=\"translate(231.54,887.87)rotate(0)\"><text x=\"15.00\" y=\"2.04\" style=\"fill:rgb(0%,0%,0%);fill-opacity:1.0\">Tadarida_brasiliensis</text></g><g transform=\"translate(231.54,882.13)rotate(0)\"><text x=\"15.00\" y=\"2.04\" style=\"fill:rgb(52.9%,80.8%,92.2%);fill-opacity:1.0\">Artibeus_jamaicensis</text></g><g transform=\"translate(231.54,876.38)rotate(0)\"><text x=\"15.00\" y=\"2.04\" style=\"fill:rgb(52.9%,80.8%,92.2%);fill-opacity:1.0\">Carollia_perspicillata</text></g><g transform=\"translate(231.54,870.64)rotate(0)\"><text x=\"15.00\" y=\"2.04\" style=\"fill:rgb(0%,0%,0%);fill-opacity:1.0\">Anoura_caudifer</text></g><g transform=\"translate(231.54,864.89)rotate(0)\"><text x=\"15.00\" y=\"2.04\" style=\"fill:rgb(0%,0%,0%);fill-opacity:1.0\">Micronycteris_hirsuta</text></g><g transform=\"translate(231.54,859.15)rotate(0)\"><text x=\"15.00\" y=\"2.04\" style=\"fill:rgb(0%,0%,0%);fill-opacity:1.0\">Tonatia_saurophila</text></g><g transform=\"translate(231.54,853.40)rotate(0)\"><text x=\"15.00\" y=\"2.04\" style=\"fill:rgb(100%,49.8%,31.4%);fill-opacity:1.0\">Desmodus_rotundus</text></g><g transform=\"translate(231.54,847.66)rotate(0)\"><text x=\"15.00\" y=\"2.04\" style=\"fill:rgb(0%,0%,0%);fill-opacity:1.0\">Mormoops_blainvillei</text></g><g transform=\"translate(231.54,841.92)rotate(0)\"><text x=\"15.00\" y=\"2.04\" style=\"fill:rgb(0%,0%,0%);fill-opacity:1.0\">Pteronotus_parnellii</text></g><g transform=\"translate(231.54,836.17)rotate(0)\"><text x=\"15.00\" y=\"2.04\" style=\"fill:rgb(0%,0%,0%);fill-opacity:1.0\">Noctilio_leporinus</text></g><g transform=\"translate(231.54,830.43)rotate(0)\"><text x=\"15.00\" y=\"2.04\" style=\"fill:rgb(100%,49.8%,31.4%);fill-opacity:1.0\">Pteropus_alecto</text></g><g transform=\"translate(231.54,824.68)rotate(0)\"><text x=\"15.00\" y=\"2.04\" style=\"fill:rgb(0%,0%,0%);fill-opacity:1.0\">Pteropus_vampyrus</text></g><g transform=\"translate(231.54,818.94)rotate(0)\"><text x=\"15.00\" y=\"2.04\" style=\"fill:rgb(0%,0%,0%);fill-opacity:1.0\">Rousettus_aegyptiacus</text></g><g transform=\"translate(231.54,813.19)rotate(0)\"><text x=\"15.00\" y=\"2.04\" style=\"fill:rgb(0%,0%,0%);fill-opacity:1.0\">Eidolon_helvum</text></g><g transform=\"translate(231.54,807.45)rotate(0)\"><text x=\"15.00\" y=\"2.04\" style=\"fill:rgb(0%,0%,0%);fill-opacity:1.0\">Macroglossus_sobrinus</text></g><g transform=\"translate(231.54,801.70)rotate(0)\"><text x=\"15.00\" y=\"2.04\" style=\"fill:rgb(82.7%,82.7%,82.7%);fill-opacity:1.0\">Hipposideros_galeritus</text></g><g transform=\"translate(231.54,795.96)rotate(0)\"><text x=\"15.00\" y=\"2.04\" style=\"fill:rgb(0%,0%,0%);fill-opacity:1.0\">Hipposideros_armiger</text></g><g transform=\"translate(231.54,790.21)rotate(0)\"><text x=\"15.00\" y=\"2.04\" style=\"fill:rgb(100%,49.8%,31.4%);fill-opacity:1.0\">Rhinolophus_sinicus</text></g><g transform=\"translate(231.54,784.47)rotate(0)\"><text x=\"15.00\" y=\"2.04\" style=\"fill:rgb(0%,0%,0%);fill-opacity:1.0\">Craseonycteris_thonglongyai</text></g><g transform=\"translate(231.54,778.72)rotate(0)\"><text x=\"15.00\" y=\"2.04\" style=\"fill:rgb(0%,0%,0%);fill-opacity:1.0\">Megaderma_lyra</text></g><g transform=\"translate(231.54,772.98)rotate(0)\"><text x=\"15.00\" y=\"2.04\" style=\"fill:rgb(0%,0%,0%);fill-opacity:1.0\">Scalopus_aquaticus</text></g><g transform=\"translate(231.54,767.23)rotate(0)\"><text x=\"15.00\" y=\"2.04\" style=\"fill:rgb(0%,0%,0%);fill-opacity:1.0\">Condylura_cristata</text></g><g transform=\"translate(231.54,761.49)rotate(0)\"><text x=\"15.00\" y=\"2.04\" style=\"fill:rgb(0%,0%,0%);fill-opacity:1.0\">Uropsilus_gracilis</text></g><g transform=\"translate(231.54,755.74)rotate(0)\"><text x=\"15.00\" y=\"2.04\" style=\"fill:rgb(52.9%,80.8%,92.2%);fill-opacity:1.0\">Sorex_araneus</text></g><g transform=\"translate(231.54,750.00)rotate(0)\"><text x=\"15.00\" y=\"2.04\" style=\"fill:rgb(0%,0%,0%);fill-opacity:1.0\">Crocidura_indochinensis</text></g><g transform=\"translate(231.54,744.26)rotate(0)\"><text x=\"15.00\" y=\"2.04\" style=\"fill:rgb(0%,0%,0%);fill-opacity:1.0\">Erinaceus_europaeus</text></g><g transform=\"translate(231.54,738.51)rotate(0)\"><text x=\"15.00\" y=\"2.04\" style=\"fill:rgb(0%,0%,0%);fill-opacity:1.0\">Solenodon_paradoxus</text></g><g transform=\"translate(231.54,732.77)rotate(0)\"><text x=\"15.00\" y=\"2.04\" style=\"fill:rgb(52.9%,80.8%,92.2%);fill-opacity:1.0\">Ellobius_lutescens</text></g><g transform=\"translate(231.54,727.02)rotate(0)\"><text x=\"15.00\" y=\"2.04\" style=\"fill:rgb(52.9%,80.8%,92.2%);fill-opacity:1.0\">Ellobius_talpinus</text></g><g transform=\"translate(231.54,721.28)rotate(0)\"><text x=\"15.00\" y=\"2.04\" style=\"fill:rgb(82.7%,82.7%,82.7%);fill-opacity:1.0\">Ondatra_zibethicus</text></g><g transform=\"translate(231.54,715.53)rotate(0)\"><text x=\"15.00\" y=\"2.04\" style=\"fill:rgb(52.9%,80.8%,92.2%);fill-opacity:1.0\">Microtus_ochrogaster</text></g><g transform=\"translate(231.54,709.79)rotate(0)\"><text x=\"15.00\" y=\"2.04\" style=\"fill:rgb(82.7%,82.7%,82.7%);fill-opacity:1.0\">Cricetulus_griseus</text></g><g transform=\"translate(231.54,704.04)rotate(0)\"><text x=\"15.00\" y=\"2.04\" style=\"fill:rgb(0%,0%,0%);fill-opacity:1.0\">Mesocricetus_auratus</text></g><g transform=\"translate(231.54,698.30)rotate(0)\"><text x=\"15.00\" y=\"2.04\" style=\"fill:rgb(82.7%,82.7%,82.7%);fill-opacity:1.0\">Sigmodon_hispidus</text></g><g transform=\"translate(231.54,692.55)rotate(0)\"><text x=\"15.00\" y=\"2.04\" style=\"fill:rgb(82.7%,82.7%,82.7%);fill-opacity:1.0\">Onychomys_torridus</text></g><g transform=\"translate(231.54,686.81)rotate(0)\"><text x=\"15.00\" y=\"2.04\" style=\"fill:rgb(82.7%,82.7%,82.7%);fill-opacity:1.0\">Peromyscus_maniculatus</text></g><g transform=\"translate(231.54,681.06)rotate(0)\"><text x=\"15.00\" y=\"2.04\" style=\"fill:rgb(82.7%,82.7%,82.7%);fill-opacity:1.0\">Mus_spretus</text></g><g transform=\"translate(231.54,675.32)rotate(0)\"><text x=\"15.00\" y=\"2.04\" style=\"fill:rgb(0%,0%,0%);fill-opacity:1.0\">Mus_musculus</text></g><g transform=\"translate(231.54,669.57)rotate(0)\"><text x=\"15.00\" y=\"2.04\" style=\"fill:rgb(82.7%,82.7%,82.7%);fill-opacity:1.0\">Mus_caroli</text></g><g transform=\"translate(231.54,663.83)rotate(0)\"><text x=\"15.00\" y=\"2.04\" style=\"fill:rgb(0%,0%,0%);fill-opacity:1.0\">Mus_pahari</text></g><g transform=\"translate(231.54,658.08)rotate(0)\"><text x=\"15.00\" y=\"2.04\" style=\"fill:rgb(0%,0%,0%);fill-opacity:1.0\">Rattus_norvegicus</text></g><g transform=\"translate(231.54,652.34)rotate(0)\"><text x=\"15.00\" y=\"2.04\" style=\"fill:rgb(100%,49.8%,31.4%);fill-opacity:1.0\">Psammomys_obesus</text></g><g transform=\"translate(231.54,646.60)rotate(0)\"><text x=\"15.00\" y=\"2.04\" style=\"fill:rgb(0%,0%,0%);fill-opacity:1.0\">Meriones_unguiculatus</text></g><g transform=\"translate(231.54,640.85)rotate(0)\"><text x=\"15.00\" y=\"2.04\" style=\"fill:rgb(0%,0%,0%);fill-opacity:1.0\">Acomys_cahirinus</text></g><g transform=\"translate(231.54,635.11)rotate(0)\"><text x=\"15.00\" y=\"2.04\" style=\"fill:rgb(0%,0%,0%);fill-opacity:1.0\">Cricetomys_gambianus</text></g><g transform=\"translate(231.54,629.36)rotate(0)\"><text x=\"15.00\" y=\"2.04\" style=\"fill:rgb(0%,0%,0%);fill-opacity:1.0\">Nannospalax_galili</text></g><g transform=\"translate(231.54,623.62)rotate(0)\"><text x=\"15.00\" y=\"2.04\" style=\"fill:rgb(0%,0%,0%);fill-opacity:1.0\">Allactaga_bullata</text></g><g transform=\"translate(231.54,617.87)rotate(0)\"><text x=\"15.00\" y=\"2.04\" style=\"fill:rgb(0%,0%,0%);fill-opacity:1.0\">Jaculus_jaculus</text></g><g transform=\"translate(231.54,612.13)rotate(0)\"><text x=\"15.00\" y=\"2.04\" style=\"fill:rgb(0%,0%,0%);fill-opacity:1.0\">Zapus_hudsonius</text></g><g transform=\"translate(231.54,606.38)rotate(0)\"><text x=\"15.00\" y=\"2.04\" style=\"fill:rgb(0%,0%,0%);fill-opacity:1.0\">Dipodomys_ordii</text></g><g transform=\"translate(231.54,600.64)rotate(0)\"><text x=\"15.00\" y=\"2.04\" style=\"fill:rgb(82.7%,82.7%,82.7%);fill-opacity:1.0\">Dipodomys_stephensi</text></g><g transform=\"translate(231.54,594.89)rotate(0)\"><text x=\"15.00\" y=\"2.04\" style=\"fill:rgb(100%,49.8%,31.4%);fill-opacity:1.0\">Perognathus_longimembris</text></g><g transform=\"translate(231.54,589.15)rotate(0)\"><text x=\"15.00\" y=\"2.04\" style=\"fill:rgb(0%,0%,0%);fill-opacity:1.0\">Castor_canadensis</text></g><g transform=\"translate(231.54,583.40)rotate(0)\"><text x=\"15.00\" y=\"2.04\" style=\"fill:rgb(100%,49.8%,31.4%);fill-opacity:1.0\">Marmota_marmota</text></g><g transform=\"translate(231.54,577.66)rotate(0)\"><text x=\"15.00\" y=\"2.04\" style=\"fill:rgb(0%,0%,0%);fill-opacity:1.0\">Ictidomys_tridecemlineatus</text></g><g transform=\"translate(231.54,571.91)rotate(0)\"><text x=\"15.00\" y=\"2.04\" style=\"fill:rgb(82.7%,82.7%,82.7%);fill-opacity:1.0\">Spermophilus_dauricus</text></g><g transform=\"translate(231.54,566.17)rotate(0)\"><text x=\"15.00\" y=\"2.04\" style=\"fill:rgb(0%,0%,0%);fill-opacity:1.0\">Xerus_inauris</text></g><g transform=\"translate(231.54,560.42)rotate(0)\"><text x=\"15.00\" y=\"2.04\" style=\"fill:rgb(0%,0%,0%);fill-opacity:1.0\">Aplodontia_rufa</text></g><g transform=\"translate(231.54,554.68)rotate(0)\"><text x=\"15.00\" y=\"2.04\" style=\"fill:rgb(0%,0%,0%);fill-opacity:1.0\">Graphiurus_murinus</text></g><g transform=\"translate(231.54,548.94)rotate(0)\"><text x=\"15.00\" y=\"2.04\" style=\"fill:rgb(0%,0%,0%);fill-opacity:1.0\">Glis_glis</text></g><g transform=\"translate(231.54,543.19)rotate(0)\"><text x=\"15.00\" y=\"2.04\" style=\"fill:rgb(0%,0%,0%);fill-opacity:1.0\">Muscardinus_avellanarius</text></g><g transform=\"translate(231.54,537.45)rotate(0)\"><text x=\"15.00\" y=\"2.04\" style=\"fill:rgb(0%,0%,0%);fill-opacity:1.0\">Cavia_porcellus</text></g><g transform=\"translate(231.54,531.70)rotate(0)\"><text x=\"15.00\" y=\"2.04\" style=\"fill:rgb(82.7%,82.7%,82.7%);fill-opacity:1.0\">Cavia_tschudii</text></g><g transform=\"translate(231.54,525.96)rotate(0)\"><text x=\"15.00\" y=\"2.04\" style=\"fill:rgb(100%,49.8%,31.4%);fill-opacity:1.0\">Cavia_aperea</text></g><g transform=\"translate(231.54,520.21)rotate(0)\"><text x=\"15.00\" y=\"2.04\" style=\"fill:rgb(0%,0%,0%);fill-opacity:1.0\">Hydrochoerus_hydrochaeris</text></g><g transform=\"translate(231.54,514.47)rotate(0)\"><text x=\"15.00\" y=\"2.04\" style=\"fill:rgb(0%,0%,0%);fill-opacity:1.0\">Dolichotis_patagonum</text></g><g transform=\"translate(231.54,508.72)rotate(0)\"><text x=\"15.00\" y=\"2.04\" style=\"fill:rgb(0%,0%,0%);fill-opacity:1.0\">Dasyprocta_punctata</text></g><g transform=\"translate(231.54,502.98)rotate(0)\"><text x=\"15.00\" y=\"2.04\" style=\"fill:rgb(0%,0%,0%);fill-opacity:1.0\">Cuniculus_paca</text></g><g transform=\"translate(231.54,497.23)rotate(0)\"><text x=\"15.00\" y=\"2.04\" style=\"fill:rgb(0%,0%,0%);fill-opacity:1.0\">Capromys_pilorides</text></g><g transform=\"translate(231.54,491.49)rotate(0)\"><text x=\"15.00\" y=\"2.04\" style=\"fill:rgb(0%,0%,0%);fill-opacity:1.0\">Myocastor_coypus</text></g><g transform=\"translate(231.54,485.74)rotate(0)\"><text x=\"15.00\" y=\"2.04\" style=\"fill:rgb(0%,0%,0%);fill-opacity:1.0\">Ctenomys_sociabilis</text></g><g transform=\"translate(231.54,480.00)rotate(0)\"><text x=\"15.00\" y=\"2.04\" style=\"fill:rgb(0%,0%,0%);fill-opacity:1.0\">Octodon_degus</text></g><g transform=\"translate(231.54,474.25)rotate(0)\"><text x=\"15.00\" y=\"2.04\" style=\"fill:rgb(0%,0%,0%);fill-opacity:1.0\">Dinomys_branickii</text></g><g transform=\"translate(231.54,468.51)rotate(0)\"><text x=\"15.00\" y=\"2.04\" style=\"fill:rgb(0%,0%,0%);fill-opacity:1.0\">Chinchilla_lanigera</text></g><g transform=\"translate(231.54,462.76)rotate(0)\"><text x=\"15.00\" y=\"2.04\" style=\"fill:rgb(100%,49.8%,31.4%);fill-opacity:1.0\">Fukomys_damarensis</text></g><g transform=\"translate(231.54,457.02)rotate(0)\"><text x=\"15.00\" y=\"2.04\" style=\"fill:rgb(0%,0%,0%);fill-opacity:1.0\">Heterocephalus_glaber</text></g><g transform=\"translate(231.54,451.28)rotate(0)\"><text x=\"15.00\" y=\"2.04\" style=\"fill:rgb(0%,0%,0%);fill-opacity:1.0\">Thryonomys_swinderianus</text></g><g transform=\"translate(231.54,445.53)rotate(0)\"><text x=\"15.00\" y=\"2.04\" style=\"fill:rgb(0%,0%,0%);fill-opacity:1.0\">Petromus_typicus</text></g><g transform=\"translate(231.54,439.79)rotate(0)\"><text x=\"15.00\" y=\"2.04\" style=\"fill:rgb(0%,0%,0%);fill-opacity:1.0\">Hystrix_cristata</text></g><g transform=\"translate(231.54,434.04)rotate(0)\"><text x=\"15.00\" y=\"2.04\" style=\"fill:rgb(0%,0%,0%);fill-opacity:1.0\">Ctenodactylus_gundi</text></g><g transform=\"translate(231.54,428.30)rotate(0)\"><text x=\"15.00\" y=\"2.04\" style=\"fill:rgb(82.7%,82.7%,82.7%);fill-opacity:1.0\">Lepus_americanus</text></g><g transform=\"translate(231.54,422.55)rotate(0)\"><text x=\"15.00\" y=\"2.04\" style=\"fill:rgb(0%,0%,0%);fill-opacity:1.0\">Oryctolagus_cuniculus</text></g><g transform=\"translate(231.54,416.81)rotate(0)\"><text x=\"15.00\" y=\"2.04\" style=\"fill:rgb(0%,0%,0%);fill-opacity:1.0\">Ochotona_princeps</text></g><g transform=\"translate(231.54,411.06)rotate(0)\"><text x=\"15.00\" y=\"2.04\" style=\"fill:rgb(82.7%,82.7%,82.7%);fill-opacity:1.0\">Macaca_fascicularis</text></g><g transform=\"translate(231.54,405.32)rotate(0)\"><text x=\"15.00\" y=\"2.04\" style=\"fill:rgb(0%,0%,0%);fill-opacity:1.0\">Macaca_mulatta</text></g><g transform=\"translate(231.54,399.57)rotate(0)\"><text x=\"15.00\" y=\"2.04\" style=\"fill:rgb(82.7%,82.7%,82.7%);fill-opacity:1.0\">Macaca_nemestrina</text></g><g transform=\"translate(231.54,393.83)rotate(0)\"><text x=\"15.00\" y=\"2.04\" style=\"fill:rgb(82.7%,82.7%,82.7%);fill-opacity:1.0\">Cercocebus_atys</text></g><g transform=\"translate(231.54,388.08)rotate(0)\"><text x=\"15.00\" y=\"2.04\" style=\"fill:rgb(82.7%,82.7%,82.7%);fill-opacity:1.0\">Mandrillus_leucophaeus</text></g><g transform=\"translate(231.54,382.34)rotate(0)\"><text x=\"15.00\" y=\"2.04\" style=\"fill:rgb(82.7%,82.7%,82.7%);fill-opacity:1.0\">Papio_anubis</text></g><g transform=\"translate(231.54,376.59)rotate(0)\"><text x=\"15.00\" y=\"2.04\" style=\"fill:rgb(100%,49.8%,31.4%);fill-opacity:1.0\">Chlorocebus_sabaeus</text></g><g transform=\"translate(231.54,370.85)rotate(0)\"><text x=\"15.00\" y=\"2.04\" style=\"fill:rgb(82.7%,82.7%,82.7%);fill-opacity:1.0\">Erythrocebus_patas</text></g><g transform=\"translate(231.54,365.11)rotate(0)\"><text x=\"15.00\" y=\"2.04\" style=\"fill:rgb(82.7%,82.7%,82.7%);fill-opacity:1.0\">Cercopithecus_neglectus</text></g><g transform=\"translate(231.54,359.36)rotate(0)\"><text x=\"15.00\" y=\"2.04\" style=\"fill:rgb(100%,49.8%,31.4%);fill-opacity:1.0\">Rhinopithecus_bieti</text></g><g transform=\"translate(231.54,353.62)rotate(0)\"><text x=\"15.00\" y=\"2.04\" style=\"fill:rgb(100%,49.8%,31.4%);fill-opacity:1.0\">Rhinopithecus_roxellana</text></g><g transform=\"translate(231.54,347.87)rotate(0)\"><text x=\"15.00\" y=\"2.04\" style=\"fill:rgb(82.7%,82.7%,82.7%);fill-opacity:1.0\">Pygathrix_nemaeus</text></g><g transform=\"translate(231.54,342.13)rotate(0)\"><text x=\"15.00\" y=\"2.04\" style=\"fill:rgb(82.7%,82.7%,82.7%);fill-opacity:1.0\">Nasalis_larvatus</text></g><g transform=\"translate(231.54,336.38)rotate(0)\"><text x=\"15.00\" y=\"2.04\" style=\"fill:rgb(82.7%,82.7%,82.7%);fill-opacity:1.0\">Semnopithecus_entellus</text></g><g transform=\"translate(231.54,330.64)rotate(0)\"><text x=\"15.00\" y=\"2.04\" style=\"fill:rgb(82.7%,82.7%,82.7%);fill-opacity:1.0\">Colobus_angolensis</text></g><g transform=\"translate(231.54,324.89)rotate(0)\"><text x=\"15.00\" y=\"2.04\" style=\"fill:rgb(100%,49.8%,31.4%);fill-opacity:1.0\">Piliocolobus_tephrosceles</text></g><g transform=\"translate(231.54,319.15)rotate(0)\"><text x=\"15.00\" y=\"2.04\" style=\"fill:rgb(82.7%,82.7%,82.7%);fill-opacity:1.0\">Pan_paniscus</text></g><g transform=\"translate(231.54,313.40)rotate(0)\"><text x=\"15.00\" y=\"2.04\" style=\"fill:rgb(100%,49.8%,31.4%);fill-opacity:1.0\">Pan_troglodytes</text></g><g transform=\"translate(231.54,307.66)rotate(0)\"><text x=\"15.00\" y=\"2.04\" style=\"fill:rgb(0%,0%,0%);fill-opacity:1.0\">Homo_sapiens</text></g><g transform=\"translate(231.54,301.91)rotate(0)\"><text x=\"15.00\" y=\"2.04\" style=\"fill:rgb(82.7%,82.7%,82.7%);fill-opacity:1.0\">Gorilla_gorilla</text></g><g transform=\"translate(231.54,296.17)rotate(0)\"><text x=\"15.00\" y=\"2.04\" style=\"fill:rgb(0%,0%,0%);fill-opacity:1.0\">Pongo_abelii</text></g><g transform=\"translate(231.54,290.42)rotate(0)\"><text x=\"15.00\" y=\"2.04\" style=\"fill:rgb(0%,0%,0%);fill-opacity:1.0\">Nomascus_leucogenys</text></g><g transform=\"translate(231.54,284.68)rotate(0)\"><text x=\"15.00\" y=\"2.04\" style=\"fill:rgb(100%,49.8%,31.4%);fill-opacity:1.0\">Cebus_capucinus</text></g><g transform=\"translate(231.54,278.93)rotate(0)\"><text x=\"15.00\" y=\"2.04\" style=\"fill:rgb(82.7%,82.7%,82.7%);fill-opacity:1.0\">Cebus_albifrons</text></g><g transform=\"translate(231.54,273.19)rotate(0)\"><text x=\"15.00\" y=\"2.04\" style=\"fill:rgb(0%,0%,0%);fill-opacity:1.0\">Saimiri_boliviensis</text></g><g transform=\"translate(231.54,267.45)rotate(0)\"><text x=\"15.00\" y=\"2.04\" style=\"fill:rgb(0%,0%,0%);fill-opacity:1.0\">Callithrix_jacchus</text></g><g transform=\"translate(231.54,261.70)rotate(0)\"><text x=\"15.00\" y=\"2.04\" style=\"fill:rgb(100%,49.8%,31.4%);fill-opacity:1.0\">Saguinus_imperator</text></g><g transform=\"translate(231.54,255.96)rotate(0)\"><text x=\"15.00\" y=\"2.04\" style=\"fill:rgb(52.9%,80.8%,92.2%);fill-opacity:1.0\">Aotus_nancymaae</text></g><g transform=\"translate(231.54,250.21)rotate(0)\"><text x=\"15.00\" y=\"2.04\" style=\"fill:rgb(82.7%,82.7%,82.7%);fill-opacity:1.0\">Ateles_geoffroyi</text></g><g transform=\"translate(231.54,244.47)rotate(0)\"><text x=\"15.00\" y=\"2.04\" style=\"fill:rgb(52.9%,80.8%,92.2%);fill-opacity:1.0\">Alouatta_palliata</text></g><g transform=\"translate(231.54,238.72)rotate(0)\"><text x=\"15.00\" y=\"2.04\" style=\"fill:rgb(0%,0%,0%);fill-opacity:1.0\">Callicebus_donacophilus</text></g><g transform=\"translate(231.54,232.98)rotate(0)\"><text x=\"15.00\" y=\"2.04\" style=\"fill:rgb(0%,0%,0%);fill-opacity:1.0\">Pithecia_pithecia</text></g><g transform=\"translate(231.54,227.23)rotate(0)\"><text x=\"15.00\" y=\"2.04\" style=\"fill:rgb(82.7%,82.7%,82.7%);fill-opacity:1.0\">Mirza_coquereli</text></g><g transform=\"translate(231.54,221.49)rotate(0)\"><text x=\"15.00\" y=\"2.04\" style=\"fill:rgb(0%,0%,0%);fill-opacity:1.0\">Microcebus_murinus</text></g><g transform=\"translate(231.54,215.74)rotate(0)\"><text x=\"15.00\" y=\"2.04\" style=\"fill:rgb(82.7%,82.7%,82.7%);fill-opacity:1.0\">Cheirogaleus_medius</text></g><g transform=\"translate(231.54,210.00)rotate(0)\"><text x=\"15.00\" y=\"2.04\" style=\"fill:rgb(82.7%,82.7%,82.7%);fill-opacity:1.0\">Indri_indri</text></g><g transform=\"translate(231.54,204.25)rotate(0)\"><text x=\"15.00\" y=\"2.04\" style=\"fill:rgb(82.7%,82.7%,82.7%);fill-opacity:1.0\">Propithecus_coquereli</text></g><g transform=\"translate(231.54,198.51)rotate(0)\"><text x=\"15.00\" y=\"2.04\" style=\"fill:rgb(82.7%,82.7%,82.7%);fill-opacity:1.0\">Eulemur_flavifrons</text></g><g transform=\"translate(231.54,192.76)rotate(0)\"><text x=\"15.00\" y=\"2.04\" style=\"fill:rgb(82.7%,82.7%,82.7%);fill-opacity:1.0\">Eulemur_fulvus</text></g><g transform=\"translate(231.54,187.02)rotate(0)\"><text x=\"15.00\" y=\"2.04\" style=\"fill:rgb(100%,49.8%,31.4%);fill-opacity:1.0\">Lemur_catta</text></g><g transform=\"translate(231.54,181.27)rotate(0)\"><text x=\"15.00\" y=\"2.04\" style=\"fill:rgb(0%,0%,0%);fill-opacity:1.0\">Daubentonia_madagascariensis</text></g><g transform=\"translate(231.54,175.53)rotate(0)\"><text x=\"15.00\" y=\"2.04\" style=\"fill:rgb(0%,0%,0%);fill-opacity:1.0\">Otolemur_garnettii</text></g><g transform=\"translate(231.54,169.79)rotate(0)\"><text x=\"15.00\" y=\"2.04\" style=\"fill:rgb(0%,0%,0%);fill-opacity:1.0\">Nycticebus_coucang</text></g><g transform=\"translate(231.54,164.04)rotate(0)\"><text x=\"15.00\" y=\"2.04\" style=\"fill:rgb(0%,0%,0%);fill-opacity:1.0\">Galeopterus_variegatus</text></g><g transform=\"translate(231.54,158.30)rotate(0)\"><text x=\"15.00\" y=\"2.04\" style=\"fill:rgb(100%,49.8%,31.4%);fill-opacity:1.0\">Tupaia_chinensis</text></g><g transform=\"translate(231.54,152.55)rotate(0)\"><text x=\"15.00\" y=\"2.04\" style=\"fill:rgb(0%,0%,0%);fill-opacity:1.0\">Tupaia_tana</text></g><g transform=\"translate(231.54,146.81)rotate(0)\"><text x=\"15.00\" y=\"2.04\" style=\"fill:rgb(0%,0%,0%);fill-opacity:1.0\">Echinops_telfairi</text></g><g transform=\"translate(231.54,141.06)rotate(0)\"><text x=\"15.00\" y=\"2.04\" style=\"fill:rgb(0%,0%,0%);fill-opacity:1.0\">Microgale_talazaci</text></g><g transform=\"translate(231.54,135.32)rotate(0)\"><text x=\"15.00\" y=\"2.04\" style=\"fill:rgb(0%,0%,0%);fill-opacity:1.0\">Chrysochloris_asiatica</text></g><g transform=\"translate(231.54,129.57)rotate(0)\"><text x=\"15.00\" y=\"2.04\" style=\"fill:rgb(0%,0%,0%);fill-opacity:1.0\">Elephantulus_edwardii</text></g><g transform=\"translate(231.54,123.83)rotate(0)\"><text x=\"15.00\" y=\"2.04\" style=\"fill:rgb(0%,0%,0%);fill-opacity:1.0\">Orycteropus_afer</text></g><g transform=\"translate(231.54,118.08)rotate(0)\"><text x=\"15.00\" y=\"2.04\" style=\"fill:rgb(0%,0%,0%);fill-opacity:1.0\">Heterohyrax_brucei</text></g><g transform=\"translate(231.54,112.34)rotate(0)\"><text x=\"15.00\" y=\"2.04\" style=\"fill:rgb(82.7%,82.7%,82.7%);fill-opacity:1.0\">Procavia_capensis</text></g><g transform=\"translate(231.54,106.59)rotate(0)\"><text x=\"15.00\" y=\"2.04\" style=\"fill:rgb(0%,0%,0%);fill-opacity:1.0\">Trichechus_manatus</text></g><g transform=\"translate(231.54,100.85)rotate(0)\"><text x=\"15.00\" y=\"2.04\" style=\"fill:rgb(0%,0%,0%);fill-opacity:1.0\">Loxodonta_africana</text></g><g transform=\"translate(231.54,95.10)rotate(0)\"><text x=\"15.00\" y=\"2.04\" style=\"fill:rgb(52.9%,80.8%,92.2%);fill-opacity:1.0\">Choloepus_hoffmanni</text></g><g transform=\"translate(231.54,89.36)rotate(0)\"><text x=\"15.00\" y=\"2.04\" style=\"fill:rgb(52.9%,80.8%,92.2%);fill-opacity:1.0\">Choloepus_didactylus</text></g><g transform=\"translate(231.54,83.61)rotate(0)\"><text x=\"15.00\" y=\"2.04\" style=\"fill:rgb(0%,0%,0%);fill-opacity:1.0\">Myrmecophaga_tridactyla</text></g><g transform=\"translate(231.54,77.87)rotate(0)\"><text x=\"15.00\" y=\"2.04\" style=\"fill:rgb(82.7%,82.7%,82.7%);fill-opacity:1.0\">Tamandua_tetradactyla</text></g><g transform=\"translate(231.54,72.13)rotate(0)\"><text x=\"15.00\" y=\"2.04\" style=\"fill:rgb(0%,0%,0%);fill-opacity:1.0\">Chaetophractus_vellerosus</text></g><g transform=\"translate(231.54,66.38)rotate(0)\"><text x=\"15.00\" y=\"2.04\" style=\"fill:rgb(0%,0%,0%);fill-opacity:1.0\">Tolypeutes_matacus</text></g><g transform=\"translate(231.54,60.64)rotate(0)\"><text x=\"15.00\" y=\"2.04\" style=\"fill:rgb(0%,0%,0%);fill-opacity:1.0\">Dasypus_novemcinctus</text></g></g></g></g></g></svg><div class=\"toyplot-behavior\"><script>(function()\n",
       "{\n",
       "var modules={};\n",
       "})();</script></div></div>"
      ]
     },
     "metadata": {},
     "output_type": "display_data"
    }
   ],
   "source": [
    "nwk = toytree.tree(\"./../trees/241-mammalian-2020v2.phast-242.nh\", tree_format=1)\n",
    "colors_tips = [\"coral\" if sp in males else \"skyblue\" if sp in species_complex_XY else \"black\" if sp not in species_out else \"lightgray\" for sp in nwk.get_tip_labels()]\n",
    "#colors_tips = [\"skyblue\" if sp in species_complex_XY else \"black\" if sp not in species_out else \"lightgray\" for sp in nwk.get_tip_labels()]\n",
    "canvas, axes, mark = nwk.draw(\n",
    "    tip_labels_align=True,\n",
    "    tip_labels_colors=colors_tips,\n",
    "    height=1500,\n",
    "    tip_labels_style={\n",
    "        \"font-size\": \"8px\",\n",
    "    }\n",
    ");\n",
    "#toyplot.pdf.render(canvas, \"pdfs/min0.02_{}pi.pdf\".format(pi_modifier))"
   ]
  },
  {
   "cell_type": "code",
   "execution_count": 8,
   "metadata": {},
   "outputs": [],
   "source": [
    "colors = toyplot.color.brewer.palette(\"Paired\")\n",
    "order2colors = {o:colors[i] for i,o in enumerate(meta.SuperOrder.unique())}"
   ]
  },
  {
   "cell_type": "markdown",
   "metadata": {},
   "source": [
    "New column showing if included in thinned set or not"
   ]
  },
  {
   "cell_type": "code",
   "execution_count": 9,
   "metadata": {},
   "outputs": [],
   "source": [
    "discard = list(species_complex_XY) + males + species_out #+ [\"Ochotona_princeps\",\"Oryctolagus_cuniculus\"]\n",
    "include = [sp for sp in nwk.get_tip_labels() if sp not in discard]\n",
    "meta[\"Included\"] = [1 if sp in include else 0 for sp in meta.Species]"
   ]
  },
  {
   "cell_type": "markdown",
   "metadata": {},
   "source": [
    "Species to common names conversion & write to file"
   ]
  },
  {
   "cell_type": "code",
   "execution_count": 10,
   "metadata": {},
   "outputs": [],
   "source": [
    "species_to_commonnames = meta[[\"Species\", \"Organism\"]].set_index(\"Species\").to_dict()[\"Organism\"]\n",
    "species_to_commonnames = {k:v.split(\"(\")[1].replace(\")\",\"\").capitalize() for k,v in species_to_commonnames.items()}\n",
    "\n",
    "exceptions = {\"Tursiops_truncatus\":\"Bottlenose dolphin\",\n",
    "              \"Beatragus_hunteri\":\"Hirola\",\n",
    "              \"Pere david's deer\":\"Pere David's deer\",\n",
    "              'Giraffa_tippelskirchi':\"Giraffe\",\n",
    "              \"Macroglossus_sobrinus\":\"Long-tongued fruit bat\",\n",
    "              \"Equus_asinus\":\"Donkey\",\n",
    "              \"Micronycteris_hirsuta\":\"Hairy big-eared bat\"\n",
    "             }\n",
    "\n",
    "meta[\"Common_names\"] = [species_to_commonnames[sp] if sp not in exceptions else exceptions[sp] for sp in meta.Species]\n",
    "#meta[[c for c in meta.columns if c!=\"Common_name\"]].to_csv(\"Complete_assembly_metadata_included-binary_morethinned.csv\", sep=\",\")"
   ]
  },
  {
   "cell_type": "markdown",
   "metadata": {},
   "source": [
    "For the controlled-thinned set, remove species that are far away from a chromosome-level assembly"
   ]
  },
  {
   "cell_type": "code",
   "execution_count": 27,
   "metadata": {},
   "outputs": [],
   "source": [
    "nwkete = Tree(\"./../trees/241-mammalian-2020v2.phast-242.nh\", format=1)\n",
    "keep_species = []\n",
    "subd = meta[(meta.Included==1) & (meta.ScaffoldN50>350e3)]# | (meta.AssemblyStatus==\"Chromosome\"))]\n",
    "div_limit = 0.18\n",
    "\n",
    "for i,r in subd.iterrows():\n",
    "    if r.AssemblyStatus==\"Chromosome\":\n",
    "        keep_species.append(r.Species)\n",
    "    else:\n",
    "        distances = subd[(subd.Species!=r.Species) & (subd.AssemblyStatus==\"Chromosome\")].apply(lambda r2: nwkete.get_distance(r.Species, r2.Species), axis=1)\n",
    "        if min(distances)<=div_limit:\n",
    "            keep_species.append(r.Species)\n",
    "\n",
    "## Remove bubalis\n",
    "keep_species = [sp for sp in keep_species if \"Bubalus\" not in sp]\n",
    "#keep_species += [\"Balaenoptera_bonaerensis\",\"Hippopotamus_amphibius\",\"Delphinapterus_leucas\"]\n",
    "\n",
    "#tree = Tree(\"./../trees/241-mammalian-2020v2.phast-242.nh\", format=1)\n",
    "#tree.prune(keep_species, preserve_branch_length=True)\n",
    "#with open(\"./../species_list/Final.txt\",\"w\") as of:\n",
    "#    of.write(\",\".join(keep_species) + \"\\n\")\n",
    "#tree.write(outfile=\"./../trees/Final.nwk\",format=5)"
   ]
  },
  {
   "cell_type": "code",
   "execution_count": 30,
   "metadata": {},
   "outputs": [
    {
     "data": {
      "text/html": [
       "<div>\n",
       "<style scoped>\n",
       "    .dataframe tbody tr th:only-of-type {\n",
       "        vertical-align: middle;\n",
       "    }\n",
       "\n",
       "    .dataframe tbody tr th {\n",
       "        vertical-align: top;\n",
       "    }\n",
       "\n",
       "    .dataframe thead th {\n",
       "        text-align: right;\n",
       "    }\n",
       "</style>\n",
       "<table border=\"1\" class=\"dataframe\">\n",
       "  <thead>\n",
       "    <tr style=\"text-align: right;\">\n",
       "      <th></th>\n",
       "      <th>Species</th>\n",
       "      <th>ScaffoldN50</th>\n",
       "    </tr>\n",
       "  </thead>\n",
       "  <tbody>\n",
       "    <tr>\n",
       "      <th>29</th>\n",
       "      <td>Bos_taurus</td>\n",
       "      <td>6806220</td>\n",
       "    </tr>\n",
       "    <tr>\n",
       "      <th>30</th>\n",
       "      <td>Sus_scrofa</td>\n",
       "      <td>576008</td>\n",
       "    </tr>\n",
       "    <tr>\n",
       "      <th>41</th>\n",
       "      <td>Ovis_aries</td>\n",
       "      <td>100009711</td>\n",
       "    </tr>\n",
       "    <tr>\n",
       "      <th>92</th>\n",
       "      <td>Saimiri_boliviensis</td>\n",
       "      <td>18744880</td>\n",
       "    </tr>\n",
       "    <tr>\n",
       "      <th>94</th>\n",
       "      <td>Microcebus_murinus</td>\n",
       "      <td>108171978</td>\n",
       "    </tr>\n",
       "    <tr>\n",
       "      <th>101</th>\n",
       "      <td>Callithrix_jacchus</td>\n",
       "      <td>129239660</td>\n",
       "    </tr>\n",
       "    <tr>\n",
       "      <th>103</th>\n",
       "      <td>Daubentonia_madagascariensis</td>\n",
       "      <td>379919</td>\n",
       "    </tr>\n",
       "    <tr>\n",
       "      <th>108</th>\n",
       "      <td>Pongo_abelii</td>\n",
       "      <td>98475126</td>\n",
       "    </tr>\n",
       "    <tr>\n",
       "      <th>109</th>\n",
       "      <td>Homo_sapiens</td>\n",
       "      <td>67794873</td>\n",
       "    </tr>\n",
       "    <tr>\n",
       "      <th>113</th>\n",
       "      <td>Nomascus_leucogenys</td>\n",
       "      <td>52956880</td>\n",
       "    </tr>\n",
       "    <tr>\n",
       "      <th>127</th>\n",
       "      <td>Macaca_mulatta</td>\n",
       "      <td>4193270</td>\n",
       "    </tr>\n",
       "    <tr>\n",
       "      <th>142</th>\n",
       "      <td>Felis_catus</td>\n",
       "      <td>18072971</td>\n",
       "    </tr>\n",
       "    <tr>\n",
       "      <th>149</th>\n",
       "      <td>Canis_lupus_familiaris</td>\n",
       "      <td>45876610</td>\n",
       "    </tr>\n",
       "    <tr>\n",
       "      <th>158</th>\n",
       "      <td>Ailuropoda_melanoleuca</td>\n",
       "      <td>9947519</td>\n",
       "    </tr>\n",
       "    <tr>\n",
       "      <th>162</th>\n",
       "      <td>Leptonychotes_weddellii</td>\n",
       "      <td>904068</td>\n",
       "    </tr>\n",
       "    <tr>\n",
       "      <th>172</th>\n",
       "      <td>Oryctolagus_cuniculus</td>\n",
       "      <td>35972871</td>\n",
       "    </tr>\n",
       "    <tr>\n",
       "      <th>194</th>\n",
       "      <td>Rattus_norvegicus</td>\n",
       "      <td>14986627</td>\n",
       "    </tr>\n",
       "    <tr>\n",
       "      <th>195</th>\n",
       "      <td>Mus_musculus</td>\n",
       "      <td>54517951</td>\n",
       "    </tr>\n",
       "    <tr>\n",
       "      <th>212</th>\n",
       "      <td>Mus_pahari</td>\n",
       "      <td>111406228</td>\n",
       "    </tr>\n",
       "    <tr>\n",
       "      <th>222</th>\n",
       "      <td>Ceratotherium_simum_cottoni</td>\n",
       "      <td>26277727</td>\n",
       "    </tr>\n",
       "    <tr>\n",
       "      <th>225</th>\n",
       "      <td>Dicerorhinus_sumatrensis</td>\n",
       "      <td>614498</td>\n",
       "    </tr>\n",
       "    <tr>\n",
       "      <th>230</th>\n",
       "      <td>Equus_caballus</td>\n",
       "      <td>46749900</td>\n",
       "    </tr>\n",
       "  </tbody>\n",
       "</table>\n",
       "</div>"
      ],
      "text/plain": [
       "                          Species  ScaffoldN50\n",
       "29                     Bos_taurus      6806220\n",
       "30                     Sus_scrofa       576008\n",
       "41                     Ovis_aries    100009711\n",
       "92            Saimiri_boliviensis     18744880\n",
       "94             Microcebus_murinus    108171978\n",
       "101            Callithrix_jacchus    129239660\n",
       "103  Daubentonia_madagascariensis       379919\n",
       "108                  Pongo_abelii     98475126\n",
       "109                  Homo_sapiens     67794873\n",
       "113           Nomascus_leucogenys     52956880\n",
       "127                Macaca_mulatta      4193270\n",
       "142                   Felis_catus     18072971\n",
       "149        Canis_lupus_familiaris     45876610\n",
       "158        Ailuropoda_melanoleuca      9947519\n",
       "162       Leptonychotes_weddellii       904068\n",
       "172         Oryctolagus_cuniculus     35972871\n",
       "194             Rattus_norvegicus     14986627\n",
       "195                  Mus_musculus     54517951\n",
       "212                    Mus_pahari    111406228\n",
       "222   Ceratotherium_simum_cottoni     26277727\n",
       "225      Dicerorhinus_sumatrensis       614498\n",
       "230                Equus_caballus     46749900"
      ]
     },
     "execution_count": 30,
     "metadata": {},
     "output_type": "execute_result"
    }
   ],
   "source": [
    "meta[meta.Species.isin(keep_species)][[\"Species\",\"ScaffoldN50\"]]"
   ]
  },
  {
   "cell_type": "markdown",
   "metadata": {},
   "source": [
    "Add outgroups"
   ]
  },
  {
   "cell_type": "code",
   "execution_count": 3,
   "metadata": {},
   "outputs": [],
   "source": [
    "#tree = Tree(\"./../trees/241-mammalian-2020v2.phast-242.nh\", format=1)\n",
    "#tree.prune([\"Hippopotamus_amphibius\",\"Orcinus_orca\",\"Balaenoptera_bonaerensis\",\"Delphinapterus_leucas\",\"Bos_taurus\",\"Sus_scrofa\",\"Capra_aegagrus\",\"Camelus_bactrianus\"], preserve_branch_length=True)\n",
    "#tree.write(outfile=\"./../trees/Artiodactyla_ultrathinned.nwk\",format=5)"
   ]
  },
  {
   "cell_type": "code",
   "execution_count": 20,
   "metadata": {},
   "outputs": [],
   "source": [
    "chrom_level = meta[(meta.Included==1) & (meta.ScaffoldN50>500e3)]\n",
    "subd = meta[meta.Species.isin(keep_species)]\n",
    "irabbit = subd[subd.Species==\"Oryctolagus_cuniculus\"].index[0]\n",
    "subd.at[irabbit, \"SuperOrder\"] = \"Castormyomorpha\"\n",
    "\n",
    "for order, df in subd.groupby(\"SuperOrder\"):\n",
    "    closer_clevel = {}\n",
    "    for clevel in chrom_level[~chrom_level.Species.isin(df.Species)].Species:\n",
    "        distances = df.apply(lambda row: nwkete.get_distance(row.Species, clevel), axis=1)\n",
    "        closer_clevel[clevel] = max(distances)\n",
    "    closer_clevel = {k:v for k,v in closer_clevel.items() if k not in [\"Lipotes_vexillifer\",'Tursiops_truncatus']}\n",
    "    ref = min(closer_clevel, key=closer_clevel.get)\n",
    "    order_species = list(df.Species.values)\n",
    "    \n",
    "    # Lagomorpha and Castor, set manually or not outgroup\n",
    "    if order==\"Castormyomorpha\":\n",
    "        order_species.append(\"Ochotona_princeps\")\n",
    "    elif order==\"Ferae\":\n",
    "        order_species.append(\"Manis_javanica\")\n",
    "    elif order==\"Perissodactyla\":\n",
    "        order_species.append(\"Felis_catus\")\n",
    "    else:\n",
    "        order_species.append(ref)\n",
    "    \n",
    "    tree = Tree(\"./../trees/241-mammalian-2020v2.phast-242.nh\", format=1)\n",
    "    tree.prune(order_species, preserve_branch_length=True)\n",
    "    with open(\"./../species_list/{}_ultrathinned.txt\".format(order),\"w\") as of:\n",
    "        of.write(\",\".join(order_species) + \"\\n\")\n",
    "    tree.write(outfile=\"./../trees/{}_ultrathinned.nwk\".format(order),format=5)"
   ]
  },
  {
   "cell_type": "markdown",
   "metadata": {},
   "source": [
    "Output selected species"
   ]
  },
  {
   "cell_type": "code",
   "execution_count": 21,
   "metadata": {},
   "outputs": [],
   "source": [
    "for order,df in meta.groupby(\"SuperOrder\"):\n",
    "\n",
    "    species = list(df[df.Included==1].Species)\n",
    "    \n",
    "    #Exceptions where ref sequence (or outgroup) has to be included as well\n",
    "    if order==\"Perissodactyla\":\n",
    "        species.append(\"Felis_catus\")\n",
    "        \n",
    "    if order in ['Atlantogenata','Chiroptera','Eulipotyphla']:\n",
    "        species.append(\"Homo_sapiens\")\n",
    "        \n",
    "    if order in [\"Lagomorpha\",\"Hystricomorpha\",\"Sciuromorpha\"]:\n",
    "        species.append(\"Mus_musculus\")\n",
    "        \n",
    "    nwkete = Tree(\"./../trees/241-mammalian-2020v2.phast-242.nh\", format=1)\n",
    "    nwkete.prune(species, preserve_branch_length=True)\n",
    "    with open(\"./../species_list/{}_morethinned.txt\".format(order),\"w\") as of:\n",
    "        of.write(\",\".join(species) + \"\\n\")\n",
    "    nwkete.write(outfile=\"./../trees/{}_morethinned.nwk\".format(order),format=5)"
   ]
  },
  {
   "cell_type": "markdown",
   "metadata": {},
   "source": [
    "Also do the controls"
   ]
  },
  {
   "cell_type": "code",
   "execution_count": 41,
   "metadata": {},
   "outputs": [],
   "source": [
    "for c in [\"Control1\", \"Control2\"]:\n",
    "    nwkete = Tree(\"./../trees/241-mammalian-2020v2.phast-242.nh\", format=1)\n",
    "    with open(\"./../species_list/{}.txt\".format(c),\"r\") as ci:\n",
    "        species = [line.strip().split(\",\") for line in ci][0]\n",
    "    #species = [sp for sp in species if \"Aotus\" not in sp]\n",
    "    with open(\"./../species_list/{}_thinned.txt\".format(c),\"w\") as co:\n",
    "        co.write(\",\".join(species) + \"\\n\")\n",
    "    nwkete.prune(species, preserve_branch_length=True)\n",
    "    nwkete.write(outfile=\"./../trees/{}_thinned.nwk\".format(c),format=5)\n",
    "control_species = species"
   ]
  },
  {
   "cell_type": "markdown",
   "metadata": {},
   "source": [
    "Write all thinned set to file"
   ]
  },
  {
   "cell_type": "code",
   "execution_count": 40,
   "metadata": {},
   "outputs": [],
   "source": [
    "final_thinned_set = list(set(list(meta[meta.Included==1].Species) + control_species))\n",
    "with open(\"./../species_list/All_thinned.txt\", \"w\") as fh:\n",
    "    fh.write(\",\".join(final_thinned_set))"
   ]
  },
  {
   "cell_type": "markdown",
   "metadata": {},
   "source": [
    "### OLD COMMANDS"
   ]
  },
  {
   "cell_type": "code",
   "execution_count": 2,
   "metadata": {},
   "outputs": [],
   "source": [
    "meta = pd.read_csv(\"rates_metadata.csv\")"
   ]
  },
  {
   "cell_type": "code",
   "execution_count": 4,
   "metadata": {},
   "outputs": [],
   "source": [
    "gl = pd.read_excel(\"Generation Lenght for Mammals.xlsx\")"
   ]
  },
  {
   "cell_type": "code",
   "execution_count": 33,
   "metadata": {},
   "outputs": [],
   "source": [
    "gl.to_csv(\"Generation_Length_for_Mammals.csv\")"
   ]
  },
  {
   "cell_type": "code",
   "execution_count": 5,
   "metadata": {},
   "outputs": [
    {
     "data": {
      "text/html": [
       "<div>\n",
       "<style scoped>\n",
       "    .dataframe tbody tr th:only-of-type {\n",
       "        vertical-align: middle;\n",
       "    }\n",
       "\n",
       "    .dataframe tbody tr th {\n",
       "        vertical-align: top;\n",
       "    }\n",
       "\n",
       "    .dataframe thead th {\n",
       "        text-align: right;\n",
       "    }\n",
       "</style>\n",
       "<table border=\"1\" class=\"dataframe\">\n",
       "  <thead>\n",
       "    <tr style=\"text-align: right;\">\n",
       "      <th></th>\n",
       "      <th>TaxID</th>\n",
       "      <th>Order</th>\n",
       "      <th>Family</th>\n",
       "      <th>Genus</th>\n",
       "      <th>Scientific_name</th>\n",
       "      <th>AdultBodyMass_g</th>\n",
       "      <th>Sources_AdultBodyMass</th>\n",
       "      <th>Max_longevity_d</th>\n",
       "      <th>Sources_Max_longevity</th>\n",
       "      <th>Rspan_d</th>\n",
       "      <th>AFR_d</th>\n",
       "      <th>Data_AFR</th>\n",
       "      <th>Calculated_GL_d</th>\n",
       "      <th>GenerationLength_d</th>\n",
       "      <th>Sources_GL</th>\n",
       "    </tr>\n",
       "  </thead>\n",
       "  <tbody>\n",
       "    <tr>\n",
       "      <th>0</th>\n",
       "      <td>7580</td>\n",
       "      <td>Rodentia</td>\n",
       "      <td>Cricetidae</td>\n",
       "      <td>Eligmodontia</td>\n",
       "      <td>Eligmodontia typus</td>\n",
       "      <td>17.37</td>\n",
       "      <td>PanTHERIA</td>\n",
       "      <td>292</td>\n",
       "      <td>PanTHERIA</td>\n",
       "      <td>254.64</td>\n",
       "      <td>73.74</td>\n",
       "      <td>calculated</td>\n",
       "      <td>147.5856</td>\n",
       "      <td>147.585600</td>\n",
       "      <td>Rspan-AFR(SM+Gest)</td>\n",
       "    </tr>\n",
       "    <tr>\n",
       "      <th>1</th>\n",
       "      <td>42632</td>\n",
       "      <td>Rodentia</td>\n",
       "      <td>Cricetidae</td>\n",
       "      <td>Microtus</td>\n",
       "      <td>Microtus oregoni</td>\n",
       "      <td>20.35</td>\n",
       "      <td>PanTHERIA</td>\n",
       "      <td>456.25</td>\n",
       "      <td>PanTHERIA</td>\n",
       "      <td>445.85</td>\n",
       "      <td>58.06</td>\n",
       "      <td>calculated</td>\n",
       "      <td>187.3565</td>\n",
       "      <td>187.356500</td>\n",
       "      <td>Rspan-AFR(SM+Gest)</td>\n",
       "    </tr>\n",
       "    <tr>\n",
       "      <th>2</th>\n",
       "      <td>42653</td>\n",
       "      <td>Rodentia</td>\n",
       "      <td>Cricetidae</td>\n",
       "      <td>Peromyscus</td>\n",
       "      <td>Peromyscus gossypinus</td>\n",
       "      <td>27.68</td>\n",
       "      <td>PanTHERIA</td>\n",
       "      <td>471.45833335</td>\n",
       "      <td>PanTHERIA</td>\n",
       "      <td>444.87833335</td>\n",
       "      <td>72.58</td>\n",
       "      <td>calculated</td>\n",
       "      <td>201.59471667</td>\n",
       "      <td>201.594717</td>\n",
       "      <td>Rspan-AFR(SM+Gest)</td>\n",
       "    </tr>\n",
       "    <tr>\n",
       "      <th>3</th>\n",
       "      <td>42662</td>\n",
       "      <td>Macroscelidea</td>\n",
       "      <td>Macroscelididae</td>\n",
       "      <td>Elephantulus</td>\n",
       "      <td>Elephantulus myurus</td>\n",
       "      <td>59.51</td>\n",
       "      <td>PanTHERIA</td>\n",
       "      <td>401.5</td>\n",
       "      <td>PanTHERIA</td>\n",
       "      <td>412.34</td>\n",
       "      <td>90.48</td>\n",
       "      <td>calculated</td>\n",
       "      <td>210.0586</td>\n",
       "      <td>210.058600</td>\n",
       "      <td>Rspan-AFR(SM+Gest)</td>\n",
       "    </tr>\n",
       "    <tr>\n",
       "      <th>4</th>\n",
       "      <td>16652</td>\n",
       "      <td>Rodentia</td>\n",
       "      <td>Cricetidae</td>\n",
       "      <td>Peromyscus</td>\n",
       "      <td>Peromyscus boylii</td>\n",
       "      <td>23.90</td>\n",
       "      <td>PanTHERIA</td>\n",
       "      <td>547.5</td>\n",
       "      <td>PanTHERIA</td>\n",
       "      <td>514.13</td>\n",
       "      <td>79.97</td>\n",
       "      <td>calculated</td>\n",
       "      <td>229.0677</td>\n",
       "      <td>229.067700</td>\n",
       "      <td>Rspan-AFR(SM+Gest)</td>\n",
       "    </tr>\n",
       "  </tbody>\n",
       "</table>\n",
       "</div>"
      ],
      "text/plain": [
       "   TaxID          Order           Family         Genus        Scientific_name  \\\n",
       "0   7580       Rodentia       Cricetidae  Eligmodontia     Eligmodontia typus   \n",
       "1  42632       Rodentia       Cricetidae      Microtus       Microtus oregoni   \n",
       "2  42653       Rodentia       Cricetidae    Peromyscus  Peromyscus gossypinus   \n",
       "3  42662  Macroscelidea  Macroscelididae  Elephantulus    Elephantulus myurus   \n",
       "4  16652       Rodentia       Cricetidae    Peromyscus      Peromyscus boylii   \n",
       "\n",
       "   AdultBodyMass_g Sources_AdultBodyMass Max_longevity_d  \\\n",
       "0            17.37             PanTHERIA             292   \n",
       "1            20.35             PanTHERIA          456.25   \n",
       "2            27.68             PanTHERIA    471.45833335   \n",
       "3            59.51             PanTHERIA           401.5   \n",
       "4            23.90             PanTHERIA           547.5   \n",
       "\n",
       "  Sources_Max_longevity       Rspan_d  AFR_d    Data_AFR Calculated_GL_d  \\\n",
       "0             PanTHERIA        254.64  73.74  calculated        147.5856   \n",
       "1             PanTHERIA        445.85  58.06  calculated        187.3565   \n",
       "2             PanTHERIA  444.87833335  72.58  calculated    201.59471667   \n",
       "3             PanTHERIA        412.34  90.48  calculated        210.0586   \n",
       "4             PanTHERIA        514.13  79.97  calculated        229.0677   \n",
       "\n",
       "   GenerationLength_d          Sources_GL  \n",
       "0          147.585600  Rspan-AFR(SM+Gest)  \n",
       "1          187.356500  Rspan-AFR(SM+Gest)  \n",
       "2          201.594717  Rspan-AFR(SM+Gest)  \n",
       "3          210.058600  Rspan-AFR(SM+Gest)  \n",
       "4          229.067700  Rspan-AFR(SM+Gest)  "
      ]
     },
     "execution_count": 5,
     "metadata": {},
     "output_type": "execute_result"
    }
   ],
   "source": [
    "gl.head()"
   ]
  },
  {
   "cell_type": "code",
   "execution_count": 6,
   "metadata": {},
   "outputs": [],
   "source": [
    "gl[\"Species\"] = [\"_\".join(sp.split()) for sp in gl[\"Scientific_name\"]]"
   ]
  },
  {
   "cell_type": "code",
   "execution_count": 23,
   "metadata": {},
   "outputs": [],
   "source": [
    "meta = meta.set_index(\"Species\").join(gl.set_index(\"Species\"),lsuffix=\"gl\").reset_index()"
   ]
  },
  {
   "cell_type": "code",
   "execution_count": 25,
   "metadata": {},
   "outputs": [
    {
     "data": {
      "text/plain": [
       "Index(['Species', 'Unnamed: 0', 'Unnamed: 0.1', 'Ordergl', 'Genusgl',\n",
       "       'SuperOrder', 'AssemblyAccession', 'AssemblyName', 'Organism',\n",
       "       'AssemblyStatus', 'Coverage', 'ContigN50', 'ScaffoldN50', 'Sex',\n",
       "       'Heterozygosity', 'AnAge_presence', 'AnAge_ntraits', 'Female_maturity',\n",
       "       'Male_maturity', 'Gestation', 'Weaning', 'Litter_size',\n",
       "       'Litters_per_year', 'Interbirth_interval', 'Birth_weight',\n",
       "       'Weaning_weight', 'Adult_weight', 'Growth_rate', 'Maximum_longevity',\n",
       "       'Source', 'Specimen_origin', 'Sample_size', 'Data_quality', 'IMR',\n",
       "       'MRDT', 'Metabolic_rate', 'Body_mass', 'Temperature', 'dnm',\n",
       "       'Anage_ntraits', 'Pi', 'Pi_het', 'Included', 'Common_names', 'C>A',\n",
       "       'C>G', 'C>T', 'T>A', 'T>C', 'T>G', 'TaxID', 'Order', 'Family', 'Genus',\n",
       "       'Scientific_name', 'AdultBodyMass_g', 'Sources_AdultBodyMass',\n",
       "       'Max_longevity_d', 'Sources_Max_longevity', 'Rspan_d', 'AFR_d',\n",
       "       'Data_AFR', 'Calculated_GL_d', 'GenerationLength_d', 'Sources_GL'],\n",
       "      dtype='object')"
      ]
     },
     "execution_count": 25,
     "metadata": {},
     "output_type": "execute_result"
    }
   ],
   "source": [
    "meta.columns"
   ]
  },
  {
   "cell_type": "code",
   "execution_count": 30,
   "metadata": {},
   "outputs": [],
   "source": [
    "meta.to_csv(\"rates_metadata_gentime.csv\")"
   ]
  },
  {
   "cell_type": "code",
   "execution_count": 32,
   "metadata": {},
   "outputs": [
    {
     "data": {
      "text/plain": [
       "<matplotlib.collections.PathCollection at 0x7fb7b2c6c850>"
      ]
     },
     "execution_count": 32,
     "metadata": {},
     "output_type": "execute_result"
    },
    {
     "data": {
      "image/png": "[encoded data removed]",
      "text/plain": [
       "<Figure size 432x288 with 1 Axes>"
      ]
     },
     "metadata": {
      "needs_background": "light"
     },
     "output_type": "display_data"
    }
   ],
   "source": [
    "plt.scatter(np.log10(meta.GenerationLength_d), meta[\"C>G\"]/meta[\"T>A\"])"
   ]
  },
  {
   "cell_type": "code",
   "execution_count": 28,
   "metadata": {},
   "outputs": [
    {
     "data": {
      "text/plain": [
       "<matplotlib.collections.PathCollection at 0x7fb7b3b1c6d0>"
      ]
     },
     "execution_count": 28,
     "metadata": {},
     "output_type": "execute_result"
    },
    {
     "data": {
      "image/png": "[encoded data removed]",
      "text/plain": [
       "<Figure size 432x288 with 1 Axes>"
      ]
     },
     "metadata": {
      "needs_background": "light"
     },
     "output_type": "display_data"
    }
   ],
   "source": [
    "plt.scatter(np.log10(meta.AdultBodyMass_g), meta[\"C>G\"]/meta[\"T>A\"])"
   ]
  },
  {
   "cell_type": "code",
   "execution_count": 4,
   "metadata": {},
   "outputs": [],
   "source": [
    "sporder = pd.read_csv(\"All_species-SuperOrders.tab\", sep=\"\\t\", header=None)\n",
    "sporder.columns = [\"species\",\"order\"]"
   ]
  },
  {
   "cell_type": "code",
   "execution_count": 5,
   "metadata": {},
   "outputs": [],
   "source": [
    "nwkete.prune(list(sporder.species), preserve_branch_length=True)"
   ]
  },
  {
   "cell_type": "code",
   "execution_count": 6,
   "metadata": {},
   "outputs": [],
   "source": [
    "nwk = toytree.tree(nwkete.write(\"./../trees/AllSpecies.nwk\"), format=1)"
   ]
  },
  {
   "cell_type": "code",
   "execution_count": 13,
   "metadata": {},
   "outputs": [],
   "source": [
    "colors_dict = {order:next(toytree.icolors2) for i,order in enumerate(sporder.order.unique())}"
   ]
  },
  {
   "cell_type": "code",
   "execution_count": 38,
   "metadata": {},
   "outputs": [],
   "source": [
    "sporder = sporder[sporder.order!=\"Glires\"]\n",
    "sptoorder = sporder.set_index(\"species\").to_dict()[\"order\"]"
   ]
  },
  {
   "cell_type": "code",
   "execution_count": 39,
   "metadata": {},
   "outputs": [],
   "source": [
    "sptoorder[\"Homo_sapiens\"]  = \"Euarchonta\"\n",
    "sptoorder[\"Mus_musculus\"] = \"Castormyomorpha\"\n",
    "sptoorder[\"Felis_catus\"] = \"Ferae\""
   ]
  },
  {
   "cell_type": "code",
   "execution_count": 44,
   "metadata": {},
   "outputs": [],
   "source": [
    "sptoorder[\"Ctenodactylus_gundi\"] = \"Hystricomorpha\""
   ]
  },
  {
   "cell_type": "code",
   "execution_count": 46,
   "metadata": {},
   "outputs": [],
   "source": [
    "colors = [colors_dict[sptoorder[sp]] for sp in nwk.get_tip_labels()]\n",
    "canvas, axes, mark = nwk.draw(\n",
    "    tip_labels_colors=colors,\n",
    "    tip_labels_align=True,\n",
    "    height=800,\n",
    "    tip_labels_style={\n",
    "        \"font-size\": \"8px\",\n",
    "    }\n",
    ");\n",
    "toyplot.pdf.render(canvas, \"./../Orders_tree.pdf\")"
   ]
  },
  {
   "cell_type": "code",
   "execution_count": 273,
   "metadata": {},
   "outputs": [],
   "source": [
    "# Read speces with chromosome assemblies\n",
    "with open(\"chrom_assemblies.txt\") as cfile:\n",
    "    chrom_assemblies = [\"_\".join(line.strip().split()) for line in cfile]"
   ]
  },
  {
   "cell_type": "markdown",
   "metadata": {},
   "source": [
    "### Prepare files for pipeline"
   ]
  },
  {
   "cell_type": "code",
   "execution_count": 335,
   "metadata": {},
   "outputs": [],
   "source": [
    "def sort_by_phylo_distance(nwk, chrom_assemblies, list_of_species):\n",
    "    phylo_distances = {}\n",
    "    for c_assembly in chrom_assemblies:\n",
    "        phylo_distances[c_assembly] = np.average([nwk.get_distance(c_assembly,sp) for sp in list_of_species if sp!=c_assembly])\n",
    "    phylo_distances_df = pd.DataFrame([phylo_distances]).transpose().reset_index()\n",
    "    phylo_distances_df.columns = [\"species\", \"distances\"]\n",
    "    phylo_distances_df = phylo_distances_df.sort_values(by=\"distances\")\n",
    "    phylo_distances_df.index = range(len(phylo_distances_df))\n",
    "    return list(phylo_distances_df.species.values)\n",
    "\n",
    "def superorder_tab(superdf, chrom_assemblies, nwk):\n",
    "    species_list = list(superdf.Species.values)\n",
    "    good_assemblies = [sp for sp in superdf.Species if sp in chrom_assemblies]\n",
    "    #print(species_list, good_assemblies, df.SuperOrder.unique())\n",
    "    good_assemblies_sorted = sort_by_phylo_distance(nwk, chrom_assemblies, species_list)\n",
    "    return pd.Series([\",\".join(good_assemblies_sorted), \",\".join(species_list)])\n",
    "\n",
    "guide_superorders = meta.groupby(\"SuperOrder\").apply(lambda x: superorder_tab(x, chrom_assemblies, nwkete)).reset_index()\n",
    "guide_superorders.columns = [\"superorder\", \"chrom_assemblies\", \"species\"]"
   ]
  },
  {
   "cell_type": "code",
   "execution_count": 350,
   "metadata": {},
   "outputs": [],
   "source": [
    "guide_superorders.to_csv(\"SuperOrders_to_assemblies_complete.tab\", sep=\"\\t\", index=False)"
   ]
  },
  {
   "cell_type": "code",
   "execution_count": 352,
   "metadata": {},
   "outputs": [],
   "source": [
    "manual_assemblies = {\"Artiodactyla\":\"Bos_taurus\",\n",
    "                     \"Atlantogenata\":\"Homo_sapiens\",\n",
    "                     \"Chiroptera\":\"Homo_sapiens\",\n",
    "                     \"Euarchonta\":\"Homo_sapiens\",\n",
    "                     \"Eulipotyphla\":\"Homo_sapiens\",\n",
    "                     \"Ferae\":\"Felis_catus\",\n",
    "                     \"Glires\":\"Mus_musculus\",\n",
    "                     \"Perissodactyla\":\"Equus_caballus\"\n",
    "                    }\n",
    "with open(\"SuperOrders_to_assemblies.tab\",\"w\") as sf:\n",
    "    sf.write(\"\\n\".join([\"\\t\".join([k,v]) for k,v in manual_assemblies.items()]))"
   ]
  },
  {
   "cell_type": "code",
   "execution_count": 362,
   "metadata": {},
   "outputs": [
    {
     "name": "stdout",
     "output_type": "stream",
     "text": [
      "Control1 Homo_sapiens\n",
      "Control2 Mus_musculus\n"
     ]
    }
   ],
   "source": [
    "for exp,ref in zip([\"Control1\", \"Control2\"], [\"Homo_sapiens\", \"Mus_musculus\"]):\n",
    "    print(exp,ref)"
   ]
  },
  {
   "cell_type": "code",
   "execution_count": 361,
   "metadata": {},
   "outputs": [
    {
     "name": "stdout",
     "output_type": "stream",
     "text": [
      "Artiodactyla 26\n",
      "Atlantogenata 16\n",
      "Chiroptera 23\n",
      "Euarchonta 37\n",
      "Eulipotyphla 7\n",
      "Ferae 20\n",
      "Glires 50\n",
      "Perissodactyla 7\n"
     ]
    }
   ],
   "source": [
    "for super_order,df in meta[meta.Sex!=\"male\"].groupby(\"SuperOrder\"):\n",
    "    print(super_order, len(df))\n",
    "    with open(\"../species_list/{}.txt\".format(super_order), \"w\") as sf:\n",
    "        sf.write(\",\".join(df.Species) + \"\\n\")"
   ]
  }
 ],
 "metadata": {
  "kernelspec": {
   "display_name": "Python 3",
   "language": "python",
   "name": "python3"
  },
  "language_info": {
   "codemirror_mode": {
    "name": "ipython",
    "version": 3
   },
   "file_extension": ".py",
   "mimetype": "text/x-python",
   "name": "python",
   "nbconvert_exporter": "python",
   "pygments_lexer": "ipython3",
   "version": "3.8.5"
  }
 },
 "nbformat": 4,
 "nbformat_minor": 4
}
