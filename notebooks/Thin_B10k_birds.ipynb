{
 "cells": [
  {
   "cell_type": "markdown",
   "metadata": {},
   "source": [
    "### Thin B10k dataset"
   ]
  },
  {
   "cell_type": "markdown",
   "metadata": {},
   "source": [
    "Import modules"
   ]
  },
  {
   "cell_type": "code",
   "execution_count": 1,
   "metadata": {},
   "outputs": [],
   "source": [
    "from ete3 import Tree\n",
    "import toytree\n",
    "import toyplot\n",
    "import toyplot.pdf\n",
    "import itertools\n",
    "import math\n",
    "import xml.etree.ElementTree as ET\n",
    "import random\n",
    "import pandas as pd\n",
    "import matplotlib.pyplot as plt\n",
    "import numpy as np\n",
    "import warnings"
   ]
  },
  {
   "cell_type": "code",
   "execution_count": 2,
   "metadata": {},
   "outputs": [
    {
     "name": "stderr",
     "output_type": "stream",
     "text": [
      "<ipython-input-2-d855deb6e61f>:12: DeprecationWarning: This method will be removed in future versions.  Use 'list(elem)' or iteration over elem instead.\n",
      "  for b in root.getchildren():\n",
      "<ipython-input-2-d855deb6e61f>:14: DeprecationWarning: This method will be removed in future versions.  Use 'list(elem)' or iteration over elem instead.\n",
      "  for b2 in b.getchildren():\n",
      "<ipython-input-2-d855deb6e61f>:20: DeprecationWarning: This method will be removed in future versions.  Use 'list(elem)' or iteration over elem instead.\n",
      "  for b3 in b2.getchildren():\n"
     ]
    },
    {
     "name": "stdout",
     "output_type": "stream",
     "text": [
      "Anser_cygnoides not in tree\n",
      "Aquila_chrysaetos_canadensis not in tree\n",
      "Corvus_cornix_cornix not in tree\n",
      "Eolophus_roseicapilla not in tree\n",
      "Nannopterum_auritus not in tree\n",
      "Nannopterum_brasilianus not in tree\n",
      "Nannopterum_harrisi not in tree\n",
      "Strix_occidentalis_caurina not in tree\n",
      "Urile_pelagicus not in tree\n",
      "Zosterops_lateralis_melanops not in tree\n"
     ]
    }
   ],
   "source": [
    "# B10k metadata\n",
    "meta = pd.read_excel(\"../data/metadata_b10k.xlsx\")\n",
    "\n",
    "# Read NCBI entrez \n",
    "with open(\"../data/b10k_NCBI_Entrez.xml\") as f:\n",
    "    xml = f.read()\n",
    "root = ET.fromstring(\"<root>\" + xml + \"</root>\")\n",
    "\n",
    "# Convert to data frame\n",
    "features_of_interest = [\"AssemblyAccession\", \"AssemblyName\", \"Organism\", \"AssemblyStatus\", \"Coverage\", \"ContigN50\", \"ScaffoldN50\", \"Sex\",\"SpeciesName\"]\n",
    "xml_l = []\n",
    "for b in root.getchildren():\n",
    "    current_species = {f:\"nan\" for f in features_of_interest}\n",
    "    for b2 in b.getchildren():\n",
    "        tag = b2.tag\n",
    "        value = b2.text\n",
    "        if tag in features_of_interest:\n",
    "            current_species[tag] = value\n",
    "        if tag==\"Biosource\":\n",
    "            for b3 in b2.getchildren():\n",
    "                tag = b3.tag\n",
    "                value = b3.text\n",
    "                if tag==\"Sex\":\n",
    "                    current_species[tag] = value\n",
    "    xml_l.append(current_species)\n",
    "    \n",
    "ncbi_meta = pd.DataFrame(xml_l)\n",
    "\n",
    "# PHAST-based phylogeny\n",
    "b10k = Tree(\"./../trees/363-avian-2020-phast.nh\", format=1)\n",
    "\n",
    "# Merged both datasets\n",
    "merged_meta = meta.set_index(\"Latin name\").join(ncbi_meta.set_index(\"SpeciesName\"), lsuffix=\"b10k\")\n",
    "merged_meta[\"ScaffoldN50\"] = pd.to_numeric(merged_meta[\"ScaffoldN50\"])\n",
    "merged_meta[\"ContigN50\"] = pd.to_numeric(merged_meta[\"ContigN50\"])\n",
    "merged_meta[\"Species\"] = [\"_\".join(sp.split()) for sp in merged_meta.index]\n",
    "\n",
    "# Minimum distance to chrom_level assembly\n",
    "chrom_level = merged_meta[merged_meta.AssemblyStatus==\"Chromosome\"].Species.values\n",
    "distances_to_chrom_level = []\n",
    "sp_in_tree = [sp for sp in b10k.get_leaf_names()]\n",
    "for i,r in merged_meta.iterrows():\n",
    "    if r.Species not in sp_in_tree:\n",
    "        distances_to_chrom_level.append(np.nan)\n",
    "        print(\"{} not in tree\".format(r.Species))\n",
    "        continue\n",
    "    distances = [b10k.get_distance(r.Species, sp) if r.Species!=sp else 0 for sp in chrom_level]\n",
    "    distances_to_chrom_level.append(min(distances))\n",
    "merged_meta[\"min_distance_to_chrom\"] = distances_to_chrom_level"
   ]
  },
  {
   "cell_type": "code",
   "execution_count": 3,
   "metadata": {},
   "outputs": [],
   "source": [
    "g1 = [\"Columbiformes\",\"Pterocliformes\",\"Charadriiformes\"]\n",
    "g2 = [\"Otidiformes\",\"Cuculiformes\",\"Pelecaniformes\",\"Sphenisciformes\"]\n",
    "g3 = [\"Trogoniformes\",\"Bucerotiformes\",\"Coraciiformes\"]\n",
    "g4 = [\"Falconiformes\",\"Passeriformes\"]\n",
    "g5 = [\"Accipitriformes\",\"Gruiformes\"]\n",
    "g6 = [\"Anseriformes\",\"Galliformes\"]\n",
    "total = sorted(sum([g1,g2,g3,g4,g5,g6], []))\n",
    "order2group = {order:\"Group{}\".format(i+1) for i,g in enumerate([g1,g2,g3,g4,g5,g6]) for order in g}"
   ]
  },
  {
   "cell_type": "code",
   "execution_count": 4,
   "metadata": {},
   "outputs": [],
   "source": [
    "subd = merged_meta[(merged_meta.min_distance_to_chrom<=0.3) & (merged_meta.Sex!=\"female\") & (merged_meta.ContigN50>25e3) & (merged_meta.ScaffoldN50>350e3)]"
   ]
  },
  {
   "cell_type": "code",
   "execution_count": 5,
   "metadata": {},
   "outputs": [
    {
     "name": "stderr",
     "output_type": "stream",
     "text": [
      "<ipython-input-5-274219e67e5d>:20: SettingWithCopyWarning: \n",
      "A value is trying to be set on a copy of a slice from a DataFrame.\n",
      "Try using .loc[row_indexer,col_indexer] = value instead\n",
      "\n",
      "See the caveats in the documentation: https://pandas.pydata.org/pandas-docs/stable/user_guide/indexing.html#returning-a-view-versus-a-copy\n",
      "  thinned_dataset[\"Group\"] = [order2group[order] for order in thinned_dataset.Order]\n"
     ]
    }
   ],
   "source": [
    "keep_species = []\n",
    "\n",
    "safe_families = [\"Anseranatidae\", \"Anatidae\", \"Haematopodidae\",\"Chionidae\",\"Rostratulidae\",\"Scolopacidae\",\"Cracidae\",\"Phasianidae\",\"Numididae\",\"Paridae\",\"Estrildidae\",\"Muscicapidae\",\"Ardeidae\"]\n",
    "\n",
    "for order,df in subd.groupby(\"Order\"):\n",
    "    if len(df)>1:\n",
    "        if len(df.Family.unique())>1:\n",
    "            for family, fam_df in df.groupby(\"Family\"):\n",
    "                if family in safe_families:\n",
    "                    if family!=\"Phasianidae\":\n",
    "                        keep_species.append(fam_df[\"ScaffoldN50\"].idxmax())\n",
    "                    else:\n",
    "                        keep_species.append(\"Gallus_gallus\")\n",
    "        else:\n",
    "            keep_species.append(df[\"ScaffoldN50\"].idxmax())\n",
    "    else:\n",
    "        keep_species.append(df[\"ScaffoldN50\"].idxmax())\n",
    "keep_species = [\"_\".join(sp.split()) for sp in keep_species]\n",
    "thinned_dataset = merged_meta[merged_meta.Species.isin(keep_species)]#.reset_index(drop=True)\n",
    "thinned_dataset[\"Group\"] = [order2group[order] for order in thinned_dataset.Order]\n",
    "thinned_dataset = thinned_dataset.drop_duplicates(\"Species\")"
   ]
  },
  {
   "cell_type": "code",
   "execution_count": 7,
   "metadata": {},
   "outputs": [
    {
     "name": "stderr",
     "output_type": "stream",
     "text": [
      "<ipython-input-7-338f9da00e73>:12: SettingWithCopyWarning: \n",
      "A value is trying to be set on a copy of a slice from a DataFrame.\n",
      "Try using .loc[row_indexer,col_indexer] = value instead\n",
      "\n",
      "See the caveats in the documentation: https://pandas.pydata.org/pandas-docs/stable/user_guide/indexing.html#returning-a-view-versus-a-copy\n",
      "  thinned_dataset[\"Group\"] = [order2group[order] for order in thinned_dataset.Order]\n"
     ]
    }
   ],
   "source": [
    "keep_species = []\n",
    "for order,df in thinned_dataset.groupby(\"Order\"):\n",
    "    if order==\"Charadriiformes\":\n",
    "        keep_species.append([df[\"ScaffoldN50\"].idxmax()])\n",
    "    elif order==\"Passeriformes\":\n",
    "        keep_species.append([\"Ficedula albicollis\"])\n",
    "    else:\n",
    "        keep_species.append(list(df.index))\n",
    "keep_species = sum(keep_species,[])\n",
    "keep_species = [\"_\".join(sp.split()) for sp in keep_species]\n",
    "thinned_dataset = merged_meta[merged_meta.Species.isin(keep_species)]\n",
    "thinned_dataset[\"Group\"] = [order2group[order] for order in thinned_dataset.Order]\n",
    "thinned_dataset = thinned_dataset.drop_duplicates(\"Species\")"
   ]
  },
  {
   "cell_type": "code",
   "execution_count": 8,
   "metadata": {},
   "outputs": [],
   "source": [
    "# Any family with complex ZW?\n",
    "treeofsex = pd.read_csv(\"./../data/tree_of_sex.csv\")\n",
    "column = 'Karyotype (ZO,ZW,XY,XO,WO,homomorphic,complex XY,complex ZW)'\n",
    "complex_zw = treeofsex[(treeofsex[\"Higher taxonomic group\"]==\"Aves\") & (treeofsex[column]!=\"ZW\")]\n",
    "thinned_families = list(thinned_dataset.Family.unique())\n",
    "for fam in complex_zw.Family.unique():\n",
    "    if fam in thinned_families:\n",
    "        print(\"{} has complex ZW\".format(fam))"
   ]
  },
  {
   "cell_type": "code",
   "execution_count": 9,
   "metadata": {},
   "outputs": [
    {
     "data": {
      "image/png": "[encoded data removed]",
      "text/plain": [
       "<Figure size 432x288 with 1 Axes>"
      ]
     },
     "metadata": {
      "needs_background": "light"
     },
     "output_type": "display_data"
    }
   ],
   "source": [
    "# Distances within groups\n",
    "\n",
    "group_distances = {}\n",
    "\n",
    "for group, df in thinned_dataset.groupby(\"Group\"):\n",
    "    group_distances[group] = []\n",
    "    for c in itertools.combinations(df.Species.values, 2):\n",
    "        sp1, sp2 = c\n",
    "        if sp1==sp2:\n",
    "            continue\n",
    "        distance = b10k.get_distance(sp1, sp2)\n",
    "        group_distances[group].append(distance)\n",
    "        \n",
    "group_distances_df = pd.DataFrame(sum([[k]*len(v) for k,v in group_distances.items()],[]),             \n",
    "                                  sum([v for k,v in group_distances.items()],[])            \n",
    "                                 ).reset_index()\n",
    "group_distances_df.columns = [\"distance\", \"group\"]\n",
    "sns.swarmplot(data = group_distances_df, x = \"group\", y = \"distance\")\n",
    "sns.despine()\n",
    "plt.tight_layout()\n",
    "#plt.savefig(\"bird_intragroup_genetic_distance.pdf\")"
   ]
  },
  {
   "cell_type": "code",
   "execution_count": 12,
   "metadata": {},
   "outputs": [
    {
     "data": {
      "text/html": [
       "<div class=\"toyplot\" id=\"t305ceb346df5467c9608e10adc3a3b36\" style=\"text-align:center\"><svg class=\"toyplot-canvas-Canvas\" xmlns:toyplot=\"http://www.sandia.gov/toyplot\" xmlns:xlink=\"http://www.w3.org/1999/xlink\" xmlns=\"http://www.w3.org/2000/svg\" width=\"455.0px\" height=\"500.0px\" viewBox=\"0 0 455.0 500.0\" preserveAspectRatio=\"xMidYMid meet\" style=\"background-color:transparent;border-color:#292724;border-style:none;border-width:1.0;fill:rgb(16.1%,15.3%,14.1%);fill-opacity:1.0;font-family:Helvetica;font-size:12px;opacity:1.0;stroke:rgb(16.1%,15.3%,14.1%);stroke-opacity:1.0;stroke-width:1.0\" id=\"t82eaddc669b542ce91d928c52bc92c7c\"><g class=\"toyplot-coordinates-Cartesian\" id=\"t8327a9c88ce944b4a93e6e15cdcba09f\"><clipPath id=\"t7061e59775c44eb69593f2ed6c451aa2\"><rect x=\"30.0\" y=\"30.0\" width=\"395.0\" height=\"440.0\"></rect></clipPath><g clip-path=\"url(#t7061e59775c44eb69593f2ed6c451aa2)\"><g class=\"toytree-mark-Toytree\" id=\"tbdb2bed35efe462bacf2ffb708c9d61d\"><g class=\"toytree-Edges\" style=\"fill:none;stroke:rgb(14.9%,14.9%,14.9%);stroke-linecap:round;stroke-opacity:1;stroke-width:2\"><path d=\"M 51.1 155.9 L 51.1 94.5 L 89.5 94.5\" id=\"36,35\"></path><path d=\"M 51.1 155.9 L 51.1 217.3 L 82.7 217.3\" id=\"36,34\"></path><path d=\"M 89.5 94.5 L 89.5 70.8 L 105.5 70.8\" id=\"35,33\"></path><path d=\"M 89.5 94.5 L 89.5 118.2 L 118.3 118.2\" id=\"35,32\"></path><path d=\"M 82.7 217.3 L 82.7 176.2 L 86.1 176.2\" id=\"34,31\"></path><path d=\"M 82.7 217.3 L 82.7 258.4 L 85.2 258.4\" id=\"34,30\"></path><path d=\"M 118.3 118.2 L 118.3 134.0 L 163.5 134.0\" id=\"32,29\"></path><path d=\"M 85.2 258.4 L 85.2 218.4 L 91.2 218.4\" id=\"30,28\"></path><path d=\"M 85.2 258.4 L 85.2 298.4 L 85.9 298.4\" id=\"30,27\"></path><path d=\"M 85.9 298.4 L 85.9 260.5 L 87.7 260.5\" id=\"27,26\"></path><path d=\"M 85.9 298.4 L 85.9 336.3 L 86.6 336.3\" id=\"27,25\"></path><path d=\"M 86.6 336.3 L 86.6 302.7 L 91.2 302.7\" id=\"25,24\"></path><path d=\"M 86.6 336.3 L 86.6 369.9 L 90.7 369.9\" id=\"25,23\"></path><path d=\"M 90.7 369.9 L 90.7 344.9 L 93.0 344.9\" id=\"23,22\"></path><path d=\"M 90.7 369.9 L 90.7 395.0 L 91.5 395.0\" id=\"23,21\"></path><path d=\"M 91.5 395.0 L 91.5 413.4 L 95.8 413.4\" id=\"21,20\"></path><path d=\"M 95.8 413.4 L 95.8 429.2 L 97.9 429.2\" id=\"20,19\"></path><path d=\"M 105.5 70.8 L 105.5 60.2 L 144.8 60.2\" id=\"33,18\"></path><path d=\"M 105.5 70.8 L 105.5 81.3 L 185.4 81.3\" id=\"33,17\"></path><path d=\"M 118.3 118.2 L 118.3 102.4 L 192.6 102.4\" id=\"32,16\"></path><path d=\"M 163.5 134.0 L 163.5 123.5 L 205.9 123.5\" id=\"29,15\"></path><path d=\"M 163.5 134.0 L 163.5 144.6 L 227.1 144.6\" id=\"29,14\"></path><path d=\"M 86.1 176.2 L 86.1 165.7 L 172.6 165.7\" id=\"31,13\"></path><path d=\"M 86.1 176.2 L 86.1 186.7 L 185.0 186.7\" id=\"31,12\"></path><path d=\"M 91.2 218.4 L 91.2 207.8 L 170.4 207.8\" id=\"28,11\"></path><path d=\"M 91.2 218.4 L 91.2 228.9 L 205.9 228.9\" id=\"28,10\"></path><path d=\"M 87.7 260.5 L 87.7 250.0 L 168.2 250.0\" id=\"26,9\"></path><path d=\"M 87.7 260.5 L 87.7 271.1 L 170.9 271.1\" id=\"26,8\"></path><path d=\"M 91.2 302.7 L 91.2 292.2 L 156.3 292.2\" id=\"24,7\"></path><path d=\"M 91.2 302.7 L 91.2 313.3 L 122.1 313.3\" id=\"24,6\"></path><path d=\"M 93.0 344.9 L 93.0 334.3 L 250.5 334.3\" id=\"22,5\"></path><path d=\"M 93.0 344.9 L 93.0 355.4 L 172.1 355.4\" id=\"22,4\"></path><path d=\"M 91.5 395.0 L 91.5 376.5 L 142.1 376.5\" id=\"21,3\"></path><path d=\"M 95.8 413.4 L 95.8 397.6 L 192.0 397.6\" id=\"20,2\"></path><path d=\"M 97.9 429.2 L 97.9 418.7 L 175.1 418.7\" id=\"19,1\"></path><path d=\"M 97.9 429.2 L 97.9 439.8 L 196.9 439.8\" id=\"19,0\"></path></g><g class=\"toytree-AlignEdges\" style=\"stroke:rgb(66.3%,66.3%,66.3%);stroke-dasharray:2, 4;stroke-linecap:round;stroke-opacity:1.0;stroke-width:2\"><path d=\"M 250.5 439.8 L 196.9 439.8\"></path><path d=\"M 250.5 418.7 L 175.1 418.7\"></path><path d=\"M 250.5 397.6 L 192.0 397.6\"></path><path d=\"M 250.5 376.5 L 142.1 376.5\"></path><path d=\"M 250.5 355.4 L 172.1 355.4\"></path><path d=\"M 250.5 334.3 L 250.5 334.3\"></path><path d=\"M 250.5 313.3 L 122.1 313.3\"></path><path d=\"M 250.5 292.2 L 156.3 292.2\"></path><path d=\"M 250.5 271.1 L 170.9 271.1\"></path><path d=\"M 250.5 250.0 L 168.2 250.0\"></path><path d=\"M 250.5 228.9 L 205.9 228.9\"></path><path d=\"M 250.5 207.8 L 170.4 207.8\"></path><path d=\"M 250.5 186.7 L 185.0 186.7\"></path><path d=\"M 250.5 165.7 L 172.6 165.7\"></path><path d=\"M 250.5 144.6 L 227.1 144.6\"></path><path d=\"M 250.5 123.5 L 205.9 123.5\"></path><path d=\"M 250.5 102.4 L 192.6 102.4\"></path><path d=\"M 250.5 81.3 L 185.4 81.3\"></path><path d=\"M 250.5 60.2 L 144.8 60.2\"></path></g><g class=\"toytree-TipLabels\" style=\"fill:rgb(14.9%,14.9%,14.9%);fill-opacity:1.0;font-family:helvetica;font-size:8px;font-weight:normal;stroke:none;white-space:pre\"><g transform=\"translate(250.51,439.75)rotate(0)\"><text x=\"15.00\" y=\"2.04\" style=\"fill:rgb(90.6%,54.1%,76.5%);fill-opacity:1.0\">Coraciiformes,Woodland Kingfisher</text></g><g transform=\"translate(250.51,418.67)rotate(0)\"><text x=\"15.00\" y=\"2.04\" style=\"fill:rgb(90.6%,54.1%,76.5%);fill-opacity:1.0\">Bucerotiformes,Northern Ground Hornbill</text></g><g transform=\"translate(250.51,397.59)rotate(0)\"><text x=\"15.00\" y=\"2.04\" style=\"fill:rgb(90.6%,54.1%,76.5%);fill-opacity:1.0\">Trogoniformes,Black-tailed Trogon</text></g><g transform=\"translate(250.51,376.50)rotate(0)\"><text x=\"15.00\" y=\"2.04\" style=\"fill:rgb(100%,85.1%,18.4%);fill-opacity:1.0\">Accipitriformes,Bald Eagle</text></g><g transform=\"translate(250.51,355.42)rotate(0)\"><text x=\"15.00\" y=\"2.04\" style=\"fill:rgb(65.1%,84.7%,32.9%);fill-opacity:1.0\">Falconiformes,Saker Falcon</text></g><g transform=\"translate(250.51,334.33)rotate(0)\"><text x=\"15.00\" y=\"2.04\" style=\"fill:rgb(65.1%,84.7%,32.9%);fill-opacity:1.0\">Passeriformes,Collared Flycatcher</text></g><g transform=\"translate(250.51,313.25)rotate(0)\"><text x=\"15.00\" y=\"2.04\" style=\"fill:rgb(55.3%,62.7%,79.6%);fill-opacity:1.0\">Sphenisciformes,Emperor Penguin</text></g><g transform=\"translate(250.51,292.17)rotate(0)\"><text x=\"15.00\" y=\"2.04\" style=\"fill:rgb(55.3%,62.7%,79.6%);fill-opacity:1.0\">Pelecaniformes,Little Egret</text></g><g transform=\"translate(250.51,271.08)rotate(0)\"><text x=\"15.00\" y=\"2.04\" style=\"fill:rgb(100%,85.1%,18.4%);fill-opacity:1.0\">Gruiformes,Grey-winged Trumpeter</text></g><g transform=\"translate(250.51,250.00)rotate(0)\"><text x=\"15.00\" y=\"2.04\" style=\"fill:rgb(98.8%,55.3%,38.4%);fill-opacity:1.0\">Charadriiformes,Ruff</text></g><g transform=\"translate(250.51,228.92)rotate(0)\"><text x=\"15.00\" y=\"2.04\" style=\"fill:rgb(55.3%,62.7%,79.6%);fill-opacity:1.0\">Cuculiformes,Common Cuckoo</text></g><g transform=\"translate(250.51,207.83)rotate(0)\"><text x=\"15.00\" y=\"2.04\" style=\"fill:rgb(55.3%,62.7%,79.6%);fill-opacity:1.0\">Otidiformes,Red-crested Bustard</text></g><g transform=\"translate(250.51,186.75)rotate(0)\"><text x=\"15.00\" y=\"2.04\" style=\"fill:rgb(98.8%,55.3%,38.4%);fill-opacity:1.0\">Columbiformes,Domestic Pigeon (Rock Dove)</text></g><g transform=\"translate(250.51,165.67)rotate(0)\"><text x=\"15.00\" y=\"2.04\" style=\"fill:rgb(98.8%,55.3%,38.4%);fill-opacity:1.0\">Pterocliformes,Burchell's Sandgrouse</text></g><g transform=\"translate(250.51,144.58)rotate(0)\"><text x=\"15.00\" y=\"2.04\" style=\"fill:rgb(89.8%,76.9%,58%);fill-opacity:1.0\">Galliformes,Chicken (Red Junglefowl)</text></g><g transform=\"translate(250.51,123.50)rotate(0)\"><text x=\"15.00\" y=\"2.04\" style=\"fill:rgb(89.8%,76.9%,58%);fill-opacity:1.0\">Galliformes,Helmeted Guineafowl</text></g><g transform=\"translate(250.51,102.41)rotate(0)\"><text x=\"15.00\" y=\"2.04\" style=\"fill:rgb(89.8%,76.9%,58%);fill-opacity:1.0\">Galliformes,White-crested Guan</text></g><g transform=\"translate(250.51,81.33)rotate(0)\"><text x=\"15.00\" y=\"2.04\" style=\"fill:rgb(89.8%,76.9%,58%);fill-opacity:1.0\">Anseriformes,Muscovy Duck</text></g><g transform=\"translate(250.51,60.25)rotate(0)\"><text x=\"15.00\" y=\"2.04\" style=\"fill:rgb(89.8%,76.9%,58%);fill-opacity:1.0\">Anseriformes,Magpie Goose</text></g></g></g></g></g></svg><div class=\"toyplot-behavior\"><script>(function()\n",
       "{\n",
       "var modules={};\n",
       "})();</script></div></div>"
      ]
     },
     "metadata": {},
     "output_type": "display_data"
    }
   ],
   "source": [
    "# Tree of all groups\n",
    "b10k.prune(thinned_dataset.Species.values, preserve_branch_length=True)\n",
    "\n",
    "sp2group = thinned_dataset[[\"Species\",\"Group\"]].set_index(\"Species\").to_dict()[\"Group\"]\n",
    "sp2order = thinned_dataset[[\"Species\",\"Order\"]].set_index(\"Species\").to_dict()[\"Order\"]\n",
    "sp2common = thinned_dataset[[\"Species\",\"Common name\"]].set_index(\"Species\").to_dict()[\"Common name\"]\n",
    "\n",
    "nwk = toytree.tree(b10k.write(), tree_format=1)\n",
    "colors_tips = [toyplot.color.brewer.palette(\"Set2\")[int(sp2group[sp][-1])] for sp in nwk.get_tip_labels()]\n",
    "tips = [\"{},{}\".format(sp2order[sp],sp2common[sp]) for sp in nwk.get_tip_labels()]\n",
    "\n",
    "canvas, axes, mark = nwk.draw(\n",
    "    tip_labels_align =True,\n",
    "    tip_labels = tips,\n",
    "    tip_labels_colors = colors_tips,\n",
    "    height = 500,\n",
    "    tip_labels_style={\n",
    "        \"font-size\": \"8px\",\n",
    "    }\n",
    ");\n",
    "#toyplot.pdf.render(canvas, \"../scripts/pdfs/neoaves_groupings.pdf\")"
   ]
  },
  {
   "cell_type": "code",
   "execution_count": 62,
   "metadata": {},
   "outputs": [],
   "source": [
    "# Write all species to file\n",
    "with open(\"./../data/Aves.txt\", \"w\") as spf:\n",
    "    spf.write(\",\".join(thinned_dataset.Species.values) + \"\\n\")"
   ]
  },
  {
   "cell_type": "code",
   "execution_count": 10,
   "metadata": {},
   "outputs": [
    {
     "name": "stdout",
     "output_type": "stream",
     "text": [
      "g1 ['Calidris_pugnax', 'Columba_livia', 'Pterocles_burchelli', 'Gallus_gallus']\n",
      "g2 ['Aptenodytes_forsteri', 'Cuculus_canorus', 'Egretta_garzetta', 'Lophotis_ruficrista', 'Gallus_gallus']\n",
      "g3 ['Bucorvus_abyssinicus', 'Halcyon_senegalensis', 'Trogon_melanurus', 'Gallus_gallus']\n",
      "g4 ['Falco_cherrug', 'Ficedula_albicollis', 'Gallus_gallus']\n",
      "g5 ['Haliaeetus_leucocephalus', 'Psophia_crepitans', 'Gallus_gallus']\n",
      "g6 ['Anseranas_semipalmata', 'Cairina_moschata', 'Gallus_gallus', 'Numida_meleagris', 'Penelope_pileata', 'Taeniopygia_guttata']\n"
     ]
    }
   ],
   "source": [
    "# Write group-specific files\n",
    "for group,df in thinned_dataset.groupby(\"Group\"):\n",
    "    \n",
    "    species = list(df.Species)\n",
    "    \n",
    "    # Neoaves\n",
    "    if \"Gallus_gallus\" not in species:\n",
    "        species.append(\"Gallus_gallus\")\n",
    "\n",
    "    # Outside branch\n",
    "    else:\n",
    "        species.append(\"Taeniopygia_guttata\")\n",
    "    \n",
    "    # Species list\n",
    "    fix_group = group.replace(\"Group\",\"g\")\n",
    "    with open(\"./../data/Aves_{}.txt\".format(fix_group), \"w\") as spf:\n",
    "        spf.write(\",\".join(species) + \"\\n\")\n",
    "    \n",
    "    print(fix_group, species)\n",
    "    # Tree\n",
    "    b10k = Tree(\"./../trees/363-avian-2020-phast.nh\", format=1)\n",
    "    b10k.prune(species, preserve_branch_length=True)\n",
    "    b10k.write(outfile=\"./../trees/Aves_{}.nwk\".format(fix_group), format=5)"
   ]
  },
  {
   "cell_type": "code",
   "execution_count": 30,
   "metadata": {},
   "outputs": [],
   "source": [
    "thinned_dataset[[\"Species\",\"Common name\"]].to_csv(\"../data/latin2common_aves.txt\",sep=\"\\t\", index=False)"
   ]
  },
  {
   "cell_type": "code",
   "execution_count": 15,
   "metadata": {},
   "outputs": [],
   "source": [
    "b10k = Tree(\"./../trees/363-avian-2020-phast.nh\", format=1)\n",
    "b10k.prune(list(thinned_dataset.Species), preserve_branch_length=True)\n",
    "nwk = toytree.tree(b10k.write(), tree_format=1)\n",
    "colors_tips = [\"black\" if sp in list(thinned_dataset.Species) else \"#F4F4F4\" for sp in nwk.get_tip_labels()]\n",
    "style = {\"edge_style\":{\"stroke-width\": 1}, \"tip_labels_style\":{\"font-size\": \"10px\", \"-toyplot-anchor-shift\": \"3px\"}}\n",
    "canvas, axes, mark = nwk.draw(\n",
    "    tip_labels_align=False,\n",
    "    tip_labels_colors=colors_tips,\n",
    "    tip_labels=[sp2common[sp] for sp in nwk.get_tip_labels()],\n",
    "    height=500,\n",
    "    **style\n",
    ");\n",
    "toyplot.pdf.render(canvas, \"pdfs/birds.pdf\")"
   ]
  }
 ],
 "metadata": {
  "kernelspec": {
   "display_name": "Python 3",
   "language": "python",
   "name": "python3"
  },
  "language_info": {
   "codemirror_mode": {
    "name": "ipython",
    "version": 3
   },
   "file_extension": ".py",
   "mimetype": "text/x-python",
   "name": "python",
   "nbconvert_exporter": "python",
   "pygments_lexer": "ipython3",
   "version": "3.8.5"
  }
 },
 "nbformat": 4,
 "nbformat_minor": 4
}
