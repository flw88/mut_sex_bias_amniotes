{
 "cells": [
  {
   "cell_type": "code",
   "execution_count": 1,
   "metadata": {},
   "outputs": [],
   "source": [
    "import funclib as flib"
   ]
  },
  {
   "cell_type": "markdown",
   "metadata": {},
   "source": [
    "Read data"
   ]
  },
  {
   "cell_type": "code",
   "execution_count": 3,
   "metadata": {},
   "outputs": [],
   "source": [
    "directory = \"../../data\"\n",
    "\n",
    "# Germline DNMs\n",
    "#pedigree_rates = pd.read_csv(\"{}/dnm_est_mutrate.tsv\".format(directory),sep=\"\\t\")\n",
    "data = pd.read_csv(\"{}/Table_S2.csv\".format(directory))\n",
    "pedigree_rates = data[(data[\"Common_name\"]!=\"Mouse lemur\") & (data.MutRatePerGenDNMs>0)].reset_index(drop=True)\n",
    "\n",
    "# Crypts from Cagan et al.\n",
    "crypt_muts = pd.read_csv(\"{}/crypt_rates.tsv\".format(directory),sep=\",\")\n",
    "crypt_muts[\"genome_size\"] = 3e9\n",
    "crypt_muts[\"rate\"] = crypt_muts.muts_per_year/(crypt_muts.genome_size)\n",
    "crypt_rates = crypt_muts.set_index(\"species\")[\"rate\"].to_dict()"
   ]
  },
  {
   "cell_type": "markdown",
   "metadata": {},
   "source": [
    "Calculate yearly mutation rate in sperm, given a rate of mutation in Early of 5/3e9 and ratio of paternal-to-maternal parental age effects of 4"
   ]
  },
  {
   "cell_type": "code",
   "execution_count": 4,
   "metadata": {},
   "outputs": [],
   "source": [
    "pedigree_sperm_rates = {}\n",
    "\n",
    "E = 5/3e9\n",
    "for i,r in pedigree_rates.iterrows():\n",
    "\n",
    "    # Predict age effects\n",
    "    mu_f, mu_m = flib.get_parental_age_effects(r.MutRatePerGenDNMs, r.Maternal_age_y, r.Paternal_age_y, E, 4)\n",
    "    pedigree_sperm_rates[r.Species] = mu_m"
   ]
  },
  {
   "cell_type": "markdown",
   "metadata": {},
   "source": [
    "Plot"
   ]
  },
  {
   "cell_type": "code",
   "execution_count": 5,
   "metadata": {},
   "outputs": [
    {
     "data": {
      "image/png": "[encoded data removed]",
      "text/plain": [
       "<Figure size 360x158.4 with 1 Axes>"
      ]
     },
     "metadata": {
      "needs_background": "light"
     },
     "output_type": "display_data"
    }
   ],
   "source": [
    "f,ax = plt.subplots(figsize=[5,2.2])\n",
    "\n",
    "# Plotting\n",
    "y = 0\n",
    "ylabels = []\n",
    "\n",
    "for sp,sperm_rate in pedigree_sperm_rates.items():\n",
    "    if sp in crypt_rates:\n",
    "        ax.scatter(crypt_rates[sp]/sperm_rate, y, color=\"C1\", s=20)\n",
    "        ylabels.append(sp)\n",
    "        y += 1\n",
    "\n",
    "# Styling\n",
    "ax.set_yticks(range(len(ylabels)))\n",
    "ax.set_yticklabels(ylabels)\n",
    "\n",
    "ax.set_xlabel(\"Crypt-to-sperm yearly mutation rate ratio\")\n",
    "ax.set_xlim([0,40])\n",
    "\n",
    "plt.tight_layout()\n",
    "sns.despine()\n",
    "#plt.savefig(\"../pdfs/Figure_SX_cryptsperm_ratio.pdf\")"
   ]
  }
 ],
 "metadata": {
  "kernelspec": {
   "display_name": "Python 3",
   "language": "python",
   "name": "python3"
  },
  "language_info": {
   "codemirror_mode": {
    "name": "ipython",
    "version": 3
   },
   "file_extension": ".py",
   "mimetype": "text/x-python",
   "name": "python",
   "nbconvert_exporter": "python",
   "pygments_lexer": "ipython3",
   "version": "3.8.5"
  }
 },
 "nbformat": 4,
 "nbformat_minor": 4
}
