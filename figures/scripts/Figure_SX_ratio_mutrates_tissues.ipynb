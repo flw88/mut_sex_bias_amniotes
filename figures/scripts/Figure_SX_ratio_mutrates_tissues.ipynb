{
 "cells": [
  {
   "cell_type": "code",
   "execution_count": 34,
   "metadata": {},
   "outputs": [],
   "source": [
    "import funclib as flib"
   ]
  },
  {
   "cell_type": "markdown",
   "metadata": {},
   "source": [
    "Read data"
   ]
  },
  {
   "cell_type": "code",
   "execution_count": 35,
   "metadata": {},
   "outputs": [],
   "source": [
    "directory = \"../../data\"\n",
    "\n",
    "# Germline DNMs\n",
    "pedigree_rates = pd.read_csv(\"{}/dnm_est_mutrate.tsv\".format(directory),sep=\"\\t\")\n",
    "pedigree_rates = pedigree_rates[pedigree_rates[\"Common Name\"]!=\"Mouse lemur\"].reset_index(drop=True)\n",
    "\n",
    "# Crypts from Cagan et al.\n",
    "crypt_muts = pd.read_csv(\"{}/crypt_rates.tsv\".format(directory),sep=\",\")\n",
    "crypt_muts[\"genome_size\"] = 3e9\n",
    "crypt_muts[\"rate\"] = crypt_muts.muts_per_year/(crypt_muts.genome_size)\n",
    "crypt_rates = crypt_muts.set_index(\"species\")[\"rate\"].to_dict()"
   ]
  },
  {
   "cell_type": "markdown",
   "metadata": {},
   "source": [
    "Calculate yearly mutation rate in sperm, given a rate of mutation in Early of 5/3e9 and ratio of paternal-to-maternal parental age effects of 4"
   ]
  },
  {
   "cell_type": "code",
   "execution_count": 39,
   "metadata": {},
   "outputs": [],
   "source": [
    "pedigree_sperm_rates = {}\n",
    "\n",
    "#pred_crypt_rates = {}\n",
    "#lifespan = pd.read_csv(\"{}/lifespan.txt\".format(directory)).set_index(\"species\")[\"lifespan\"].to_dict()\n",
    "\n",
    "E = 5/3e9\n",
    "for cn,df in pedigree_rates.groupby(\"Common Name\"):\n",
    "    \n",
    "    # Collapse DNMs from same species\n",
    "    p = df[\"Pat DNMs\"].sum()\n",
    "    m = df[\"Mat DNMs\"].sum()\n",
    "    p_age = np.average(df[\"Mean Paternal Age at Conception (y)\"].values, weights=df[\"Num Trios\"])\n",
    "    m_age = np.average(df[\"Mean Maternal Age at Conception (y)\"].values, weights=df[\"Num Trios\"])\n",
    "    alpha = p/m\n",
    "    sp = \"_\".join(df[\"Species\"].values[0].split()[:2])\n",
    "    gen_rate = np.average(df[\"Mutation rate per generation\"].values, weights=df[\"Num Trios\"]) #df[\"Mutation rate per generation\"].mean()\n",
    "    trios = df[\"Num Trios\"].sum()\n",
    "\n",
    "    # Predict age effects\n",
    "    mu_f, mu_m = flib.get_parental_age_effects(gen_rate, m_age, p_age, E, 4)\n",
    "    pedigree_sperm_rates[sp] = mu_m\n",
    "    \n",
    "    # Predict crypt rate\n",
    "    #if sp in lifespan and sp not in crypt_rates:\n",
    "    #    pred_crypt_rates[sp] = 3206.4/lifespan[sp]/3e9"
   ]
  },
  {
   "cell_type": "markdown",
   "metadata": {},
   "source": [
    "Plot"
   ]
  },
  {
   "cell_type": "code",
   "execution_count": 76,
   "metadata": {},
   "outputs": [
    {
     "data": {
      "image/png": "[encoded data removed]",
      "text/plain": [
       "<Figure size 360x158.4 with 1 Axes>"
      ]
     },
     "metadata": {
      "needs_background": "light"
     },
     "output_type": "display_data"
    }
   ],
   "source": [
    "f,ax = plt.subplots(figsize=[5,2.2])\n",
    "\n",
    "# Plotting\n",
    "y = 0\n",
    "ylabels = []\n",
    "\n",
    "for sp,sperm_rate in pedigree_sperm_rates.items():\n",
    "    if sp in crypt_rates:\n",
    "        ax.scatter(crypt_rates[sp]/sperm_rate, y, color=\"C0\", s=20)\n",
    "        ylabels.append(sp)\n",
    "        y += 1\n",
    "\n",
    "# Styling\n",
    "ax.set_yticks(range(len(ylabels)))\n",
    "ax.set_yticklabels(ylabels)\n",
    "\n",
    "ax.set_xlabel(\"Crypt-to-sperm yearly mutation rate ratio\")\n",
    "ax.set_xlim([0,40])\n",
    "\n",
    "plt.tight_layout()\n",
    "sns.despine()\n",
    "plt.savefig(\"../pdfs/Figure_SX_cryptsperm_ratio.pdf\")"
   ]
  }
 ],
 "metadata": {
  "kernelspec": {
   "display_name": "Python 3",
   "language": "python",
   "name": "python3"
  },
  "language_info": {
   "codemirror_mode": {
    "name": "ipython",
    "version": 3
   },
   "file_extension": ".py",
   "mimetype": "text/x-python",
   "name": "python",
   "nbconvert_exporter": "python",
   "pygments_lexer": "ipython3",
   "version": "3.8.5"
  }
 },
 "nbformat": 4,
 "nbformat_minor": 4
}
