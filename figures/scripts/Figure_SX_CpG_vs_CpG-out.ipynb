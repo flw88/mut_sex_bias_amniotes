{
 "cells": [
  {
   "cell_type": "code",
   "execution_count": 8,
   "metadata": {},
   "outputs": [],
   "source": [
    "import plotlib as plib\n",
    "import statsmodels.api as sm"
   ]
  },
  {
   "cell_type": "code",
   "execution_count": 9,
   "metadata": {},
   "outputs": [],
   "source": [
    "def identity_line(ax=None, ls='--', *args, **kwargs):\n",
    "    '''Draws identity line'''\n",
    "    \n",
    "    ax = ax or plt.gca()\n",
    "    identity, = ax.plot([], [], ls=ls, *args, **kwargs)\n",
    "    def callback(axes):\n",
    "        low_x, high_x = ax.get_xlim()\n",
    "        low_y, high_y = ax.get_ylim()\n",
    "        low = min(low_x, low_y)\n",
    "        high = max(high_x, high_y)\n",
    "        identity.set_data([low, high], [low, high])\n",
    "    callback(ax)\n",
    "    ax.callbacks.connect('xlim_changed', callback)\n",
    "    ax.callbacks.connect('ylim_changed', callback)\n",
    "    return ax"
   ]
  },
  {
   "cell_type": "markdown",
   "metadata": {},
   "source": [
    "Read data"
   ]
  },
  {
   "cell_type": "code",
   "execution_count": 10,
   "metadata": {},
   "outputs": [],
   "source": [
    "group = \"Mammals\"\n",
    "ref = \"Homo_sapiens\"\n",
    "data_dir = \"../../\"\n",
    "incpg = pd.read_csv(\"{}/scripts/alphas/{}.{}.LM.tsv\".format(data_dir, group, ref),sep=\"\\t\")\n",
    "outcpg = pd.read_csv(\"{}/scripts/alphas/{}.{}.LM.CpGOut.tsv\".format(data_dir, group, ref),sep=\"\\t\")"
   ]
  },
  {
   "cell_type": "markdown",
   "metadata": {},
   "source": [
    "Plot and regression"
   ]
  },
  {
   "cell_type": "code",
   "execution_count": 17,
   "metadata": {},
   "outputs": [
    {
     "data": {
      "image/png": "[encoded data removed]",
      "text/plain": [
       "<Figure size 288x288 with 1 Axes>"
      ]
     },
     "metadata": {
      "needs_background": "light"
     },
     "output_type": "display_data"
    }
   ],
   "source": [
    "f,ax = plt.subplots(figsize=[4,4])\n",
    "\n",
    "mut = \"mod\"\n",
    "\n",
    "subdi = incpg[incpg.mut_type==mut]\n",
    "subdo = outcpg[outcpg.mut_type==mut]\n",
    "x = subdi.alpha\n",
    "y = subdo.alpha\n",
    "\n",
    "lm = sm.OLS(y, x)\n",
    "lmFit = lm.fit()\n",
    "lab = plib.make_pgls_legend(lam=None, pval=lmFit.pvalues['alpha'], r2=lmFit.rsquared)\n",
    "ax.annotate(lab, xy=(0.02, 0.98), xycoords='axes fraction', verticalalignment='top')\n",
    "\n",
    "ax.scatter(x, y, alpha=0.9,zorder=10)\n",
    "\n",
    "ax.hlines(xmin=subdo.alpha_lwr, xmax=subdo.alpha_upr, y=subdo.alpha, linewidth=1, alpha=0.3)\n",
    "ax.vlines(ymin=subdi.alpha_lwr, ymax=subdi.alpha_upr, x=subdi.alpha, linewidth=1, alpha=0.3)\n",
    "\n",
    "ax.set_xlabel(r\"$\\hat{\\alpha}$ including CpGs\")\n",
    "ax.set_ylabel(r\"$\\hat{\\alpha}$ excluding CpGs\")\n",
    "\n",
    "identity_line()\n",
    "sns.despine()\n",
    "plt.tight_layout()\n",
    "\n",
    "f.savefig(\"../pdfs/Figure_SX_CpGin_vs_out_mammals.pdf\")"
   ]
  }
 ],
 "metadata": {
  "kernelspec": {
   "display_name": "Python 3",
   "language": "python",
   "name": "python3"
  },
  "language_info": {
   "codemirror_mode": {
    "name": "ipython",
    "version": 3
   },
   "file_extension": ".py",
   "mimetype": "text/x-python",
   "name": "python",
   "nbconvert_exporter": "python",
   "pygments_lexer": "ipython3",
   "version": "3.8.5"
  }
 },
 "nbformat": 4,
 "nbformat_minor": 4
}
