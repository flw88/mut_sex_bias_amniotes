{
 "cells": [
  {
   "cell_type": "code",
   "execution_count": 1,
   "metadata": {},
   "outputs": [],
   "source": [
    "import funclib as flib"
   ]
  },
  {
   "cell_type": "markdown",
   "metadata": {},
   "source": [
    "Increase in alpha by model, assuming Early muts and ratio of parental age effects"
   ]
  },
  {
   "cell_type": "code",
   "execution_count": 6,
   "metadata": {},
   "outputs": [],
   "source": [
    "early = 5/3e9\n",
    "m_slope_model, p_slope_model = flib.get_parental_age_effects(1.29e-8, 31.5, 27.5, early, 4)"
   ]
  },
  {
   "cell_type": "markdown",
   "metadata": {},
   "source": [
    "Parameters from Gao et al. 2019"
   ]
  },
  {
   "cell_type": "code",
   "execution_count": 2,
   "metadata": {},
   "outputs": [],
   "source": [
    "def get_dnms(intercept, slope, age):\n",
    "    '''Return number of DNMs'''\n",
    "    return intercept + slope*age"
   ]
  },
  {
   "cell_type": "code",
   "execution_count": 3,
   "metadata": {},
   "outputs": [],
   "source": [
    "p_slope = 1.51\n",
    "p_intercept = 6.05\n",
    "m_slope = 0.37\n",
    "m_intercept = 3.61"
   ]
  },
  {
   "cell_type": "code",
   "execution_count": 25,
   "metadata": {},
   "outputs": [
    {
     "data": {
      "image/png": "[encoded data removed]",
      "text/plain": [
       "<Figure size 288x288 with 1 Axes>"
      ]
     },
     "metadata": {
      "needs_background": "light"
     },
     "output_type": "display_data"
    }
   ],
   "source": [
    "f,ax = plt.subplots(figsize=[4,4])\n",
    "\n",
    "age_range = np.linspace(13,30,1000)\n",
    "\n",
    "# Jonsson\n",
    "p_dnms = [get_dnms(p_intercept, p_slope, age) for age in age_range]\n",
    "m_dnms = [get_dnms(m_intercept, m_slope, age) for age in age_range]\n",
    "ax.plot(age_range, [p/m for p,m in zip(p_dnms, m_dnms)], label=\"Jónsson et al. 2017\")\n",
    "\n",
    "# Model\n",
    "early = 3/3e9\n",
    "p_dnms = [get_dnms(early, p_slope_model, age) for age in age_range]\n",
    "m_dnms = [get_dnms(early, m_slope_model, age) for age in age_range]\n",
    "ax.plot(age_range, [p/m for p,m in zip(p_dnms, m_dnms)], label=\"Model\")\n",
    "\n",
    "# Style\n",
    "ax.set_ylim([1,4])\n",
    "ax.legend(loc=4)\n",
    "ax.set_xlabel(\"Parental age\")\n",
    "ax.set_ylabel(r\"$\\alpha$\")\n",
    "\n",
    "plt.tight_layout()\n",
    "sns.despine()\n",
    "plt.savefig(\"../pdfs/alpha_increase_parental_ages_humans_ee3.pdf\")"
   ]
  }
 ],
 "metadata": {
  "kernelspec": {
   "display_name": "Python 3",
   "language": "python",
   "name": "python3"
  },
  "language_info": {
   "codemirror_mode": {
    "name": "ipython",
    "version": 3
   },
   "file_extension": ".py",
   "mimetype": "text/x-python",
   "name": "python",
   "nbconvert_exporter": "python",
   "pygments_lexer": "ipython3",
   "version": "3.8.5"
  }
 },
 "nbformat": 4,
 "nbformat_minor": 4
}
