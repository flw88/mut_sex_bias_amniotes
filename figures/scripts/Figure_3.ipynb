{
 "cells": [
  {
   "cell_type": "code",
   "execution_count": 1,
   "metadata": {},
   "outputs": [],
   "source": [
    "import pandas as pd\n",
    "import numpy as np\n",
    "import sys\n",
    "import matplotlib.pyplot as plt\n",
    "import statsmodels.api as sm\n",
    "import math\n",
    "import seaborn as sns\n",
    "\n",
    "import plotlib as plib"
   ]
  },
  {
   "cell_type": "markdown",
   "metadata": {},
   "source": [
    "## Load data"
   ]
  },
  {
   "cell_type": "code",
   "execution_count": 2,
   "metadata": {},
   "outputs": [],
   "source": [
    "# Load data\n",
    "pglsDir = '../../scripts/pgls_res/Me5/'\n",
    "\n",
    "klist = ['Mammals', 'Birds']\n",
    "\n",
    "modDict = {k: pd.read_csv(pglsDir + k + '.model_params.tsv', sep='\\t')   for k in klist}\n",
    "\n",
    "datDict = {k: pd.read_csv(pglsDir + k + '.xy_data.tsv', sep='\\t')        for k in klist}\n",
    "\n",
    "configTypes = {'xlog':bool}\n",
    "configDict = {k: pd.read_csv('../../scripts/pgls_config_file.' + k + '.txt', sep='\\t', index_col='x', dtype=configTypes, comment='#') for k in klist}\n",
    "\n",
    "# Color data\n",
    "cDat = pd.read_csv('../../data/plot_colors.tsv', sep='\\t', index_col='Order')['Color']"
   ]
  },
  {
   "cell_type": "markdown",
   "metadata": {},
   "source": [
    "## Plot figure 3"
   ]
  },
  {
   "cell_type": "code",
   "execution_count": 3,
   "metadata": {},
   "outputs": [],
   "source": [
    "def makeLegendLab(clade, lam, pval, r2):\n",
    "    outstr = '{}:\\n'.format(clade) + r'$\\lambda = {:0.2f}, p = {:0.3f}, r^2 = {:0.2f}$'.format(lam, pval, r2)\n",
    "    return outstr"
   ]
  },
  {
   "cell_type": "code",
   "execution_count": 4,
   "metadata": {},
   "outputs": [
    {
     "data": {
      "image/png": "[encoded data removed]",
      "text/plain": [
       "<Figure size 360x360 with 1 Axes>"
      ]
     },
     "metadata": {
      "needs_background": "light"
     },
     "output_type": "display_data"
    }
   ],
   "source": [
    "e = 'Generation_time_y'\n",
    "fig, axs = plt.subplots(figsize=(5, 5))\n",
    "\n",
    "# Iterate over groups\n",
    "ptList, legList = [], []\n",
    "for k in klist:\n",
    "    ptDat = datDict[k].loc[datDict[k]['experiment'] == e + '.Alpha',].copy()\n",
    "    xmin, xmax = min(ptDat.xvar) , max(ptDat.xvar)\n",
    "\n",
    "    lnDat = modDict[k].loc[modDict[k]['experiment'] == e + '.Alpha',].squeeze()\n",
    "    c = cDat[k]\n",
    "\n",
    "    # Plot regression line\n",
    "    plib.plot_line(lnDat.pgls_ml_intercept, lnDat.pgls_ml_slope, \n",
    "                   xmin = xmin, xmax = xmax, c = c, ax = axs)\n",
    "\n",
    "    # Plot scatter\n",
    "    ptList.append( axs.scatter('xvar', 'yvar', data=ptDat, c=c, edgecolors=c, alpha=0.7, zorder=10) )\n",
    "\n",
    "    # Legend text\n",
    "    legList.append(makeLegendLab(k, lnDat.ml_lambda, lnDat.pgls_ml_pval, lnDat.pgls_ml_rsq))\n",
    "\n",
    "# Make log axis if needed\n",
    "xticks = [0.6, 0.7, 0.8, 0.9, *range(1, 10), *range(10, 40, 10)]\n",
    "xmaj = [1, 5, *range(10, 40, 10)]\n",
    "xlab = plib.make_xtick_lab(xticks, xmaj)\n",
    "\n",
    "axs.set_xlim((np.log10(0.5), np.log10(40)))\n",
    "axs.set_xticks(np.log10(xticks))\n",
    "axs.set_xticklabels(xlab)\n",
    "\n",
    "axs.set_ylim((0.6, 4.41))\n",
    "\n",
    "axs.legend(ptList, legList)\n",
    "\n",
    "axs.set_xlabel('Generation time (years)')\n",
    "axs.set_ylabel(r'$\\hat{\\alpha}_{evo}$')\n",
    "\n",
    "sns.despine()\n",
    "\n",
    "plt.tight_layout()\n",
    "#fig.savefig('../pdfs/Figure_3.pdf')"
   ]
  }
 ],
 "metadata": {
  "kernelspec": {
   "display_name": "Python 3",
   "language": "python",
   "name": "python3"
  },
  "language_info": {
   "codemirror_mode": {
    "name": "ipython",
    "version": 3
   },
   "file_extension": ".py",
   "mimetype": "text/x-python",
   "name": "python",
   "nbconvert_exporter": "python",
   "pygments_lexer": "ipython3",
   "version": "3.8.5"
  }
 },
 "nbformat": 4,
 "nbformat_minor": 5
}
